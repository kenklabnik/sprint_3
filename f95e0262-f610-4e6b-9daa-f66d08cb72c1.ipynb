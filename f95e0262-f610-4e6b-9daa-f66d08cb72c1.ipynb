{
 "cells": [
  {
   "cell_type": "markdown",
   "metadata": {},
   "source": [
    "<div style=\"border-radius: 15px; border: 3px solid indigo; padding: 15px;\">\n",
    "<b> Reviewer's comment 3</b>\n",
    "\n",
    "\n",
    "Thank you very much for your diligence on this project. My new comments have digit 3, but there's nothing that needs to be fixed. However, it will be great if you still take a look at these comments. \n",
    "    \n",
    "    \n",
    "The project is accepted, good luck! 😊\n",
    "\n",
    "\n",
    "</div>"
   ]
  },
  {
   "cell_type": "markdown",
   "metadata": {},
   "source": [
    "<div style=\"border-radius: 15px; border: 3px solid indigo; padding: 15px;\">\n",
    "<b> Reviewer's comment 2</b>\n",
    "\n",
    "\n",
    "Ken, thank you for the updates! I've left a few comments titled as **Reviewer's comment 2**. Please take a look :) There're just a couple of tiny but still important issues. It will not take much time though 😊\n",
    "\n",
    "     \n",
    "If you have any questions, please feel free to ask. </div>"
   ]
  },
  {
   "cell_type": "markdown",
   "metadata": {},
   "source": [
    "<div style=\"border-radius: 15px; border: 3px solid indigo; padding: 15px;\">\n",
    "<b> Reviewer's comment</b>\n",
    "    \n",
    "Hi, Ken! I am a reviewer on this project. Congratulations on submitting your project! 🎉\n",
    "\n",
    "Before we start, I want to pay your attention to the comments I am going to use. They have a specific symbol:\n",
    "    \n",
    "<div class=\"alert alert-success\" style=\"border-radius: 15px; box-shadow: 4px 4px 4px; border: 1px solid \">\n",
    "<b> Reviewer's comment ✔️ </b>\n",
    "    \n",
    "Great solutions and ideas that can and should be used in the future are in green comments with ✔️.   \n",
    "</div>    \n",
    "    \n",
    "    \n",
    "<div class=\"alert alert-warning\" style=\"border-radius: 15px; box-shadow: 4px 4px 4px; border: 1px solid \">\n",
    "<b> Reviewer's comment ⚠️ </b>\n",
    "\n",
    "The ⚠️ indicates what should be optimized. This is not necessary, but it will be great if you make changes to this project.\n",
    "</div>      \n",
    "    \n",
    "    \n",
    "<div class=\"alert alert-danger\" style=\"border-radius: 15px; box-shadow: 4px 4px 4px; border: 1px solid \">\n",
    "<b> Reviewer's comment ❌ </b>\n",
    "\n",
    "Issues that need to be corrected to get right results are indicated in comments with ❌. Note that the project cannot be accepted until these issues are resolved.\n",
    "</div>    \n",
    "\n",
    "<hr>\n",
    "    \n",
    "**Please, use some color other than those listed to highlight answers to my comments.**\n",
    "I would also ask you **not to change, move or delete my comments** so that it would be easier for me to navigate during the next review.\n",
    "    \n",
    "In addition, my comments are defined as headings. \n",
    "They can mess up the content but they are convenient, since you can immediately go to them. I will remove the headings from my comments in the next review. \n",
    "   \n",
    "    \n",
    "    \n",
    "<hr>\n",
    "    \n",
    "<font color='dodgerblue'>**A few words about the project:**</font> thank you very much for submitting your project! You did a great job here!\n",
    "    \n",
    "\n",
    "    \n",
    "- You have successfully explored and prepared the dataframes;\n",
    "\n",
    "\n",
    "- Merged pivot tables; \n",
    "\n",
    "\n",
    "- Calculated revenue; \n",
    "\n",
    "\n",
    "- Displayed and analyzed distributions; \n",
    "\n",
    "\n",
    "- Conducted statistical tests; \n",
    "\n",
    "\n",
    "- Wrote an excellent conclusion!     \n",
    "    \n",
    "    \n",
    "However, there are several issues that need your attention. I tried to outline and explain them in my comments. Would you please take a look? \n",
    "    \n",
    "    \n",
    "    \n",
    "<hr>\n",
    "    \n",
    "Please feel free to schedule a 1:1 with our tutors or TAs, join daily coworking sessions, or ask questions in the sprint channels on Discord if you need assistance. \n",
    "\n",
    "</div>"
   ]
  },
  {
   "cell_type": "markdown",
   "metadata": {},
   "source": [
    "# Which one is a better plan?\n",
    "\n",
    "You work as an analyst for the telecom operator Megaline. The company offers its clients two prepaid plans, Surf and Ultimate. The commercial department wants to know which of the plans brings in more revenue in order to adjust the advertising budget.\n",
    "\n",
    "You are going to carry out a preliminary analysis of the plans based on a relatively small client selection. You'll have the data on 500 Megaline clients: who the clients are, where they're from, which plan they use, and the number of calls they made and text messages they sent in 2018. Your job is to analyze the clients' behavior and determine which prepaid plan brings in more revenue."
   ]
  },
  {
   "cell_type": "markdown",
   "metadata": {},
   "source": [
    "[We've provided you with some commentary to guide your thinking as you complete this project. However, make sure to remove all the bracketed comments before submitting your project.]\n",
    "\n",
    "[Before you dive into analyzing your data, explain for yourself the purpose of the project and actions you plan to take.]\n",
    "\n",
    "[Please bear in mind that studying, amending, and analyzing data is an iterative process. It is normal to return to previous steps and correct/expand them to allow for further steps.]"
   ]
  },
  {
   "cell_type": "markdown",
   "metadata": {},
   "source": [
    "<div class=\"alert alert-success\" style=\"border-radius: 15px; box-shadow: 4px 4px 4px; border: 1px solid \">\n",
    "<h2> Reviewer's comment ✔️</h2>\n",
    "    \n",
    "There's an introduction, which is good. It is important to write an introductory part because it gives an idea about the content of the project.\n",
    "    \n",
    "</div>\n",
    "<div class=\"alert alert-warning\" style=\"border-radius: 15px; box-shadow: 4px 4px 4px; border: 1px solid \">\n",
    "<b>  Reviewer's comment ⚠️ </b>\n",
    "    \n",
    "\n",
    "However, I recommend that you write it by yourself and avoid using personal pronouns 😊 You can include a short data description.\n",
    "    \n",
    "</div>\n",
    "\n",
    "<div class=\"alert alert-info\"; style=\"border-left: 7px solid blue\">\n",
    "It seems like I straightforwardly forgot this step. Oops! Let me write an actual introduction below...\n",
    "</div>"
   ]
  },
  {
   "cell_type": "markdown",
   "metadata": {},
   "source": [
    "<div class=\"alert alert-success\" style=\"border-radius: 15px; box-shadow: 4px 4px 4px; border: 1px solid \">\n",
    "<h2> Reviewer's comment 2 ✔️</h2>\n",
    "    \n",
    "Good! \n",
    "    \n",
    "</div>"
   ]
  },
  {
   "cell_type": "markdown",
   "metadata": {},
   "source": [
    "Megaline's telecommunications business offers two plans to its customers, named Surf and Ultimate. In this project, the marketing team has asked this question: which of the two plans brings in more revenue?\n",
    "\n",
    "Here, we examine and analyze a sample of 500 Megaline clients. We have access to five sets of data:\n",
    "- megaline_users.csv: contains personal information such as names, ages, locations, and registration dates, as well as which plan the customer purchased.\n",
    "- megaline_plans.csv: contains information about the Surf and Ultimate plan pricing.\n",
    "- megaline_calls.csv: contains information about users' calling habits, including a list of all calls made and their durations.\n",
    "- megaline_internet.csv: includes information about users' internet habits. Megaline charges by the gigabyte, so data is measured in the form of sessions, which each have a date and a megabyte amount.\n",
    "- megaline_messages.csv: information about text messages, specifically an id and date for each message sent by these users.\n",
    "\n",
    "We will analyze customer habits and provide Marketing with details that will answer its question.\n"
   ]
  },
  {
   "cell_type": "markdown",
   "metadata": {},
   "source": [
    "## Initialization"
   ]
  },
  {
   "cell_type": "markdown",
   "metadata": {},
   "source": [
    "We're going to need `pandas` for loading and preparing data, `scipy.stats` for more advanced statistical analysis, and `pyplot` for visual representations of data."
   ]
  },
  {
   "cell_type": "code",
   "execution_count": 2,
   "metadata": {},
   "outputs": [],
   "source": [
    "# Loading all the libraries\n",
    "import pandas as pd\n",
    "import numpy as np\n",
    "from scipy import stats as st\n",
    "from matplotlib import pyplot as plt\n"
   ]
  },
  {
   "cell_type": "markdown",
   "metadata": {},
   "source": [
    "## Load data"
   ]
  },
  {
   "cell_type": "markdown",
   "metadata": {},
   "source": [
    "We have five `.csv` files to load in:"
   ]
  },
  {
   "cell_type": "code",
   "execution_count": 3,
   "metadata": {},
   "outputs": [],
   "source": [
    "# Load the data files into different DataFrames\n",
    "df_calls = pd.read_csv('/datasets/megaline_calls.csv')\n",
    "df_internet = pd.read_csv('/datasets/megaline_internet.csv')\n",
    "df_messages = pd.read_csv('/datasets/megaline_messages.csv')\n",
    "df_plans = pd.read_csv('/datasets/megaline_plans.csv')\n",
    "df_users = pd.read_csv('/datasets/megaline_users.csv')\n"
   ]
  },
  {
   "cell_type": "markdown",
   "metadata": {},
   "source": [
    "## Prepare the data"
   ]
  },
  {
   "cell_type": "markdown",
   "metadata": {},
   "source": [
    "Let's take a preliminary look into each table to get an idea of what we're dealing with:"
   ]
  },
  {
   "cell_type": "code",
   "execution_count": 4,
   "metadata": {},
   "outputs": [
    {
     "name": "stdout",
     "output_type": "stream",
     "text": [
      "<class 'pandas.core.frame.DataFrame'>\n",
      "RangeIndex: 137735 entries, 0 to 137734\n",
      "Data columns (total 4 columns):\n",
      " #   Column     Non-Null Count   Dtype  \n",
      "---  ------     --------------   -----  \n",
      " 0   id         137735 non-null  object \n",
      " 1   user_id    137735 non-null  int64  \n",
      " 2   call_date  137735 non-null  object \n",
      " 3   duration   137735 non-null  float64\n",
      "dtypes: float64(1), int64(1), object(2)\n",
      "memory usage: 4.2+ MB\n"
     ]
    }
   ],
   "source": [
    "df_calls.info()"
   ]
  },
  {
   "cell_type": "code",
   "execution_count": 5,
   "metadata": {
    "scrolled": true
   },
   "outputs": [
    {
     "data": {
      "text/html": [
       "<div>\n",
       "<style scoped>\n",
       "    .dataframe tbody tr th:only-of-type {\n",
       "        vertical-align: middle;\n",
       "    }\n",
       "\n",
       "    .dataframe tbody tr th {\n",
       "        vertical-align: top;\n",
       "    }\n",
       "\n",
       "    .dataframe thead th {\n",
       "        text-align: right;\n",
       "    }\n",
       "</style>\n",
       "<table border=\"1\" class=\"dataframe\">\n",
       "  <thead>\n",
       "    <tr style=\"text-align: right;\">\n",
       "      <th></th>\n",
       "      <th>id</th>\n",
       "      <th>user_id</th>\n",
       "      <th>call_date</th>\n",
       "      <th>duration</th>\n",
       "    </tr>\n",
       "  </thead>\n",
       "  <tbody>\n",
       "    <tr>\n",
       "      <th>0</th>\n",
       "      <td>1000_93</td>\n",
       "      <td>1000</td>\n",
       "      <td>2018-12-27</td>\n",
       "      <td>8.52</td>\n",
       "    </tr>\n",
       "    <tr>\n",
       "      <th>1</th>\n",
       "      <td>1000_145</td>\n",
       "      <td>1000</td>\n",
       "      <td>2018-12-27</td>\n",
       "      <td>13.66</td>\n",
       "    </tr>\n",
       "    <tr>\n",
       "      <th>2</th>\n",
       "      <td>1000_247</td>\n",
       "      <td>1000</td>\n",
       "      <td>2018-12-27</td>\n",
       "      <td>14.48</td>\n",
       "    </tr>\n",
       "    <tr>\n",
       "      <th>3</th>\n",
       "      <td>1000_309</td>\n",
       "      <td>1000</td>\n",
       "      <td>2018-12-28</td>\n",
       "      <td>5.76</td>\n",
       "    </tr>\n",
       "    <tr>\n",
       "      <th>4</th>\n",
       "      <td>1000_380</td>\n",
       "      <td>1000</td>\n",
       "      <td>2018-12-30</td>\n",
       "      <td>4.22</td>\n",
       "    </tr>\n",
       "    <tr>\n",
       "      <th>5</th>\n",
       "      <td>1000_388</td>\n",
       "      <td>1000</td>\n",
       "      <td>2018-12-31</td>\n",
       "      <td>2.20</td>\n",
       "    </tr>\n",
       "    <tr>\n",
       "      <th>6</th>\n",
       "      <td>1000_510</td>\n",
       "      <td>1000</td>\n",
       "      <td>2018-12-27</td>\n",
       "      <td>5.75</td>\n",
       "    </tr>\n",
       "    <tr>\n",
       "      <th>7</th>\n",
       "      <td>1000_521</td>\n",
       "      <td>1000</td>\n",
       "      <td>2018-12-28</td>\n",
       "      <td>14.18</td>\n",
       "    </tr>\n",
       "    <tr>\n",
       "      <th>8</th>\n",
       "      <td>1000_530</td>\n",
       "      <td>1000</td>\n",
       "      <td>2018-12-28</td>\n",
       "      <td>5.77</td>\n",
       "    </tr>\n",
       "    <tr>\n",
       "      <th>9</th>\n",
       "      <td>1000_544</td>\n",
       "      <td>1000</td>\n",
       "      <td>2018-12-26</td>\n",
       "      <td>4.40</td>\n",
       "    </tr>\n",
       "  </tbody>\n",
       "</table>\n",
       "</div>"
      ],
      "text/plain": [
       "         id  user_id   call_date  duration\n",
       "0   1000_93     1000  2018-12-27      8.52\n",
       "1  1000_145     1000  2018-12-27     13.66\n",
       "2  1000_247     1000  2018-12-27     14.48\n",
       "3  1000_309     1000  2018-12-28      5.76\n",
       "4  1000_380     1000  2018-12-30      4.22\n",
       "5  1000_388     1000  2018-12-31      2.20\n",
       "6  1000_510     1000  2018-12-27      5.75\n",
       "7  1000_521     1000  2018-12-28     14.18\n",
       "8  1000_530     1000  2018-12-28      5.77\n",
       "9  1000_544     1000  2018-12-26      4.40"
      ]
     },
     "execution_count": 5,
     "metadata": {},
     "output_type": "execute_result"
    }
   ],
   "source": [
    "df_calls.head(10)"
   ]
  },
  {
   "cell_type": "markdown",
   "metadata": {},
   "source": [
    "Calls data is decently large at 137735 rows. ID field is strange, as the user_id is appended with an underscore to the front of it. User ID is read into the dataframe as an int, but could reasonably be made an object if required. Call_date is an object, will likely have to convert that into a proper datetime type. Duration is in minutes, per the documentation, which is rounded up for the purposes of plans according to the documentation (but is presented un-truncated here)."
   ]
  },
  {
   "cell_type": "code",
   "execution_count": 6,
   "metadata": {},
   "outputs": [
    {
     "name": "stdout",
     "output_type": "stream",
     "text": [
      "<class 'pandas.core.frame.DataFrame'>\n",
      "RangeIndex: 104825 entries, 0 to 104824\n",
      "Data columns (total 4 columns):\n",
      " #   Column        Non-Null Count   Dtype  \n",
      "---  ------        --------------   -----  \n",
      " 0   id            104825 non-null  object \n",
      " 1   user_id       104825 non-null  int64  \n",
      " 2   session_date  104825 non-null  object \n",
      " 3   mb_used       104825 non-null  float64\n",
      "dtypes: float64(1), int64(1), object(2)\n",
      "memory usage: 3.2+ MB\n"
     ]
    }
   ],
   "source": [
    "df_internet.info()"
   ]
  },
  {
   "cell_type": "code",
   "execution_count": 7,
   "metadata": {},
   "outputs": [
    {
     "data": {
      "text/html": [
       "<div>\n",
       "<style scoped>\n",
       "    .dataframe tbody tr th:only-of-type {\n",
       "        vertical-align: middle;\n",
       "    }\n",
       "\n",
       "    .dataframe tbody tr th {\n",
       "        vertical-align: top;\n",
       "    }\n",
       "\n",
       "    .dataframe thead th {\n",
       "        text-align: right;\n",
       "    }\n",
       "</style>\n",
       "<table border=\"1\" class=\"dataframe\">\n",
       "  <thead>\n",
       "    <tr style=\"text-align: right;\">\n",
       "      <th></th>\n",
       "      <th>id</th>\n",
       "      <th>user_id</th>\n",
       "      <th>session_date</th>\n",
       "      <th>mb_used</th>\n",
       "    </tr>\n",
       "  </thead>\n",
       "  <tbody>\n",
       "    <tr>\n",
       "      <th>93353</th>\n",
       "      <td>1435_119</td>\n",
       "      <td>1435</td>\n",
       "      <td>2018-09-27</td>\n",
       "      <td>977.18</td>\n",
       "    </tr>\n",
       "    <tr>\n",
       "      <th>5607</th>\n",
       "      <td>1031_119</td>\n",
       "      <td>1031</td>\n",
       "      <td>2018-10-24</td>\n",
       "      <td>0.00</td>\n",
       "    </tr>\n",
       "    <tr>\n",
       "      <th>22283</th>\n",
       "      <td>1101_175</td>\n",
       "      <td>1101</td>\n",
       "      <td>2018-08-05</td>\n",
       "      <td>95.90</td>\n",
       "    </tr>\n",
       "    <tr>\n",
       "      <th>3505</th>\n",
       "      <td>1020_60</td>\n",
       "      <td>1020</td>\n",
       "      <td>2018-11-20</td>\n",
       "      <td>88.74</td>\n",
       "    </tr>\n",
       "    <tr>\n",
       "      <th>47144</th>\n",
       "      <td>1211_21</td>\n",
       "      <td>1211</td>\n",
       "      <td>2018-07-27</td>\n",
       "      <td>262.18</td>\n",
       "    </tr>\n",
       "    <tr>\n",
       "      <th>16805</th>\n",
       "      <td>1076_323</td>\n",
       "      <td>1076</td>\n",
       "      <td>2018-11-03</td>\n",
       "      <td>374.91</td>\n",
       "    </tr>\n",
       "    <tr>\n",
       "      <th>60529</th>\n",
       "      <td>1276_13</td>\n",
       "      <td>1276</td>\n",
       "      <td>2018-12-24</td>\n",
       "      <td>0.00</td>\n",
       "    </tr>\n",
       "    <tr>\n",
       "      <th>28257</th>\n",
       "      <td>1130_42</td>\n",
       "      <td>1130</td>\n",
       "      <td>2018-10-01</td>\n",
       "      <td>102.60</td>\n",
       "    </tr>\n",
       "    <tr>\n",
       "      <th>5405</th>\n",
       "      <td>1030_4</td>\n",
       "      <td>1030</td>\n",
       "      <td>2018-10-18</td>\n",
       "      <td>0.00</td>\n",
       "    </tr>\n",
       "    <tr>\n",
       "      <th>47759</th>\n",
       "      <td>1214_133</td>\n",
       "      <td>1214</td>\n",
       "      <td>2018-09-21</td>\n",
       "      <td>2.69</td>\n",
       "    </tr>\n",
       "  </tbody>\n",
       "</table>\n",
       "</div>"
      ],
      "text/plain": [
       "             id  user_id session_date  mb_used\n",
       "93353  1435_119     1435   2018-09-27   977.18\n",
       "5607   1031_119     1031   2018-10-24     0.00\n",
       "22283  1101_175     1101   2018-08-05    95.90\n",
       "3505    1020_60     1020   2018-11-20    88.74\n",
       "47144   1211_21     1211   2018-07-27   262.18\n",
       "16805  1076_323     1076   2018-11-03   374.91\n",
       "60529   1276_13     1276   2018-12-24     0.00\n",
       "28257   1130_42     1130   2018-10-01   102.60\n",
       "5405     1030_4     1030   2018-10-18     0.00\n",
       "47759  1214_133     1214   2018-09-21     2.69"
      ]
     },
     "execution_count": 7,
     "metadata": {},
     "output_type": "execute_result"
    }
   ],
   "source": [
    "df_internet.sample(10)"
   ]
  },
  {
   "cell_type": "markdown",
   "metadata": {},
   "source": [
    "At 104825 rows, the internet data is also pretty large. Unlike call time, data usage is not rounded up on a session-by-session basis, but a monthly one; a gigabyte is 1024 megabytes, so if the monthly data of a given account is 2000 MB, that's rounded up to 2048, a.k.a. 2 GB."
   ]
  },
  {
   "cell_type": "code",
   "execution_count": 8,
   "metadata": {},
   "outputs": [
    {
     "name": "stdout",
     "output_type": "stream",
     "text": [
      "<class 'pandas.core.frame.DataFrame'>\n",
      "RangeIndex: 76051 entries, 0 to 76050\n",
      "Data columns (total 3 columns):\n",
      " #   Column        Non-Null Count  Dtype \n",
      "---  ------        --------------  ----- \n",
      " 0   id            76051 non-null  object\n",
      " 1   user_id       76051 non-null  int64 \n",
      " 2   message_date  76051 non-null  object\n",
      "dtypes: int64(1), object(2)\n",
      "memory usage: 1.7+ MB\n"
     ]
    }
   ],
   "source": [
    "df_messages.info()"
   ]
  },
  {
   "cell_type": "code",
   "execution_count": 9,
   "metadata": {},
   "outputs": [
    {
     "data": {
      "text/html": [
       "<div>\n",
       "<style scoped>\n",
       "    .dataframe tbody tr th:only-of-type {\n",
       "        vertical-align: middle;\n",
       "    }\n",
       "\n",
       "    .dataframe tbody tr th {\n",
       "        vertical-align: top;\n",
       "    }\n",
       "\n",
       "    .dataframe thead th {\n",
       "        text-align: right;\n",
       "    }\n",
       "</style>\n",
       "<table border=\"1\" class=\"dataframe\">\n",
       "  <thead>\n",
       "    <tr style=\"text-align: right;\">\n",
       "      <th></th>\n",
       "      <th>id</th>\n",
       "      <th>user_id</th>\n",
       "      <th>message_date</th>\n",
       "    </tr>\n",
       "  </thead>\n",
       "  <tbody>\n",
       "    <tr>\n",
       "      <th>0</th>\n",
       "      <td>1000_125</td>\n",
       "      <td>1000</td>\n",
       "      <td>2018-12-27</td>\n",
       "    </tr>\n",
       "    <tr>\n",
       "      <th>1</th>\n",
       "      <td>1000_160</td>\n",
       "      <td>1000</td>\n",
       "      <td>2018-12-31</td>\n",
       "    </tr>\n",
       "    <tr>\n",
       "      <th>2</th>\n",
       "      <td>1000_223</td>\n",
       "      <td>1000</td>\n",
       "      <td>2018-12-31</td>\n",
       "    </tr>\n",
       "    <tr>\n",
       "      <th>3</th>\n",
       "      <td>1000_251</td>\n",
       "      <td>1000</td>\n",
       "      <td>2018-12-27</td>\n",
       "    </tr>\n",
       "    <tr>\n",
       "      <th>4</th>\n",
       "      <td>1000_255</td>\n",
       "      <td>1000</td>\n",
       "      <td>2018-12-26</td>\n",
       "    </tr>\n",
       "  </tbody>\n",
       "</table>\n",
       "</div>"
      ],
      "text/plain": [
       "         id  user_id message_date\n",
       "0  1000_125     1000   2018-12-27\n",
       "1  1000_160     1000   2018-12-31\n",
       "2  1000_223     1000   2018-12-31\n",
       "3  1000_251     1000   2018-12-27\n",
       "4  1000_255     1000   2018-12-26"
      ]
     },
     "execution_count": 9,
     "metadata": {},
     "output_type": "execute_result"
    }
   ],
   "source": [
    "df_messages.head()"
   ]
  },
  {
   "cell_type": "markdown",
   "metadata": {},
   "source": [
    "Text message data does not include information on usage, unlike the previous two tables, and is also a little shorter at 76051 rows. Not much else unique about it compared to the other two."
   ]
  },
  {
   "cell_type": "code",
   "execution_count": 10,
   "metadata": {},
   "outputs": [
    {
     "name": "stdout",
     "output_type": "stream",
     "text": [
      "<class 'pandas.core.frame.DataFrame'>\n",
      "RangeIndex: 2 entries, 0 to 1\n",
      "Data columns (total 8 columns):\n",
      " #   Column                 Non-Null Count  Dtype  \n",
      "---  ------                 --------------  -----  \n",
      " 0   messages_included      2 non-null      int64  \n",
      " 1   mb_per_month_included  2 non-null      int64  \n",
      " 2   minutes_included       2 non-null      int64  \n",
      " 3   usd_monthly_pay        2 non-null      int64  \n",
      " 4   usd_per_gb             2 non-null      int64  \n",
      " 5   usd_per_message        2 non-null      float64\n",
      " 6   usd_per_minute         2 non-null      float64\n",
      " 7   plan_name              2 non-null      object \n",
      "dtypes: float64(2), int64(5), object(1)\n",
      "memory usage: 256.0+ bytes\n"
     ]
    }
   ],
   "source": [
    "df_plans.info()"
   ]
  },
  {
   "cell_type": "code",
   "execution_count": 11,
   "metadata": {},
   "outputs": [
    {
     "data": {
      "text/html": [
       "<div>\n",
       "<style scoped>\n",
       "    .dataframe tbody tr th:only-of-type {\n",
       "        vertical-align: middle;\n",
       "    }\n",
       "\n",
       "    .dataframe tbody tr th {\n",
       "        vertical-align: top;\n",
       "    }\n",
       "\n",
       "    .dataframe thead th {\n",
       "        text-align: right;\n",
       "    }\n",
       "</style>\n",
       "<table border=\"1\" class=\"dataframe\">\n",
       "  <thead>\n",
       "    <tr style=\"text-align: right;\">\n",
       "      <th></th>\n",
       "      <th>messages_included</th>\n",
       "      <th>mb_per_month_included</th>\n",
       "      <th>minutes_included</th>\n",
       "      <th>usd_monthly_pay</th>\n",
       "      <th>usd_per_gb</th>\n",
       "      <th>usd_per_message</th>\n",
       "      <th>usd_per_minute</th>\n",
       "      <th>plan_name</th>\n",
       "    </tr>\n",
       "  </thead>\n",
       "  <tbody>\n",
       "    <tr>\n",
       "      <th>0</th>\n",
       "      <td>50</td>\n",
       "      <td>15360</td>\n",
       "      <td>500</td>\n",
       "      <td>20</td>\n",
       "      <td>10</td>\n",
       "      <td>0.03</td>\n",
       "      <td>0.03</td>\n",
       "      <td>surf</td>\n",
       "    </tr>\n",
       "    <tr>\n",
       "      <th>1</th>\n",
       "      <td>1000</td>\n",
       "      <td>30720</td>\n",
       "      <td>3000</td>\n",
       "      <td>70</td>\n",
       "      <td>7</td>\n",
       "      <td>0.01</td>\n",
       "      <td>0.01</td>\n",
       "      <td>ultimate</td>\n",
       "    </tr>\n",
       "  </tbody>\n",
       "</table>\n",
       "</div>"
      ],
      "text/plain": [
       "   messages_included  mb_per_month_included  minutes_included  \\\n",
       "0                 50                  15360               500   \n",
       "1               1000                  30720              3000   \n",
       "\n",
       "   usd_monthly_pay  usd_per_gb  usd_per_message  usd_per_minute plan_name  \n",
       "0               20          10             0.03            0.03      surf  \n",
       "1               70           7             0.01            0.01  ultimate  "
      ]
     },
     "execution_count": 11,
     "metadata": {},
     "output_type": "execute_result"
    }
   ],
   "source": [
    "df_plans.head()"
   ]
  },
  {
   "cell_type": "markdown",
   "metadata": {},
   "source": [
    "Information on the two plans provided by Megaline. (Surf data works out to 15GB, ultimate works out to 30GB.) usd_monthly_pay describes the base monthly fee, while the other three usd columns are overage rates."
   ]
  },
  {
   "cell_type": "code",
   "execution_count": 12,
   "metadata": {},
   "outputs": [
    {
     "name": "stdout",
     "output_type": "stream",
     "text": [
      "<class 'pandas.core.frame.DataFrame'>\n",
      "RangeIndex: 500 entries, 0 to 499\n",
      "Data columns (total 8 columns):\n",
      " #   Column      Non-Null Count  Dtype \n",
      "---  ------      --------------  ----- \n",
      " 0   user_id     500 non-null    int64 \n",
      " 1   first_name  500 non-null    object\n",
      " 2   last_name   500 non-null    object\n",
      " 3   age         500 non-null    int64 \n",
      " 4   city        500 non-null    object\n",
      " 5   reg_date    500 non-null    object\n",
      " 6   plan        500 non-null    object\n",
      " 7   churn_date  34 non-null     object\n",
      "dtypes: int64(2), object(6)\n",
      "memory usage: 31.4+ KB\n"
     ]
    }
   ],
   "source": [
    "df_users.info()"
   ]
  },
  {
   "cell_type": "code",
   "execution_count": 13,
   "metadata": {
    "scrolled": true
   },
   "outputs": [
    {
     "data": {
      "text/html": [
       "<div>\n",
       "<style scoped>\n",
       "    .dataframe tbody tr th:only-of-type {\n",
       "        vertical-align: middle;\n",
       "    }\n",
       "\n",
       "    .dataframe tbody tr th {\n",
       "        vertical-align: top;\n",
       "    }\n",
       "\n",
       "    .dataframe thead th {\n",
       "        text-align: right;\n",
       "    }\n",
       "</style>\n",
       "<table border=\"1\" class=\"dataframe\">\n",
       "  <thead>\n",
       "    <tr style=\"text-align: right;\">\n",
       "      <th></th>\n",
       "      <th>user_id</th>\n",
       "      <th>first_name</th>\n",
       "      <th>last_name</th>\n",
       "      <th>age</th>\n",
       "      <th>city</th>\n",
       "      <th>reg_date</th>\n",
       "      <th>plan</th>\n",
       "      <th>churn_date</th>\n",
       "    </tr>\n",
       "  </thead>\n",
       "  <tbody>\n",
       "    <tr>\n",
       "      <th>0</th>\n",
       "      <td>1000</td>\n",
       "      <td>Anamaria</td>\n",
       "      <td>Bauer</td>\n",
       "      <td>45</td>\n",
       "      <td>Atlanta-Sandy Springs-Roswell, GA MSA</td>\n",
       "      <td>2018-12-24</td>\n",
       "      <td>ultimate</td>\n",
       "      <td>NaN</td>\n",
       "    </tr>\n",
       "    <tr>\n",
       "      <th>1</th>\n",
       "      <td>1001</td>\n",
       "      <td>Mickey</td>\n",
       "      <td>Wilkerson</td>\n",
       "      <td>28</td>\n",
       "      <td>Seattle-Tacoma-Bellevue, WA MSA</td>\n",
       "      <td>2018-08-13</td>\n",
       "      <td>surf</td>\n",
       "      <td>NaN</td>\n",
       "    </tr>\n",
       "    <tr>\n",
       "      <th>2</th>\n",
       "      <td>1002</td>\n",
       "      <td>Carlee</td>\n",
       "      <td>Hoffman</td>\n",
       "      <td>36</td>\n",
       "      <td>Las Vegas-Henderson-Paradise, NV MSA</td>\n",
       "      <td>2018-10-21</td>\n",
       "      <td>surf</td>\n",
       "      <td>NaN</td>\n",
       "    </tr>\n",
       "    <tr>\n",
       "      <th>3</th>\n",
       "      <td>1003</td>\n",
       "      <td>Reynaldo</td>\n",
       "      <td>Jenkins</td>\n",
       "      <td>52</td>\n",
       "      <td>Tulsa, OK MSA</td>\n",
       "      <td>2018-01-28</td>\n",
       "      <td>surf</td>\n",
       "      <td>NaN</td>\n",
       "    </tr>\n",
       "    <tr>\n",
       "      <th>4</th>\n",
       "      <td>1004</td>\n",
       "      <td>Leonila</td>\n",
       "      <td>Thompson</td>\n",
       "      <td>40</td>\n",
       "      <td>Seattle-Tacoma-Bellevue, WA MSA</td>\n",
       "      <td>2018-05-23</td>\n",
       "      <td>surf</td>\n",
       "      <td>NaN</td>\n",
       "    </tr>\n",
       "  </tbody>\n",
       "</table>\n",
       "</div>"
      ],
      "text/plain": [
       "   user_id first_name  last_name  age                                   city  \\\n",
       "0     1000   Anamaria      Bauer   45  Atlanta-Sandy Springs-Roswell, GA MSA   \n",
       "1     1001     Mickey  Wilkerson   28        Seattle-Tacoma-Bellevue, WA MSA   \n",
       "2     1002     Carlee    Hoffman   36   Las Vegas-Henderson-Paradise, NV MSA   \n",
       "3     1003   Reynaldo    Jenkins   52                          Tulsa, OK MSA   \n",
       "4     1004    Leonila   Thompson   40        Seattle-Tacoma-Bellevue, WA MSA   \n",
       "\n",
       "     reg_date      plan churn_date  \n",
       "0  2018-12-24  ultimate        NaN  \n",
       "1  2018-08-13      surf        NaN  \n",
       "2  2018-10-21      surf        NaN  \n",
       "3  2018-01-28      surf        NaN  \n",
       "4  2018-05-23      surf        NaN  "
      ]
     },
     "execution_count": 13,
     "metadata": {},
     "output_type": "execute_result"
    }
   ],
   "source": [
    "df_users.head()"
   ]
  },
  {
   "cell_type": "markdown",
   "metadata": {},
   "source": [
    "Personal data of 500 Megaline customers. Most is seemingly self-explanatory. Churn_date is our only immediately obvious missing data among any of the tables; per the documentation, this just means the users were currently using the plan at the time the data was extracted."
   ]
  },
  {
   "cell_type": "markdown",
   "metadata": {},
   "source": [
    "<div class=\"alert alert-success\" style=\"border-radius: 15px; box-shadow: 4px 4px 4px; border: 1px solid \">\n",
    "<h2> Reviewer's comment ✔️</h2>\n",
    "    \n",
    "Good!     \n",
    "</div>"
   ]
  },
  {
   "cell_type": "markdown",
   "metadata": {},
   "source": [
    "## Plans"
   ]
  },
  {
   "cell_type": "code",
   "execution_count": 14,
   "metadata": {},
   "outputs": [
    {
     "name": "stdout",
     "output_type": "stream",
     "text": [
      "<class 'pandas.core.frame.DataFrame'>\n",
      "RangeIndex: 2 entries, 0 to 1\n",
      "Data columns (total 8 columns):\n",
      " #   Column                 Non-Null Count  Dtype  \n",
      "---  ------                 --------------  -----  \n",
      " 0   messages_included      2 non-null      int64  \n",
      " 1   mb_per_month_included  2 non-null      int64  \n",
      " 2   minutes_included       2 non-null      int64  \n",
      " 3   usd_monthly_pay        2 non-null      int64  \n",
      " 4   usd_per_gb             2 non-null      int64  \n",
      " 5   usd_per_message        2 non-null      float64\n",
      " 6   usd_per_minute         2 non-null      float64\n",
      " 7   plan_name              2 non-null      object \n",
      "dtypes: float64(2), int64(5), object(1)\n",
      "memory usage: 256.0+ bytes\n"
     ]
    }
   ],
   "source": [
    "# Print the general/summary information about the plans' DataFrame\n",
    "df_plans.info()\n",
    "# I did this in the previous step; instructions unclear?\n"
   ]
  },
  {
   "cell_type": "code",
   "execution_count": 15,
   "metadata": {
    "scrolled": false
   },
   "outputs": [
    {
     "data": {
      "text/html": [
       "<div>\n",
       "<style scoped>\n",
       "    .dataframe tbody tr th:only-of-type {\n",
       "        vertical-align: middle;\n",
       "    }\n",
       "\n",
       "    .dataframe tbody tr th {\n",
       "        vertical-align: top;\n",
       "    }\n",
       "\n",
       "    .dataframe thead th {\n",
       "        text-align: right;\n",
       "    }\n",
       "</style>\n",
       "<table border=\"1\" class=\"dataframe\">\n",
       "  <thead>\n",
       "    <tr style=\"text-align: right;\">\n",
       "      <th></th>\n",
       "      <th>messages_included</th>\n",
       "      <th>mb_per_month_included</th>\n",
       "      <th>minutes_included</th>\n",
       "      <th>usd_monthly_pay</th>\n",
       "      <th>usd_per_gb</th>\n",
       "      <th>usd_per_message</th>\n",
       "      <th>usd_per_minute</th>\n",
       "      <th>plan_name</th>\n",
       "    </tr>\n",
       "  </thead>\n",
       "  <tbody>\n",
       "    <tr>\n",
       "      <th>0</th>\n",
       "      <td>50</td>\n",
       "      <td>15360</td>\n",
       "      <td>500</td>\n",
       "      <td>20</td>\n",
       "      <td>10</td>\n",
       "      <td>0.03</td>\n",
       "      <td>0.03</td>\n",
       "      <td>surf</td>\n",
       "    </tr>\n",
       "    <tr>\n",
       "      <th>1</th>\n",
       "      <td>1000</td>\n",
       "      <td>30720</td>\n",
       "      <td>3000</td>\n",
       "      <td>70</td>\n",
       "      <td>7</td>\n",
       "      <td>0.01</td>\n",
       "      <td>0.01</td>\n",
       "      <td>ultimate</td>\n",
       "    </tr>\n",
       "  </tbody>\n",
       "</table>\n",
       "</div>"
      ],
      "text/plain": [
       "   messages_included  mb_per_month_included  minutes_included  \\\n",
       "0                 50                  15360               500   \n",
       "1               1000                  30720              3000   \n",
       "\n",
       "   usd_monthly_pay  usd_per_gb  usd_per_message  usd_per_minute plan_name  \n",
       "0               20          10             0.03            0.03      surf  \n",
       "1               70           7             0.01            0.01  ultimate  "
      ]
     },
     "execution_count": 15,
     "metadata": {},
     "output_type": "execute_result"
    }
   ],
   "source": [
    "# Print a sample of data for plans\n",
    "df_plans.head()\n",
    "# I did this in the previous step; instructions unclear?\n"
   ]
  },
  {
   "cell_type": "code",
   "execution_count": 16,
   "metadata": {},
   "outputs": [
    {
     "name": "stdout",
     "output_type": "stream",
     "text": [
      "1024    1\n",
      "1027    1\n",
      "1028    1\n",
      "1029    1\n",
      "1030    1\n",
      "       ..\n",
      "1495    1\n",
      "1494    1\n",
      "1493    1\n",
      "1012    1\n",
      "1023    1\n",
      "Name: user_id, Length: 500, dtype: int64\n"
     ]
    }
   ],
   "source": [
    "#initial duplicate check\n",
    "#print(df_calls.nunique()) #all 137735 ids is unique; 481 of the 500 users represented\n",
    "#print(df_internet.nunique()) #all 104825 ids unique; 489 of the 500 users represented\n",
    "#print(df_messages.nunique()) #all 76051 ids unique; 402 of the 500 users represented\n",
    "#print(df_users.nunique()) #no duplicate user_ids; some duplicate first names, last names, etc. which may bear investigation\n",
    "\n",
    "#missing value check\n",
    "#the info() calls above don't indicate obvious missing values other than churn, so:\n",
    "#print(df_calls['id'].value_counts().sort_index()) #also tried sort_values; no id similar to \"missing\" or \"N/A\" appeared\n",
    "#print(df_internet['id'].value_counts().sort_values()) #also did not yield anything\n",
    "#print(df_messages['id'].value_counts().sort_values()) #likewise\n",
    "print(df_users['user_id'].value_counts().sort_values()) #likewise"
   ]
  },
  {
   "cell_type": "markdown",
   "metadata": {},
   "source": [
    "<div class=\"alert alert-warning\" style=\"border-radius: 15px; box-shadow: 4px 4px 4px; border: 1px solid \">\n",
    "<b>  Reviewer's comment ⚠️ </b>\n",
    "    \n",
    "\n",
    "You can remove the code you do not need.    \n",
    "</div>\n",
    "\n",
    "<div class=\"alert alert-info\"; style=\"border-left: 7px solid blue\">\n",
    "In this case I commented out code I actually used, in order to minimize excessive print output. I'll figure out a better way to do that in the future.</div>\n",
    "<div class=\"alert alert-success\" style=\"border-radius: 15px; box-shadow: 4px 4px 4px; border: 1px solid \">\n",
    "<h2> Reviewer's comment 2 ✔️</h2>\n",
    "    \n",
    "Good.     \n",
    "</div>"
   ]
  },
  {
   "cell_type": "code",
   "execution_count": 17,
   "metadata": {},
   "outputs": [
    {
     "data": {
      "text/plain": [
       "first_name  last_name \n",
       "Aaron       Rowe          1\n",
       "Adena       Macias        1\n",
       "Al          Rasmussen     1\n",
       "Alaine      Robertson     1\n",
       "Alan        Burgess       1\n",
       "                         ..\n",
       "Troy        Hutchinson    1\n",
       "Tristan     Daugherty     1\n",
       "            Cain          1\n",
       "Willow      Steele        1\n",
       "Zofia       Brock         1\n",
       "Length: 500, dtype: int64"
      ]
     },
     "execution_count": 17,
     "metadata": {},
     "output_type": "execute_result"
    }
   ],
   "source": [
    "# let's take a slightly closer look at df_users for duplicate data\n",
    "\n",
    "first_last = pd.concat([df_users['first_name'], df_users['last_name']], axis = 'columns')\n",
    "#first_last.head() #looks good at first glance\n",
    "first_last.value_counts().sort_values() #500 unique full names, so it's highly unlikely duplicates exist in the data\n",
    "#if there were customers with identical first and last names, we could check against other columns,\n",
    "#such as age, reg_date, or city, to further disambiguate"
   ]
  },
  {
   "cell_type": "markdown",
   "metadata": {},
   "source": [
    "[Describe what you see and notice in the general information and the printed data sample for the above price of data. Are there any issues (inappropriate data types, missing data etc) that may need further investigation and changes? How that can be fixed?]\n",
    "\n",
    "Overall issues: \n",
    "- No missing or duplicate data that I could find (aside from churn dates, as mentioned in the documentation)\n",
    "- Some columns represent dates; should be cast to datetime types\n",
    "- It's slightly odd that the plan data parses to an integer for data rates but a float for text and call rates; will double check the CSV file directly since it's small\n",
    "    - Having read the file directly, there doesn't seem to be any accidental truncation for that column."
   ]
  },
  {
   "cell_type": "markdown",
   "metadata": {},
   "source": [
    " "
   ]
  },
  {
   "cell_type": "markdown",
   "metadata": {},
   "source": [
    "## Fix data"
   ]
  },
  {
   "cell_type": "markdown",
   "metadata": {},
   "source": [
    "With respect to the plans, I do not see any critical flaws in this very small dataframe, but it does bother me that some of the columns representing US dollar amounts are integers while others are floats. I'll make them all floats just in case."
   ]
  },
  {
   "cell_type": "code",
   "execution_count": 18,
   "metadata": {},
   "outputs": [
    {
     "name": "stdout",
     "output_type": "stream",
     "text": [
      "<class 'pandas.core.frame.DataFrame'>\n",
      "RangeIndex: 2 entries, 0 to 1\n",
      "Data columns (total 8 columns):\n",
      " #   Column                 Non-Null Count  Dtype  \n",
      "---  ------                 --------------  -----  \n",
      " 0   messages_included      2 non-null      int64  \n",
      " 1   mb_per_month_included  2 non-null      int64  \n",
      " 2   minutes_included       2 non-null      int64  \n",
      " 3   usd_monthly_pay        2 non-null      float64\n",
      " 4   usd_per_gb             2 non-null      float64\n",
      " 5   usd_per_message        2 non-null      float64\n",
      " 6   usd_per_minute         2 non-null      float64\n",
      " 7   plan_name              2 non-null      object \n",
      "dtypes: float64(4), int64(3), object(1)\n",
      "memory usage: 256.0+ bytes\n"
     ]
    }
   ],
   "source": [
    "df_plans['usd_monthly_pay'] = df_plans['usd_monthly_pay'].astype('float')\n",
    "df_plans['usd_per_gb'] = df_plans['usd_per_gb'].astype('float')\n",
    "df_plans.info()"
   ]
  },
  {
   "cell_type": "markdown",
   "metadata": {},
   "source": [
    "## Enrich data"
   ]
  },
  {
   "cell_type": "markdown",
   "metadata": {},
   "source": [
    "It may be slightly easier to do some of the math related to data overages with a `gb_per_month_included` column."
   ]
  },
  {
   "cell_type": "code",
   "execution_count": 19,
   "metadata": {},
   "outputs": [
    {
     "data": {
      "text/html": [
       "<div>\n",
       "<style scoped>\n",
       "    .dataframe tbody tr th:only-of-type {\n",
       "        vertical-align: middle;\n",
       "    }\n",
       "\n",
       "    .dataframe tbody tr th {\n",
       "        vertical-align: top;\n",
       "    }\n",
       "\n",
       "    .dataframe thead th {\n",
       "        text-align: right;\n",
       "    }\n",
       "</style>\n",
       "<table border=\"1\" class=\"dataframe\">\n",
       "  <thead>\n",
       "    <tr style=\"text-align: right;\">\n",
       "      <th></th>\n",
       "      <th>messages_included</th>\n",
       "      <th>mb_per_month_included</th>\n",
       "      <th>minutes_included</th>\n",
       "      <th>usd_monthly_pay</th>\n",
       "      <th>usd_per_gb</th>\n",
       "      <th>usd_per_message</th>\n",
       "      <th>usd_per_minute</th>\n",
       "      <th>plan_name</th>\n",
       "      <th>gb_per_month_included</th>\n",
       "    </tr>\n",
       "  </thead>\n",
       "  <tbody>\n",
       "    <tr>\n",
       "      <th>0</th>\n",
       "      <td>50</td>\n",
       "      <td>15360</td>\n",
       "      <td>500</td>\n",
       "      <td>20.0</td>\n",
       "      <td>10.0</td>\n",
       "      <td>0.03</td>\n",
       "      <td>0.03</td>\n",
       "      <td>surf</td>\n",
       "      <td>15</td>\n",
       "    </tr>\n",
       "    <tr>\n",
       "      <th>1</th>\n",
       "      <td>1000</td>\n",
       "      <td>30720</td>\n",
       "      <td>3000</td>\n",
       "      <td>70.0</td>\n",
       "      <td>7.0</td>\n",
       "      <td>0.01</td>\n",
       "      <td>0.01</td>\n",
       "      <td>ultimate</td>\n",
       "      <td>30</td>\n",
       "    </tr>\n",
       "  </tbody>\n",
       "</table>\n",
       "</div>"
      ],
      "text/plain": [
       "   messages_included  mb_per_month_included  minutes_included  \\\n",
       "0                 50                  15360               500   \n",
       "1               1000                  30720              3000   \n",
       "\n",
       "   usd_monthly_pay  usd_per_gb  usd_per_message  usd_per_minute plan_name  \\\n",
       "0             20.0        10.0             0.03            0.03      surf   \n",
       "1             70.0         7.0             0.01            0.01  ultimate   \n",
       "\n",
       "   gb_per_month_included  \n",
       "0                     15  \n",
       "1                     30  "
      ]
     },
     "execution_count": 19,
     "metadata": {},
     "output_type": "execute_result"
    }
   ],
   "source": [
    "df_plans.head()\n",
    "df_plans['gb_per_month_included'] = (df_plans['mb_per_month_included'] / 1024).astype('int')\n",
    "df_plans.head()"
   ]
  },
  {
   "cell_type": "markdown",
   "metadata": {},
   "source": [
    "## Users"
   ]
  },
  {
   "cell_type": "code",
   "execution_count": 20,
   "metadata": {},
   "outputs": [
    {
     "name": "stdout",
     "output_type": "stream",
     "text": [
      "<class 'pandas.core.frame.DataFrame'>\n",
      "RangeIndex: 500 entries, 0 to 499\n",
      "Data columns (total 8 columns):\n",
      " #   Column      Non-Null Count  Dtype \n",
      "---  ------      --------------  ----- \n",
      " 0   user_id     500 non-null    int64 \n",
      " 1   first_name  500 non-null    object\n",
      " 2   last_name   500 non-null    object\n",
      " 3   age         500 non-null    int64 \n",
      " 4   city        500 non-null    object\n",
      " 5   reg_date    500 non-null    object\n",
      " 6   plan        500 non-null    object\n",
      " 7   churn_date  34 non-null     object\n",
      "dtypes: int64(2), object(6)\n",
      "memory usage: 31.4+ KB\n"
     ]
    }
   ],
   "source": [
    "# Print the general/summary information about the users' DataFrame\n",
    "df_users.info()\n"
   ]
  },
  {
   "cell_type": "code",
   "execution_count": 21,
   "metadata": {},
   "outputs": [
    {
     "data": {
      "text/html": [
       "<div>\n",
       "<style scoped>\n",
       "    .dataframe tbody tr th:only-of-type {\n",
       "        vertical-align: middle;\n",
       "    }\n",
       "\n",
       "    .dataframe tbody tr th {\n",
       "        vertical-align: top;\n",
       "    }\n",
       "\n",
       "    .dataframe thead th {\n",
       "        text-align: right;\n",
       "    }\n",
       "</style>\n",
       "<table border=\"1\" class=\"dataframe\">\n",
       "  <thead>\n",
       "    <tr style=\"text-align: right;\">\n",
       "      <th></th>\n",
       "      <th>user_id</th>\n",
       "      <th>first_name</th>\n",
       "      <th>last_name</th>\n",
       "      <th>age</th>\n",
       "      <th>city</th>\n",
       "      <th>reg_date</th>\n",
       "      <th>plan</th>\n",
       "      <th>churn_date</th>\n",
       "    </tr>\n",
       "  </thead>\n",
       "  <tbody>\n",
       "    <tr>\n",
       "      <th>109</th>\n",
       "      <td>1109</td>\n",
       "      <td>Dominic</td>\n",
       "      <td>Salinas</td>\n",
       "      <td>41</td>\n",
       "      <td>New York-Newark-Jersey City, NY-NJ-PA MSA</td>\n",
       "      <td>2018-02-16</td>\n",
       "      <td>surf</td>\n",
       "      <td>NaN</td>\n",
       "    </tr>\n",
       "    <tr>\n",
       "      <th>88</th>\n",
       "      <td>1088</td>\n",
       "      <td>Paris</td>\n",
       "      <td>Robertson</td>\n",
       "      <td>64</td>\n",
       "      <td>Phoenix-Mesa-Chandler, AZ MSA</td>\n",
       "      <td>2018-05-27</td>\n",
       "      <td>ultimate</td>\n",
       "      <td>NaN</td>\n",
       "    </tr>\n",
       "    <tr>\n",
       "      <th>352</th>\n",
       "      <td>1352</td>\n",
       "      <td>Gavin</td>\n",
       "      <td>Galloway</td>\n",
       "      <td>48</td>\n",
       "      <td>Seattle-Tacoma-Bellevue, WA MSA</td>\n",
       "      <td>2018-09-08</td>\n",
       "      <td>ultimate</td>\n",
       "      <td>NaN</td>\n",
       "    </tr>\n",
       "    <tr>\n",
       "      <th>457</th>\n",
       "      <td>1457</td>\n",
       "      <td>Janean</td>\n",
       "      <td>Lynch</td>\n",
       "      <td>47</td>\n",
       "      <td>New York-Newark-Jersey City, NY-NJ-PA MSA</td>\n",
       "      <td>2018-02-17</td>\n",
       "      <td>surf</td>\n",
       "      <td>NaN</td>\n",
       "    </tr>\n",
       "    <tr>\n",
       "      <th>354</th>\n",
       "      <td>1354</td>\n",
       "      <td>Leonel</td>\n",
       "      <td>Dyer</td>\n",
       "      <td>41</td>\n",
       "      <td>New York-Newark-Jersey City, NY-NJ-PA MSA</td>\n",
       "      <td>2018-08-24</td>\n",
       "      <td>ultimate</td>\n",
       "      <td>NaN</td>\n",
       "    </tr>\n",
       "    <tr>\n",
       "      <th>215</th>\n",
       "      <td>1215</td>\n",
       "      <td>Adelle</td>\n",
       "      <td>Knapp</td>\n",
       "      <td>70</td>\n",
       "      <td>New York-Newark-Jersey City, NY-NJ-PA MSA</td>\n",
       "      <td>2018-07-01</td>\n",
       "      <td>surf</td>\n",
       "      <td>NaN</td>\n",
       "    </tr>\n",
       "    <tr>\n",
       "      <th>338</th>\n",
       "      <td>1338</td>\n",
       "      <td>Janise</td>\n",
       "      <td>Bowman</td>\n",
       "      <td>21</td>\n",
       "      <td>Minneapolis-St. Paul-Bloomington, MN-WI MSA</td>\n",
       "      <td>2018-08-09</td>\n",
       "      <td>surf</td>\n",
       "      <td>NaN</td>\n",
       "    </tr>\n",
       "    <tr>\n",
       "      <th>336</th>\n",
       "      <td>1336</td>\n",
       "      <td>Vance</td>\n",
       "      <td>Bradshaw</td>\n",
       "      <td>34</td>\n",
       "      <td>Portland-Vancouver-Hillsboro, OR-WA MSA</td>\n",
       "      <td>2018-04-04</td>\n",
       "      <td>surf</td>\n",
       "      <td>NaN</td>\n",
       "    </tr>\n",
       "    <tr>\n",
       "      <th>76</th>\n",
       "      <td>1076</td>\n",
       "      <td>Ronny</td>\n",
       "      <td>Browning</td>\n",
       "      <td>51</td>\n",
       "      <td>Buffalo-Cheektowaga, NY MSA</td>\n",
       "      <td>2018-07-29</td>\n",
       "      <td>surf</td>\n",
       "      <td>NaN</td>\n",
       "    </tr>\n",
       "    <tr>\n",
       "      <th>197</th>\n",
       "      <td>1197</td>\n",
       "      <td>Lon</td>\n",
       "      <td>Parker</td>\n",
       "      <td>56</td>\n",
       "      <td>New York-Newark-Jersey City, NY-NJ-PA MSA</td>\n",
       "      <td>2018-11-05</td>\n",
       "      <td>surf</td>\n",
       "      <td>NaN</td>\n",
       "    </tr>\n",
       "  </tbody>\n",
       "</table>\n",
       "</div>"
      ],
      "text/plain": [
       "     user_id first_name  last_name  age  \\\n",
       "109     1109    Dominic    Salinas   41   \n",
       "88      1088      Paris  Robertson   64   \n",
       "352     1352      Gavin   Galloway   48   \n",
       "457     1457     Janean      Lynch   47   \n",
       "354     1354     Leonel       Dyer   41   \n",
       "215     1215     Adelle      Knapp   70   \n",
       "338     1338     Janise     Bowman   21   \n",
       "336     1336      Vance   Bradshaw   34   \n",
       "76      1076      Ronny   Browning   51   \n",
       "197     1197        Lon     Parker   56   \n",
       "\n",
       "                                            city    reg_date      plan  \\\n",
       "109    New York-Newark-Jersey City, NY-NJ-PA MSA  2018-02-16      surf   \n",
       "88                 Phoenix-Mesa-Chandler, AZ MSA  2018-05-27  ultimate   \n",
       "352              Seattle-Tacoma-Bellevue, WA MSA  2018-09-08  ultimate   \n",
       "457    New York-Newark-Jersey City, NY-NJ-PA MSA  2018-02-17      surf   \n",
       "354    New York-Newark-Jersey City, NY-NJ-PA MSA  2018-08-24  ultimate   \n",
       "215    New York-Newark-Jersey City, NY-NJ-PA MSA  2018-07-01      surf   \n",
       "338  Minneapolis-St. Paul-Bloomington, MN-WI MSA  2018-08-09      surf   \n",
       "336      Portland-Vancouver-Hillsboro, OR-WA MSA  2018-04-04      surf   \n",
       "76                   Buffalo-Cheektowaga, NY MSA  2018-07-29      surf   \n",
       "197    New York-Newark-Jersey City, NY-NJ-PA MSA  2018-11-05      surf   \n",
       "\n",
       "    churn_date  \n",
       "109        NaN  \n",
       "88         NaN  \n",
       "352        NaN  \n",
       "457        NaN  \n",
       "354        NaN  \n",
       "215        NaN  \n",
       "338        NaN  \n",
       "336        NaN  \n",
       "76         NaN  \n",
       "197        NaN  "
      ]
     },
     "execution_count": 21,
     "metadata": {},
     "output_type": "execute_result"
    }
   ],
   "source": [
    "# Print a sample of data for users\n",
    "df_users.sample(10)\n"
   ]
  },
  {
   "cell_type": "markdown",
   "metadata": {},
   "source": [
    "Across all data frames other than the 'plans' one, each has a column representing a date, which would be better represented as a datetime type. This one has two, actually: `reg_date` and `churn_date`. While I didn't find any missing values in this table earlier (again, the missing churn dates are intended), there are a few columns I'd like to check individually:"
   ]
  },
  {
   "cell_type": "code",
   "execution_count": 22,
   "metadata": {},
   "outputs": [
    {
     "data": {
      "text/plain": [
       "2018-01-01    3\n",
       "2018-01-04    2\n",
       "2018-01-05    2\n",
       "2018-01-07    1\n",
       "2018-01-08    1\n",
       "             ..\n",
       "2018-12-25    1\n",
       "2018-12-27    1\n",
       "2018-12-29    1\n",
       "2018-12-30    2\n",
       "2018-12-31    2\n",
       "Name: reg_date, Length: 266, dtype: int64"
      ]
     },
     "execution_count": 22,
     "metadata": {},
     "output_type": "execute_result"
    }
   ],
   "source": [
    "df_users['age'].value_counts() #no obvious \"we put this here instead of NaN\" values like 0 or -1 or 999\n",
    "df_users['city'].value_counts() #I find the formatting a little odd, but I don't see any placeholders here either\n",
    "df_users['plan'].value_counts() #everyone's plan is accounted for\n",
    "df_users['reg_date'].value_counts().sort_index() #all users were ones who registered in 2018; nobody from the start of Unix time"
   ]
  },
  {
   "cell_type": "markdown",
   "metadata": {},
   "source": [
    "<div class=\"alert alert-warning\" style=\"border-radius: 15px; box-shadow: 4px 4px 4px; border: 1px solid \">\n",
    "<b> Reviewer's comment ⚠️</b>\n",
    "    \n",
    "It is better to place descriptive comments in separate Makrdown cells. \n",
    "</div>\n",
    "\n",
    "<div class=\"alert alert-info\"; style=\"border-left: 7px solid blue\">\n",
    "Noted; this is something of a habit of mine, so I'll try to pay more attention to it in the future.\n",
    "</div>\n",
    "<div class=\"alert alert-success\" style=\"border-radius: 15px; box-shadow: 4px 4px 4px; border: 1px solid \">\n",
    "<h2> Reviewer's comment 2 ✔️</h2>\n",
    "    \n",
    "Your projects will look much better :)     \n",
    "</div>"
   ]
  },
  {
   "cell_type": "markdown",
   "metadata": {},
   "source": [
    "### Fix Data"
   ]
  },
  {
   "cell_type": "markdown",
   "metadata": {},
   "source": [
    "Fixing the date data types:"
   ]
  },
  {
   "cell_type": "code",
   "execution_count": 23,
   "metadata": {
    "scrolled": true
   },
   "outputs": [
    {
     "name": "stdout",
     "output_type": "stream",
     "text": [
      "<class 'pandas.core.frame.DataFrame'>\n",
      "RangeIndex: 500 entries, 0 to 499\n",
      "Data columns (total 8 columns):\n",
      " #   Column      Non-Null Count  Dtype         \n",
      "---  ------      --------------  -----         \n",
      " 0   user_id     500 non-null    int64         \n",
      " 1   first_name  500 non-null    object        \n",
      " 2   last_name   500 non-null    object        \n",
      " 3   age         500 non-null    int64         \n",
      " 4   city        500 non-null    object        \n",
      " 5   reg_date    500 non-null    datetime64[ns]\n",
      " 6   plan        500 non-null    object        \n",
      " 7   churn_date  34 non-null     datetime64[ns]\n",
      "dtypes: datetime64[ns](2), int64(2), object(4)\n",
      "memory usage: 31.4+ KB\n"
     ]
    }
   ],
   "source": [
    "df_users['churn_date'] = pd.to_datetime(df_users['churn_date'], format=\"%Y-%m-%d\")\n",
    "df_users['reg_date'] = pd.to_datetime(df_users['reg_date'], format=\"%Y-%m-%d\")\n",
    "df_users.info()"
   ]
  },
  {
   "cell_type": "markdown",
   "metadata": {},
   "source": [
    "<div class=\"alert alert-success\" style=\"border-radius: 15px; box-shadow: 4px 4px 4px; border: 1px solid \">\n",
    "<h2> Reviewer's comment ✔️ </h2>\n",
    "    \n",
    "You can use **parse_dates**: `parse_dates=['call_date']` when reading data. Pandas will try to automatically convert this list of columns to datetime. This is a good [article](https://towardsdatascience.com/4-tricks-you-should-know-to-parse-date-columns-with-pandas-read-csv-27355bb2ad0e) with the examples.\n",
    "\n",
    "</div>"
   ]
  },
  {
   "cell_type": "markdown",
   "metadata": {},
   "source": [
    "### Enrich Data"
   ]
  },
  {
   "cell_type": "markdown",
   "metadata": {},
   "source": [
    "For users that churned, a \"time to churn\" column might be useful for answering questions like \"of users that churned, how long does it take on average for them to leave?\""
   ]
  },
  {
   "cell_type": "code",
   "execution_count": 24,
   "metadata": {
    "scrolled": false
   },
   "outputs": [
    {
     "name": "stdout",
     "output_type": "stream",
     "text": [
      "<class 'pandas.core.frame.DataFrame'>\n",
      "RangeIndex: 500 entries, 0 to 499\n",
      "Data columns (total 9 columns):\n",
      " #   Column         Non-Null Count  Dtype          \n",
      "---  ------         --------------  -----          \n",
      " 0   user_id        500 non-null    int64          \n",
      " 1   first_name     500 non-null    object         \n",
      " 2   last_name      500 non-null    object         \n",
      " 3   age            500 non-null    int64          \n",
      " 4   city           500 non-null    object         \n",
      " 5   reg_date       500 non-null    datetime64[ns] \n",
      " 6   plan           500 non-null    object         \n",
      " 7   churn_date     34 non-null     datetime64[ns] \n",
      " 8   days_to_churn  34 non-null     timedelta64[ns]\n",
      "dtypes: datetime64[ns](2), int64(2), object(4), timedelta64[ns](1)\n",
      "memory usage: 35.3+ KB\n"
     ]
    },
    {
     "data": {
      "text/html": [
       "<div>\n",
       "<style scoped>\n",
       "    .dataframe tbody tr th:only-of-type {\n",
       "        vertical-align: middle;\n",
       "    }\n",
       "\n",
       "    .dataframe tbody tr th {\n",
       "        vertical-align: top;\n",
       "    }\n",
       "\n",
       "    .dataframe thead th {\n",
       "        text-align: right;\n",
       "    }\n",
       "</style>\n",
       "<table border=\"1\" class=\"dataframe\">\n",
       "  <thead>\n",
       "    <tr style=\"text-align: right;\">\n",
       "      <th></th>\n",
       "      <th>user_id</th>\n",
       "      <th>first_name</th>\n",
       "      <th>last_name</th>\n",
       "      <th>age</th>\n",
       "      <th>city</th>\n",
       "      <th>reg_date</th>\n",
       "      <th>plan</th>\n",
       "      <th>churn_date</th>\n",
       "      <th>days_to_churn</th>\n",
       "    </tr>\n",
       "  </thead>\n",
       "  <tbody>\n",
       "    <tr>\n",
       "      <th>6</th>\n",
       "      <td>1006</td>\n",
       "      <td>Jesusa</td>\n",
       "      <td>Bradford</td>\n",
       "      <td>73</td>\n",
       "      <td>San Francisco-Oakland-Berkeley, CA MSA</td>\n",
       "      <td>2018-11-27</td>\n",
       "      <td>ultimate</td>\n",
       "      <td>2018-12-18</td>\n",
       "      <td>21 days</td>\n",
       "    </tr>\n",
       "    <tr>\n",
       "      <th>12</th>\n",
       "      <td>1012</td>\n",
       "      <td>Jonelle</td>\n",
       "      <td>Mcbride</td>\n",
       "      <td>59</td>\n",
       "      <td>Chicago-Naperville-Elgin, IL-IN-WI MSA</td>\n",
       "      <td>2018-06-28</td>\n",
       "      <td>surf</td>\n",
       "      <td>2018-11-16</td>\n",
       "      <td>141 days</td>\n",
       "    </tr>\n",
       "    <tr>\n",
       "      <th>22</th>\n",
       "      <td>1022</td>\n",
       "      <td>Bo</td>\n",
       "      <td>Snow</td>\n",
       "      <td>73</td>\n",
       "      <td>New York-Newark-Jersey City, NY-NJ-PA MSA</td>\n",
       "      <td>2018-04-20</td>\n",
       "      <td>surf</td>\n",
       "      <td>2018-09-07</td>\n",
       "      <td>140 days</td>\n",
       "    </tr>\n",
       "    <tr>\n",
       "      <th>40</th>\n",
       "      <td>1040</td>\n",
       "      <td>Paris</td>\n",
       "      <td>Santos</td>\n",
       "      <td>72</td>\n",
       "      <td>Philadelphia-Camden-Wilmington, PA-NJ-DE-MD MSA</td>\n",
       "      <td>2018-12-23</td>\n",
       "      <td>surf</td>\n",
       "      <td>2018-12-30</td>\n",
       "      <td>7 days</td>\n",
       "    </tr>\n",
       "    <tr>\n",
       "      <th>50</th>\n",
       "      <td>1050</td>\n",
       "      <td>Jone</td>\n",
       "      <td>Owen</td>\n",
       "      <td>23</td>\n",
       "      <td>Miami-Fort Lauderdale-West Palm Beach, FL MSA</td>\n",
       "      <td>2018-03-20</td>\n",
       "      <td>ultimate</td>\n",
       "      <td>2018-10-07</td>\n",
       "      <td>201 days</td>\n",
       "    </tr>\n",
       "  </tbody>\n",
       "</table>\n",
       "</div>"
      ],
      "text/plain": [
       "    user_id first_name last_name  age  \\\n",
       "6      1006     Jesusa  Bradford   73   \n",
       "12     1012    Jonelle   Mcbride   59   \n",
       "22     1022         Bo      Snow   73   \n",
       "40     1040      Paris    Santos   72   \n",
       "50     1050       Jone      Owen   23   \n",
       "\n",
       "                                               city   reg_date      plan  \\\n",
       "6            San Francisco-Oakland-Berkeley, CA MSA 2018-11-27  ultimate   \n",
       "12           Chicago-Naperville-Elgin, IL-IN-WI MSA 2018-06-28      surf   \n",
       "22        New York-Newark-Jersey City, NY-NJ-PA MSA 2018-04-20      surf   \n",
       "40  Philadelphia-Camden-Wilmington, PA-NJ-DE-MD MSA 2018-12-23      surf   \n",
       "50    Miami-Fort Lauderdale-West Palm Beach, FL MSA 2018-03-20  ultimate   \n",
       "\n",
       "   churn_date days_to_churn  \n",
       "6  2018-12-18       21 days  \n",
       "12 2018-11-16      141 days  \n",
       "22 2018-09-07      140 days  \n",
       "40 2018-12-30        7 days  \n",
       "50 2018-10-07      201 days  "
      ]
     },
     "execution_count": 24,
     "metadata": {},
     "output_type": "execute_result"
    }
   ],
   "source": [
    "df_users['days_to_churn'] = df_users['churn_date'] - df_users['reg_date']\n",
    "df_users.info()\n",
    "df_users[df_users['days_to_churn'].notna()].head()"
   ]
  },
  {
   "cell_type": "markdown",
   "metadata": {},
   "source": [
    "## Calls"
   ]
  },
  {
   "cell_type": "code",
   "execution_count": 25,
   "metadata": {},
   "outputs": [
    {
     "name": "stdout",
     "output_type": "stream",
     "text": [
      "<class 'pandas.core.frame.DataFrame'>\n",
      "RangeIndex: 137735 entries, 0 to 137734\n",
      "Data columns (total 4 columns):\n",
      " #   Column     Non-Null Count   Dtype  \n",
      "---  ------     --------------   -----  \n",
      " 0   id         137735 non-null  object \n",
      " 1   user_id    137735 non-null  int64  \n",
      " 2   call_date  137735 non-null  object \n",
      " 3   duration   137735 non-null  float64\n",
      "dtypes: float64(1), int64(1), object(2)\n",
      "memory usage: 4.2+ MB\n"
     ]
    }
   ],
   "source": [
    "# Print the general/summary information about the calls' DataFrame\n",
    "df_calls.info()\n"
   ]
  },
  {
   "cell_type": "code",
   "execution_count": 26,
   "metadata": {},
   "outputs": [
    {
     "data": {
      "text/html": [
       "<div>\n",
       "<style scoped>\n",
       "    .dataframe tbody tr th:only-of-type {\n",
       "        vertical-align: middle;\n",
       "    }\n",
       "\n",
       "    .dataframe tbody tr th {\n",
       "        vertical-align: top;\n",
       "    }\n",
       "\n",
       "    .dataframe thead th {\n",
       "        text-align: right;\n",
       "    }\n",
       "</style>\n",
       "<table border=\"1\" class=\"dataframe\">\n",
       "  <thead>\n",
       "    <tr style=\"text-align: right;\">\n",
       "      <th></th>\n",
       "      <th>id</th>\n",
       "      <th>user_id</th>\n",
       "      <th>call_date</th>\n",
       "      <th>duration</th>\n",
       "    </tr>\n",
       "  </thead>\n",
       "  <tbody>\n",
       "    <tr>\n",
       "      <th>122349</th>\n",
       "      <td>1432_199</td>\n",
       "      <td>1432</td>\n",
       "      <td>2018-11-17</td>\n",
       "      <td>0.26</td>\n",
       "    </tr>\n",
       "    <tr>\n",
       "      <th>106837</th>\n",
       "      <td>1379_35</td>\n",
       "      <td>1379</td>\n",
       "      <td>2018-12-04</td>\n",
       "      <td>4.97</td>\n",
       "    </tr>\n",
       "    <tr>\n",
       "      <th>28519</th>\n",
       "      <td>1109_146</td>\n",
       "      <td>1109</td>\n",
       "      <td>2018-12-10</td>\n",
       "      <td>19.64</td>\n",
       "    </tr>\n",
       "    <tr>\n",
       "      <th>45935</th>\n",
       "      <td>1167_18</td>\n",
       "      <td>1167</td>\n",
       "      <td>2018-09-23</td>\n",
       "      <td>2.53</td>\n",
       "    </tr>\n",
       "    <tr>\n",
       "      <th>69605</th>\n",
       "      <td>1249_536</td>\n",
       "      <td>1249</td>\n",
       "      <td>2018-07-27</td>\n",
       "      <td>0.00</td>\n",
       "    </tr>\n",
       "    <tr>\n",
       "      <th>113550</th>\n",
       "      <td>1399_173</td>\n",
       "      <td>1399</td>\n",
       "      <td>2018-12-01</td>\n",
       "      <td>1.41</td>\n",
       "    </tr>\n",
       "    <tr>\n",
       "      <th>90463</th>\n",
       "      <td>1328_93</td>\n",
       "      <td>1328</td>\n",
       "      <td>2018-04-26</td>\n",
       "      <td>0.04</td>\n",
       "    </tr>\n",
       "    <tr>\n",
       "      <th>48168</th>\n",
       "      <td>1174_145</td>\n",
       "      <td>1174</td>\n",
       "      <td>2018-06-09</td>\n",
       "      <td>13.15</td>\n",
       "    </tr>\n",
       "    <tr>\n",
       "      <th>14893</th>\n",
       "      <td>1060_275</td>\n",
       "      <td>1060</td>\n",
       "      <td>2018-08-27</td>\n",
       "      <td>16.28</td>\n",
       "    </tr>\n",
       "    <tr>\n",
       "      <th>114030</th>\n",
       "      <td>1400_374</td>\n",
       "      <td>1400</td>\n",
       "      <td>2018-09-16</td>\n",
       "      <td>0.00</td>\n",
       "    </tr>\n",
       "  </tbody>\n",
       "</table>\n",
       "</div>"
      ],
      "text/plain": [
       "              id  user_id   call_date  duration\n",
       "122349  1432_199     1432  2018-11-17      0.26\n",
       "106837   1379_35     1379  2018-12-04      4.97\n",
       "28519   1109_146     1109  2018-12-10     19.64\n",
       "45935    1167_18     1167  2018-09-23      2.53\n",
       "69605   1249_536     1249  2018-07-27      0.00\n",
       "113550  1399_173     1399  2018-12-01      1.41\n",
       "90463    1328_93     1328  2018-04-26      0.04\n",
       "48168   1174_145     1174  2018-06-09     13.15\n",
       "14893   1060_275     1060  2018-08-27     16.28\n",
       "114030  1400_374     1400  2018-09-16      0.00"
      ]
     },
     "execution_count": 26,
     "metadata": {},
     "output_type": "execute_result"
    }
   ],
   "source": [
    "# Print a sample of data for calls\n",
    "df_calls.sample(10)"
   ]
  },
  {
   "cell_type": "markdown",
   "metadata": {},
   "source": [
    "Interestingly, some call durations are 0.00 minutes. This seems like a clear-cut case of missing data, one I missed on my initial checks. Let's be thorough."
   ]
  },
  {
   "cell_type": "code",
   "execution_count": 27,
   "metadata": {},
   "outputs": [
    {
     "data": {
      "text/plain": [
       "0.00     26834\n",
       "0.01        51\n",
       "0.02        51\n",
       "0.03        56\n",
       "0.04        46\n",
       "         ...  \n",
       "35.35        1\n",
       "35.74        1\n",
       "35.88        1\n",
       "36.24        1\n",
       "37.60        1\n",
       "Name: duration, Length: 2802, dtype: int64"
      ]
     },
     "execution_count": 27,
     "metadata": {},
     "output_type": "execute_result"
    }
   ],
   "source": [
    "df_calls['call_date'].value_counts().sort_index() #all calls happened in 2018, makes sense.\n",
    "df_calls['duration'].value_counts().sort_index()\n",
    "\n",
    "#26834 calls of 0 duration, dramatically more than any other amount (even if we're rounding to the hundredths)\n",
    "#with 137735 entries in the table, nearly 20% of all calls are missing.\n",
    "#it's possible that a few dozen calls were immediate hangups lasting less than a second, but not tens of thousands"
   ]
  },
  {
   "cell_type": "markdown",
   "metadata": {},
   "source": [
    "<div class=\"alert alert-success\" style=\"border-radius: 15px; box-shadow: 4px 4px 4px; border: 1px solid \">\n",
    "<h2> Reviewer's comment ✔️ </h2>\n",
    "    \n",
    "Yes, we have only 2018 data. \n",
    "</div>"
   ]
  },
  {
   "cell_type": "markdown",
   "metadata": {},
   "source": [
    "### Fix data"
   ]
  },
  {
   "cell_type": "markdown",
   "metadata": {},
   "source": [
    "Let's start with the easier issue: fixing the call date types so they are datetimes."
   ]
  },
  {
   "cell_type": "code",
   "execution_count": 28,
   "metadata": {
    "scrolled": true
   },
   "outputs": [
    {
     "name": "stdout",
     "output_type": "stream",
     "text": [
      "<class 'pandas.core.frame.DataFrame'>\n",
      "RangeIndex: 137735 entries, 0 to 137734\n",
      "Data columns (total 4 columns):\n",
      " #   Column     Non-Null Count   Dtype         \n",
      "---  ------     --------------   -----         \n",
      " 0   id         137735 non-null  object        \n",
      " 1   user_id    137735 non-null  int64         \n",
      " 2   call_date  137735 non-null  datetime64[ns]\n",
      " 3   duration   137735 non-null  float64       \n",
      "dtypes: datetime64[ns](1), float64(1), int64(1), object(1)\n",
      "memory usage: 4.2+ MB\n"
     ]
    }
   ],
   "source": [
    "df_calls['call_date'] = pd.to_datetime(df_calls['call_date'], format=\"%Y-%m-%d\")\n",
    "\n",
    "df_calls.info()"
   ]
  },
  {
   "cell_type": "markdown",
   "metadata": {},
   "source": [
    "Now we need to decide what to do with the missing duration data. This seems like a straightforward situation where those calls can be removed."
   ]
  },
  {
   "cell_type": "code",
   "execution_count": 29,
   "metadata": {},
   "outputs": [
    {
     "name": "stdout",
     "output_type": "stream",
     "text": [
      "<class 'pandas.core.frame.DataFrame'>\n",
      "Int64Index: 110901 entries, 0 to 137734\n",
      "Data columns (total 4 columns):\n",
      " #   Column     Non-Null Count   Dtype         \n",
      "---  ------     --------------   -----         \n",
      " 0   id         110901 non-null  object        \n",
      " 1   user_id    110901 non-null  int64         \n",
      " 2   call_date  110901 non-null  datetime64[ns]\n",
      " 3   duration   110901 non-null  float64       \n",
      "dtypes: datetime64[ns](1), float64(1), int64(1), object(1)\n",
      "memory usage: 4.2+ MB\n"
     ]
    }
   ],
   "source": [
    "df_calls = df_calls[df_calls['duration'] > 0.00]\n",
    "df_calls.info() #137735 original rows, minus 26834 removed, equals 110901 remaining\n",
    "#though, I am curious about something: were there any users whose calls were solely represented by what we just removed?\n",
    "#df_calls['user_id'].nunique() #returns 481 users; this matches the amount prior to removing the data"
   ]
  },
  {
   "cell_type": "markdown",
   "metadata": {},
   "source": [
    "<div class=\"alert alert-success\" style=\"border-radius: 15px; box-shadow: 4px 4px 4px; border: 1px solid \">\n",
    "<h2> Reviewer's comment ✔️ </h2>\n",
    "    \n",
    "Yes, we can do that. \n",
    "    \n",
    "</div>"
   ]
  },
  {
   "cell_type": "markdown",
   "metadata": {},
   "source": [
    "### Enrich data"
   ]
  },
  {
   "cell_type": "markdown",
   "metadata": {},
   "source": [
    "Since calls are charged in such a way that each individual call's duration is rounded up to the nearest minute, we can create a `minutes_charged` column to easily hold the information relevant to the customer's bill.\n",
    "\n",
    "Pandas does have a `round()` method for Series, but it only seems to round to the nearest value, whereas we need to round up specifically. `np.ceil()` from Numpy will do what we need here, and Pandas' `apply()` method will let us easily do it to a whole column."
   ]
  },
  {
   "cell_type": "code",
   "execution_count": 30,
   "metadata": {},
   "outputs": [
    {
     "data": {
      "text/html": [
       "<div>\n",
       "<style scoped>\n",
       "    .dataframe tbody tr th:only-of-type {\n",
       "        vertical-align: middle;\n",
       "    }\n",
       "\n",
       "    .dataframe tbody tr th {\n",
       "        vertical-align: top;\n",
       "    }\n",
       "\n",
       "    .dataframe thead th {\n",
       "        text-align: right;\n",
       "    }\n",
       "</style>\n",
       "<table border=\"1\" class=\"dataframe\">\n",
       "  <thead>\n",
       "    <tr style=\"text-align: right;\">\n",
       "      <th></th>\n",
       "      <th>id</th>\n",
       "      <th>user_id</th>\n",
       "      <th>call_date</th>\n",
       "      <th>duration</th>\n",
       "      <th>minutes_charged</th>\n",
       "    </tr>\n",
       "  </thead>\n",
       "  <tbody>\n",
       "    <tr>\n",
       "      <th>0</th>\n",
       "      <td>1000_93</td>\n",
       "      <td>1000</td>\n",
       "      <td>2018-12-27</td>\n",
       "      <td>8.52</td>\n",
       "      <td>9.0</td>\n",
       "    </tr>\n",
       "    <tr>\n",
       "      <th>1</th>\n",
       "      <td>1000_145</td>\n",
       "      <td>1000</td>\n",
       "      <td>2018-12-27</td>\n",
       "      <td>13.66</td>\n",
       "      <td>14.0</td>\n",
       "    </tr>\n",
       "    <tr>\n",
       "      <th>2</th>\n",
       "      <td>1000_247</td>\n",
       "      <td>1000</td>\n",
       "      <td>2018-12-27</td>\n",
       "      <td>14.48</td>\n",
       "      <td>15.0</td>\n",
       "    </tr>\n",
       "    <tr>\n",
       "      <th>3</th>\n",
       "      <td>1000_309</td>\n",
       "      <td>1000</td>\n",
       "      <td>2018-12-28</td>\n",
       "      <td>5.76</td>\n",
       "      <td>6.0</td>\n",
       "    </tr>\n",
       "    <tr>\n",
       "      <th>4</th>\n",
       "      <td>1000_380</td>\n",
       "      <td>1000</td>\n",
       "      <td>2018-12-30</td>\n",
       "      <td>4.22</td>\n",
       "      <td>5.0</td>\n",
       "    </tr>\n",
       "  </tbody>\n",
       "</table>\n",
       "</div>"
      ],
      "text/plain": [
       "         id  user_id  call_date  duration  minutes_charged\n",
       "0   1000_93     1000 2018-12-27      8.52              9.0\n",
       "1  1000_145     1000 2018-12-27     13.66             14.0\n",
       "2  1000_247     1000 2018-12-27     14.48             15.0\n",
       "3  1000_309     1000 2018-12-28      5.76              6.0\n",
       "4  1000_380     1000 2018-12-30      4.22              5.0"
      ]
     },
     "execution_count": 30,
     "metadata": {},
     "output_type": "execute_result"
    }
   ],
   "source": [
    "df_calls['minutes_charged'] = df_calls['duration'].apply(np.ceil)\n",
    "df_calls.head()"
   ]
  },
  {
   "cell_type": "markdown",
   "metadata": {},
   "source": [
    "<div class=\"alert alert-success\" style=\"border-radius: 15px; box-shadow: 4px 4px 4px; border: 1px solid \">\n",
    "<h2> Reviewer's comment ✔️ </h2>\n",
    "    \n",
    "Correct!     \n",
    "</div>\n",
    "<div class=\"alert alert-warning\" style=\"border-radius: 15px; box-shadow: 4px 4px 4px; border: 1px solid \">\n",
    "<h2> Reviewer's comment ⚠️ </h2>\n",
    "    \n",
    "- `ceil` does not need `apply`.\n",
    "    \n",
    "    \n",
    "    \n",
    "- I would just ceil the `duration` column without creating a new one.\n",
    "    \n",
    "</div>\n",
    "\n",
    "<div class=\"alert alert-info\" style=\"border-left: 7px solid blue\">\n",
    "    \n",
    "Noted about `ceil`. I left the duration column in at the time because I thought a question might be asked later to the effect of \"how much more are we charging people due to rounding up individual call times instead of rounding up the total time?\" In retrospect it's never brought up again.\n",
    "    \n",
    "(By the way, why does the backtick markdown work in your comments, but not mine?)\n",
    "</div>\n",
    "<div class=\"alert alert-success\" style=\"border-radius: 15px; box-shadow: 4px 4px 4px; border: 1px solid \">\n",
    "<h2> Reviewer's comment 2 ✔️ </h2>\n",
    "    \n",
    "It works in your comment. I just added a new line before the main text, and it worked :)    \n",
    "</div>\n",
    "\n",
    "<div class=\"alert alert-info\" style=\"border-left: 7px solid blue\">`testing`\n",
    "    \n",
    "`testing`\n",
    "    \n",
    "Whoa, that is bizarre. Learn something new every day!\n",
    "</div>\n",
    "<div class=\"alert alert-success\" style=\"border-radius: 15px; box-shadow: 4px 4px 4px; border: 1px solid \">\n",
    "<h2> Reviewer's comment 3 ✔️</h2>\n",
    "    \n",
    "It's great! \n",
    "\n",
    "</div>"
   ]
  },
  {
   "cell_type": "markdown",
   "metadata": {},
   "source": [
    "## Messages"
   ]
  },
  {
   "cell_type": "code",
   "execution_count": 31,
   "metadata": {},
   "outputs": [
    {
     "name": "stdout",
     "output_type": "stream",
     "text": [
      "<class 'pandas.core.frame.DataFrame'>\n",
      "RangeIndex: 76051 entries, 0 to 76050\n",
      "Data columns (total 3 columns):\n",
      " #   Column        Non-Null Count  Dtype \n",
      "---  ------        --------------  ----- \n",
      " 0   id            76051 non-null  object\n",
      " 1   user_id       76051 non-null  int64 \n",
      " 2   message_date  76051 non-null  object\n",
      "dtypes: int64(1), object(2)\n",
      "memory usage: 1.7+ MB\n"
     ]
    }
   ],
   "source": [
    "# Print the general/summary information about the messages' DataFrame\n",
    "df_messages.info()\n"
   ]
  },
  {
   "cell_type": "code",
   "execution_count": 32,
   "metadata": {},
   "outputs": [
    {
     "data": {
      "text/html": [
       "<div>\n",
       "<style scoped>\n",
       "    .dataframe tbody tr th:only-of-type {\n",
       "        vertical-align: middle;\n",
       "    }\n",
       "\n",
       "    .dataframe tbody tr th {\n",
       "        vertical-align: top;\n",
       "    }\n",
       "\n",
       "    .dataframe thead th {\n",
       "        text-align: right;\n",
       "    }\n",
       "</style>\n",
       "<table border=\"1\" class=\"dataframe\">\n",
       "  <thead>\n",
       "    <tr style=\"text-align: right;\">\n",
       "      <th></th>\n",
       "      <th>id</th>\n",
       "      <th>user_id</th>\n",
       "      <th>message_date</th>\n",
       "    </tr>\n",
       "  </thead>\n",
       "  <tbody>\n",
       "    <tr>\n",
       "      <th>56311</th>\n",
       "      <td>1355_482</td>\n",
       "      <td>1355</td>\n",
       "      <td>2018-12-31</td>\n",
       "    </tr>\n",
       "    <tr>\n",
       "      <th>55616</th>\n",
       "      <td>1349_411</td>\n",
       "      <td>1349</td>\n",
       "      <td>2018-11-08</td>\n",
       "    </tr>\n",
       "    <tr>\n",
       "      <th>66176</th>\n",
       "      <td>1433_116</td>\n",
       "      <td>1433</td>\n",
       "      <td>2018-11-11</td>\n",
       "    </tr>\n",
       "    <tr>\n",
       "      <th>11949</th>\n",
       "      <td>1079_348</td>\n",
       "      <td>1079</td>\n",
       "      <td>2018-12-01</td>\n",
       "    </tr>\n",
       "    <tr>\n",
       "      <th>48639</th>\n",
       "      <td>1326_176</td>\n",
       "      <td>1326</td>\n",
       "      <td>2018-10-24</td>\n",
       "    </tr>\n",
       "    <tr>\n",
       "      <th>13441</th>\n",
       "      <td>1088_480</td>\n",
       "      <td>1088</td>\n",
       "      <td>2018-12-19</td>\n",
       "    </tr>\n",
       "    <tr>\n",
       "      <th>45301</th>\n",
       "      <td>1304_331</td>\n",
       "      <td>1304</td>\n",
       "      <td>2018-11-23</td>\n",
       "    </tr>\n",
       "    <tr>\n",
       "      <th>7677</th>\n",
       "      <td>1060_13</td>\n",
       "      <td>1060</td>\n",
       "      <td>2018-08-17</td>\n",
       "    </tr>\n",
       "    <tr>\n",
       "      <th>24032</th>\n",
       "      <td>1144_535</td>\n",
       "      <td>1144</td>\n",
       "      <td>2018-11-10</td>\n",
       "    </tr>\n",
       "    <tr>\n",
       "      <th>41478</th>\n",
       "      <td>1266_194</td>\n",
       "      <td>1266</td>\n",
       "      <td>2018-12-16</td>\n",
       "    </tr>\n",
       "  </tbody>\n",
       "</table>\n",
       "</div>"
      ],
      "text/plain": [
       "             id  user_id message_date\n",
       "56311  1355_482     1355   2018-12-31\n",
       "55616  1349_411     1349   2018-11-08\n",
       "66176  1433_116     1433   2018-11-11\n",
       "11949  1079_348     1079   2018-12-01\n",
       "48639  1326_176     1326   2018-10-24\n",
       "13441  1088_480     1088   2018-12-19\n",
       "45301  1304_331     1304   2018-11-23\n",
       "7677    1060_13     1060   2018-08-17\n",
       "24032  1144_535     1144   2018-11-10\n",
       "41478  1266_194     1266   2018-12-16"
      ]
     },
     "execution_count": 32,
     "metadata": {},
     "output_type": "execute_result"
    }
   ],
   "source": [
    "# Print a sample of data for messages\n",
    "df_messages.sample(10)\n"
   ]
  },
  {
   "cell_type": "markdown",
   "metadata": {},
   "source": [
    "This dataframe is perhaps the least complicated, since there is no duration or data amount associated with messages--just the id of the user and the date sent. We can fix the message date's type, like we did with previous datetime values. I do also want to check the dates as well, just to make sure none are obvious errors."
   ]
  },
  {
   "cell_type": "code",
   "execution_count": 33,
   "metadata": {},
   "outputs": [
    {
     "data": {
      "text/plain": [
       "2018-01-15      2\n",
       "2018-01-16      4\n",
       "2018-01-17      6\n",
       "2018-01-18      5\n",
       "2018-01-19      1\n",
       "             ... \n",
       "2018-12-27    701\n",
       "2018-12-28    702\n",
       "2018-12-29    680\n",
       "2018-12-30    683\n",
       "2018-12-31    699\n",
       "Name: message_date, Length: 351, dtype: int64"
      ]
     },
     "execution_count": 33,
     "metadata": {},
     "output_type": "execute_result"
    }
   ],
   "source": [
    " df_messages['message_date'].value_counts().sort_index() #all are in 2018 as we hoped"
   ]
  },
  {
   "cell_type": "markdown",
   "metadata": {},
   "source": [
    "### Fix data"
   ]
  },
  {
   "cell_type": "markdown",
   "metadata": {},
   "source": [
    "Fixing the type:"
   ]
  },
  {
   "cell_type": "code",
   "execution_count": 34,
   "metadata": {},
   "outputs": [
    {
     "name": "stdout",
     "output_type": "stream",
     "text": [
      "<class 'pandas.core.frame.DataFrame'>\n",
      "RangeIndex: 76051 entries, 0 to 76050\n",
      "Data columns (total 3 columns):\n",
      " #   Column        Non-Null Count  Dtype         \n",
      "---  ------        --------------  -----         \n",
      " 0   id            76051 non-null  object        \n",
      " 1   user_id       76051 non-null  int64         \n",
      " 2   message_date  76051 non-null  datetime64[ns]\n",
      "dtypes: datetime64[ns](1), int64(1), object(1)\n",
      "memory usage: 1.7+ MB\n"
     ]
    }
   ],
   "source": [
    "df_messages['message_date'] = pd.to_datetime(df_messages['message_date'], format=\"%Y-%m-%d\")\n",
    "df_messages.info()"
   ]
  },
  {
   "cell_type": "markdown",
   "metadata": {},
   "source": [
    "### Enrich data"
   ]
  },
  {
   "cell_type": "markdown",
   "metadata": {},
   "source": [
    "A \"days since last message\" column could be useful to distinguish occasional texters from more frequent ones that may have simply not had a plan for as long. That said, there are less computationally complex ways to get that information (perhaps by dividing a user's total texts by the length of time which they've had a plan), so I don't think it would be efficient to go so far."
   ]
  },
  {
   "cell_type": "code",
   "execution_count": 35,
   "metadata": {},
   "outputs": [
    {
     "data": {
      "text/html": [
       "<div>\n",
       "<style scoped>\n",
       "    .dataframe tbody tr th:only-of-type {\n",
       "        vertical-align: middle;\n",
       "    }\n",
       "\n",
       "    .dataframe tbody tr th {\n",
       "        vertical-align: top;\n",
       "    }\n",
       "\n",
       "    .dataframe thead th {\n",
       "        text-align: right;\n",
       "    }\n",
       "</style>\n",
       "<table border=\"1\" class=\"dataframe\">\n",
       "  <thead>\n",
       "    <tr style=\"text-align: right;\">\n",
       "      <th></th>\n",
       "      <th>id</th>\n",
       "      <th>user_id</th>\n",
       "      <th>message_date</th>\n",
       "    </tr>\n",
       "  </thead>\n",
       "  <tbody>\n",
       "    <tr>\n",
       "      <th>0</th>\n",
       "      <td>1000_125</td>\n",
       "      <td>1000</td>\n",
       "      <td>2018-12-27</td>\n",
       "    </tr>\n",
       "    <tr>\n",
       "      <th>1</th>\n",
       "      <td>1000_160</td>\n",
       "      <td>1000</td>\n",
       "      <td>2018-12-31</td>\n",
       "    </tr>\n",
       "    <tr>\n",
       "      <th>2</th>\n",
       "      <td>1000_223</td>\n",
       "      <td>1000</td>\n",
       "      <td>2018-12-31</td>\n",
       "    </tr>\n",
       "    <tr>\n",
       "      <th>3</th>\n",
       "      <td>1000_251</td>\n",
       "      <td>1000</td>\n",
       "      <td>2018-12-27</td>\n",
       "    </tr>\n",
       "    <tr>\n",
       "      <th>4</th>\n",
       "      <td>1000_255</td>\n",
       "      <td>1000</td>\n",
       "      <td>2018-12-26</td>\n",
       "    </tr>\n",
       "  </tbody>\n",
       "</table>\n",
       "</div>"
      ],
      "text/plain": [
       "         id  user_id message_date\n",
       "0  1000_125     1000   2018-12-27\n",
       "1  1000_160     1000   2018-12-31\n",
       "2  1000_223     1000   2018-12-31\n",
       "3  1000_251     1000   2018-12-27\n",
       "4  1000_255     1000   2018-12-26"
      ]
     },
     "execution_count": 35,
     "metadata": {},
     "output_type": "execute_result"
    }
   ],
   "source": [
    "df_messages.head()"
   ]
  },
  {
   "cell_type": "markdown",
   "metadata": {},
   "source": [
    "## Internet"
   ]
  },
  {
   "cell_type": "code",
   "execution_count": 36,
   "metadata": {},
   "outputs": [
    {
     "name": "stdout",
     "output_type": "stream",
     "text": [
      "<class 'pandas.core.frame.DataFrame'>\n",
      "RangeIndex: 104825 entries, 0 to 104824\n",
      "Data columns (total 4 columns):\n",
      " #   Column        Non-Null Count   Dtype  \n",
      "---  ------        --------------   -----  \n",
      " 0   id            104825 non-null  object \n",
      " 1   user_id       104825 non-null  int64  \n",
      " 2   session_date  104825 non-null  object \n",
      " 3   mb_used       104825 non-null  float64\n",
      "dtypes: float64(1), int64(1), object(2)\n",
      "memory usage: 3.2+ MB\n"
     ]
    }
   ],
   "source": [
    "# Print the general/summary information about the internet DataFrame\n",
    "df_internet.info()\n"
   ]
  },
  {
   "cell_type": "code",
   "execution_count": 37,
   "metadata": {},
   "outputs": [
    {
     "data": {
      "text/html": [
       "<div>\n",
       "<style scoped>\n",
       "    .dataframe tbody tr th:only-of-type {\n",
       "        vertical-align: middle;\n",
       "    }\n",
       "\n",
       "    .dataframe tbody tr th {\n",
       "        vertical-align: top;\n",
       "    }\n",
       "\n",
       "    .dataframe thead th {\n",
       "        text-align: right;\n",
       "    }\n",
       "</style>\n",
       "<table border=\"1\" class=\"dataframe\">\n",
       "  <thead>\n",
       "    <tr style=\"text-align: right;\">\n",
       "      <th></th>\n",
       "      <th>id</th>\n",
       "      <th>user_id</th>\n",
       "      <th>session_date</th>\n",
       "      <th>mb_used</th>\n",
       "    </tr>\n",
       "  </thead>\n",
       "  <tbody>\n",
       "    <tr>\n",
       "      <th>93274</th>\n",
       "      <td>1435_40</td>\n",
       "      <td>1435</td>\n",
       "      <td>2018-11-19</td>\n",
       "      <td>633.52</td>\n",
       "    </tr>\n",
       "    <tr>\n",
       "      <th>52187</th>\n",
       "      <td>1236_28</td>\n",
       "      <td>1236</td>\n",
       "      <td>2018-05-26</td>\n",
       "      <td>151.97</td>\n",
       "    </tr>\n",
       "    <tr>\n",
       "      <th>92863</th>\n",
       "      <td>1434_91</td>\n",
       "      <td>1434</td>\n",
       "      <td>2018-07-07</td>\n",
       "      <td>199.68</td>\n",
       "    </tr>\n",
       "    <tr>\n",
       "      <th>6147</th>\n",
       "      <td>1033_208</td>\n",
       "      <td>1033</td>\n",
       "      <td>2018-09-29</td>\n",
       "      <td>226.68</td>\n",
       "    </tr>\n",
       "    <tr>\n",
       "      <th>49369</th>\n",
       "      <td>1220_401</td>\n",
       "      <td>1220</td>\n",
       "      <td>2018-06-30</td>\n",
       "      <td>0.00</td>\n",
       "    </tr>\n",
       "    <tr>\n",
       "      <th>49910</th>\n",
       "      <td>1223_102</td>\n",
       "      <td>1223</td>\n",
       "      <td>2018-07-12</td>\n",
       "      <td>590.81</td>\n",
       "    </tr>\n",
       "    <tr>\n",
       "      <th>79174</th>\n",
       "      <td>1368_371</td>\n",
       "      <td>1368</td>\n",
       "      <td>2018-12-14</td>\n",
       "      <td>0.00</td>\n",
       "    </tr>\n",
       "    <tr>\n",
       "      <th>85844</th>\n",
       "      <td>1399_457</td>\n",
       "      <td>1399</td>\n",
       "      <td>2018-09-17</td>\n",
       "      <td>142.56</td>\n",
       "    </tr>\n",
       "    <tr>\n",
       "      <th>96803</th>\n",
       "      <td>1456_43</td>\n",
       "      <td>1456</td>\n",
       "      <td>2018-11-30</td>\n",
       "      <td>356.65</td>\n",
       "    </tr>\n",
       "    <tr>\n",
       "      <th>42098</th>\n",
       "      <td>1187_275</td>\n",
       "      <td>1187</td>\n",
       "      <td>2018-04-10</td>\n",
       "      <td>360.47</td>\n",
       "    </tr>\n",
       "  </tbody>\n",
       "</table>\n",
       "</div>"
      ],
      "text/plain": [
       "             id  user_id session_date  mb_used\n",
       "93274   1435_40     1435   2018-11-19   633.52\n",
       "52187   1236_28     1236   2018-05-26   151.97\n",
       "92863   1434_91     1434   2018-07-07   199.68\n",
       "6147   1033_208     1033   2018-09-29   226.68\n",
       "49369  1220_401     1220   2018-06-30     0.00\n",
       "49910  1223_102     1223   2018-07-12   590.81\n",
       "79174  1368_371     1368   2018-12-14     0.00\n",
       "85844  1399_457     1399   2018-09-17   142.56\n",
       "96803   1456_43     1456   2018-11-30   356.65\n",
       "42098  1187_275     1187   2018-04-10   360.47"
      ]
     },
     "execution_count": 37,
     "metadata": {},
     "output_type": "execute_result"
    }
   ],
   "source": [
    "# Print a sample of data for the internet traffic\n",
    "df_internet.sample(10)\n"
   ]
  },
  {
   "cell_type": "markdown",
   "metadata": {},
   "source": [
    "Aside from the recurring issue with the datetime type, mb_used has the same issue as the call duration data did: some values are 0.00 megabytes."
   ]
  },
  {
   "cell_type": "code",
   "execution_count": 38,
   "metadata": {},
   "outputs": [
    {
     "data": {
      "text/plain": [
       "0.00       13747\n",
       "0.01           1\n",
       "0.02           2\n",
       "0.03           1\n",
       "0.04           2\n",
       "           ...  \n",
       "1604.46        1\n",
       "1634.39        1\n",
       "1636.47        1\n",
       "1668.03        1\n",
       "1693.47        1\n",
       "Name: mb_used, Length: 57624, dtype: int64"
      ]
     },
     "execution_count": 38,
     "metadata": {},
     "output_type": "execute_result"
    }
   ],
   "source": [
    " df_internet['mb_used'].value_counts().sort_index() #13747 entries representing about 13% of the rows"
   ]
  },
  {
   "cell_type": "markdown",
   "metadata": {},
   "source": [
    "<div class=\"alert alert-success\" style=\"border-radius: 15px; box-shadow: 4px 4px 4px; border: 1px solid \">\n",
    "<h2> Reviewer's comment ✔️ </h2>\n",
    "    \n",
    "Sometimes plans include messengers usage, which can be the reason why we have zeros. However, it is ok to drop them.     \n",
    "</div>"
   ]
  },
  {
   "cell_type": "markdown",
   "metadata": {},
   "source": [
    "### Fix data"
   ]
  },
  {
   "cell_type": "markdown",
   "metadata": {},
   "source": [
    "We need to convert the datetime types again, but we also should remove the sessions where no data was reportedly exchanged."
   ]
  },
  {
   "cell_type": "code",
   "execution_count": 39,
   "metadata": {},
   "outputs": [
    {
     "name": "stdout",
     "output_type": "stream",
     "text": [
      "<class 'pandas.core.frame.DataFrame'>\n",
      "Int64Index: 91078 entries, 0 to 104824\n",
      "Data columns (total 4 columns):\n",
      " #   Column        Non-Null Count  Dtype         \n",
      "---  ------        --------------  -----         \n",
      " 0   id            91078 non-null  object        \n",
      " 1   user_id       91078 non-null  int64         \n",
      " 2   session_date  91078 non-null  datetime64[ns]\n",
      " 3   mb_used       91078 non-null  float64       \n",
      "dtypes: datetime64[ns](1), float64(1), int64(1), object(1)\n",
      "memory usage: 3.5+ MB\n"
     ]
    }
   ],
   "source": [
    "df_internet['session_date'] = pd.to_datetime(df_internet['session_date'], format=\"%Y-%m-%d\")\n",
    "\n",
    "df_internet = df_internet[df_internet['mb_used'] > 0.00]\n",
    "\n",
    "df_internet.info() #91078 entries; the correct number of rows were removed"
   ]
  },
  {
   "cell_type": "markdown",
   "metadata": {},
   "source": [
    "### Enrich data"
   ]
  },
  {
   "cell_type": "markdown",
   "metadata": {},
   "source": [
    "I don't see any way to extend the information available to us. Perhaps a `gb_used` column would be interesting, but I do not think it would be helpful just yet--remember, customer data usage is summed, *then* rounded up to the next gigabyte. So that's better done later."
   ]
  },
  {
   "cell_type": "code",
   "execution_count": 40,
   "metadata": {},
   "outputs": [
    {
     "data": {
      "text/html": [
       "<div>\n",
       "<style scoped>\n",
       "    .dataframe tbody tr th:only-of-type {\n",
       "        vertical-align: middle;\n",
       "    }\n",
       "\n",
       "    .dataframe tbody tr th {\n",
       "        vertical-align: top;\n",
       "    }\n",
       "\n",
       "    .dataframe thead th {\n",
       "        text-align: right;\n",
       "    }\n",
       "</style>\n",
       "<table border=\"1\" class=\"dataframe\">\n",
       "  <thead>\n",
       "    <tr style=\"text-align: right;\">\n",
       "      <th></th>\n",
       "      <th>id</th>\n",
       "      <th>user_id</th>\n",
       "      <th>session_date</th>\n",
       "      <th>mb_used</th>\n",
       "    </tr>\n",
       "  </thead>\n",
       "  <tbody>\n",
       "    <tr>\n",
       "      <th>0</th>\n",
       "      <td>1000_13</td>\n",
       "      <td>1000</td>\n",
       "      <td>2018-12-29</td>\n",
       "      <td>89.86</td>\n",
       "    </tr>\n",
       "    <tr>\n",
       "      <th>2</th>\n",
       "      <td>1000_379</td>\n",
       "      <td>1000</td>\n",
       "      <td>2018-12-28</td>\n",
       "      <td>660.40</td>\n",
       "    </tr>\n",
       "    <tr>\n",
       "      <th>3</th>\n",
       "      <td>1000_413</td>\n",
       "      <td>1000</td>\n",
       "      <td>2018-12-26</td>\n",
       "      <td>270.99</td>\n",
       "    </tr>\n",
       "    <tr>\n",
       "      <th>4</th>\n",
       "      <td>1000_442</td>\n",
       "      <td>1000</td>\n",
       "      <td>2018-12-27</td>\n",
       "      <td>880.22</td>\n",
       "    </tr>\n",
       "    <tr>\n",
       "      <th>5</th>\n",
       "      <td>1001_0</td>\n",
       "      <td>1001</td>\n",
       "      <td>2018-08-24</td>\n",
       "      <td>284.68</td>\n",
       "    </tr>\n",
       "  </tbody>\n",
       "</table>\n",
       "</div>"
      ],
      "text/plain": [
       "         id  user_id session_date  mb_used\n",
       "0   1000_13     1000   2018-12-29    89.86\n",
       "2  1000_379     1000   2018-12-28   660.40\n",
       "3  1000_413     1000   2018-12-26   270.99\n",
       "4  1000_442     1000   2018-12-27   880.22\n",
       "5    1001_0     1001   2018-08-24   284.68"
      ]
     },
     "execution_count": 40,
     "metadata": {},
     "output_type": "execute_result"
    }
   ],
   "source": [
    "df_internet.head()"
   ]
  },
  {
   "cell_type": "markdown",
   "metadata": {},
   "source": [
    "## Study plan conditions"
   ]
  },
  {
   "cell_type": "markdown",
   "metadata": {},
   "source": [
    "To review: the main thrust of the project is to determine which of the two Megaline plans bring in more revenue, such that the advertising budget for them can be planned accordingly.\n",
    "\n",
    "This is how the plans work:\n",
    "- Users pay for either the Surf or Ultimate plan, per `usd_monthly_pay`\n",
    "- Each plan allows a user to send text messages (`messages_included`), make phone calls (`minutes_included`), and use the Internet (`mb_per_month_included`) up to the limits described in their respective columns\n",
    "- Messages over the limit incur an extra fee, per `usd_per_message`\n",
    "- Internet usage is summed, then rounded up to the nearest gigabyte. If it's over the limit, the fee in `usd_per_gb` is incurred\n",
    "- Call time is rounded up on a per-call basis (a three-second call is one minute, as is a fifty-nine second call, for instance). If the total time after this is greater than the minutes limit, the fee in `usd_per_minute` is incurred\n",
    "\n"
   ]
  },
  {
   "cell_type": "code",
   "execution_count": 41,
   "metadata": {},
   "outputs": [
    {
     "data": {
      "text/html": [
       "<div>\n",
       "<style scoped>\n",
       "    .dataframe tbody tr th:only-of-type {\n",
       "        vertical-align: middle;\n",
       "    }\n",
       "\n",
       "    .dataframe tbody tr th {\n",
       "        vertical-align: top;\n",
       "    }\n",
       "\n",
       "    .dataframe thead th {\n",
       "        text-align: right;\n",
       "    }\n",
       "</style>\n",
       "<table border=\"1\" class=\"dataframe\">\n",
       "  <thead>\n",
       "    <tr style=\"text-align: right;\">\n",
       "      <th></th>\n",
       "      <th>messages_included</th>\n",
       "      <th>mb_per_month_included</th>\n",
       "      <th>minutes_included</th>\n",
       "      <th>usd_monthly_pay</th>\n",
       "      <th>usd_per_gb</th>\n",
       "      <th>usd_per_message</th>\n",
       "      <th>usd_per_minute</th>\n",
       "      <th>plan_name</th>\n",
       "      <th>gb_per_month_included</th>\n",
       "    </tr>\n",
       "  </thead>\n",
       "  <tbody>\n",
       "    <tr>\n",
       "      <th>0</th>\n",
       "      <td>50</td>\n",
       "      <td>15360</td>\n",
       "      <td>500</td>\n",
       "      <td>20.0</td>\n",
       "      <td>10.0</td>\n",
       "      <td>0.03</td>\n",
       "      <td>0.03</td>\n",
       "      <td>surf</td>\n",
       "      <td>15</td>\n",
       "    </tr>\n",
       "    <tr>\n",
       "      <th>1</th>\n",
       "      <td>1000</td>\n",
       "      <td>30720</td>\n",
       "      <td>3000</td>\n",
       "      <td>70.0</td>\n",
       "      <td>7.0</td>\n",
       "      <td>0.01</td>\n",
       "      <td>0.01</td>\n",
       "      <td>ultimate</td>\n",
       "      <td>30</td>\n",
       "    </tr>\n",
       "  </tbody>\n",
       "</table>\n",
       "</div>"
      ],
      "text/plain": [
       "   messages_included  mb_per_month_included  minutes_included  \\\n",
       "0                 50                  15360               500   \n",
       "1               1000                  30720              3000   \n",
       "\n",
       "   usd_monthly_pay  usd_per_gb  usd_per_message  usd_per_minute plan_name  \\\n",
       "0             20.0        10.0             0.03            0.03      surf   \n",
       "1             70.0         7.0             0.01            0.01  ultimate   \n",
       "\n",
       "   gb_per_month_included  \n",
       "0                     15  \n",
       "1                     30  "
      ]
     },
     "execution_count": 41,
     "metadata": {},
     "output_type": "execute_result"
    }
   ],
   "source": [
    "# Print out the plan conditions and make sure they are clear for you\n",
    "df_plans.head()\n"
   ]
  },
  {
   "cell_type": "markdown",
   "metadata": {},
   "source": [
    "<div class=\"alert alert-success\" style=\"border-radius: 15px; box-shadow: 4px 4px 4px; border: 1px solid \">\n",
    "<h2> Reviewer's comment ✔️ </h2>\n",
    "    \n",
    "Great! </div>"
   ]
  },
  {
   "cell_type": "markdown",
   "metadata": {},
   "source": [
    "## Aggregate data per user\n",
    "\n",
    "It will make further analysis easier if we aggregate each user's usage rates into its own dataframe. To minimize clutter in the existing data frames, we'll initialize a new dataframe to store this information in."
   ]
  },
  {
   "cell_type": "code",
   "execution_count": 42,
   "metadata": {
    "scrolled": true
   },
   "outputs": [
    {
     "name": "stdout",
     "output_type": "stream",
     "text": [
      "<class 'pandas.core.frame.DataFrame'>\n",
      "RangeIndex: 3313 entries, 0 to 3312\n",
      "Data columns (total 2 columns):\n",
      " #   Column   Non-Null Count  Dtype \n",
      "---  ------   --------------  ----- \n",
      " 0   user_id  3313 non-null   int64 \n",
      " 1   month    3313 non-null   object\n",
      "dtypes: int64(1), object(1)\n",
      "memory usage: 51.9+ KB\n"
     ]
    },
    {
     "data": {
      "text/plain": [
       "user_id    500\n",
       "month       12\n",
       "dtype: int64"
      ]
     },
     "execution_count": 42,
     "metadata": {},
     "output_type": "execute_result"
    }
   ],
   "source": [
    "#for each user_id, we need to have one line for each month they were charged\n",
    "#We can determine if they were billed for a month by comparing df_users' reg dates and churn dates\n",
    "#We add a line for each user id and billed month combination\n",
    "\n",
    "df_users_x = df_users.copy()\n",
    "df_users_x['churn_date'] = df_users_x['churn_date'].fillna(pd.Timestamp('20181231')) #\"no churn\" is effectively december churn\n",
    "\n",
    "df_user_charges = []\n",
    "for index, value in df_users_x['user_id'].items():\n",
    "    #get the range of months the user was billed: starts on reg date, ends on churn date +1 because range() excludes final value\n",
    "    for m in range(df_users_x.loc[index, 'reg_date'].month, df_users_x.loc[index, 'churn_date'].month + 1):\n",
    "        df_user_charges.append((value, m))\n",
    "\n",
    "df_user_charges = pd.DataFrame(data=df_user_charges, columns=['user_id', 'month'])\n",
    "\n",
    "df_user_charges['month'] = pd.to_datetime(df_user_charges['month'], format='%m').dt.month_name()\n",
    "\n",
    "df_user_charges.info() #3313 rows\n",
    "df_user_charges.nunique() #all 500 user ids present\n"
   ]
  },
  {
   "cell_type": "markdown",
   "metadata": {},
   "source": [
    "<div class=\"alert alert-warning\" style=\"border-radius: 15px; box-shadow: 4px 4px 4px; border: 1px solid \">\n",
    "<b> Reviewer's comment ⚠️ </b>\n",
    "    \n",
    "Do we need that?    \n",
    "</div>"
   ]
  },
  {
   "cell_type": "code",
   "execution_count": 43,
   "metadata": {},
   "outputs": [
    {
     "name": "stdout",
     "output_type": "stream",
     "text": [
      "<class 'pandas.core.frame.DataFrame'>\n",
      "RangeIndex: 2256 entries, 0 to 2255\n",
      "Data columns (total 3 columns):\n",
      " #   Column      Non-Null Count  Dtype \n",
      "---  ------      --------------  ----- \n",
      " 0   user_id     2256 non-null   int64 \n",
      " 1   month       2256 non-null   object\n",
      " 2   call_count  2256 non-null   int64 \n",
      "dtypes: int64(2), object(1)\n",
      "memory usage: 53.0+ KB\n"
     ]
    },
    {
     "data": {
      "text/plain": [
       "user_id       481\n",
       "month          12\n",
       "call_count    138\n",
       "dtype: int64"
      ]
     },
     "execution_count": 43,
     "metadata": {},
     "output_type": "execute_result"
    }
   ],
   "source": [
    "# Calculate the number of calls made by each user per month. Save the result.\n",
    "\n",
    "#multi-indexed group-by of user ids and call dates by month\n",
    "monthly_calls = df_calls.groupby([pd.Grouper(key='user_id'), pd.Grouper(key='call_date', freq='M')]).count()\n",
    "\n",
    "#cleanup\n",
    "monthly_calls = monthly_calls.drop(columns=['duration', 'minutes_charged']).reset_index()\n",
    "monthly_calls['call_date'] = monthly_calls['call_date'].dt.month_name()\n",
    "monthly_calls = monthly_calls.rename(columns={\n",
    "    'call_date': 'month',\n",
    "    'id': 'call_count'\n",
    "})\n",
    "monthly_calls.info()\n",
    "monthly_calls.nunique()"
   ]
  },
  {
   "cell_type": "code",
   "execution_count": 44,
   "metadata": {},
   "outputs": [
    {
     "data": {
      "text/html": [
       "<div>\n",
       "<style scoped>\n",
       "    .dataframe tbody tr th:only-of-type {\n",
       "        vertical-align: middle;\n",
       "    }\n",
       "\n",
       "    .dataframe tbody tr th {\n",
       "        vertical-align: top;\n",
       "    }\n",
       "\n",
       "    .dataframe thead th {\n",
       "        text-align: right;\n",
       "    }\n",
       "</style>\n",
       "<table border=\"1\" class=\"dataframe\">\n",
       "  <thead>\n",
       "    <tr style=\"text-align: right;\">\n",
       "      <th></th>\n",
       "      <th>user_id</th>\n",
       "      <th>month</th>\n",
       "      <th>minutes_charged</th>\n",
       "    </tr>\n",
       "  </thead>\n",
       "  <tbody>\n",
       "    <tr>\n",
       "      <th>0</th>\n",
       "      <td>1000</td>\n",
       "      <td>December</td>\n",
       "      <td>124.0</td>\n",
       "    </tr>\n",
       "    <tr>\n",
       "      <th>1</th>\n",
       "      <td>1001</td>\n",
       "      <td>August</td>\n",
       "      <td>182.0</td>\n",
       "    </tr>\n",
       "    <tr>\n",
       "      <th>2</th>\n",
       "      <td>1001</td>\n",
       "      <td>September</td>\n",
       "      <td>315.0</td>\n",
       "    </tr>\n",
       "    <tr>\n",
       "      <th>3</th>\n",
       "      <td>1001</td>\n",
       "      <td>October</td>\n",
       "      <td>393.0</td>\n",
       "    </tr>\n",
       "    <tr>\n",
       "      <th>4</th>\n",
       "      <td>1001</td>\n",
       "      <td>November</td>\n",
       "      <td>426.0</td>\n",
       "    </tr>\n",
       "  </tbody>\n",
       "</table>\n",
       "</div>"
      ],
      "text/plain": [
       "   user_id      month  minutes_charged\n",
       "0     1000   December            124.0\n",
       "1     1001     August            182.0\n",
       "2     1001  September            315.0\n",
       "3     1001    October            393.0\n",
       "4     1001   November            426.0"
      ]
     },
     "execution_count": 44,
     "metadata": {},
     "output_type": "execute_result"
    }
   ],
   "source": [
    "# Calculate the amount of minutes spent by each user per month. Save the result.\n",
    "\n",
    "#multi-indexed group-by, again. this time we want the sum of minutes_charged\n",
    "monthly_minutes = df_calls.groupby([pd.Grouper(key='user_id'), pd.Grouper(key='call_date', freq='M')]).sum()\n",
    "\n",
    "#cleanup\n",
    "monthly_minutes = monthly_minutes.drop(columns='duration').reset_index()\n",
    "monthly_minutes['call_date'] = monthly_minutes['call_date'].dt.month_name()\n",
    "monthly_minutes = monthly_minutes.rename(columns={\n",
    "    'call_date': 'month'\n",
    "})\n",
    "\n",
    "monthly_minutes.head()"
   ]
  },
  {
   "cell_type": "markdown",
   "metadata": {},
   "source": [
    "<div class=\"alert alert-success\" style=\"border-radius: 15px; box-shadow: 4px 4px 4px; border: 1px solid \">\n",
    "<h2> Reviewer's comment ✔️ </h2>\n",
    "    \n",
    "Correct. \n",
    "\n",
    "</div>"
   ]
  },
  {
   "cell_type": "code",
   "execution_count": 45,
   "metadata": {},
   "outputs": [
    {
     "data": {
      "text/html": [
       "<div>\n",
       "<style scoped>\n",
       "    .dataframe tbody tr th:only-of-type {\n",
       "        vertical-align: middle;\n",
       "    }\n",
       "\n",
       "    .dataframe tbody tr th {\n",
       "        vertical-align: top;\n",
       "    }\n",
       "\n",
       "    .dataframe thead th {\n",
       "        text-align: right;\n",
       "    }\n",
       "</style>\n",
       "<table border=\"1\" class=\"dataframe\">\n",
       "  <thead>\n",
       "    <tr style=\"text-align: right;\">\n",
       "      <th></th>\n",
       "      <th>user_id</th>\n",
       "      <th>month</th>\n",
       "      <th>message_count</th>\n",
       "    </tr>\n",
       "  </thead>\n",
       "  <tbody>\n",
       "    <tr>\n",
       "      <th>0</th>\n",
       "      <td>1000</td>\n",
       "      <td>December</td>\n",
       "      <td>11</td>\n",
       "    </tr>\n",
       "    <tr>\n",
       "      <th>1</th>\n",
       "      <td>1001</td>\n",
       "      <td>August</td>\n",
       "      <td>30</td>\n",
       "    </tr>\n",
       "    <tr>\n",
       "      <th>2</th>\n",
       "      <td>1001</td>\n",
       "      <td>September</td>\n",
       "      <td>44</td>\n",
       "    </tr>\n",
       "    <tr>\n",
       "      <th>3</th>\n",
       "      <td>1001</td>\n",
       "      <td>October</td>\n",
       "      <td>53</td>\n",
       "    </tr>\n",
       "    <tr>\n",
       "      <th>4</th>\n",
       "      <td>1001</td>\n",
       "      <td>November</td>\n",
       "      <td>36</td>\n",
       "    </tr>\n",
       "  </tbody>\n",
       "</table>\n",
       "</div>"
      ],
      "text/plain": [
       "   user_id      month  message_count\n",
       "0     1000   December             11\n",
       "1     1001     August             30\n",
       "2     1001  September             44\n",
       "3     1001    October             53\n",
       "4     1001   November             36"
      ]
     },
     "execution_count": 45,
     "metadata": {},
     "output_type": "execute_result"
    }
   ],
   "source": [
    "# Calculate the number of messages sent by each user per month. Save the result.\n",
    "\n",
    "#same as above, but count of message_ids\n",
    "monthly_messages = df_messages.groupby([pd.Grouper(key='user_id'), pd.Grouper(key='message_date', freq='M')]).count()\n",
    "\n",
    "#cleanup\n",
    "monthly_messages = monthly_messages.reset_index()\n",
    "monthly_messages['message_date'] = monthly_messages['message_date'].dt.month_name()\n",
    "monthly_messages = monthly_messages.rename(columns={'message_date': 'month', 'id': 'message_count'})\n",
    "\n",
    "monthly_messages.head()\n"
   ]
  },
  {
   "cell_type": "code",
   "execution_count": 46,
   "metadata": {},
   "outputs": [
    {
     "data": {
      "text/html": [
       "<div>\n",
       "<style scoped>\n",
       "    .dataframe tbody tr th:only-of-type {\n",
       "        vertical-align: middle;\n",
       "    }\n",
       "\n",
       "    .dataframe tbody tr th {\n",
       "        vertical-align: top;\n",
       "    }\n",
       "\n",
       "    .dataframe thead th {\n",
       "        text-align: right;\n",
       "    }\n",
       "</style>\n",
       "<table border=\"1\" class=\"dataframe\">\n",
       "  <thead>\n",
       "    <tr style=\"text-align: right;\">\n",
       "      <th></th>\n",
       "      <th>user_id</th>\n",
       "      <th>month</th>\n",
       "      <th>mb_used</th>\n",
       "      <th>gb_charged</th>\n",
       "    </tr>\n",
       "  </thead>\n",
       "  <tbody>\n",
       "    <tr>\n",
       "      <th>0</th>\n",
       "      <td>1000</td>\n",
       "      <td>December</td>\n",
       "      <td>1901.47</td>\n",
       "      <td>2.0</td>\n",
       "    </tr>\n",
       "    <tr>\n",
       "      <th>1</th>\n",
       "      <td>1001</td>\n",
       "      <td>August</td>\n",
       "      <td>6919.15</td>\n",
       "      <td>7.0</td>\n",
       "    </tr>\n",
       "    <tr>\n",
       "      <th>2</th>\n",
       "      <td>1001</td>\n",
       "      <td>September</td>\n",
       "      <td>13314.82</td>\n",
       "      <td>14.0</td>\n",
       "    </tr>\n",
       "    <tr>\n",
       "      <th>3</th>\n",
       "      <td>1001</td>\n",
       "      <td>October</td>\n",
       "      <td>22330.49</td>\n",
       "      <td>22.0</td>\n",
       "    </tr>\n",
       "    <tr>\n",
       "      <th>4</th>\n",
       "      <td>1001</td>\n",
       "      <td>November</td>\n",
       "      <td>18504.30</td>\n",
       "      <td>19.0</td>\n",
       "    </tr>\n",
       "  </tbody>\n",
       "</table>\n",
       "</div>"
      ],
      "text/plain": [
       "   user_id      month   mb_used  gb_charged\n",
       "0     1000   December   1901.47         2.0\n",
       "1     1001     August   6919.15         7.0\n",
       "2     1001  September  13314.82        14.0\n",
       "3     1001    October  22330.49        22.0\n",
       "4     1001   November  18504.30        19.0"
      ]
     },
     "execution_count": 46,
     "metadata": {},
     "output_type": "execute_result"
    }
   ],
   "source": [
    "# Calculate the volume of internet traffic used by each user per month. Save the result.\n",
    "\n",
    "#same as above, but we need sum of mb_used; we can also figure out gb charged in this step\n",
    "monthly_data = df_internet.groupby([pd.Grouper(key='user_id'), pd.Grouper(key='session_date', freq='M')]).sum().reset_index()\n",
    "monthly_data['gb_charged'] = (monthly_data['mb_used'] / 1024).apply(np.ceil)\n",
    "\n",
    "#cleanup\n",
    "monthly_data['session_date'] = monthly_data['session_date'].dt.month_name()\n",
    "monthly_data = monthly_data.rename(columns={'session_date':'month'})\n",
    "\n",
    "monthly_data.head()"
   ]
  },
  {
   "cell_type": "markdown",
   "metadata": {},
   "source": [
    "To put all the usage data in a single dataframe:"
   ]
  },
  {
   "cell_type": "code",
   "execution_count": 47,
   "metadata": {},
   "outputs": [
    {
     "name": "stdout",
     "output_type": "stream",
     "text": [
      "<class 'pandas.core.frame.DataFrame'>\n",
      "Int64Index: 3313 entries, 0 to 3312\n",
      "Data columns (total 7 columns):\n",
      " #   Column           Non-Null Count  Dtype  \n",
      "---  ------           --------------  -----  \n",
      " 0   user_id          3313 non-null   int64  \n",
      " 1   month            3313 non-null   object \n",
      " 2   call_count       2219 non-null   float64\n",
      " 3   minutes_charged  2219 non-null   float64\n",
      " 4   message_count    1777 non-null   float64\n",
      " 5   mb_used          2240 non-null   float64\n",
      " 6   gb_charged       2240 non-null   float64\n",
      "dtypes: float64(5), int64(1), object(1)\n",
      "memory usage: 207.1+ KB\n"
     ]
    }
   ],
   "source": [
    "# Merge the data for calls, minutes, messages, internet based on user_id and month\n",
    "\n",
    "df_charges = df_user_charges.merge(monthly_calls, on=['user_id','month'], how='left') \\\n",
    ".merge(monthly_minutes, on=['user_id','month'], how='left') \\\n",
    ".merge(monthly_messages, on=['user_id','month'], how='left') \\\n",
    ".merge(monthly_data, on=['user_id','month'], how='left')\n",
    "\n",
    "df_charges.info()"
   ]
  },
  {
   "attachments": {
    "join.png": {
     "image/png": "[encoded data removed]"
    }
   },
   "cell_type": "markdown",
   "metadata": {},
   "source": [
    "<div class=\"alert alert-success\" style=\"border-radius: 15px; box-shadow: 4px 4px 4px; border: 1px solid \">\n",
    "<h2> Reviewer's comment 3 ✔️</h2>\n",
    "    \n",
    "I see now that you merge all spendings to the users dataframe, which means we do not lose anything. I apologize, my commment below was not relevant. \n",
    "    \n",
    "    \n",
    "    \n",
    "</div>\n",
    "<div class=\"alert alert-danger\" style=\"border-radius: 15px; box-shadow: 4px 4px 4px; border: 1px solid \">\n",
    "<b> Reviewer's comment 2 ❌</b>\n",
    "    \n",
    "\n",
    "- If we merge data with `how = \"left\"`, we may lose those clients who made some calls did not use internet and/or send messages.  \n",
    "    \n",
    "- There will be some Nan-s that indicate whether a user used something. Obviously, these are zeros, so we will need to replace them with zeros in order to consider them in statistical analysis. \n",
    "\n",
    "    \n",
    "Please take a look at the picture below, it should help. \n",
    "\n",
    "![join.png](attachment:join.png)\n",
    "\n",
    "</div>"
   ]
  },
  {
   "cell_type": "markdown",
   "metadata": {},
   "source": [
    "<div class=\"alert alert-danger\" style=\"border-radius: 15px; box-shadow: 4px 4px 4px; border: 1px solid \">\n",
    "<b> Reviewer's comment ❌</b>\n",
    "    \n",
    "\n",
    "- If we merge data with `how = \"left\"`, we may lose those clients who made some calls did not use internet and/or send messages.  \n",
    "    \n",
    "- There will be some Nan-s that indicate whether a user used something. Obviously, these are zeros, so we will need to replace them with zeros in order to consider them in statistical analysis. \n",
    "\n",
    "    \n",
    "- I recommend that you also look at the results:</div>"
   ]
  },
  {
   "cell_type": "code",
   "execution_count": 48,
   "metadata": {},
   "outputs": [
    {
     "data": {
      "text/html": [
       "<div>\n",
       "<style scoped>\n",
       "    .dataframe tbody tr th:only-of-type {\n",
       "        vertical-align: middle;\n",
       "    }\n",
       "\n",
       "    .dataframe tbody tr th {\n",
       "        vertical-align: top;\n",
       "    }\n",
       "\n",
       "    .dataframe thead th {\n",
       "        text-align: right;\n",
       "    }\n",
       "</style>\n",
       "<table border=\"1\" class=\"dataframe\">\n",
       "  <thead>\n",
       "    <tr style=\"text-align: right;\">\n",
       "      <th></th>\n",
       "      <th>user_id</th>\n",
       "      <th>month</th>\n",
       "      <th>call_count</th>\n",
       "      <th>minutes_charged</th>\n",
       "      <th>message_count</th>\n",
       "      <th>mb_used</th>\n",
       "      <th>gb_charged</th>\n",
       "    </tr>\n",
       "  </thead>\n",
       "  <tbody>\n",
       "    <tr>\n",
       "      <th>0</th>\n",
       "      <td>1000</td>\n",
       "      <td>December</td>\n",
       "      <td>16.0</td>\n",
       "      <td>124.0</td>\n",
       "      <td>11.0</td>\n",
       "      <td>1901.47</td>\n",
       "      <td>2.0</td>\n",
       "    </tr>\n",
       "    <tr>\n",
       "      <th>1</th>\n",
       "      <td>1001</td>\n",
       "      <td>August</td>\n",
       "      <td>22.0</td>\n",
       "      <td>182.0</td>\n",
       "      <td>30.0</td>\n",
       "      <td>6919.15</td>\n",
       "      <td>7.0</td>\n",
       "    </tr>\n",
       "    <tr>\n",
       "      <th>2</th>\n",
       "      <td>1001</td>\n",
       "      <td>September</td>\n",
       "      <td>38.0</td>\n",
       "      <td>315.0</td>\n",
       "      <td>44.0</td>\n",
       "      <td>13314.82</td>\n",
       "      <td>14.0</td>\n",
       "    </tr>\n",
       "    <tr>\n",
       "      <th>3</th>\n",
       "      <td>1001</td>\n",
       "      <td>October</td>\n",
       "      <td>47.0</td>\n",
       "      <td>393.0</td>\n",
       "      <td>53.0</td>\n",
       "      <td>22330.49</td>\n",
       "      <td>22.0</td>\n",
       "    </tr>\n",
       "    <tr>\n",
       "      <th>4</th>\n",
       "      <td>1001</td>\n",
       "      <td>November</td>\n",
       "      <td>49.0</td>\n",
       "      <td>426.0</td>\n",
       "      <td>36.0</td>\n",
       "      <td>18504.30</td>\n",
       "      <td>19.0</td>\n",
       "    </tr>\n",
       "    <tr>\n",
       "      <th>...</th>\n",
       "      <td>...</td>\n",
       "      <td>...</td>\n",
       "      <td>...</td>\n",
       "      <td>...</td>\n",
       "      <td>...</td>\n",
       "      <td>...</td>\n",
       "      <td>...</td>\n",
       "    </tr>\n",
       "    <tr>\n",
       "      <th>3308</th>\n",
       "      <td>1499</td>\n",
       "      <td>August</td>\n",
       "      <td>NaN</td>\n",
       "      <td>NaN</td>\n",
       "      <td>NaN</td>\n",
       "      <td>NaN</td>\n",
       "      <td>NaN</td>\n",
       "    </tr>\n",
       "    <tr>\n",
       "      <th>3309</th>\n",
       "      <td>1499</td>\n",
       "      <td>September</td>\n",
       "      <td>35.0</td>\n",
       "      <td>346.0</td>\n",
       "      <td>NaN</td>\n",
       "      <td>12984.76</td>\n",
       "      <td>13.0</td>\n",
       "    </tr>\n",
       "    <tr>\n",
       "      <th>3310</th>\n",
       "      <td>1499</td>\n",
       "      <td>October</td>\n",
       "      <td>41.0</td>\n",
       "      <td>385.0</td>\n",
       "      <td>NaN</td>\n",
       "      <td>19492.43</td>\n",
       "      <td>20.0</td>\n",
       "    </tr>\n",
       "    <tr>\n",
       "      <th>3311</th>\n",
       "      <td>1499</td>\n",
       "      <td>November</td>\n",
       "      <td>39.0</td>\n",
       "      <td>308.0</td>\n",
       "      <td>NaN</td>\n",
       "      <td>16813.83</td>\n",
       "      <td>17.0</td>\n",
       "    </tr>\n",
       "    <tr>\n",
       "      <th>3312</th>\n",
       "      <td>1499</td>\n",
       "      <td>December</td>\n",
       "      <td>56.0</td>\n",
       "      <td>496.0</td>\n",
       "      <td>NaN</td>\n",
       "      <td>22059.21</td>\n",
       "      <td>22.0</td>\n",
       "    </tr>\n",
       "  </tbody>\n",
       "</table>\n",
       "<p>3313 rows × 7 columns</p>\n",
       "</div>"
      ],
      "text/plain": [
       "      user_id      month  call_count  minutes_charged  message_count  \\\n",
       "0        1000   December        16.0            124.0           11.0   \n",
       "1        1001     August        22.0            182.0           30.0   \n",
       "2        1001  September        38.0            315.0           44.0   \n",
       "3        1001    October        47.0            393.0           53.0   \n",
       "4        1001   November        49.0            426.0           36.0   \n",
       "...       ...        ...         ...              ...            ...   \n",
       "3308     1499     August         NaN              NaN            NaN   \n",
       "3309     1499  September        35.0            346.0            NaN   \n",
       "3310     1499    October        41.0            385.0            NaN   \n",
       "3311     1499   November        39.0            308.0            NaN   \n",
       "3312     1499   December        56.0            496.0            NaN   \n",
       "\n",
       "       mb_used  gb_charged  \n",
       "0      1901.47         2.0  \n",
       "1      6919.15         7.0  \n",
       "2     13314.82        14.0  \n",
       "3     22330.49        22.0  \n",
       "4     18504.30        19.0  \n",
       "...        ...         ...  \n",
       "3308       NaN         NaN  \n",
       "3309  12984.76        13.0  \n",
       "3310  19492.43        20.0  \n",
       "3311  16813.83        17.0  \n",
       "3312  22059.21        22.0  \n",
       "\n",
       "[3313 rows x 7 columns]"
      ]
     },
     "execution_count": 48,
     "metadata": {},
     "output_type": "execute_result"
    }
   ],
   "source": [
    "# Reviewer's code \n",
    "\n",
    "df_charges"
   ]
  },
  {
   "cell_type": "markdown",
   "metadata": {},
   "source": [
    "<div class=\"alert alert-danger\" style=\"border-radius: 15px; box-shadow: 4px 4px 4px; border: 1px solid \">\n",
    "<b> Reviewer's comment ❌</b>\n",
    "    \n",
    "\n",
    "There are rows with Nan-s in all three columns (minutes, messages, and internet). This is because of the code cell #41 where you create the `df_user_charges` dataframe and add extra rows we do not actually need. In the output below, you can see that user 1499 did not do anything from May to August. Perhaps because they joined in Semptember. Do we need to add extra rows then? Imagine we have 5 millions users, not 500. How many rows will we add in this case? \n",
    "\n",
    "</div>"
   ]
  },
  {
   "cell_type": "code",
   "execution_count": 49,
   "metadata": {},
   "outputs": [
    {
     "data": {
      "text/html": [
       "<div>\n",
       "<style scoped>\n",
       "    .dataframe tbody tr th:only-of-type {\n",
       "        vertical-align: middle;\n",
       "    }\n",
       "\n",
       "    .dataframe tbody tr th {\n",
       "        vertical-align: top;\n",
       "    }\n",
       "\n",
       "    .dataframe thead th {\n",
       "        text-align: right;\n",
       "    }\n",
       "</style>\n",
       "<table border=\"1\" class=\"dataframe\">\n",
       "  <thead>\n",
       "    <tr style=\"text-align: right;\">\n",
       "      <th></th>\n",
       "      <th>user_id</th>\n",
       "      <th>month</th>\n",
       "      <th>call_count</th>\n",
       "      <th>minutes_charged</th>\n",
       "      <th>message_count</th>\n",
       "      <th>mb_used</th>\n",
       "      <th>gb_charged</th>\n",
       "    </tr>\n",
       "  </thead>\n",
       "  <tbody>\n",
       "    <tr>\n",
       "      <th>3305</th>\n",
       "      <td>1499</td>\n",
       "      <td>May</td>\n",
       "      <td>NaN</td>\n",
       "      <td>NaN</td>\n",
       "      <td>NaN</td>\n",
       "      <td>NaN</td>\n",
       "      <td>NaN</td>\n",
       "    </tr>\n",
       "    <tr>\n",
       "      <th>3306</th>\n",
       "      <td>1499</td>\n",
       "      <td>June</td>\n",
       "      <td>NaN</td>\n",
       "      <td>NaN</td>\n",
       "      <td>NaN</td>\n",
       "      <td>NaN</td>\n",
       "      <td>NaN</td>\n",
       "    </tr>\n",
       "    <tr>\n",
       "      <th>3307</th>\n",
       "      <td>1499</td>\n",
       "      <td>July</td>\n",
       "      <td>NaN</td>\n",
       "      <td>NaN</td>\n",
       "      <td>NaN</td>\n",
       "      <td>NaN</td>\n",
       "      <td>NaN</td>\n",
       "    </tr>\n",
       "    <tr>\n",
       "      <th>3308</th>\n",
       "      <td>1499</td>\n",
       "      <td>August</td>\n",
       "      <td>NaN</td>\n",
       "      <td>NaN</td>\n",
       "      <td>NaN</td>\n",
       "      <td>NaN</td>\n",
       "      <td>NaN</td>\n",
       "    </tr>\n",
       "    <tr>\n",
       "      <th>3309</th>\n",
       "      <td>1499</td>\n",
       "      <td>September</td>\n",
       "      <td>35.0</td>\n",
       "      <td>346.0</td>\n",
       "      <td>NaN</td>\n",
       "      <td>12984.76</td>\n",
       "      <td>13.0</td>\n",
       "    </tr>\n",
       "    <tr>\n",
       "      <th>3310</th>\n",
       "      <td>1499</td>\n",
       "      <td>October</td>\n",
       "      <td>41.0</td>\n",
       "      <td>385.0</td>\n",
       "      <td>NaN</td>\n",
       "      <td>19492.43</td>\n",
       "      <td>20.0</td>\n",
       "    </tr>\n",
       "    <tr>\n",
       "      <th>3311</th>\n",
       "      <td>1499</td>\n",
       "      <td>November</td>\n",
       "      <td>39.0</td>\n",
       "      <td>308.0</td>\n",
       "      <td>NaN</td>\n",
       "      <td>16813.83</td>\n",
       "      <td>17.0</td>\n",
       "    </tr>\n",
       "    <tr>\n",
       "      <th>3312</th>\n",
       "      <td>1499</td>\n",
       "      <td>December</td>\n",
       "      <td>56.0</td>\n",
       "      <td>496.0</td>\n",
       "      <td>NaN</td>\n",
       "      <td>22059.21</td>\n",
       "      <td>22.0</td>\n",
       "    </tr>\n",
       "  </tbody>\n",
       "</table>\n",
       "</div>"
      ],
      "text/plain": [
       "      user_id      month  call_count  minutes_charged  message_count  \\\n",
       "3305     1499        May         NaN              NaN            NaN   \n",
       "3306     1499       June         NaN              NaN            NaN   \n",
       "3307     1499       July         NaN              NaN            NaN   \n",
       "3308     1499     August         NaN              NaN            NaN   \n",
       "3309     1499  September        35.0            346.0            NaN   \n",
       "3310     1499    October        41.0            385.0            NaN   \n",
       "3311     1499   November        39.0            308.0            NaN   \n",
       "3312     1499   December        56.0            496.0            NaN   \n",
       "\n",
       "       mb_used  gb_charged  \n",
       "3305       NaN         NaN  \n",
       "3306       NaN         NaN  \n",
       "3307       NaN         NaN  \n",
       "3308       NaN         NaN  \n",
       "3309  12984.76        13.0  \n",
       "3310  19492.43        20.0  \n",
       "3311  16813.83        17.0  \n",
       "3312  22059.21        22.0  "
      ]
     },
     "execution_count": 49,
     "metadata": {},
     "output_type": "execute_result"
    }
   ],
   "source": [
    "# Reviewer's code \n",
    "\n",
    "df_charges.query('user_id==1499')"
   ]
  },
  {
   "cell_type": "markdown",
   "metadata": {},
   "source": [
    "<div class=\"alert alert-info\" style=\"border-left: 7px solid blue\">\n",
    "So my strategy going into this section of the project was as follows:\n",
    "</div>\n",
    "    \n",
    "- Determine which months users were billed for by looking at their reg dates and churn dates (see reviewer comment 1.25--this is what I was doing there)\n",
    "- Create a dataframe, `df_user_charges`, which contains one line for each bill sent out during 2018, including month and userid\n",
    "- Determine users' monthly charges and create a dataframe describing that usage (`monthly_data`, etc.)\n",
    "- Merge all those dataframes into a new one, `df_charges`\n",
    "\n",
    "<div class=\"alert alert-info\" style=\"border-left: 7px solid blue\">\n",
    "Which means that if a user has records appear for months they did not pay for, that is indicative of a mistake. But I'm determining those months by looking at registration and churn dates--so I could have erred in the way I parsed those dates. I couldn't find any examples of that, though.\n",
    "</div>\n",
    "\n",
    "<div class=\"alert alert-info\" style=\"border-left: 7px solid blue\">\n",
    "In order to make my final merge work, I had to ensure that I wasn't accidentally cutting any months out of df_user_charges, which is why I settled for a left merge--if some user was a customer in May, but no records of calls, messages, or internet usage during May, that means that the data should show a row of missing values for that month. An outer merge would also work here, and it would catch anyone who was billed during dates they weren't registered (though if such data exists, there are bigger problems outside the scope of what we're doing.</div> \n",
    "\n",
    "<div class=\"alert alert-info\" style=\"border-left: 7px solid blue\">\n",
    "An alternative way to aggregate the customer billing data would just be to outer merge the dataframes other than df_user_charges. The problem is that this would cut records from users who paid for a plan but did not use it.\n",
    "</div>\n",
    "\n",
    "<div class=\"alert alert-info\" style=\"border-left: 7px solid blue\">\n",
    "As for the specific example:\n",
    "</div>\n"
   ]
  },
  {
   "cell_type": "markdown",
   "metadata": {},
   "source": [
    "<div class=\"alert alert-success\" style=\"border-radius: 15px; box-shadow: 4px 4px 4px; border: 1px solid \">\n",
    "<h2> Reviewer's comment 2  ✔️ </h2>\n",
    "    \n",
    "> Which means that if a user has records appear for months they did not pay for, that is indicative of a mistake. But I'm determining those months by looking at registration and churn dates--so I could have erred in the way I parsed those dates. I couldn't find any examples of that, though. \n",
    "    \n",
    "    \n",
    "Registration does not mean using. One can register in September and start using a plan in October.\n",
    "\n",
    "\n",
    "\n",
    "> An outer merge would also work here, and it would catch anyone who was billed during dates they weren't registered (though if such data exists, there are bigger problems outside the scope of what we're doing.\n",
    "\n",
    "\n",
    "If we do not use `outer`, we will lose those months when people did not call but used messages or internet, which is quite common. One of our goal is to calculate revenue, so it may turn out to be a good idea to save these rows.</div>"
   ]
  },
  {
   "cell_type": "markdown",
   "metadata": {},
   "source": [
    "> Registration does not mean using. One can register in September and start using a plan in October.\n",
    "\n",
    "<div class='alert alert-info'><b>In that case, can this be mentioned in the project instructions?</b> There are plenty of services out there where it's realistic that many people pay for a subscription they aren't using (gym memberships are infamous for this), so it didn't occur to me that it was possible to have an account but not be buying a plan.</div>"
   ]
  },
  {
   "cell_type": "markdown",
   "metadata": {},
   "source": [
    "<div class=\"alert alert-success\" style=\"border-radius: 15px; box-shadow: 4px 4px 4px; border: 1px solid \">\n",
    "<h2> Reviewer's comment 3 ✔️</h2>\n",
    "    \n",
    "This is a very good point actually, I agree with you. I'll make a report about these tasks. The descriptions are indeed not very clear in my opinion.    \n",
    "    \n",
    "    \n",
    "</div>"
   ]
  },
  {
   "cell_type": "markdown",
   "metadata": {},
   "source": [
    "> If we do not use `outer`, we will lose those months when people did not call but used messages or internet, which is quite common. One of our goal is to calculate revenue, so it may turn out to be a good idea to save these rows.\n",
    "<div class='alert alert-info'>Isn't this only true if our leftmost table is the one containing only calls? In my original solution I am merging on a dataframe that contains every month someone was registered for, so this theoretically wouldn't be an issue. Though it does look like the 'outer' version below has 30 or so more values in those columns, so clearly I'm missing something here. Maybe there were rows where people were charged outside their registration dates after all?</div>"
   ]
  },
  {
   "cell_type": "markdown",
   "metadata": {},
   "source": [
    "<div class=\"alert alert-success\" style=\"border-radius: 15px; box-shadow: 4px 4px 4px; border: 1px solid \">\n",
    "<h2> Reviewer's comment 3 ✔️</h2>\n",
    "    \n",
    "Yes, you are 100% correct. I've just noticed that and left a comment above. Sorry for not noticing this last time. In addition, in the first review session, I thought you would remove the part where you consider the registration dates. Then, in the second review, I read your replies and realized you did that on purpose in order to consider monthly fees, which definetely makes sense. However, at that point, I missed that you merged spendings to users, not vice versa. \n",
    "    \n",
    "    \n",
    "</div>"
   ]
  },
  {
   "cell_type": "code",
   "execution_count": 50,
   "metadata": {
    "scrolled": false
   },
   "outputs": [
    {
     "data": {
      "text/html": [
       "<div>\n",
       "<style scoped>\n",
       "    .dataframe tbody tr th:only-of-type {\n",
       "        vertical-align: middle;\n",
       "    }\n",
       "\n",
       "    .dataframe tbody tr th {\n",
       "        vertical-align: top;\n",
       "    }\n",
       "\n",
       "    .dataframe thead th {\n",
       "        text-align: right;\n",
       "    }\n",
       "</style>\n",
       "<table border=\"1\" class=\"dataframe\">\n",
       "  <thead>\n",
       "    <tr style=\"text-align: right;\">\n",
       "      <th></th>\n",
       "      <th>user_id</th>\n",
       "      <th>first_name</th>\n",
       "      <th>last_name</th>\n",
       "      <th>age</th>\n",
       "      <th>city</th>\n",
       "      <th>reg_date</th>\n",
       "      <th>plan</th>\n",
       "      <th>churn_date</th>\n",
       "      <th>days_to_churn</th>\n",
       "    </tr>\n",
       "  </thead>\n",
       "  <tbody>\n",
       "    <tr>\n",
       "      <th>499</th>\n",
       "      <td>1499</td>\n",
       "      <td>Shena</td>\n",
       "      <td>Dickson</td>\n",
       "      <td>37</td>\n",
       "      <td>Orlando-Kissimmee-Sanford, FL MSA</td>\n",
       "      <td>2018-05-06</td>\n",
       "      <td>surf</td>\n",
       "      <td>NaT</td>\n",
       "      <td>NaT</td>\n",
       "    </tr>\n",
       "  </tbody>\n",
       "</table>\n",
       "</div>"
      ],
      "text/plain": [
       "     user_id first_name last_name  age                               city  \\\n",
       "499     1499      Shena   Dickson   37  Orlando-Kissimmee-Sanford, FL MSA   \n",
       "\n",
       "      reg_date  plan churn_date days_to_churn  \n",
       "499 2018-05-06  surf        NaT           NaT  "
      ]
     },
     "execution_count": 50,
     "metadata": {},
     "output_type": "execute_result"
    }
   ],
   "source": [
    "#Get user information for id 1499\n",
    "df_users.query('user_id==1499')"
   ]
  },
  {
   "cell_type": "markdown",
   "metadata": {},
   "source": [
    "<div class=\"alert alert-info\" style=\"border-left: 7px solid blue\">\n",
    "User 1499 registered for a Surf plan in May, with no churn date specified. Therefore, 1499 paid the bills in May, June, July, and August, despite their only usage records beginning in September. As the other dataframes did not record any calls, messages, or Internet usage during that time, I can only conclude that 1499 purchased a plan but did not use it during those months, and/or that much more data is missing from the other CSVs than I believed. Or am I to assume the registration dates are erroneous? Did I miss an instruction somewhere?\n",
    "</div>\n",
    "<div class=\"alert alert-info\" style=\"border-left: 7px solid blue\">As you can see in my original comments below, I chose to acknowledge that users in this situation (in this case 1003) paid the minimum bill, but I felt I could not have rightly filled in that data with zeroes in other cases, as there are a lot of them and it would have heavily skewed some of the charts that come later. \n",
    "</div>"
   ]
  },
  {
   "cell_type": "markdown",
   "metadata": {},
   "source": [
    "<div class=\"alert alert-warning\" style=\"border-radius: 15px; box-shadow: 4px 4px 4px; border: 1px solid \">\n",
    "<b> Reviewer's comment 2 ⚠️ </b>\n",
    "    \n",
    "    \n",
    "> Therefore, 1499 paid the bills in May, June, July, and August, despite their only usage records beginning in September.\n",
    "    \n",
    "    \n",
    "It is more likely that they did not eventually use anything, since we do not have any records in calls, messages, and internet dataframes. \n",
    "    \n",
    "\n",
    "\n",
    "Anyway, you can include their fee, but what we have to fix is the way we merge dataframes. </div>  \n",
    "\n",
    "<div class='alert alert-info'>Very well. Below is a cell of code that will overwrite df_charges with the changes you've asked for.</div>"
   ]
  },
  {
   "cell_type": "markdown",
   "metadata": {},
   "source": [
    "<div class=\"alert alert-success\" style=\"border-radius: 15px; box-shadow: 4px 4px 4px; border: 1px solid \">\n",
    "<h2> Reviewer's comment 3 ✔️</h2>\n",
    "    \n",
    "Your version was great, while my comments were confusing. Again, I apologize for that. Anyway, in the code below we will receive the dataframe with the same distributions. The fees you considered in the previous versions (for months when users did not do anything) will not change the revenue distributions, so both approaches are quite similar.     \n",
    "    \n",
    "</div>"
   ]
  },
  {
   "cell_type": "code",
   "execution_count": 51,
   "metadata": {},
   "outputs": [
    {
     "name": "stdout",
     "output_type": "stream",
     "text": [
      "<class 'pandas.core.frame.DataFrame'>\n",
      "Int64Index: 2293 entries, 0 to 2292\n",
      "Data columns (total 7 columns):\n",
      " #   Column           Non-Null Count  Dtype  \n",
      "---  ------           --------------  -----  \n",
      " 0   user_id          2293 non-null   int64  \n",
      " 1   month            2293 non-null   object \n",
      " 2   call_count       2256 non-null   float64\n",
      " 3   minutes_charged  2256 non-null   float64\n",
      " 4   message_count    1806 non-null   float64\n",
      " 5   mb_used          2277 non-null   float64\n",
      " 6   gb_charged       2277 non-null   float64\n",
      "dtypes: float64(5), int64(1), object(1)\n",
      "memory usage: 143.3+ KB\n"
     ]
    },
    {
     "data": {
      "text/html": [
       "<div>\n",
       "<style scoped>\n",
       "    .dataframe tbody tr th:only-of-type {\n",
       "        vertical-align: middle;\n",
       "    }\n",
       "\n",
       "    .dataframe tbody tr th {\n",
       "        vertical-align: top;\n",
       "    }\n",
       "\n",
       "    .dataframe thead th {\n",
       "        text-align: right;\n",
       "    }\n",
       "</style>\n",
       "<table border=\"1\" class=\"dataframe\">\n",
       "  <thead>\n",
       "    <tr style=\"text-align: right;\">\n",
       "      <th></th>\n",
       "      <th>user_id</th>\n",
       "      <th>month</th>\n",
       "      <th>call_count</th>\n",
       "      <th>minutes_charged</th>\n",
       "      <th>message_count</th>\n",
       "      <th>mb_used</th>\n",
       "      <th>gb_charged</th>\n",
       "    </tr>\n",
       "  </thead>\n",
       "  <tbody>\n",
       "    <tr>\n",
       "      <th>0</th>\n",
       "      <td>1000</td>\n",
       "      <td>December</td>\n",
       "      <td>16.0</td>\n",
       "      <td>124.0</td>\n",
       "      <td>11.0</td>\n",
       "      <td>1901.47</td>\n",
       "      <td>2.0</td>\n",
       "    </tr>\n",
       "    <tr>\n",
       "      <th>1</th>\n",
       "      <td>1001</td>\n",
       "      <td>August</td>\n",
       "      <td>22.0</td>\n",
       "      <td>182.0</td>\n",
       "      <td>30.0</td>\n",
       "      <td>6919.15</td>\n",
       "      <td>7.0</td>\n",
       "    </tr>\n",
       "    <tr>\n",
       "      <th>2</th>\n",
       "      <td>1001</td>\n",
       "      <td>September</td>\n",
       "      <td>38.0</td>\n",
       "      <td>315.0</td>\n",
       "      <td>44.0</td>\n",
       "      <td>13314.82</td>\n",
       "      <td>14.0</td>\n",
       "    </tr>\n",
       "    <tr>\n",
       "      <th>3</th>\n",
       "      <td>1001</td>\n",
       "      <td>October</td>\n",
       "      <td>47.0</td>\n",
       "      <td>393.0</td>\n",
       "      <td>53.0</td>\n",
       "      <td>22330.49</td>\n",
       "      <td>22.0</td>\n",
       "    </tr>\n",
       "    <tr>\n",
       "      <th>4</th>\n",
       "      <td>1001</td>\n",
       "      <td>November</td>\n",
       "      <td>49.0</td>\n",
       "      <td>426.0</td>\n",
       "      <td>36.0</td>\n",
       "      <td>18504.30</td>\n",
       "      <td>19.0</td>\n",
       "    </tr>\n",
       "    <tr>\n",
       "      <th>5</th>\n",
       "      <td>1001</td>\n",
       "      <td>December</td>\n",
       "      <td>46.0</td>\n",
       "      <td>412.0</td>\n",
       "      <td>44.0</td>\n",
       "      <td>19369.18</td>\n",
       "      <td>19.0</td>\n",
       "    </tr>\n",
       "    <tr>\n",
       "      <th>6</th>\n",
       "      <td>1002</td>\n",
       "      <td>October</td>\n",
       "      <td>8.0</td>\n",
       "      <td>59.0</td>\n",
       "      <td>15.0</td>\n",
       "      <td>6552.01</td>\n",
       "      <td>7.0</td>\n",
       "    </tr>\n",
       "    <tr>\n",
       "      <th>7</th>\n",
       "      <td>1002</td>\n",
       "      <td>November</td>\n",
       "      <td>48.0</td>\n",
       "      <td>386.0</td>\n",
       "      <td>32.0</td>\n",
       "      <td>19345.08</td>\n",
       "      <td>19.0</td>\n",
       "    </tr>\n",
       "    <tr>\n",
       "      <th>8</th>\n",
       "      <td>1002</td>\n",
       "      <td>December</td>\n",
       "      <td>38.0</td>\n",
       "      <td>384.0</td>\n",
       "      <td>41.0</td>\n",
       "      <td>14396.24</td>\n",
       "      <td>15.0</td>\n",
       "    </tr>\n",
       "    <tr>\n",
       "      <th>9</th>\n",
       "      <td>1003</td>\n",
       "      <td>December</td>\n",
       "      <td>118.0</td>\n",
       "      <td>1104.0</td>\n",
       "      <td>50.0</td>\n",
       "      <td>27044.14</td>\n",
       "      <td>27.0</td>\n",
       "    </tr>\n",
       "    <tr>\n",
       "      <th>10</th>\n",
       "      <td>1004</td>\n",
       "      <td>May</td>\n",
       "      <td>19.0</td>\n",
       "      <td>193.0</td>\n",
       "      <td>7.0</td>\n",
       "      <td>6547.21</td>\n",
       "      <td>7.0</td>\n",
       "    </tr>\n",
       "    <tr>\n",
       "      <th>11</th>\n",
       "      <td>1004</td>\n",
       "      <td>June</td>\n",
       "      <td>33.0</td>\n",
       "      <td>275.0</td>\n",
       "      <td>18.0</td>\n",
       "      <td>20672.82</td>\n",
       "      <td>21.0</td>\n",
       "    </tr>\n",
       "  </tbody>\n",
       "</table>\n",
       "</div>"
      ],
      "text/plain": [
       "    user_id      month  call_count  minutes_charged  message_count   mb_used  \\\n",
       "0      1000   December        16.0            124.0           11.0   1901.47   \n",
       "1      1001     August        22.0            182.0           30.0   6919.15   \n",
       "2      1001  September        38.0            315.0           44.0  13314.82   \n",
       "3      1001    October        47.0            393.0           53.0  22330.49   \n",
       "4      1001   November        49.0            426.0           36.0  18504.30   \n",
       "5      1001   December        46.0            412.0           44.0  19369.18   \n",
       "6      1002    October         8.0             59.0           15.0   6552.01   \n",
       "7      1002   November        48.0            386.0           32.0  19345.08   \n",
       "8      1002   December        38.0            384.0           41.0  14396.24   \n",
       "9      1003   December       118.0           1104.0           50.0  27044.14   \n",
       "10     1004        May        19.0            193.0            7.0   6547.21   \n",
       "11     1004       June        33.0            275.0           18.0  20672.82   \n",
       "\n",
       "    gb_charged  \n",
       "0          2.0  \n",
       "1          7.0  \n",
       "2         14.0  \n",
       "3         22.0  \n",
       "4         19.0  \n",
       "5         19.0  \n",
       "6          7.0  \n",
       "7         19.0  \n",
       "8         15.0  \n",
       "9         27.0  \n",
       "10         7.0  \n",
       "11        21.0  "
      ]
     },
     "execution_count": 51,
     "metadata": {},
     "output_type": "execute_result"
    }
   ],
   "source": [
    "df_charges = monthly_calls \\\n",
    ".merge(monthly_minutes, on=['user_id','month'], how='outer') \\\n",
    ".merge(monthly_messages, on=['user_id','month'], how='outer') \\\n",
    ".merge(monthly_data, on=['user_id','month'], how='outer')\n",
    "\n",
    "df_charges.info()\n",
    "df_charges.head(12)"
   ]
  },
  {
   "cell_type": "markdown",
   "metadata": {},
   "source": [
    "~~There is some fascinating missing data here. For example, user 1003 has been with Megaline since January, but had no recorded data until December!~~\n",
    "\n",
    "~~For the purposes of billing, I will assume these users paid the minimum fee. Otherwise I will ignore them.~~\n",
    "\n",
    "<div class='alert alert-info'>Per the reviewer comments, we are no longer assuming users paid for a plan in months where they were registered, but no usage was recorded. Anything else can be filled with zeroes, then:</div>"
   ]
  },
  {
   "cell_type": "code",
   "execution_count": 52,
   "metadata": {},
   "outputs": [],
   "source": [
    "df_charges = df_charges.fillna(0)"
   ]
  },
  {
   "cell_type": "code",
   "execution_count": 53,
   "metadata": {},
   "outputs": [
    {
     "data": {
      "text/html": [
       "<div>\n",
       "<style scoped>\n",
       "    .dataframe tbody tr th:only-of-type {\n",
       "        vertical-align: middle;\n",
       "    }\n",
       "\n",
       "    .dataframe tbody tr th {\n",
       "        vertical-align: top;\n",
       "    }\n",
       "\n",
       "    .dataframe thead th {\n",
       "        text-align: right;\n",
       "    }\n",
       "</style>\n",
       "<table border=\"1\" class=\"dataframe\">\n",
       "  <thead>\n",
       "    <tr style=\"text-align: right;\">\n",
       "      <th></th>\n",
       "      <th>user_id</th>\n",
       "      <th>month</th>\n",
       "      <th>call_count</th>\n",
       "      <th>minutes_charged</th>\n",
       "      <th>message_count</th>\n",
       "      <th>mb_used</th>\n",
       "      <th>gb_charged</th>\n",
       "      <th>plan</th>\n",
       "    </tr>\n",
       "  </thead>\n",
       "  <tbody>\n",
       "    <tr>\n",
       "      <th>0</th>\n",
       "      <td>1000</td>\n",
       "      <td>December</td>\n",
       "      <td>16.0</td>\n",
       "      <td>124.0</td>\n",
       "      <td>11.0</td>\n",
       "      <td>1901.47</td>\n",
       "      <td>2.0</td>\n",
       "      <td>ultimate</td>\n",
       "    </tr>\n",
       "    <tr>\n",
       "      <th>1</th>\n",
       "      <td>1001</td>\n",
       "      <td>August</td>\n",
       "      <td>22.0</td>\n",
       "      <td>182.0</td>\n",
       "      <td>30.0</td>\n",
       "      <td>6919.15</td>\n",
       "      <td>7.0</td>\n",
       "      <td>surf</td>\n",
       "    </tr>\n",
       "    <tr>\n",
       "      <th>2</th>\n",
       "      <td>1001</td>\n",
       "      <td>September</td>\n",
       "      <td>38.0</td>\n",
       "      <td>315.0</td>\n",
       "      <td>44.0</td>\n",
       "      <td>13314.82</td>\n",
       "      <td>14.0</td>\n",
       "      <td>surf</td>\n",
       "    </tr>\n",
       "    <tr>\n",
       "      <th>3</th>\n",
       "      <td>1001</td>\n",
       "      <td>October</td>\n",
       "      <td>47.0</td>\n",
       "      <td>393.0</td>\n",
       "      <td>53.0</td>\n",
       "      <td>22330.49</td>\n",
       "      <td>22.0</td>\n",
       "      <td>surf</td>\n",
       "    </tr>\n",
       "    <tr>\n",
       "      <th>4</th>\n",
       "      <td>1001</td>\n",
       "      <td>November</td>\n",
       "      <td>49.0</td>\n",
       "      <td>426.0</td>\n",
       "      <td>36.0</td>\n",
       "      <td>18504.30</td>\n",
       "      <td>19.0</td>\n",
       "      <td>surf</td>\n",
       "    </tr>\n",
       "    <tr>\n",
       "      <th>5</th>\n",
       "      <td>1001</td>\n",
       "      <td>December</td>\n",
       "      <td>46.0</td>\n",
       "      <td>412.0</td>\n",
       "      <td>44.0</td>\n",
       "      <td>19369.18</td>\n",
       "      <td>19.0</td>\n",
       "      <td>surf</td>\n",
       "    </tr>\n",
       "    <tr>\n",
       "      <th>6</th>\n",
       "      <td>1002</td>\n",
       "      <td>October</td>\n",
       "      <td>8.0</td>\n",
       "      <td>59.0</td>\n",
       "      <td>15.0</td>\n",
       "      <td>6552.01</td>\n",
       "      <td>7.0</td>\n",
       "      <td>surf</td>\n",
       "    </tr>\n",
       "    <tr>\n",
       "      <th>7</th>\n",
       "      <td>1002</td>\n",
       "      <td>November</td>\n",
       "      <td>48.0</td>\n",
       "      <td>386.0</td>\n",
       "      <td>32.0</td>\n",
       "      <td>19345.08</td>\n",
       "      <td>19.0</td>\n",
       "      <td>surf</td>\n",
       "    </tr>\n",
       "    <tr>\n",
       "      <th>8</th>\n",
       "      <td>1002</td>\n",
       "      <td>December</td>\n",
       "      <td>38.0</td>\n",
       "      <td>384.0</td>\n",
       "      <td>41.0</td>\n",
       "      <td>14396.24</td>\n",
       "      <td>15.0</td>\n",
       "      <td>surf</td>\n",
       "    </tr>\n",
       "    <tr>\n",
       "      <th>9</th>\n",
       "      <td>1003</td>\n",
       "      <td>December</td>\n",
       "      <td>118.0</td>\n",
       "      <td>1104.0</td>\n",
       "      <td>50.0</td>\n",
       "      <td>27044.14</td>\n",
       "      <td>27.0</td>\n",
       "      <td>surf</td>\n",
       "    </tr>\n",
       "  </tbody>\n",
       "</table>\n",
       "</div>"
      ],
      "text/plain": [
       "   user_id      month  call_count  minutes_charged  message_count   mb_used  \\\n",
       "0     1000   December        16.0            124.0           11.0   1901.47   \n",
       "1     1001     August        22.0            182.0           30.0   6919.15   \n",
       "2     1001  September        38.0            315.0           44.0  13314.82   \n",
       "3     1001    October        47.0            393.0           53.0  22330.49   \n",
       "4     1001   November        49.0            426.0           36.0  18504.30   \n",
       "5     1001   December        46.0            412.0           44.0  19369.18   \n",
       "6     1002    October         8.0             59.0           15.0   6552.01   \n",
       "7     1002   November        48.0            386.0           32.0  19345.08   \n",
       "8     1002   December        38.0            384.0           41.0  14396.24   \n",
       "9     1003   December       118.0           1104.0           50.0  27044.14   \n",
       "\n",
       "   gb_charged      plan  \n",
       "0         2.0  ultimate  \n",
       "1         7.0      surf  \n",
       "2        14.0      surf  \n",
       "3        22.0      surf  \n",
       "4        19.0      surf  \n",
       "5        19.0      surf  \n",
       "6         7.0      surf  \n",
       "7        19.0      surf  \n",
       "8        15.0      surf  \n",
       "9        27.0      surf  "
      ]
     },
     "execution_count": 53,
     "metadata": {},
     "output_type": "execute_result"
    }
   ],
   "source": [
    "# Add the plan information\n",
    "df_user_plans = pd.DataFrame(pd.concat([df_users['user_id'], df_users['plan']], axis='columns'))\n",
    "df_user_plans.head()\n",
    "df_charges = df_charges.merge(df_user_plans, on='user_id', how='left')\n",
    "df_charges.head(10)"
   ]
  },
  {
   "cell_type": "markdown",
   "metadata": {},
   "source": [
    "Monthly revenue from each user is as follows, based on their plan (`surf` or `ultimate`):\n",
    "\n",
    "- `usd_monthly_pay`, plus...\n",
    "- if `message_count` is more than `messages_included`, the number of excess messages times `usd_per_message`, plus...\n",
    "- if `gb_charged` is more than `gb_per_month_included`, the number of excess gigabytes times `usd_per_gb`, plus...\n",
    "- if `minutes_charged` is more than `minutes_included`, the number of excess minutes times `usd_per_minute`.\n",
    "\n",
    "Below, I define a function that can be used with `pd.DataFrame.apply()` to calculate the total charge for each row of the table we just made."
   ]
  },
  {
   "cell_type": "markdown",
   "metadata": {},
   "source": [
    "<div class=\"alert alert-success\" style=\"border-radius: 15px; box-shadow: 4px 4px 4px; border: 1px solid \">\n",
    "<h2> Reviewer's comment ✔️ </h2>\n",
    "    \n",
    "Correct. \n",
    "\n",
    "</div>"
   ]
  },
  {
   "cell_type": "code",
   "execution_count": 54,
   "metadata": {},
   "outputs": [
    {
     "name": "stdout",
     "output_type": "stream",
     "text": [
      "user_id                1404\n",
      "month               October\n",
      "call_count             79.0\n",
      "minutes_charged       668.0\n",
      "message_count          16.0\n",
      "mb_used            23884.22\n",
      "gb_charged             24.0\n",
      "plan                   surf\n",
      "billed_usd           115.04\n",
      "Name: 1852, dtype: object\n"
     ]
    },
    {
     "data": {
      "text/html": [
       "<div>\n",
       "<style scoped>\n",
       "    .dataframe tbody tr th:only-of-type {\n",
       "        vertical-align: middle;\n",
       "    }\n",
       "\n",
       "    .dataframe tbody tr th {\n",
       "        vertical-align: top;\n",
       "    }\n",
       "\n",
       "    .dataframe thead th {\n",
       "        text-align: right;\n",
       "    }\n",
       "</style>\n",
       "<table border=\"1\" class=\"dataframe\">\n",
       "  <thead>\n",
       "    <tr style=\"text-align: right;\">\n",
       "      <th></th>\n",
       "      <th>user_id</th>\n",
       "      <th>month</th>\n",
       "      <th>call_count</th>\n",
       "      <th>minutes_charged</th>\n",
       "      <th>message_count</th>\n",
       "      <th>mb_used</th>\n",
       "      <th>gb_charged</th>\n",
       "      <th>plan</th>\n",
       "      <th>billed_usd</th>\n",
       "    </tr>\n",
       "  </thead>\n",
       "  <tbody>\n",
       "    <tr>\n",
       "      <th>0</th>\n",
       "      <td>1000</td>\n",
       "      <td>December</td>\n",
       "      <td>16.0</td>\n",
       "      <td>124.0</td>\n",
       "      <td>11.0</td>\n",
       "      <td>1901.47</td>\n",
       "      <td>2.0</td>\n",
       "      <td>ultimate</td>\n",
       "      <td>70.00</td>\n",
       "    </tr>\n",
       "    <tr>\n",
       "      <th>1</th>\n",
       "      <td>1001</td>\n",
       "      <td>August</td>\n",
       "      <td>22.0</td>\n",
       "      <td>182.0</td>\n",
       "      <td>30.0</td>\n",
       "      <td>6919.15</td>\n",
       "      <td>7.0</td>\n",
       "      <td>surf</td>\n",
       "      <td>20.00</td>\n",
       "    </tr>\n",
       "    <tr>\n",
       "      <th>2</th>\n",
       "      <td>1001</td>\n",
       "      <td>September</td>\n",
       "      <td>38.0</td>\n",
       "      <td>315.0</td>\n",
       "      <td>44.0</td>\n",
       "      <td>13314.82</td>\n",
       "      <td>14.0</td>\n",
       "      <td>surf</td>\n",
       "      <td>20.00</td>\n",
       "    </tr>\n",
       "    <tr>\n",
       "      <th>3</th>\n",
       "      <td>1001</td>\n",
       "      <td>October</td>\n",
       "      <td>47.0</td>\n",
       "      <td>393.0</td>\n",
       "      <td>53.0</td>\n",
       "      <td>22330.49</td>\n",
       "      <td>22.0</td>\n",
       "      <td>surf</td>\n",
       "      <td>90.09</td>\n",
       "    </tr>\n",
       "    <tr>\n",
       "      <th>4</th>\n",
       "      <td>1001</td>\n",
       "      <td>November</td>\n",
       "      <td>49.0</td>\n",
       "      <td>426.0</td>\n",
       "      <td>36.0</td>\n",
       "      <td>18504.30</td>\n",
       "      <td>19.0</td>\n",
       "      <td>surf</td>\n",
       "      <td>60.00</td>\n",
       "    </tr>\n",
       "  </tbody>\n",
       "</table>\n",
       "</div>"
      ],
      "text/plain": [
       "   user_id      month  call_count  minutes_charged  message_count   mb_used  \\\n",
       "0     1000   December        16.0            124.0           11.0   1901.47   \n",
       "1     1001     August        22.0            182.0           30.0   6919.15   \n",
       "2     1001  September        38.0            315.0           44.0  13314.82   \n",
       "3     1001    October        47.0            393.0           53.0  22330.49   \n",
       "4     1001   November        49.0            426.0           36.0  18504.30   \n",
       "\n",
       "   gb_charged      plan  billed_usd  \n",
       "0         2.0  ultimate       70.00  \n",
       "1         7.0      surf       20.00  \n",
       "2        14.0      surf       20.00  \n",
       "3        22.0      surf       90.09  \n",
       "4        19.0      surf       60.00  "
      ]
     },
     "execution_count": 54,
     "metadata": {},
     "output_type": "execute_result"
    }
   ],
   "source": [
    "# Calculate the monthly revenue for each user\n",
    "\n",
    "def monthly_charge(x):    #x is a Series from df_charges; axis='columns'\n",
    "    total = 0\n",
    "    \n",
    "    #get the info for whichever plan this particular person bought\n",
    "    plan_info = df_plans[df_plans['plan_name'] == x['plan']].reset_index(drop=True) #type is DataFrame\n",
    "    \n",
    "    monthly_payment = plan_info.loc[0, 'usd_monthly_pay']\n",
    "    \n",
    "    #note: if a value is NaN, it doesn't equal itself. we assume NaN is zero for the sake of calculation\n",
    "    \n",
    "    message_overage = x['message_count'] - plan_info.loc[0, 'messages_included']\n",
    "    if message_overage < 0 or message_overage != message_overage:\n",
    "        message_overage = 0\n",
    "        \n",
    "    gb_overage = x['gb_charged'] - plan_info.loc[0, 'gb_per_month_included']\n",
    "    if gb_overage < 0 or gb_overage != gb_overage:\n",
    "        gb_overage = 0\n",
    "        \n",
    "    minutes_overage = x['minutes_charged'] - plan_info.loc[0, 'minutes_included']\n",
    "    if minutes_overage < 0 or minutes_overage != minutes_overage:\n",
    "        minutes_overage = 0\n",
    "    \n",
    "    total = monthly_payment + message_overage * plan_info.loc[0, 'usd_per_message'] \\\n",
    "            + gb_overage * plan_info.loc[0, 'usd_per_gb'] \\\n",
    "            + minutes_overage * plan_info.loc[0, 'usd_per_minute']\n",
    "    \n",
    "    return total\n",
    "\n",
    "df_charges['billed_usd'] = df_charges.apply(monthly_charge, axis='columns')\n",
    "\n",
    "print(df_charges.loc[1852]) #just to see the NaN checks in action\n",
    "df_charges.head(5)"
   ]
  },
  {
   "cell_type": "markdown",
   "metadata": {},
   "source": [
    "<div class=\"alert alert-success\" style=\"border-radius: 15px; box-shadow: 4px 4px 4px; border: 1px solid \">\n",
    "<h2> Reviewer's comment ✔️ </h2>\n",
    "    \n",
    "Well done!     \n",
    "    \n",
    "By the way, there's a function that returns the maximum between 2 values. With this function, you will not need to check if-else statements.\n",
    "\n",
    "\n",
    "```python\n",
    "\n",
    "max(0, (x['gb_charged'] - plan_info.loc[0, 'gb_per_month_included']) * plan_info.loc[0, 'usd_per_gb'] )\n",
    "```\n",
    "</div>\n",
    "<div class=\"alert alert-warning\" style=\"border-radius: 15px; box-shadow: 4px 4px 4px; border: 1px solid \">\n",
    "<h2> Reviewer's comment  ⚠️ </h2>\n",
    "\n",
    "    \n",
    "-     \n",
    "> `message_overage != message_overage`    \n",
    "\n",
    "\n",
    "\n",
    "When you exclude extra rows and fill in the gaps with zeros, you will not need that. \n",
    " </div>"
   ]
  },
  {
   "cell_type": "markdown",
   "metadata": {},
   "source": [
    "To double-check my work, I ran the calculation for index 3 manually (user 1001, month of October), whose fee was calculated at 90.09. They're a `surf` customer, so 20 flat fee, plus 0.09 from excess messages (they had three of those, and they cost 0.03), plus 70 from excess data (they went over by 7 gigs, which cost 10 each). That adds up!"
   ]
  },
  {
   "cell_type": "markdown",
   "metadata": {},
   "source": [
    "<div class=\"alert alert-success\" style=\"border-radius: 15px; box-shadow: 4px 4px 4px; border: 1px solid \">\n",
    "<h2> Reviewer's comment ✔️ </h2>\n",
    "    \n",
    "It's great that you check the code. Indeed, it is very imporant. \n",
    "</div>"
   ]
  },
  {
   "cell_type": "markdown",
   "metadata": {},
   "source": [
    "## Study user behaviour"
   ]
  },
  {
   "cell_type": "markdown",
   "metadata": {},
   "source": [
    "So how do the users of our two plans differ from each other in their communications habits?\n",
    "\n",
    "First, let's check the distribution of our data generally. The main groupings of data are based on individual users as well as months; do we have sufficient data across both of those axes?"
   ]
  },
  {
   "cell_type": "code",
   "execution_count": 55,
   "metadata": {
    "scrolled": false
   },
   "outputs": [
    {
     "data": {
      "image/png": "[encoded data removed]",
      "text/plain": [
       "<Figure size 1000x400 with 1 Axes>"
      ]
     },
     "metadata": {},
     "output_type": "display_data"
    }
   ],
   "source": [
    "# Compare overall users per month\n",
    "surf_by_month = df_charges[df_charges['plan']=='surf'].groupby('month')\n",
    "ultimate_by_month = df_charges[df_charges['plan']=='ultimate'].groupby('month')\n",
    "\n",
    "monthly_surf_users = surf_by_month.count()['user_id'].rename('user_count_surf')\n",
    "monthly_ultimate_users = ultimate_by_month.count()['user_id'].rename('user_count_ult')\n",
    "\n",
    "monthly_users = pd.concat([monthly_surf_users, monthly_ultimate_users], axis='columns').reset_index()\n",
    "\n",
    "monthly_users['month'] = pd.Categorical(monthly_users[\"month\"],\n",
    "                             categories=[\"January\", \"February\", \"March\", \"April\", \"May\", \"June\", \"July\",\n",
    "                                         \"August\", \"September\", \"October\", \"November\", \"December\"],\n",
    "                             ordered=True)\n",
    "\n",
    "monthly_users = monthly_users.sort_values(by='month')\n",
    "\n",
    "monthly_users.plot(kind='bar', x='month', y=['user_count_surf', 'user_count_ult'], \n",
    "                      title='Users Billed By Month', xlabel='Month',\n",
    "              ylabel='Users', rot=35, figsize=[10, 4])\n",
    "\n",
    "plt.legend(['Surf', 'Ultimate'])\n",
    "\n",
    "plt.show()"
   ]
  },
  {
   "cell_type": "markdown",
   "metadata": {},
   "source": [
    "We can see in this bar chart that the number of users we have data for increases substantially over the course of the year, which means we should be careful about drawing conclusions related to the first few months (especially for Ultimate plan customers, which make up a smaller portion of the overall data). While most of the monthly data below deals in averages, which should not be affected by the increase in user counts, it's still worth noting the high rate of error for early data, especially January for Surf users and anything before April for Ultimate users.\n",
    "\n",
    "<div class=\"alert alert-info\" style=\"border-left: 7px solid blue\">Coming back after reviewer feedback to add that the early-month lack of data is even worse than I originally thought.</div>"
   ]
  },
  {
   "cell_type": "markdown",
   "metadata": {},
   "source": [
    "### Calls"
   ]
  },
  {
   "cell_type": "markdown",
   "metadata": {},
   "source": [
    "Let's look into user behavior with respect to phone calls.\n",
    "\n",
    "- How long is a typical phone call from users of either plan? We can look month-to-month.\n",
    "- How many minutes do customers use on average? We can also determine that on a monthly and by-plan basis."
   ]
  },
  {
   "cell_type": "code",
   "execution_count": 56,
   "metadata": {
    "scrolled": false
   },
   "outputs": [
    {
     "data": {
      "image/png": "[encoded data removed]",
      "text/plain": [
       "<Figure size 1000x400 with 1 Axes>"
      ]
     },
     "metadata": {},
     "output_type": "display_data"
    }
   ],
   "source": [
    "# Compare average duration of calls per each plan per each distinct month. Plot a bar plat to visualize it.\n",
    "\n",
    "surf_sum = surf_by_month.sum().reset_index()\n",
    "#code from stackoverflow to get months to sort properly; at some point they became objects instead of datetimes again\n",
    "surf_sum['month'] = pd.Categorical(surf_sum[\"month\"],\n",
    "                             categories=[\"January\", \"February\", \"March\", \"April\", \"May\", \"June\", \"July\",\n",
    "                                         \"August\", \"September\", \"October\", \"November\", \"December\"],\n",
    "                             ordered=True)\n",
    "surf_sum = surf_sum.sort_values('month')\n",
    "surf_sum['avg_call_duration'] = surf_sum['minutes_charged'] / surf_sum['call_count']\n",
    "\n",
    "ultimate_sum = ultimate_by_month.sum().reset_index()\n",
    "ultimate_sum['month'] = pd.Categorical(ultimate_sum[\"month\"],\n",
    "                             categories=[\"January\", \"February\", \"March\", \"April\", \"May\", \"June\", \"July\",\n",
    "                                         \"August\", \"September\", \"October\", \"November\", \"December\"],\n",
    "                             ordered=True)\n",
    "ultimate_sum = ultimate_sum.sort_values('month')\n",
    "ultimate_sum['avg_call_duration'] = ultimate_sum['minutes_charged'] / ultimate_sum['call_count']\n",
    "ultimate_sum.head()\n",
    "\n",
    "sums_init = surf_sum.merge(ultimate_sum, on='month', how='inner', suffixes=['_surf', '_ult'])\n",
    "sums = sums_init #this dataframe gets merged a lot; this extra variable will prevent me from repeatedly merging by mistake\n",
    "\n",
    "sums.plot(kind='bar', x='month', y=['avg_call_duration_surf', 'avg_call_duration_ult'], title='Average Call Duration By Month', xlabel='Month',\n",
    "              ylabel='Duration (minutes)', rot=35, figsize=[10, 4])\n",
    "\n",
    "plt.legend(['Surf', 'Ultimate'])\n",
    "\n",
    "plt.show()"
   ]
  },
  {
   "cell_type": "code",
   "execution_count": 57,
   "metadata": {},
   "outputs": [
    {
     "data": {
      "image/png": "[encoded data removed]",
      "text/plain": [
       "<Figure size 1000x400 with 1 Axes>"
      ]
     },
     "metadata": {},
     "output_type": "display_data"
    }
   ],
   "source": [
    "# Compare the number of minutes users of each plan require each month. Plot a histogram.\n",
    "\n",
    "all_surf_charges = df_charges[df_charges['plan']=='surf']\n",
    "all_ultimate_charges = df_charges[df_charges['plan']=='ultimate']\n",
    "\n",
    "all_surf_charges['minutes_charged'].plot(title='Minutes Per User Histogram', kind='hist', rot=35, figsize=[10,4], bins=50,\n",
    "                                        xlabel=\"Minutes\", ylabel= \"Number of Users\")\n",
    "all_ultimate_charges['minutes_charged'].plot(kind='hist', bins=50, alpha=0.5)\n",
    "\n",
    "plt.legend(['Surf', 'Ultimate'])\n",
    "plt.show()"
   ]
  },
  {
   "cell_type": "markdown",
   "metadata": {},
   "source": [
    "<div class=\"alert alert-warning\" style=\"border-radius: 15px; box-shadow: 4px 4px 4px; border: 1px solid \">\n",
    "<h2> Reviewer's comment ⚠️ </h2>\n",
    "    \n",
    "Axes labels such as `Frequency` or `Count` may seem unclear to a reader. \n",
    "    \n",
    "</div>\n",
    "<div class=\"alert alert-success\" style=\"border-radius: 15px; box-shadow: 4px 4px 4px; border: 1px solid \">\n",
    "<h2> Reviewer's comment ✔️ </h2>\n",
    "    \n",
    "By the way, our dataframe allows us to plot 2 histograms on one graph in grouping:\n",
    "\n",
    "</div>\n"
   ]
  },
  {
   "cell_type": "code",
   "execution_count": 58,
   "metadata": {},
   "outputs": [
    {
     "data": {
      "image/png": "[encoded data removed]",
      "text/plain": [
       "<Figure size 1000x800 with 1 Axes>"
      ]
     },
     "metadata": {},
     "output_type": "display_data"
    }
   ],
   "source": [
    "# Reviewer's code\n",
    "\n",
    "plt.style.use('ggplot') # Add style. You can put it in the very first cell, after plt is defined.\n",
    "\n",
    "df_charges.groupby('plan')['minutes_charged'].plot.hist(alpha=0.5, legend=True, bins=25, figsize=(10,8))\n",
    "\n",
    "plt.legend(['Surf', 'Ultimate'])\n",
    "plt.title('Title')\n",
    "plt.xlabel('x')\n",
    "plt.ylabel('y')\n",
    "\n",
    "plt.show()"
   ]
  },
  {
   "cell_type": "markdown",
   "metadata": {},
   "source": [
    "<div class=\"alert alert-success\" style=\"border-radius: 15px; box-shadow: 4px 4px 4px; border: 1px solid \">\n",
    "<h2> Reviewer's comment ✔️ </h2>\n",
    "    \n",
    "This style looks good, does it not? :) \n",
    "    \n",
    "</div>\n",
    "\n",
    "<div class=\"alert alert-info\">It does look good, and I'll take note of the groupby version.</div>\n",
    "\n",
    "</div>\n"
   ]
  },
  {
   "cell_type": "markdown",
   "metadata": {},
   "source": [
    "That's much more legible."
   ]
  },
  {
   "cell_type": "code",
   "execution_count": 59,
   "metadata": {},
   "outputs": [
    {
     "name": "stdout",
     "output_type": "stream",
     "text": [
      "Surf user call duration, month-by-month mean:8.843008243360023\n",
      "Surf user call duration, month-by-month variance:0.018315892913981256\n",
      "Standard deviation: 0.13533622173675922\n",
      "\n",
      "Ultimate user call duration, month-by-month mean:8.792178698933439\n",
      "Ultimate user call duration, month-by-month variance:0.042923845469165174\n",
      "Standard deviation: 0.20718070728029958\n",
      "\n",
      "Surf user call duration, mean per user per month:428.7495232040687\n",
      "Surf user call duration, variance per user per month:54933.334591317485\n",
      "Standard deviation: 234.37861376695076\n",
      "\n",
      "Ultimate user call duration, mean per user per month:430.45\n",
      "Ultimate user call duration, variance per user per month:57764.125277777785\n",
      "Standard deviation: 240.34168443650756\n"
     ]
    }
   ],
   "source": [
    "# Calculate the mean and the variance of the monthly call duration\n",
    "\n",
    "# Monthly overall averages:\n",
    "\n",
    "print('Surf user call duration, month-by-month mean:' + np.mean(sums['avg_call_duration_surf']).astype('str'))\n",
    "print('Surf user call duration, month-by-month variance:' + np.var(sums['avg_call_duration_surf']).astype('str'))\n",
    "print('Standard deviation:', np.std(sums['avg_call_duration_surf']).astype('str'))\n",
    "print('\\nUltimate user call duration, month-by-month mean:' + np.mean(sums['avg_call_duration_ult']).astype('str'))\n",
    "print('Ultimate user call duration, month-by-month variance:' + np.var(sums['avg_call_duration_ult']).astype('str'))\n",
    "print('Standard deviation:', np.std(sums['avg_call_duration_ult']).astype('str'))\n",
    "\n",
    "# User-by-user monthly averages:\n",
    "\n",
    "surf_minutes = all_surf_charges['minutes_charged']\n",
    "ultimate_minutes = all_ultimate_charges['minutes_charged']\n",
    "\n",
    "print('\\nSurf user call duration, mean per user per month:' + np.mean(surf_minutes).astype('str'))\n",
    "print('Surf user call duration, variance per user per month:' + np.var(surf_minutes).astype('str'))\n",
    "print('Standard deviation:', np.std(surf_minutes).astype('str'))\n",
    "print('\\nUltimate user call duration, mean per user per month:' + np.mean(ultimate_minutes).astype('str'))\n",
    "print('Ultimate user call duration, variance per user per month:' + np.var(ultimate_minutes).astype('str'))\n",
    "print('Standard deviation:', np.std(ultimate_minutes).astype('str'))"
   ]
  },
  {
   "cell_type": "markdown",
   "metadata": {},
   "source": [
    "<div class=\"alert alert-success\" style=\"border-radius: 15px; box-shadow: 4px 4px 4px; border: 1px solid \">\n",
    "<h2> Reviewer's comment ✔️ </h2>\n",
    "    \n",
    "Another good way to print statistics is to use pivot tables.\n",
    "\n",
    "</div>\n",
    "<div class=\"alert alert-danger\" style=\"border-radius: 15px; box-shadow: 4px 4px 4px; border: 1px solid \">\n",
    "<b> Reviewer's comment ❌</b>\n",
    "    \n",
    "    \n",
    "- If you divide by `all_surf_charges['call_count']` and then take `mean`, you get the average of the average. Please do not divide it, just call the `mean` function.\n",
    "\n",
    "\n",
    "\n",
    "- We are also asked about std. \n",
    "\n",
    "</div>\n",
    "<div class=\"alert alert-danger\" style=\"border-radius: 15px; box-shadow: 4px 4px 4px; border: 1px solid \">\n",
    "<b> Reviewer's comment 2 ❌</b>\n",
    "    \n",
    "    \n",
    "The comment above is still relevant. Would you fix that?\n",
    "\n",
    "</div>\n",
    "\n",
    "<div class=\"alert alert-info\">Yeah, somehow I passed over it double checking the rest. My mistake. Fixing this also makes the second box plot redundant, since they're both now reading identical data (though I'd argue the second title is a little clearer).</div>\n",
    "<div class=\"alert alert-success\" style=\"border-radius: 15px; box-shadow: 4px 4px 4px; border: 1px solid \">\n",
    "<h2> Reviewer's comment 3 ✔️</h2>\n",
    "    \n",
    "Excellent! If you want to use pivot tables, you can do that as follows:    \n",
    "</div>"
   ]
  },
  {
   "cell_type": "code",
   "execution_count": 61,
   "metadata": {},
   "outputs": [
    {
     "data": {
      "text/html": [
       "<div>\n",
       "<style scoped>\n",
       "    .dataframe tbody tr th:only-of-type {\n",
       "        vertical-align: middle;\n",
       "    }\n",
       "\n",
       "    .dataframe tbody tr th {\n",
       "        vertical-align: top;\n",
       "    }\n",
       "\n",
       "    .dataframe thead tr th {\n",
       "        text-align: left;\n",
       "    }\n",
       "\n",
       "    .dataframe thead tr:last-of-type th {\n",
       "        text-align: right;\n",
       "    }\n",
       "</style>\n",
       "<table border=\"1\" class=\"dataframe\">\n",
       "  <thead>\n",
       "    <tr>\n",
       "      <th></th>\n",
       "      <th colspan=\"3\" halign=\"left\">mean</th>\n",
       "      <th colspan=\"3\" halign=\"left\">std</th>\n",
       "      <th colspan=\"3\" halign=\"left\">var</th>\n",
       "    </tr>\n",
       "    <tr>\n",
       "      <th></th>\n",
       "      <th>mb_used</th>\n",
       "      <th>message_count</th>\n",
       "      <th>minutes_charged</th>\n",
       "      <th>mb_used</th>\n",
       "      <th>message_count</th>\n",
       "      <th>minutes_charged</th>\n",
       "      <th>mb_used</th>\n",
       "      <th>message_count</th>\n",
       "      <th>minutes_charged</th>\n",
       "    </tr>\n",
       "    <tr>\n",
       "      <th>plan</th>\n",
       "      <th></th>\n",
       "      <th></th>\n",
       "      <th></th>\n",
       "      <th></th>\n",
       "      <th></th>\n",
       "      <th></th>\n",
       "      <th></th>\n",
       "      <th></th>\n",
       "      <th></th>\n",
       "    </tr>\n",
       "  </thead>\n",
       "  <tbody>\n",
       "    <tr>\n",
       "      <th>surf</th>\n",
       "      <td>16558.283490</td>\n",
       "      <td>31.159568</td>\n",
       "      <td>428.749523</td>\n",
       "      <td>8013.513327</td>\n",
       "      <td>33.566717</td>\n",
       "      <td>234.453150</td>\n",
       "      <td>6.421640e+07</td>\n",
       "      <td>1126.724522</td>\n",
       "      <td>54968.279461</td>\n",
       "    </tr>\n",
       "    <tr>\n",
       "      <th>ultimate</th>\n",
       "      <td>17214.699694</td>\n",
       "      <td>37.551389</td>\n",
       "      <td>430.450000</td>\n",
       "      <td>7851.897435</td>\n",
       "      <td>34.767179</td>\n",
       "      <td>240.508762</td>\n",
       "      <td>6.165229e+07</td>\n",
       "      <td>1208.756744</td>\n",
       "      <td>57844.464812</td>\n",
       "    </tr>\n",
       "  </tbody>\n",
       "</table>\n",
       "</div>"
      ],
      "text/plain": [
       "                  mean                                        std  \\\n",
       "               mb_used message_count minutes_charged      mb_used   \n",
       "plan                                                                \n",
       "surf      16558.283490     31.159568      428.749523  8013.513327   \n",
       "ultimate  17214.699694     37.551389      430.450000  7851.897435   \n",
       "\n",
       "                                                 var                \\\n",
       "         message_count minutes_charged       mb_used message_count   \n",
       "plan                                                                 \n",
       "surf         33.566717      234.453150  6.421640e+07   1126.724522   \n",
       "ultimate     34.767179      240.508762  6.165229e+07   1208.756744   \n",
       "\n",
       "                          \n",
       "         minutes_charged  \n",
       "plan                      \n",
       "surf        54968.279461  \n",
       "ultimate    57844.464812  "
      ]
     },
     "execution_count": 61,
     "metadata": {},
     "output_type": "execute_result"
    }
   ],
   "source": [
    "# Reviewer's code 3\n",
    "\n",
    "df_charges.pivot_table(index='plan', values=['minutes_charged', 'message_count', 'mb_used'],\n",
    "                       aggfunc=['mean', 'std', 'var'])"
   ]
  },
  {
   "cell_type": "code",
   "execution_count": 59,
   "metadata": {
    "scrolled": false
   },
   "outputs": [
    {
     "data": {
      "image/png": "[encoded data removed]",
      "text/plain": [
       "<Figure size 500x400 with 1 Axes>"
      ]
     },
     "metadata": {},
     "output_type": "display_data"
    }
   ],
   "source": [
    "# Plot a boxplot to visualize the distribution of the monthly call duration\n",
    "concat_minutes_avg = pd.concat([surf_minutes, ultimate_minutes], axis = 1)\n",
    "concat_minutes_avg.columns=('Surf', 'Ultimate')\n",
    "concat_minutes_avg.plot(kind='box', title='Monthly Call Duration Distribution',figsize=[5,4])\n",
    "#frustratingly, boxplot() seems to have fewer features than plot(), such as no title\n",
    "\n",
    "plt.show()"
   ]
  },
  {
   "cell_type": "code",
   "execution_count": 60,
   "metadata": {
    "scrolled": false
   },
   "outputs": [
    {
     "data": {
      "image/png": "[encoded data removed]",
      "text/plain": [
       "<Figure size 640x480 with 1 Axes>"
      ]
     },
     "metadata": {},
     "output_type": "display_data"
    }
   ],
   "source": [
    "#I also see fit to make a box chart for total minutes charged per user\n",
    "#this information might be useful to detect customers who could benefit from an upgraded plan\n",
    "\n",
    "concat_minutes_charged = pd.concat([all_surf_charges['minutes_charged'], all_ultimate_charges['minutes_charged']], axis=1)\n",
    "\n",
    "concat_minutes_charged.columns=('Surf', 'Ultimate')\n",
    "concat_minutes_charged.plot(kind='box', title='Monthly Minutes Charged Distribution')\n",
    "\n",
    "plt.show()"
   ]
  },
  {
   "cell_type": "code",
   "execution_count": 61,
   "metadata": {},
   "outputs": [
    {
     "name": "stdout",
     "output_type": "stream",
     "text": [
      "Percentage of Surf users who accumulated >500 minutes: 0.35982199618563254\n",
      "Percentage of Ultimate users who accumulated >500 minutes: 0.35\n"
     ]
    }
   ],
   "source": [
    "#One more question: Surf users start accumulating overage charges at 500 minutes. \n",
    "#What percentage of Surf and Ultimate user charges break 500 minutes?\n",
    "\n",
    "surf_high_minutes = all_surf_charges[all_surf_charges['minutes_charged'] > 500]\n",
    "print(\"Percentage of Surf users who accumulated >500 minutes:\", len(surf_high_minutes)/len(all_surf_charges))\n",
    "\n",
    "ult_high_minutes = all_ultimate_charges[all_ultimate_charges['minutes_charged'] > 500]\n",
    "print(\"Percentage of Ultimate users who accumulated >500 minutes:\", len(ult_high_minutes)/len(all_ultimate_charges))"
   ]
  },
  {
   "cell_type": "markdown",
   "metadata": {},
   "source": [
    "To summarize: \n",
    "\n",
    "- Surf and Ultimate users have fairly comparable call duration averages. While the interquartile distance is comparable for both categories, Surf has a somewhat higher variance, perhaps indicating more extreme outliers. \n",
    "- With respect to total minutes charged to Surf and Ultimate users, the distributions also look somewhat similar. While one might expect a steep dropoff for Surf users after 500 minutes (as this is when they start accumulating overage charges), this does not actually occur. In fact a greater percentage of Surf users accumulate more than 500 charged minutes than Ultimate users, though not by much.\n",
    "     - In other words, a customer's plan of choice seems to have little impact on how many minutes they actually use.\n"
   ]
  },
  {
   "cell_type": "markdown",
   "metadata": {},
   "source": [
    "<div class=\"alert alert-success\" style=\"border-radius: 15px; box-shadow: 4px 4px 4px; border: 1px solid \">\n",
    "<h2> Reviewer's comment ✔️</h2>\n",
    "\n",
    "\n",
    "\n",
    "Excellent analysis!\n",
    "\n",
    "</div>"
   ]
  },
  {
   "cell_type": "markdown",
   "metadata": {},
   "source": [
    " "
   ]
  },
  {
   "cell_type": "markdown",
   "metadata": {},
   "source": [
    "### Messages"
   ]
  },
  {
   "cell_type": "markdown",
   "metadata": {},
   "source": [
    "With respect to text messages: how many messages get sent per user per month? Do users of one plan send more than the other?"
   ]
  },
  {
   "cell_type": "code",
   "execution_count": 62,
   "metadata": {},
   "outputs": [
    {
     "name": "stdout",
     "output_type": "stream",
     "text": [
      "Average messages per month sent by Surf users: 31.15956770502225\n",
      "Variance: 1126.7245219504066\n",
      "Standard deviation: 33.566717473569064\n",
      "\n",
      "Average messages per month sent by Ultimate users: 37.55138888888889\n",
      "Variance: 1208.756743548138\n",
      "Standard deviation: 34.76717911404574\n",
      "\n",
      "Month-by-month averages: \n"
     ]
    },
    {
     "data": {
      "image/png": "[encoded data removed]",
      "text/plain": [
       "<Figure size 1000x400 with 1 Axes>"
      ]
     },
     "metadata": {},
     "output_type": "display_data"
    }
   ],
   "source": [
    "# Compare the number of messages users of each plan tend to send each month\n",
    "\n",
    "print('Average messages per month sent by Surf users:', all_surf_charges['message_count'].mean())\n",
    "print('Variance:', all_surf_charges['message_count'].var())\n",
    "print('Standard deviation:', all_surf_charges['message_count'].std())\n",
    "print('\\nAverage messages per month sent by Ultimate users:', all_ultimate_charges['message_count'].mean())\n",
    "print('Variance:', all_ultimate_charges['message_count'].var())\n",
    "print('Standard deviation:', all_ultimate_charges['message_count'].std())\n",
    "print('\\nMonth-by-month averages: ')\n",
    "\n",
    "monthly_surf_messages = all_surf_charges.groupby('month').mean()['message_count'].rename('avg_messages_surf')\n",
    "monthly_ultimate_messages = all_ultimate_charges.groupby('month').mean()['message_count'].rename('avg_messages_ult')\n",
    "\n",
    "monthly_messages = pd.concat([monthly_surf_messages, monthly_ultimate_messages], axis='columns').reset_index()\n",
    "monthly_messages['month'] = pd.Categorical(monthly_messages[\"month\"],\n",
    "                             categories=[\"January\", \"February\", \"March\", \"April\", \"May\", \"June\", \"July\",\n",
    "                                         \"August\", \"September\", \"October\", \"November\", \"December\"],\n",
    "                             ordered=True)\n",
    "monthly_messages = monthly_messages.sort_values(by='month')\n",
    "\n",
    "monthly_messages.plot(kind='bar', x='month', y=['avg_messages_surf', 'avg_messages_ult'], \n",
    "                      title='Average Messages Sent By Month', xlabel='Month',\n",
    "              ylabel='Messages', rot=35, figsize=[10, 4])\n",
    "\n",
    "plt.legend(['Surf', 'Ultimate'])\n",
    "\n",
    "plt.show()"
   ]
  },
  {
   "cell_type": "markdown",
   "metadata": {},
   "source": [
    "<div class=\"alert alert-danger\" style=\"border-radius: 15px; box-shadow: 4px 4px 4px; border: 1px solid \">\n",
    "<b> Reviewer's comment ❌</b>\n",
    "    \n",
    "Wold you add var and std?\n",
    "\n",
    "</div>\n",
    "\n",
    "<div class=\"alert alert-info\"><i>Describe the customers' behavior. Find the minutes, texts, and volume of data the users of each plan require per month. Calculate the mean, variance, and standard deviation. Plot histograms. Describe the distributions.</i> </div>\n",
    "\n",
    "<div class=\"alert alert-info\">Above I've quoted the project instructions, which do make mention of \"mean, variance, and standard deviation.\" The trouble is that the web design makes it difficult to view those instructions and work on the Jupyter notebook at the same time--so I have been relying on the prewritten comments to know the tasks at hand, which are not always as detailed.\n",
    "\n",
    "Anyway, it still needs fixed, so I'll add it to the code above.</div>"
   ]
  },
  {
   "cell_type": "markdown",
   "metadata": {},
   "source": [
    "<div class=\"alert alert-success\" style=\"border-radius: 15px; box-shadow: 4px 4px 4px; border: 1px solid \">\n",
    "<h2> Reviewer's comment 2 ✔️</h2>\n",
    "\n",
    "\n",
    "\n",
    "Understood! I will report about this issue. Thank you very much for letting me know! \n",
    "</div>"
   ]
  },
  {
   "cell_type": "code",
   "execution_count": 63,
   "metadata": {},
   "outputs": [
    {
     "data": {
      "image/png": "[encoded data removed]",
      "text/plain": [
       "<Figure size 1000x400 with 1 Axes>"
      ]
     },
     "metadata": {},
     "output_type": "display_data"
    }
   ],
   "source": [
    "# Compare the number of messages users of each plan require each month. Plot a histogram.\n",
    "all_surf_charges['message_count'].plot(title='Messages Per User Histogram', kind='hist', rot=35, figsize=[10,4], bins=30)\n",
    "all_ultimate_charges['message_count'].plot(kind='hist', bins=30, alpha=0.5)\n",
    "\n",
    "plt.legend(['Surf', 'Ultimate'])\n",
    "\n",
    "plt.show()"
   ]
  },
  {
   "cell_type": "markdown",
   "metadata": {},
   "source": [
    "In terms of messaging, users exhibit these behaviors:\n",
    "- The number of messages sent per user increased over the course of the year, across both plans.\n",
    "- Ultimate users on average sent about 16% more messages than Surf users.\n",
    "- As for the distribution, Surf users show a marked drop in frequency at about 50 messages, which is when they start accumulating additional messaging charges. Ultimate users show no such effect, just a gradual taper in frequency as messages increase. \n",
    "    - An explanation for the difference in Surf user behavior with respect to minutes as opposed to messages would be interesting to investigate, but I don't see a way to do so with the data at hand.\n"
   ]
  },
  {
   "cell_type": "markdown",
   "metadata": {},
   "source": [
    "<div class=\"alert alert-success\" style=\"border-radius: 15px; box-shadow: 4px 4px 4px; border: 1px solid \">\n",
    "<h2> Reviewer's comment ✔️ </h2>\n",
    "    \n",
    "Seems like people rarely use messages.\n",
    "\n",
    "</div>"
   ]
  },
  {
   "cell_type": "markdown",
   "metadata": {},
   "source": [
    " "
   ]
  },
  {
   "cell_type": "markdown",
   "metadata": {},
   "source": [
    "### Internet"
   ]
  },
  {
   "cell_type": "markdown",
   "metadata": {},
   "source": [
    "So how do the users differ with respect to internet data usage? Surf users cap at 15GB, Ultimate users cap at 30GB."
   ]
  },
  {
   "cell_type": "code",
   "execution_count": 64,
   "metadata": {},
   "outputs": [
    {
     "name": "stdout",
     "output_type": "stream",
     "text": [
      "Average data used by Surf customer: 16.670692943420217\n",
      "Variance: 61.58359983759012\n",
      "Standard deviation: 7.847521891501171\n",
      "\n",
      "Average data used by Ultimate customers: 17.306944444444444\n",
      "Variance: 58.830549760469786\n",
      "Standard deviation: 7.670107545560869\n",
      "\n",
      "Month-by-month averages: \n"
     ]
    },
    {
     "data": {
      "image/png": "[encoded data removed]",
      "text/plain": [
       "<Figure size 1000x400 with 1 Axes>"
      ]
     },
     "metadata": {},
     "output_type": "display_data"
    }
   ],
   "source": [
    "# Compare the amount of internet traffic consumed by users per plan\n",
    "print('Average data used by Surf customer:', all_surf_charges['gb_charged'].mean())\n",
    "print('Variance:', all_surf_charges['gb_charged'].var())\n",
    "print('Standard deviation:', all_surf_charges['gb_charged'].std())\n",
    "\n",
    "print('\\nAverage data used by Ultimate customers:', all_ultimate_charges['gb_charged'].mean())\n",
    "print('Variance:', all_ultimate_charges['gb_charged'].var())\n",
    "print('Standard deviation:', all_ultimate_charges['gb_charged'].std())\n",
    "\n",
    "print('\\nMonth-by-month averages: ')\n",
    "\n",
    "avg_surf_gb = all_surf_charges.groupby('month').mean()['gb_charged'].rename('gb_charged_surf')\n",
    "avg_ultimate_gb = all_ultimate_charges.groupby('month').mean()['gb_charged'].rename('gb_charged_ult')\n",
    "\n",
    "avg_gb = pd.concat([avg_surf_gb, avg_ultimate_gb], axis='columns').reset_index()\n",
    "avg_gb['month'] = pd.Categorical(avg_gb[\"month\"],\n",
    "                             categories=[\"January\", \"February\", \"March\", \"April\", \"May\", \"June\", \"July\",\n",
    "                                         \"August\", \"September\", \"October\", \"November\", \"December\"],\n",
    "                             ordered=True)\n",
    "\n",
    "avg_gb = avg_gb.sort_values('month')\n",
    "\n",
    "avg_gb.plot(kind='bar', x='month', y=['gb_charged_surf', 'gb_charged_ult'], \n",
    "                      title='Average GB Used By Month', xlabel='Month',\n",
    "              ylabel='GB', rot=35, figsize=[10, 4])\n",
    "\n",
    "plt.legend(['Surf', 'Ultimate'])\n",
    "plt.show()"
   ]
  },
  {
   "cell_type": "markdown",
   "metadata": {},
   "source": [
    "<div class=\"alert alert-danger\" style=\"border-radius: 15px; box-shadow: 4px 4px 4px; border: 1px solid \">\n",
    "<b> Reviewer's comment ❌</b>\n",
    "    \n",
    "Wold you add var and std here as well?\n",
    "\n",
    "</div>\n",
    "\n",
    "Done.\n",
    "<div class=\"alert alert-success\" style=\"border-radius: 15px; box-shadow: 4px 4px 4px; border: 1px solid \">\n",
    "<h2> Reviewer's comment 2 ✔️</h2>\n",
    "\n",
    "\n",
    "\n",
    "Great! </div>"
   ]
  },
  {
   "cell_type": "code",
   "execution_count": 65,
   "metadata": {},
   "outputs": [
    {
     "data": {
      "image/png": "[encoded data removed]",
      "text/plain": [
       "<Figure size 1000x400 with 1 Axes>"
      ]
     },
     "metadata": {},
     "output_type": "display_data"
    }
   ],
   "source": [
    "# Histogram of data usage \n",
    "all_surf_charges['gb_charged'].plot(title='GB Per User Histogram', kind='hist', rot=35, figsize=[10,4], bins=40)\n",
    "all_ultimate_charges['gb_charged'].plot(kind='hist', bins=40, alpha=0.5)\n",
    "\n",
    "plt.legend(['Surf', 'Ultimate'])\n",
    "\n",
    "plt.show()"
   ]
  },
  {
   "cell_type": "markdown",
   "metadata": {},
   "source": [
    "<div class=\"alert alert-success\" style=\"border-radius: 15px; box-shadow: 4px 4px 4px; border: 1px solid \">\n",
    "<h2> Reviewer's comment ✔️ </h2>\n",
    "    \n",
    "Good. \n",
    "    \n",
    "</div>"
   ]
  },
  {
   "cell_type": "code",
   "execution_count": 66,
   "metadata": {},
   "outputs": [
    {
     "data": {
      "image/png": "[encoded data removed]",
      "text/plain": [
       "<Figure size 1000x400 with 1 Axes>"
      ]
     },
     "metadata": {},
     "output_type": "display_data"
    }
   ],
   "source": [
    "# Cumulative frequency \n",
    "all_surf_charges['gb_charged'].plot(title='GB Per User Histogram (Cumulative Frequency)', kind='hist', \n",
    "                                    rot=35, figsize=[10,4], bins=40,\n",
    "                                    density=1, cumulative=True)\n",
    "all_ultimate_charges['gb_charged'].plot(kind='hist', bins=40, alpha=0.5, density=1, cumulative=True)\n",
    "\n",
    "plt.legend(['Surf', 'Ultimate'])\n",
    "\n",
    "plt.show()"
   ]
  },
  {
   "cell_type": "markdown",
   "metadata": {},
   "source": [
    "Conclusions about user behavior with respect to internet data:\n",
    "- Data usage for Surf users increased over the first half of the year, leveling off in July.\n",
    "- Data usage for Ultimate users was comparatively steady, with the exception of low usage in January (this is likely explained by the low amount of usable data for the early months).\n",
    "- Overall, however, both user groups have very similar data habits. Ultimate users used slightly more data, averaging 17.31GB compared to 16.67GB (a difference of about 4%). Unlike with message traffic, there isn't a noticeable dropoff from Surf users at their 15GB cap. The vast majority of users do stop short of the Ultimate cap of 30GB."
   ]
  },
  {
   "cell_type": "markdown",
   "metadata": {},
   "source": [
    "<div class=\"alert alert-success\" style=\"border-radius: 15px; box-shadow: 4px 4px 4px; border: 1px solid \">\n",
    "<h2> Reviewer's comment ✔️ </h2>\n",
    "    \n",
    "Interesting! \n",
    "</div>"
   ]
  },
  {
   "cell_type": "markdown",
   "metadata": {},
   "source": [
    "## Revenue"
   ]
  },
  {
   "cell_type": "markdown",
   "metadata": {},
   "source": [
    "Now it's time to get to the main thrust of this assignment: which of the two Megaline plans brings in more revenue?\n",
    "\n",
    "Note that we don't have data on whether these bills were actually paid. I don't expect that the percentage of unpaid bills is very high, but it's a possible source of error."
   ]
  },
  {
   "cell_type": "code",
   "execution_count": 67,
   "metadata": {},
   "outputs": [
    {
     "name": "stdout",
     "output_type": "stream",
     "text": [
      "Surf total revenue: 95491.18\n",
      "Ultimate total revenue: 52066.0\n"
     ]
    },
    {
     "data": {
      "image/png": "[encoded data removed]",
      "text/plain": [
       "<Figure size 200x300 with 1 Axes>"
      ]
     },
     "metadata": {},
     "output_type": "display_data"
    }
   ],
   "source": [
    "#Revenue in absolute terms:\n",
    "surf_total_revenue = df_charges[df_charges['plan']=='surf'].sum()['billed_usd']\n",
    "ultimate_total_revenue = df_charges[df_charges['plan']=='ultimate'].sum()['billed_usd']\n",
    "\n",
    "print('Surf total revenue:', surf_total_revenue)\n",
    "print('Ultimate total revenue:', ultimate_total_revenue)\n",
    "\n",
    "plt.figure(figsize=[2,3])\n",
    "plt.bar(x=['Surf', 'Ultimate'], height=[surf_total_revenue, ultimate_total_revenue], width=0.4)\n",
    "plt.title('Total Revenue')\n",
    "plt.xlabel('Plan')\n",
    "plt.ylabel('Dollars')\n",
    "plt.show()"
   ]
  },
  {
   "cell_type": "markdown",
   "metadata": {},
   "source": [
    "The Surf plan grosses more than the Ultimate plan--which makes sense, as it's more popular."
   ]
  },
  {
   "cell_type": "code",
   "execution_count": 68,
   "metadata": {
    "scrolled": false
   },
   "outputs": [
    {
     "data": {
      "image/png": "[encoded data removed]",
      "text/plain": [
       "<Figure size 1000x400 with 1 Axes>"
      ]
     },
     "metadata": {},
     "output_type": "display_data"
    }
   ],
   "source": [
    "#Revenue by month:\n",
    "monthly_revenue_surf = sums['billed_usd_surf'].set_axis(sums['month'])\n",
    "monthly_revenue_ultimate = sums['billed_usd_ult'].set_axis(sums['month'])\n",
    "\n",
    "monthly_revenue = pd.concat([monthly_revenue_surf, monthly_revenue_ultimate], axis='columns').reset_index()\n",
    "monthly_revenue['month'] = pd.Categorical(monthly_revenue[\"month\"],\n",
    "                             categories=[\"January\", \"February\", \"March\", \"April\", \"May\", \"June\", \"July\",\n",
    "                                         \"August\", \"September\", \"October\", \"November\", \"December\"],\n",
    "                             ordered=True)\n",
    "\n",
    "monthly_revenue = monthly_revenue.sort_values('month')\n",
    "\n",
    "monthly_revenue.plot(kind='bar', x='month', y=['billed_usd_surf', 'billed_usd_ult'], \n",
    "                      title='Revenue By Month', xlabel='Month',\n",
    "              ylabel='Dollars', rot=35, figsize=[10, 4])\n",
    "\n",
    "plt.show()"
   ]
  },
  {
   "cell_type": "markdown",
   "metadata": {},
   "source": [
    "The revenue increased month-over-month for both plans, but that's not particularly noteworthy--the number of users we have data for also went up dramatically over the year. Also, most of Surf's revenue advantage over Ultimate came from July and later months.\n",
    "\n",
    "<div class=\"alert alert-info\" style=\"border-left: 7px solid blue\">Given the reworked aggregation, it's more accurate to say the lead grows noticeable in May.</div>"
   ]
  },
  {
   "cell_type": "code",
   "execution_count": 69,
   "metadata": {},
   "outputs": [
    {
     "name": "stdout",
     "output_type": "stream",
     "text": [
      "Mean revenue per Surf user: 286.7603003003003\n",
      "Mean revenue per Ultimate user: 331.63057324840764\n"
     ]
    },
    {
     "data": {
      "image/png": "[encoded data removed]",
      "text/plain": [
       "<Figure size 1000x400 with 1 Axes>"
      ]
     },
     "metadata": {},
     "output_type": "display_data"
    }
   ],
   "source": [
    "#Revenue per user \n",
    "revenue_per_surf_user = df_charges[df_charges['plan'] == 'surf'].groupby('user_id').sum()['billed_usd']\n",
    "revenue_per_ultimate_user = df_charges[df_charges['plan'] == 'ultimate'].groupby('user_id').sum()['billed_usd']\n",
    "\n",
    "print('Mean revenue per Surf user:', revenue_per_surf_user.mean())\n",
    "print('Mean revenue per Ultimate user:', revenue_per_ultimate_user.mean())\n",
    "\n",
    "revenue_per_surf_user.plot(title='Revenue Per User Histogram (Full Year)', kind='hist', rot=35, figsize=[10,4], bins=30)\n",
    "revenue_per_ultimate_user.plot(kind='hist', bins=30, alpha=0.5)\n",
    "plt.legend(['Surf', 'Ultimate'])\n",
    "plt.show()"
   ]
  },
  {
   "cell_type": "markdown",
   "metadata": {},
   "source": [
    "We can see from this histogram that Surf's revenue is held aloft by a high density of low-individual-revenue users. However, there's an issue here: we aren't accounting for the amount of time each user has been a customer of Megaline. Remember, the base fee for a Surf user is 20 dollars a month. There are also some extraordinary outliers present; the biggest example is user id 1268, a Surf user who regularly racked up triple-digit bills with heavy internet overage charges."
   ]
  },
  {
   "cell_type": "code",
   "execution_count": 70,
   "metadata": {
    "scrolled": false
   },
   "outputs": [
    {
     "name": "stdout",
     "output_type": "stream",
     "text": [
      "Mean revenue per Surf user: 60.706408137317226\n",
      "Mean revenue per Ultimate user: 72.31388888888888\n"
     ]
    },
    {
     "data": {
      "image/png": "[encoded data removed]",
      "text/plain": [
       "<Figure size 1000x400 with 1 Axes>"
      ]
     },
     "metadata": {},
     "output_type": "display_data"
    }
   ],
   "source": [
    "# print(df_users[df_users['user_id']==1268])\n",
    "# print(df_charges[df_charges['user_id']==1268])\n",
    "\n",
    "# Monthly revenue per user histogram\n",
    "monthly_revenue_per_surf_user = df_charges[df_charges['plan'] == 'surf']\\\n",
    "    .groupby(['user_id', 'month']).sum()['billed_usd'].reset_index()\n",
    "monthly_revenue_per_ultimate_user = df_charges[df_charges['plan'] == 'ultimate']\\\n",
    "    .groupby(['user_id', 'month']).sum()['billed_usd'].reset_index()\n",
    "\n",
    "print('Mean revenue per Surf user:', monthly_revenue_per_surf_user['billed_usd'].mean())\n",
    "print('Mean revenue per Ultimate user:', monthly_revenue_per_ultimate_user['billed_usd'].mean())\n",
    "\n",
    "\n",
    "monthly_revenue_per_surf_user['billed_usd'].plot(title='Revenue Per User Histogram (Monthly)', \n",
    "                                                 kind='hist', rot=35, figsize=[10,4], bins=30)\n",
    "monthly_revenue_per_ultimate_user['billed_usd'].plot(kind='hist', bins=30, alpha=0.5)\n",
    "plt.legend(['Surf', 'Ultimate'])\n",
    "plt.show()"
   ]
  },
  {
   "cell_type": "code",
   "execution_count": 71,
   "metadata": {},
   "outputs": [
    {
     "name": "stdout",
     "output_type": "stream",
     "text": [
      "Percentage of Surf users paying over $70: 0.31150667514303876\n"
     ]
    }
   ],
   "source": [
    "#One more question: Surf users regularly hit high overages.\n",
    "#How many Surf users could potentially save money by upgrading to Ultimate?\n",
    "\n",
    "surf_high_charges = all_surf_charges[all_surf_charges['billed_usd']> 70]\n",
    "\n",
    "print('Percentage of Surf users paying over $70:', len(surf_high_charges)/len(all_surf_charges))"
   ]
  },
  {
   "cell_type": "markdown",
   "metadata": {},
   "source": [
    "Here are the differences in revenue between the two plans:\n",
    "\n",
    "- Surf total revenue: 107767.67 USD. Ultimate total revenue: 76636.00 USD.\n",
    "    - Which is to say, Surf makes up about 40% more revenue than Ultimate in a head-to-head comparison.\n",
    "    - To put it another way, Surf makes up 58.4% of the total revenue both plans bring in.\n",
    "- Revenue has gone up month-over-month, at least in the sample of data we have available.\n",
    "    - If the sample is representative of the data as a whole, then congratulations may be in order! User counts increased over the year and more revenue was brought in.\n",
    "- On a per-user basis, Ultimate users unsurprisingly bring in more revenue. However, despite a base charge of 20 USD, Surf users' mean monthly payment was 48.07! Ultimate users' mean was much closer to their base charge at 71.56 USD.\n",
    "    - Over one in five Surf users are actually paying more than the 70 USD base Ultimate charge.\n",
    "\n",
    "<div class=\"alert alert-info\" style=\"border-left: 7px solid blue\">The reworked aggregation method changes a few of these numbers, such as the total revenue of each category. Also, the number of Surf users that outpace a baseline Ultimate user is now over 30%!</div>"
   ]
  },
  {
   "cell_type": "markdown",
   "metadata": {},
   "source": [
    "<div class=\"alert alert-success\" style=\"border-radius: 15px; box-shadow: 4px 4px 4px; border: 1px solid \">\n",
    "<h2> Reviewer's comment ✔️ </h2>\n",
    "    \n",
    "True. The average revenue of Surf does not even reach the subscription fee of Ultimate. \n",
    "</div>"
   ]
  },
  {
   "cell_type": "markdown",
   "metadata": {},
   "source": [
    " "
   ]
  },
  {
   "cell_type": "markdown",
   "metadata": {},
   "source": [
    "## Test statistical hypotheses"
   ]
  },
  {
   "cell_type": "markdown",
   "metadata": {},
   "source": [
    "Our first test is simple: is the mean revenue from the Surf population the same as that from the Ultimate population?\n",
    "\n",
    "While we found the means of the samples earlier, there's always variance, so we'll do a statistical test to see how likely it is that their means are the same."
   ]
  },
  {
   "cell_type": "markdown",
   "metadata": {},
   "source": [
    "We'll use a standard p-value of 0.05, representing our confidence level; if the test results in a lower p-value, we can reject the null hypothesis, as it is less than 5% likely to be true.\n",
    "\n",
    "The null hypothesis, in this case, is \"the two populations have the same mean.\" `scipy.stats.ttest_ind()` can calculate the p-value of hypotheses of that kind.\n",
    "\n",
    "The alternative hypothesis is \"the two populations have differing means.\" If we reject the null hypothesis, we are saying it's likely that the average revenue of Surf users differs from Ultimate users."
   ]
  },
  {
   "cell_type": "markdown",
   "metadata": {},
   "source": [
    "<div class=\"alert alert-success\" style=\"border-radius: 15px; box-shadow: 4px 4px 4px; border: 1px solid \">\n",
    "<h2> Reviewer's comment ✔️ </h2>\n",
    "\n",
    "    \n",
    "Correct. The null hypothesis always includes the equality sign. This is because the test does not understand exactly how we set the problem: we can say, for instance, let's make sure that they are not equal. Or that they are equal. And regardless of the purpose of our study, we always put equality at null hypothesis. Then the test result is interpreted correctly.\n",
    "\n",
    "</div>   "
   ]
  },
  {
   "cell_type": "code",
   "execution_count": 72,
   "metadata": {},
   "outputs": [
    {
     "name": "stdout",
     "output_type": "stream",
     "text": [
      "p-value: 0.061778679210086854\n",
      "We can't reject the null hypothesis; we can't confidently say the mean values differ.\n"
     ]
    }
   ],
   "source": [
    "# Test the hypotheses\n",
    "# Null hypothesis: Ultimate and Surf calling plans have similar revenue\n",
    "# Alternative hypothesis: Ultimate and Surf calling plans have differing revenue\n",
    "# Method: scipy.stats.ttest_ind(), which tests if two populations have the same mean\n",
    "\n",
    "#Specifically, I'll use the data from the full year, rather than month-to-month\n",
    "\n",
    "alpha = 0.05 # target p-value; lower result than this is statistically significant\n",
    "\n",
    "results=st.ttest_ind(revenue_per_surf_user, revenue_per_ultimate_user, equal_var=False) #False because we can't assume same variance\n",
    "\n",
    "print('p-value:', results.pvalue)\n",
    "\n",
    "if results.pvalue < alpha:\n",
    "    print(\"We reject the null hypothesis; it's likely the mean values differ.\")\n",
    "else:\n",
    "    print(\"We can't reject the null hypothesis; we can't confidently say the mean values differ.\")\n"
   ]
  },
  {
   "cell_type": "markdown",
   "metadata": {},
   "source": [
    "<div class=\"alert alert-success\" style=\"border-radius: 15px; box-shadow: 4px 4px 4px; border: 1px solid \">\n",
    "<h2> Reviewer's comment ✔️ </h2>\n",
    "\n",
    "    \n",
    "Correct. The fact that we reject the null hypothesis does not entail that the 2nd hypothesis is true. We just reject it at a particular significance level. \n",
    "\n",
    "\n",
    "</div>   \n",
    "\n",
    "<div class=\"alert alert-info\" style=\"border-left: 7px solid blue\">Incidentally, the change in data aggregation actually pushed the p-value above the threshold--if not by much.</div>"
   ]
  },
  {
   "cell_type": "markdown",
   "metadata": {},
   "source": [
    "Next hypothesis: NY-NJ area residents have a different average revenue from users of other regions. We'll have to do a little rearranging of the data to get these numbers."
   ]
  },
  {
   "cell_type": "code",
   "execution_count": 73,
   "metadata": {},
   "outputs": [],
   "source": [
    "all_user_revenue = df_charges.groupby('user_id').sum().reset_index()\n",
    "\n",
    "#detect NYNJ users\n",
    "city_counts = df_users.groupby('city').count().reset_index()['city'] #73 cities are represented\n",
    "# with pd.option_context('display.max_rows', None):\n",
    "#   display(city_counts)\n",
    "\n",
    "#a bit of a judgment call: there's no obvious delineation between which cities are \"NY-NJ area\" or not.\n",
    "#in this case any city entry that mentions those states is fine by me\n",
    "\n",
    "ny_cities = city_counts[city_counts.str.contains(\"NY\")]\n",
    "nj_cities = city_counts[city_counts.str.contains(\"NJ\")]\n",
    "\n",
    "ny_nj_area = pd.concat([ny_cities,nj_cities]).drop_duplicates()\n",
    "\n",
    "ny_nj_user_ids = df_users[df_users['city'].isin(ny_nj_area)]['user_id']\n",
    "\n",
    "ny_nj_charges = all_user_revenue[all_user_revenue['user_id'].isin(ny_nj_user_ids)] #103 users\n",
    "\n",
    "everywhere_else_charges = all_user_revenue[~all_user_revenue['user_id'].isin(ny_nj_user_ids)] #397 users\n",
    "\n",
    "ny_nj_revenue = ny_nj_charges['billed_usd']\n",
    "everywhere_else_revenue = everywhere_else_charges['billed_usd']"
   ]
  },
  {
   "cell_type": "markdown",
   "metadata": {},
   "source": [
    "Back to what we were doing! Like in the last problem, we are once again comparing two population means: NY/NJ versus everywhere else. So the null hypothesis is that they are the same mean, the alternative is that they are differing means, and the confidence value is `p<0.05`."
   ]
  },
  {
   "cell_type": "code",
   "execution_count": 74,
   "metadata": {},
   "outputs": [
    {
     "name": "stdout",
     "output_type": "stream",
     "text": [
      "p-value: 0.7447536069992415\n",
      "We can't reject the null hypothesis; we can't confidently say the mean values differ.\n"
     ]
    }
   ],
   "source": [
    "# Test the hypotheses\n",
    "\n",
    "# Null hypothesis: NY-NJ area has similar revenue to other areas\n",
    "# Alternative hypothesis: NY-NJ area has differing revenue\n",
    "# Method: scipy.stats.ttest_ind(), which tests if two populations have the same mean\n",
    "\n",
    "\n",
    "alpha = 0.05 # target p-value; lower result than this is statistically significant\n",
    "\n",
    "results=st.ttest_ind(ny_nj_revenue, everywhere_else_revenue, equal_var=False) #False because we can't assume same variance\n",
    "\n",
    "print('p-value:', results.pvalue)\n",
    "\n",
    "if results.pvalue < alpha:\n",
    "    print(\"We reject the null hypothesis; it's likely the mean values differ.\")\n",
    "else:\n",
    "    print(\"We can't reject the null hypothesis; we can't confidently say the mean values differ.\")\n"
   ]
  },
  {
   "cell_type": "markdown",
   "metadata": {},
   "source": [
    "<div class=\"alert alert-success\" style=\"border-radius: 15px; box-shadow: 4px 4px 4px; border: 1px solid \">\n",
    "<h2> Reviewer's comment ✔️ </h2>\n",
    "\n",
    "    \n",
    "Good. \n",
    "\n",
    "</div>   "
   ]
  },
  {
   "cell_type": "markdown",
   "metadata": {},
   "source": [
    "## General conclusion\n",
    "\n",
    "[List your important conclusions in this final section, make sure they cover all those important decisions (assumptions) that you've made and that led you to the way you processed and analyzed the data.]\n",
    "\n",
    "This was quite a ride!\n",
    "\n",
    "The most complicated part of this whole project was figuring out how to cope with the missing data. While there was only a little immediately obvious missing data, towards the end it became apparent that I'd missed some. Ultimately I chose to remove calls of zero duration and internet sessions where no data was transferred. What I found out was that some users had been signed up for plans in a given month but did not have information pertaining to their activity in that month. For the purposes of revenue calculation, I chose to treat those missing entries as zero (as they clearly paid for service); for all other statistical analysis they were excluded.\n",
    "\n",
    "So, conclusions about the data:\n",
    "\n",
    "- Surf users individually bring in less revenue than Ultimate users; however, there are more of them, so the total revenue Megaline got from them was higher. \n",
    "    - We were able to show with a very strong level of confidence that \"Surf users bring in more revenue\" is likely true for the general population as well.\n",
    "    - Surf users also rack up quite a lot of overcharges. Over 20% of them actually pay over 70 dollars, which is the base price of the Ultimate plan.\n",
    "- We cannot confidently say the revenue from NY-NJ residents differs from the rest of the population.\n",
    "- Aside from revenue, Surf and Ultimate users show similar habits in most respects.\n",
    "    - Surf users tend to not curtail their internet caps past the 15GB limit they have, or their phone minutes past the 500 minute limit. They show a similar distribution to Ultimate users in those areas.\n",
    "    - One difference is that Surf users do tend to stop short of their message caps; the distribution there shows a steeper drop than for Ultimate users.\n",
    "    \n",
    "Thanks for reading!"
   ]
  },
  {
   "cell_type": "markdown",
   "metadata": {},
   "source": [
    "<div class=\"alert alert-success\" style=\"border-radius: 15px; box-shadow: 4px 4px 4px; border: 1px solid \">\n",
    "<h2> Reviewer's comment ✔️ </h2>\n",
    "\n",
    "    \n",
    "Excellent job, thank you very much! \n",
    "\n",
    "</div>   "
   ]
  }
 ],
 "metadata": {
  "ExecuteTimeLog": [
   {
    "duration": 828,
    "start_time": "2021-11-16T09:21:11.304Z"
   },
   {
    "duration": 893,
    "start_time": "2021-11-16T09:21:17.728Z"
   },
   {
    "duration": 1150,
    "start_time": "2021-11-16T09:21:29.568Z"
   },
   {
    "duration": 3,
    "start_time": "2021-11-16T09:24:14.495Z"
   },
   {
    "duration": 120,
    "start_time": "2021-11-16T09:24:46.630Z"
   },
   {
    "duration": 3,
    "start_time": "2021-11-16T09:28:27.882Z"
   },
   {
    "duration": 4,
    "start_time": "2021-11-16T09:29:54.281Z"
   },
   {
    "duration": 3,
    "start_time": "2021-11-16T09:30:45.936Z"
   },
   {
    "duration": 4,
    "start_time": "2021-11-16T09:31:06.300Z"
   },
   {
    "duration": 113,
    "start_time": "2021-11-16T09:31:37.208Z"
   },
   {
    "duration": 143,
    "start_time": "2021-11-16T09:31:48.656Z"
   },
   {
    "duration": 98,
    "start_time": "2021-11-16T09:31:55.678Z"
   },
   {
    "duration": 3,
    "start_time": "2021-11-16T09:32:08.535Z"
   },
   {
    "duration": 111,
    "start_time": "2021-11-16T09:32:10.120Z"
   },
   {
    "duration": 3,
    "start_time": "2021-11-16T09:32:15.732Z"
   },
   {
    "duration": 4,
    "start_time": "2021-11-16T09:32:29.423Z"
   },
   {
    "duration": 3,
    "start_time": "2021-11-16T10:03:03.074Z"
   },
   {
    "duration": 3,
    "start_time": "2021-11-16T10:10:01.288Z"
   },
   {
    "duration": 3,
    "start_time": "2021-11-16T10:10:46.923Z"
   },
   {
    "duration": 121,
    "start_time": "2021-11-16T10:37:46.494Z"
   },
   {
    "duration": 125,
    "start_time": "2021-11-16T10:38:20.632Z"
   },
   {
    "duration": 112,
    "start_time": "2021-11-16T10:46:53.001Z"
   },
   {
    "duration": 110,
    "start_time": "2021-11-16T10:48:25.775Z"
   },
   {
    "duration": 3,
    "start_time": "2021-11-16T10:50:18.720Z"
   },
   {
    "duration": 4,
    "start_time": "2021-11-16T10:50:37.649Z"
   },
   {
    "duration": 2,
    "start_time": "2021-11-16T10:50:51.884Z"
   },
   {
    "duration": 3,
    "start_time": "2021-11-16T10:51:56.237Z"
   },
   {
    "duration": 101,
    "start_time": "2021-11-16T10:53:13.791Z"
   },
   {
    "duration": 3,
    "start_time": "2021-11-16T10:55:59.186Z"
   },
   {
    "duration": 3,
    "start_time": "2021-11-16T10:56:10.751Z"
   },
   {
    "duration": 3,
    "start_time": "2021-11-16T10:56:49.038Z"
   },
   {
    "duration": 3,
    "start_time": "2021-11-16T10:56:49.174Z"
   },
   {
    "duration": 4,
    "start_time": "2021-11-16T10:56:49.414Z"
   },
   {
    "duration": 3,
    "start_time": "2021-11-16T10:56:49.680Z"
   },
   {
    "duration": 3,
    "start_time": "2021-11-16T10:56:50.370Z"
   },
   {
    "duration": 114,
    "start_time": "2021-11-16T10:59:34.518Z"
   },
   {
    "duration": 3,
    "start_time": "2021-11-16T11:01:41.201Z"
   },
   {
    "duration": 116,
    "start_time": "2021-11-16T11:01:48.754Z"
   },
   {
    "duration": 3,
    "start_time": "2021-11-16T11:02:16.685Z"
   },
   {
    "duration": 3,
    "start_time": "2021-11-16T11:02:19.479Z"
   },
   {
    "duration": 3,
    "start_time": "2021-11-16T11:02:47.067Z"
   },
   {
    "duration": 3,
    "start_time": "2021-11-16T11:02:49.353Z"
   },
   {
    "duration": 3,
    "start_time": "2021-11-16T11:03:07.835Z"
   },
   {
    "duration": 3,
    "start_time": "2021-11-16T11:03:07.953Z"
   },
   {
    "duration": 112,
    "start_time": "2021-11-16T11:07:52.072Z"
   },
   {
    "duration": 187,
    "start_time": "2021-11-16T11:09:23.468Z"
   },
   {
    "duration": 4,
    "start_time": "2021-11-16T11:10:01.455Z"
   },
   {
    "duration": 3,
    "start_time": "2021-11-16T11:10:05.069Z"
   },
   {
    "duration": 4,
    "start_time": "2021-11-16T11:10:13.376Z"
   },
   {
    "duration": 3,
    "start_time": "2021-11-16T11:10:14.434Z"
   },
   {
    "duration": 3,
    "start_time": "2021-11-16T11:10:22.853Z"
   },
   {
    "duration": 4,
    "start_time": "2021-11-16T11:27:29.279Z"
   },
   {
    "duration": 4,
    "start_time": "2021-11-16T11:29:08.919Z"
   },
   {
    "duration": 118,
    "start_time": "2021-11-16T11:29:46.703Z"
   },
   {
    "duration": 437,
    "start_time": "2021-11-16T11:36:02.181Z"
   },
   {
    "duration": 157,
    "start_time": "2021-11-16T11:36:14.388Z"
   },
   {
    "duration": 207,
    "start_time": "2021-11-16T11:47:15.898Z"
   },
   {
    "duration": 3,
    "start_time": "2021-11-16T11:53:52.092Z"
   },
   {
    "duration": 3,
    "start_time": "2021-11-16T11:53:52.236Z"
   },
   {
    "duration": 3,
    "start_time": "2021-11-16T11:59:12.005Z"
   },
   {
    "duration": 112,
    "start_time": "2021-11-16T12:00:33.446Z"
   },
   {
    "duration": 3,
    "start_time": "2021-11-16T12:02:14.453Z"
   },
   {
    "duration": 3,
    "start_time": "2021-11-16T12:02:39.512Z"
   },
   {
    "duration": 106,
    "start_time": "2021-11-16T12:03:03.460Z"
   },
   {
    "duration": 3,
    "start_time": "2021-11-17T20:37:21.139Z"
   },
   {
    "duration": 3,
    "start_time": "2021-11-17T20:37:22.229Z"
   },
   {
    "duration": 3,
    "start_time": "2021-11-17T20:38:38.806Z"
   },
   {
    "duration": 3,
    "start_time": "2021-11-17T20:38:41.958Z"
   },
   {
    "duration": 3,
    "start_time": "2021-11-17T20:43:46.551Z"
   },
   {
    "duration": 4,
    "start_time": "2021-11-17T20:58:21.835Z"
   },
   {
    "duration": 3,
    "start_time": "2021-11-17T20:59:21.872Z"
   },
   {
    "duration": 4,
    "start_time": "2021-11-17T20:59:45.352Z"
   },
   {
    "duration": 4,
    "start_time": "2021-11-17T20:59:49.646Z"
   },
   {
    "duration": 159,
    "start_time": "2021-11-17T21:02:26.949Z"
   },
   {
    "duration": 3,
    "start_time": "2021-11-17T21:03:53.461Z"
   },
   {
    "duration": 3,
    "start_time": "2021-11-17T21:03:53.694Z"
   },
   {
    "duration": 3,
    "start_time": "2021-11-17T21:05:28.145Z"
   },
   {
    "duration": 116,
    "start_time": "2021-11-17T21:05:57.787Z"
   },
   {
    "duration": 3,
    "start_time": "2021-11-17T21:06:37.993Z"
   },
   {
    "duration": 3,
    "start_time": "2021-11-17T21:06:38.261Z"
   },
   {
    "duration": 3,
    "start_time": "2021-11-17T21:11:54.358Z"
   },
   {
    "duration": 3,
    "start_time": "2021-11-17T21:12:43.846Z"
   },
   {
    "duration": 4,
    "start_time": "2021-11-17T21:13:08.773Z"
   },
   {
    "duration": 3,
    "start_time": "2021-11-17T21:14:44.441Z"
   },
   {
    "duration": 3,
    "start_time": "2021-11-17T21:15:42.059Z"
   },
   {
    "duration": 4,
    "start_time": "2021-11-17T21:15:51.995Z"
   },
   {
    "duration": 3,
    "start_time": "2021-11-17T21:15:53.923Z"
   },
   {
    "duration": 3,
    "start_time": "2021-11-17T21:15:55.282Z"
   },
   {
    "duration": 3,
    "start_time": "2021-11-17T21:16:28.492Z"
   },
   {
    "duration": 3,
    "start_time": "2021-11-17T21:16:32.603Z"
   },
   {
    "duration": 3,
    "start_time": "2021-11-17T21:17:06.941Z"
   },
   {
    "duration": 98,
    "start_time": "2021-11-17T21:18:05.733Z"
   },
   {
    "duration": 4,
    "start_time": "2021-11-17T21:21:35.255Z"
   },
   {
    "duration": 3,
    "start_time": "2021-11-17T21:21:37.804Z"
   },
   {
    "duration": 4,
    "start_time": "2021-11-17T21:23:06.071Z"
   },
   {
    "duration": 3,
    "start_time": "2021-11-17T21:23:24.799Z"
   },
   {
    "duration": 3,
    "start_time": "2021-11-17T21:23:32.591Z"
   },
   {
    "duration": 98,
    "start_time": "2021-11-17T21:28:31.559Z"
   },
   {
    "duration": 3,
    "start_time": "2021-11-17T21:28:45.448Z"
   },
   {
    "duration": 3,
    "start_time": "2021-11-17T21:29:17.303Z"
   },
   {
    "duration": 3,
    "start_time": "2021-11-17T21:29:29.617Z"
   },
   {
    "duration": 3,
    "start_time": "2021-11-17T21:29:32.681Z"
   },
   {
    "duration": 3,
    "start_time": "2021-11-17T21:36:11.474Z"
   },
   {
    "duration": 3,
    "start_time": "2021-11-17T21:36:14.791Z"
   },
   {
    "duration": 3,
    "start_time": "2021-11-17T21:36:53.943Z"
   },
   {
    "duration": 3,
    "start_time": "2021-11-17T21:36:56.165Z"
   },
   {
    "duration": 4,
    "start_time": "2021-11-17T21:37:16.590Z"
   },
   {
    "duration": 3,
    "start_time": "2021-11-17T21:37:22.702Z"
   },
   {
    "duration": 4,
    "start_time": "2021-11-17T21:38:03.479Z"
   },
   {
    "duration": 3,
    "start_time": "2021-11-17T21:38:08.601Z"
   },
   {
    "duration": 3,
    "start_time": "2021-11-17T21:38:12.928Z"
   },
   {
    "duration": 3,
    "start_time": "2021-11-17T21:38:48.896Z"
   },
   {
    "duration": 2,
    "start_time": "2021-11-17T21:38:49.171Z"
   },
   {
    "duration": 4,
    "start_time": "2021-11-17T21:39:57.889Z"
   },
   {
    "duration": 3,
    "start_time": "2021-11-17T21:39:58.057Z"
   },
   {
    "duration": 3,
    "start_time": "2021-11-17T21:41:20.108Z"
   },
   {
    "duration": 3,
    "start_time": "2021-11-17T21:41:20.629Z"
   },
   {
    "duration": 3,
    "start_time": "2021-11-17T21:42:49.136Z"
   },
   {
    "duration": 3,
    "start_time": "2021-11-17T21:43:15.137Z"
   },
   {
    "duration": 4,
    "start_time": "2021-11-17T21:43:16.766Z"
   },
   {
    "duration": 4,
    "start_time": "2021-11-17T21:43:31.711Z"
   },
   {
    "duration": 3,
    "start_time": "2021-11-17T21:43:36.312Z"
   },
   {
    "duration": 4,
    "start_time": "2021-11-17T21:45:08.825Z"
   },
   {
    "duration": 4,
    "start_time": "2021-11-17T21:45:10.119Z"
   },
   {
    "duration": 4,
    "start_time": "2021-11-17T21:45:13.748Z"
   },
   {
    "duration": 3,
    "start_time": "2021-11-17T21:45:22.219Z"
   },
   {
    "duration": 3,
    "start_time": "2021-11-17T21:45:33.412Z"
   },
   {
    "duration": 2,
    "start_time": "2021-11-17T21:46:01.885Z"
   },
   {
    "duration": 3,
    "start_time": "2021-11-17T21:46:03.628Z"
   },
   {
    "duration": 107,
    "start_time": "2021-11-17T21:47:32.512Z"
   },
   {
    "duration": 103,
    "start_time": "2021-11-17T21:50:36.243Z"
   },
   {
    "duration": 3,
    "start_time": "2021-11-18T06:28:31.440Z"
   },
   {
    "duration": 3,
    "start_time": "2021-11-18T06:29:00.168Z"
   },
   {
    "duration": 3,
    "start_time": "2021-11-18T06:31:27.008Z"
   },
   {
    "duration": 2,
    "start_time": "2021-11-18T06:35:34.288Z"
   },
   {
    "duration": 2,
    "start_time": "2021-11-18T06:38:04.527Z"
   },
   {
    "duration": 2542,
    "start_time": "2024-08-27T13:11:45.345Z"
   },
   {
    "duration": 252,
    "start_time": "2024-08-27T13:11:47.889Z"
   },
   {
    "duration": 2,
    "start_time": "2024-08-27T13:11:48.143Z"
   },
   {
    "duration": 2,
    "start_time": "2024-08-27T13:11:48.148Z"
   },
   {
    "duration": 2,
    "start_time": "2024-08-27T13:11:48.152Z"
   },
   {
    "duration": 3,
    "start_time": "2024-08-27T13:11:48.156Z"
   },
   {
    "duration": 3,
    "start_time": "2024-08-27T13:11:48.160Z"
   },
   {
    "duration": 2,
    "start_time": "2024-08-27T13:11:48.164Z"
   },
   {
    "duration": 2,
    "start_time": "2024-08-27T13:11:48.168Z"
   },
   {
    "duration": 2,
    "start_time": "2024-08-27T13:11:48.173Z"
   },
   {
    "duration": 2,
    "start_time": "2024-08-27T13:11:48.177Z"
   },
   {
    "duration": 3,
    "start_time": "2024-08-27T13:11:48.181Z"
   },
   {
    "duration": 1,
    "start_time": "2024-08-27T13:11:48.187Z"
   },
   {
    "duration": 53,
    "start_time": "2024-08-27T13:11:48.190Z"
   },
   {
    "duration": 2,
    "start_time": "2024-08-27T13:11:48.245Z"
   },
   {
    "duration": 2,
    "start_time": "2024-08-27T13:11:48.249Z"
   },
   {
    "duration": 2,
    "start_time": "2024-08-27T13:11:48.252Z"
   },
   {
    "duration": 2,
    "start_time": "2024-08-27T13:11:48.256Z"
   },
   {
    "duration": 2,
    "start_time": "2024-08-27T13:11:48.260Z"
   },
   {
    "duration": 3,
    "start_time": "2024-08-27T13:11:48.264Z"
   },
   {
    "duration": 3,
    "start_time": "2024-08-27T13:11:48.268Z"
   },
   {
    "duration": 3,
    "start_time": "2024-08-27T13:11:48.272Z"
   },
   {
    "duration": 3,
    "start_time": "2024-08-27T13:11:48.276Z"
   },
   {
    "duration": 2,
    "start_time": "2024-08-27T13:11:48.281Z"
   },
   {
    "duration": 2,
    "start_time": "2024-08-27T13:11:48.284Z"
   },
   {
    "duration": 56,
    "start_time": "2024-08-27T13:11:48.288Z"
   },
   {
    "duration": 2,
    "start_time": "2024-08-27T13:11:48.347Z"
   },
   {
    "duration": 2,
    "start_time": "2024-08-27T13:11:48.352Z"
   },
   {
    "duration": 17,
    "start_time": "2024-08-27T13:13:51.698Z"
   },
   {
    "duration": 10,
    "start_time": "2024-08-27T13:14:00.157Z"
   },
   {
    "duration": 16,
    "start_time": "2024-08-27T13:14:16.012Z"
   },
   {
    "duration": 7,
    "start_time": "2024-08-27T13:14:24.005Z"
   },
   {
    "duration": 13,
    "start_time": "2024-08-27T13:14:41.152Z"
   },
   {
    "duration": 7,
    "start_time": "2024-08-27T13:14:46.096Z"
   },
   {
    "duration": 9,
    "start_time": "2024-08-27T13:14:54.760Z"
   },
   {
    "duration": 10,
    "start_time": "2024-08-27T13:15:01.657Z"
   },
   {
    "duration": 9,
    "start_time": "2024-08-27T13:15:08.627Z"
   },
   {
    "duration": 8,
    "start_time": "2024-08-27T13:15:17.867Z"
   },
   {
    "duration": 7,
    "start_time": "2024-08-27T13:23:18.530Z"
   },
   {
    "duration": 11,
    "start_time": "2024-08-27T13:23:26.693Z"
   },
   {
    "duration": 7,
    "start_time": "2024-08-27T13:24:30.067Z"
   },
   {
    "duration": 9,
    "start_time": "2024-08-27T13:32:27.033Z"
   },
   {
    "duration": 121,
    "start_time": "2024-08-27T13:46:16.581Z"
   },
   {
    "duration": 108,
    "start_time": "2024-08-27T13:46:20.888Z"
   },
   {
    "duration": 123,
    "start_time": "2024-08-27T13:46:34.912Z"
   },
   {
    "duration": 12,
    "start_time": "2024-08-27T13:46:40.348Z"
   },
   {
    "duration": 35,
    "start_time": "2024-08-27T13:46:43.118Z"
   },
   {
    "duration": 35,
    "start_time": "2024-08-27T13:47:36.512Z"
   },
   {
    "duration": 64,
    "start_time": "2024-08-27T13:47:54.305Z"
   },
   {
    "duration": 19,
    "start_time": "2024-08-27T13:48:44.738Z"
   },
   {
    "duration": 6,
    "start_time": "2024-08-27T13:49:24.555Z"
   },
   {
    "duration": 120,
    "start_time": "2024-08-27T13:52:16.729Z"
   },
   {
    "duration": 515,
    "start_time": "2024-08-27T13:53:32.716Z"
   },
   {
    "duration": 66,
    "start_time": "2024-08-27T13:53:40.187Z"
   },
   {
    "duration": 62,
    "start_time": "2024-08-27T13:54:05.125Z"
   },
   {
    "duration": 161,
    "start_time": "2024-08-27T13:54:18.453Z"
   },
   {
    "duration": 43,
    "start_time": "2024-08-27T13:55:49.433Z"
   },
   {
    "duration": 27,
    "start_time": "2024-08-27T13:56:33.356Z"
   },
   {
    "duration": 44,
    "start_time": "2024-08-27T13:57:18.277Z"
   },
   {
    "duration": 5,
    "start_time": "2024-08-27T13:57:33.460Z"
   },
   {
    "duration": 6,
    "start_time": "2024-08-27T14:01:14.001Z"
   },
   {
    "duration": 8,
    "start_time": "2024-08-27T14:01:51.817Z"
   },
   {
    "duration": 9,
    "start_time": "2024-08-27T14:02:32.999Z"
   },
   {
    "duration": 15,
    "start_time": "2024-08-27T14:06:43.573Z"
   },
   {
    "duration": 16,
    "start_time": "2024-08-27T14:07:02.808Z"
   },
   {
    "duration": 9,
    "start_time": "2024-08-27T14:07:07.523Z"
   },
   {
    "duration": 2,
    "start_time": "2024-08-27T14:08:22.766Z"
   },
   {
    "duration": 170,
    "start_time": "2024-08-27T14:08:22.771Z"
   },
   {
    "duration": 18,
    "start_time": "2024-08-27T14:08:22.944Z"
   },
   {
    "duration": 9,
    "start_time": "2024-08-27T14:08:22.964Z"
   },
   {
    "duration": 15,
    "start_time": "2024-08-27T14:08:22.976Z"
   },
   {
    "duration": 10,
    "start_time": "2024-08-27T14:08:22.992Z"
   },
   {
    "duration": 42,
    "start_time": "2024-08-27T14:08:23.003Z"
   },
   {
    "duration": 7,
    "start_time": "2024-08-27T14:08:23.046Z"
   },
   {
    "duration": 9,
    "start_time": "2024-08-27T14:08:23.055Z"
   },
   {
    "duration": 7,
    "start_time": "2024-08-27T14:08:23.066Z"
   },
   {
    "duration": 9,
    "start_time": "2024-08-27T14:08:23.077Z"
   },
   {
    "duration": 8,
    "start_time": "2024-08-27T14:08:23.087Z"
   },
   {
    "duration": 52,
    "start_time": "2024-08-27T14:08:23.097Z"
   },
   {
    "duration": 9,
    "start_time": "2024-08-27T14:08:23.151Z"
   },
   {
    "duration": 5,
    "start_time": "2024-08-27T14:08:23.161Z"
   },
   {
    "duration": 9,
    "start_time": "2024-08-27T14:08:23.168Z"
   },
   {
    "duration": 3,
    "start_time": "2024-08-27T14:08:23.178Z"
   },
   {
    "duration": 2,
    "start_time": "2024-08-27T14:08:23.182Z"
   },
   {
    "duration": 2,
    "start_time": "2024-08-27T14:08:23.186Z"
   },
   {
    "duration": 3,
    "start_time": "2024-08-27T14:08:23.189Z"
   },
   {
    "duration": 2,
    "start_time": "2024-08-27T14:08:23.193Z"
   },
   {
    "duration": 2,
    "start_time": "2024-08-27T14:08:23.197Z"
   },
   {
    "duration": 3,
    "start_time": "2024-08-27T14:08:23.244Z"
   },
   {
    "duration": 2,
    "start_time": "2024-08-27T14:08:23.249Z"
   },
   {
    "duration": 2,
    "start_time": "2024-08-27T14:08:23.252Z"
   },
   {
    "duration": 2,
    "start_time": "2024-08-27T14:08:23.256Z"
   },
   {
    "duration": 3,
    "start_time": "2024-08-27T14:08:23.260Z"
   },
   {
    "duration": 2,
    "start_time": "2024-08-27T14:08:23.264Z"
   },
   {
    "duration": 2,
    "start_time": "2024-08-27T14:08:23.270Z"
   },
   {
    "duration": 2,
    "start_time": "2024-08-27T14:08:23.274Z"
   },
   {
    "duration": 3,
    "start_time": "2024-08-27T14:08:23.278Z"
   },
   {
    "duration": 2,
    "start_time": "2024-08-27T14:08:23.283Z"
   },
   {
    "duration": 56,
    "start_time": "2024-08-27T14:08:23.287Z"
   },
   {
    "duration": 4,
    "start_time": "2024-08-27T14:08:23.345Z"
   },
   {
    "duration": 2,
    "start_time": "2024-08-27T14:08:23.350Z"
   },
   {
    "duration": 3,
    "start_time": "2024-08-27T14:08:23.354Z"
   },
   {
    "duration": 3,
    "start_time": "2024-08-27T14:08:23.358Z"
   },
   {
    "duration": 2,
    "start_time": "2024-08-27T14:08:23.363Z"
   },
   {
    "duration": 2,
    "start_time": "2024-08-27T14:08:23.367Z"
   },
   {
    "duration": 2,
    "start_time": "2024-08-27T14:08:23.371Z"
   },
   {
    "duration": 4,
    "start_time": "2024-08-27T14:09:40.332Z"
   },
   {
    "duration": 16,
    "start_time": "2024-08-27T14:18:44.716Z"
   },
   {
    "duration": 7,
    "start_time": "2024-08-28T17:12:07.333Z"
   },
   {
    "duration": 11,
    "start_time": "2024-08-28T17:13:11.339Z"
   },
   {
    "duration": 27,
    "start_time": "2024-08-28T17:13:55.045Z"
   },
   {
    "duration": 13,
    "start_time": "2024-08-28T17:14:03.429Z"
   },
   {
    "duration": 19,
    "start_time": "2024-08-28T17:14:07.074Z"
   },
   {
    "duration": 98,
    "start_time": "2024-08-28T17:14:54.345Z"
   },
   {
    "duration": 28,
    "start_time": "2024-08-28T17:15:39.765Z"
   },
   {
    "duration": 21,
    "start_time": "2024-08-28T17:15:47.049Z"
   },
   {
    "duration": 21,
    "start_time": "2024-08-28T17:16:02.421Z"
   },
   {
    "duration": 8,
    "start_time": "2024-08-28T17:16:33.678Z"
   },
   {
    "duration": 28,
    "start_time": "2024-08-28T17:16:40.816Z"
   },
   {
    "duration": 27,
    "start_time": "2024-08-28T17:16:51.730Z"
   },
   {
    "duration": 100,
    "start_time": "2024-08-28T17:17:00.042Z"
   },
   {
    "duration": 28,
    "start_time": "2024-08-28T17:17:38.914Z"
   },
   {
    "duration": 28,
    "start_time": "2024-08-28T17:17:45.967Z"
   },
   {
    "duration": 108,
    "start_time": "2024-08-28T17:24:10.321Z"
   },
   {
    "duration": 8,
    "start_time": "2024-08-28T17:25:58.098Z"
   },
   {
    "duration": 9,
    "start_time": "2024-08-28T17:26:00.815Z"
   },
   {
    "duration": 8,
    "start_time": "2024-08-28T17:31:18.071Z"
   },
   {
    "duration": 8,
    "start_time": "2024-08-28T17:31:26.325Z"
   },
   {
    "duration": 9,
    "start_time": "2024-08-28T17:32:38.469Z"
   },
   {
    "duration": 9,
    "start_time": "2024-08-28T17:32:46.516Z"
   },
   {
    "duration": 14,
    "start_time": "2024-08-28T17:33:10.436Z"
   },
   {
    "duration": 8,
    "start_time": "2024-08-28T17:33:37.403Z"
   },
   {
    "duration": 16,
    "start_time": "2024-08-28T17:35:42.341Z"
   },
   {
    "duration": 9,
    "start_time": "2024-08-28T17:36:12.173Z"
   },
   {
    "duration": 10,
    "start_time": "2024-08-28T17:36:35.689Z"
   },
   {
    "duration": 9,
    "start_time": "2024-08-28T17:36:44.158Z"
   },
   {
    "duration": 11,
    "start_time": "2024-08-28T17:39:19.280Z"
   },
   {
    "duration": 12,
    "start_time": "2024-08-28T17:42:19.636Z"
   },
   {
    "duration": 23,
    "start_time": "2024-08-28T17:44:52.366Z"
   },
   {
    "duration": 17,
    "start_time": "2024-08-28T17:46:01.653Z"
   },
   {
    "duration": 10,
    "start_time": "2024-08-28T17:46:11.120Z"
   },
   {
    "duration": 15,
    "start_time": "2024-08-28T17:49:05.678Z"
   },
   {
    "duration": 6,
    "start_time": "2024-08-28T17:49:09.986Z"
   },
   {
    "duration": 7,
    "start_time": "2024-08-28T17:49:16.359Z"
   },
   {
    "duration": 6,
    "start_time": "2024-08-28T17:51:24.513Z"
   },
   {
    "duration": 8,
    "start_time": "2024-08-28T17:51:44.445Z"
   },
   {
    "duration": 6,
    "start_time": "2024-08-28T17:52:29.267Z"
   },
   {
    "duration": 8,
    "start_time": "2024-08-28T17:53:16.639Z"
   },
   {
    "duration": 10,
    "start_time": "2024-08-28T17:53:59.953Z"
   },
   {
    "duration": 10,
    "start_time": "2024-08-28T18:05:54.287Z"
   },
   {
    "duration": 9,
    "start_time": "2024-08-28T18:06:15.136Z"
   },
   {
    "duration": 15,
    "start_time": "2024-08-28T18:07:07.276Z"
   },
   {
    "duration": 17,
    "start_time": "2024-08-28T18:08:24.402Z"
   },
   {
    "duration": 12,
    "start_time": "2024-08-28T18:08:39.291Z"
   },
   {
    "duration": 14,
    "start_time": "2024-08-28T18:11:03.055Z"
   },
   {
    "duration": 21,
    "start_time": "2024-08-28T18:11:39.804Z"
   },
   {
    "duration": 22,
    "start_time": "2024-08-28T18:16:31.809Z"
   },
   {
    "duration": 14,
    "start_time": "2024-08-28T18:16:55.904Z"
   },
   {
    "duration": 20,
    "start_time": "2024-08-28T18:17:17.846Z"
   },
   {
    "duration": 18,
    "start_time": "2024-08-28T18:19:06.071Z"
   },
   {
    "duration": 11,
    "start_time": "2024-08-28T18:19:09.726Z"
   },
   {
    "duration": 23,
    "start_time": "2024-08-28T18:20:23.036Z"
   },
   {
    "duration": 9,
    "start_time": "2024-08-28T18:20:47.824Z"
   },
   {
    "duration": 11,
    "start_time": "2024-08-28T18:26:18.904Z"
   },
   {
    "duration": 10,
    "start_time": "2024-08-28T18:26:28.618Z"
   },
   {
    "duration": 18,
    "start_time": "2024-08-28T18:29:14.498Z"
   },
   {
    "duration": 7,
    "start_time": "2024-08-28T18:30:54.776Z"
   },
   {
    "duration": 8,
    "start_time": "2024-08-28T18:31:01.185Z"
   },
   {
    "duration": 7,
    "start_time": "2024-08-28T18:31:13.341Z"
   },
   {
    "duration": 13,
    "start_time": "2024-08-28T18:33:12.857Z"
   },
   {
    "duration": 61,
    "start_time": "2024-08-28T18:33:24.048Z"
   },
   {
    "duration": 4,
    "start_time": "2024-08-28T18:33:32.656Z"
   },
   {
    "duration": 16,
    "start_time": "2024-08-28T18:34:15.518Z"
   },
   {
    "duration": 5,
    "start_time": "2024-08-28T18:34:43.634Z"
   },
   {
    "duration": 7,
    "start_time": "2024-08-28T18:34:48.431Z"
   },
   {
    "duration": 9,
    "start_time": "2024-08-28T18:36:54.080Z"
   },
   {
    "duration": 7,
    "start_time": "2024-08-28T18:36:58.431Z"
   },
   {
    "duration": 19,
    "start_time": "2024-08-28T18:37:24.632Z"
   },
   {
    "duration": 21,
    "start_time": "2024-08-28T18:37:29.571Z"
   },
   {
    "duration": 12,
    "start_time": "2024-08-28T18:37:58.707Z"
   },
   {
    "duration": 116,
    "start_time": "2024-08-28T18:38:02.261Z"
   },
   {
    "duration": 5,
    "start_time": "2024-08-28T18:40:12.943Z"
   },
   {
    "duration": 18,
    "start_time": "2024-08-28T18:40:18.059Z"
   },
   {
    "duration": 13,
    "start_time": "2024-08-28T18:41:10.651Z"
   },
   {
    "duration": 18,
    "start_time": "2024-08-28T18:41:24.208Z"
   },
   {
    "duration": 8,
    "start_time": "2024-08-28T18:43:34.613Z"
   },
   {
    "duration": 14,
    "start_time": "2024-08-28T18:44:25.666Z"
   },
   {
    "duration": 9,
    "start_time": "2024-08-28T18:44:33.810Z"
   },
   {
    "duration": 27,
    "start_time": "2024-08-28T18:46:35.090Z"
   },
   {
    "duration": 15,
    "start_time": "2024-08-28T18:47:24.813Z"
   },
   {
    "duration": 22,
    "start_time": "2024-08-28T18:50:39.667Z"
   },
   {
    "duration": 24,
    "start_time": "2024-08-28T18:50:44.450Z"
   },
   {
    "duration": 128,
    "start_time": "2024-08-28T18:51:22.220Z"
   },
   {
    "duration": 9,
    "start_time": "2024-08-28T18:51:54.582Z"
   },
   {
    "duration": 9,
    "start_time": "2024-08-28T18:54:30.369Z"
   },
   {
    "duration": 8,
    "start_time": "2024-08-28T18:54:36.396Z"
   },
   {
    "duration": 14,
    "start_time": "2024-08-28T19:12:05.586Z"
   },
   {
    "duration": 3,
    "start_time": "2024-08-28T19:12:19.658Z"
   },
   {
    "duration": 9,
    "start_time": "2024-08-28T19:12:36.734Z"
   },
   {
    "duration": 7,
    "start_time": "2024-08-28T19:21:24.177Z"
   },
   {
    "duration": 12,
    "start_time": "2024-08-28T19:22:46.168Z"
   },
   {
    "duration": 26,
    "start_time": "2024-08-28T19:23:05.975Z"
   },
   {
    "duration": 21,
    "start_time": "2024-08-28T19:24:42.365Z"
   },
   {
    "duration": 22,
    "start_time": "2024-08-28T19:25:59.875Z"
   },
   {
    "duration": 26,
    "start_time": "2024-08-28T19:26:35.788Z"
   },
   {
    "duration": 20,
    "start_time": "2024-08-28T19:27:50.581Z"
   },
   {
    "duration": 20,
    "start_time": "2024-08-28T19:27:54.923Z"
   },
   {
    "duration": 24,
    "start_time": "2024-08-28T19:29:31.883Z"
   },
   {
    "duration": 23,
    "start_time": "2024-08-28T19:29:41.257Z"
   },
   {
    "duration": 24,
    "start_time": "2024-08-28T19:30:07.770Z"
   },
   {
    "duration": 17,
    "start_time": "2024-08-28T19:30:12.651Z"
   },
   {
    "duration": 16,
    "start_time": "2024-08-28T19:30:33.370Z"
   },
   {
    "duration": 22,
    "start_time": "2024-08-28T19:30:48.331Z"
   },
   {
    "duration": 17,
    "start_time": "2024-08-28T19:31:30.637Z"
   },
   {
    "duration": 16,
    "start_time": "2024-08-28T19:31:35.366Z"
   },
   {
    "duration": 16,
    "start_time": "2024-08-28T19:31:46.227Z"
   },
   {
    "duration": 24,
    "start_time": "2024-08-28T19:31:59.883Z"
   },
   {
    "duration": 21,
    "start_time": "2024-08-28T19:32:14.347Z"
   },
   {
    "duration": 8,
    "start_time": "2024-08-28T19:33:08.945Z"
   },
   {
    "duration": 8,
    "start_time": "2024-08-28T19:33:25.829Z"
   },
   {
    "duration": 4,
    "start_time": "2024-08-28T19:33:46.493Z"
   },
   {
    "duration": 7,
    "start_time": "2024-08-28T19:34:46.340Z"
   },
   {
    "duration": 19,
    "start_time": "2024-08-28T19:37:58.883Z"
   },
   {
    "duration": 13,
    "start_time": "2024-08-28T19:44:38.518Z"
   },
   {
    "duration": 17,
    "start_time": "2024-08-28T19:44:46.354Z"
   },
   {
    "duration": 23,
    "start_time": "2024-08-28T19:44:59.349Z"
   },
   {
    "duration": 16,
    "start_time": "2024-08-28T19:45:24.708Z"
   },
   {
    "duration": 17,
    "start_time": "2024-08-28T19:45:30.578Z"
   },
   {
    "duration": 53,
    "start_time": "2024-08-28T19:46:23.658Z"
   },
   {
    "duration": 80,
    "start_time": "2024-08-28T19:47:58.141Z"
   },
   {
    "duration": 73,
    "start_time": "2024-08-28T19:48:11.298Z"
   },
   {
    "duration": 91,
    "start_time": "2024-08-28T19:48:55.761Z"
   },
   {
    "duration": 72,
    "start_time": "2024-08-28T19:49:07.714Z"
   },
   {
    "duration": 86,
    "start_time": "2024-08-28T19:49:14.234Z"
   },
   {
    "duration": 87,
    "start_time": "2024-08-28T19:49:21.249Z"
   },
   {
    "duration": 90,
    "start_time": "2024-08-28T19:49:28.584Z"
   },
   {
    "duration": 71,
    "start_time": "2024-08-28T19:49:58.165Z"
   },
   {
    "duration": 71,
    "start_time": "2024-08-28T19:50:13.015Z"
   },
   {
    "duration": 9,
    "start_time": "2024-08-28T19:51:43.460Z"
   },
   {
    "duration": 83,
    "start_time": "2024-08-28T19:57:53.104Z"
   },
   {
    "duration": 85,
    "start_time": "2024-08-28T19:58:25.319Z"
   },
   {
    "duration": 72,
    "start_time": "2024-08-28T19:58:30.149Z"
   },
   {
    "duration": 154,
    "start_time": "2024-08-28T20:01:14.812Z"
   },
   {
    "duration": 78,
    "start_time": "2024-08-28T20:02:09.980Z"
   },
   {
    "duration": 84,
    "start_time": "2024-08-28T20:02:22.800Z"
   },
   {
    "duration": 16,
    "start_time": "2024-08-28T20:02:55.750Z"
   },
   {
    "duration": 14,
    "start_time": "2024-08-28T20:03:15.686Z"
   },
   {
    "duration": 68,
    "start_time": "2024-08-28T20:03:32.739Z"
   },
   {
    "duration": 22,
    "start_time": "2024-08-28T20:04:48.005Z"
   },
   {
    "duration": 15,
    "start_time": "2024-08-28T20:05:04.326Z"
   },
   {
    "duration": 228,
    "start_time": "2024-08-28T20:10:22.536Z"
   },
   {
    "duration": 100,
    "start_time": "2024-08-28T20:11:18.147Z"
   },
   {
    "duration": 112,
    "start_time": "2024-08-28T20:11:28.595Z"
   },
   {
    "duration": 116,
    "start_time": "2024-08-28T20:12:05.538Z"
   },
   {
    "duration": 125,
    "start_time": "2024-08-28T20:16:49.881Z"
   },
   {
    "duration": 115,
    "start_time": "2024-08-28T20:17:02.755Z"
   },
   {
    "duration": 699,
    "start_time": "2024-08-28T20:19:34.190Z"
   },
   {
    "duration": 126,
    "start_time": "2024-08-28T20:19:48.384Z"
   },
   {
    "duration": 196,
    "start_time": "2024-08-28T20:20:07.991Z"
   },
   {
    "duration": 142,
    "start_time": "2024-08-28T20:20:17.845Z"
   },
   {
    "duration": 125,
    "start_time": "2024-08-28T20:20:28.943Z"
   },
   {
    "duration": 7,
    "start_time": "2024-08-28T20:21:02.221Z"
   },
   {
    "duration": 128,
    "start_time": "2024-08-28T20:21:11.579Z"
   },
   {
    "duration": 135,
    "start_time": "2024-08-28T20:21:16.241Z"
   },
   {
    "duration": 129,
    "start_time": "2024-08-28T20:21:56.963Z"
   },
   {
    "duration": 130,
    "start_time": "2024-08-28T20:22:03.229Z"
   },
   {
    "duration": 130,
    "start_time": "2024-08-28T20:22:08.776Z"
   },
   {
    "duration": 132,
    "start_time": "2024-08-28T20:23:05.135Z"
   },
   {
    "duration": 129,
    "start_time": "2024-08-28T20:23:14.957Z"
   },
   {
    "duration": 131,
    "start_time": "2024-08-28T20:24:35.266Z"
   },
   {
    "duration": 124,
    "start_time": "2024-08-28T20:24:57.868Z"
   },
   {
    "duration": 62,
    "start_time": "2024-08-28T20:27:09.287Z"
   },
   {
    "duration": 91,
    "start_time": "2024-08-28T20:27:14.804Z"
   },
   {
    "duration": 61,
    "start_time": "2024-08-28T20:28:30.832Z"
   },
   {
    "duration": 57,
    "start_time": "2024-08-28T20:31:40.966Z"
   },
   {
    "duration": 52,
    "start_time": "2024-08-28T20:32:22.306Z"
   },
   {
    "duration": 58,
    "start_time": "2024-08-28T20:32:33.551Z"
   },
   {
    "duration": 62,
    "start_time": "2024-08-28T20:32:39.019Z"
   },
   {
    "duration": 10,
    "start_time": "2024-08-28T23:30:32.516Z"
   },
   {
    "duration": 49,
    "start_time": "2024-08-28T23:31:21.467Z"
   },
   {
    "duration": 40,
    "start_time": "2024-08-28T23:31:30.435Z"
   },
   {
    "duration": 39,
    "start_time": "2024-08-28T23:31:55.199Z"
   },
   {
    "duration": 39,
    "start_time": "2024-08-28T23:32:05.339Z"
   },
   {
    "duration": 40,
    "start_time": "2024-08-28T23:32:12.221Z"
   },
   {
    "duration": 38,
    "start_time": "2024-08-28T23:33:30.002Z"
   },
   {
    "duration": 41,
    "start_time": "2024-08-28T23:34:58.664Z"
   },
   {
    "duration": 11,
    "start_time": "2024-08-28T23:35:23.323Z"
   },
   {
    "duration": 55,
    "start_time": "2024-08-28T23:36:52.380Z"
   },
   {
    "duration": 48,
    "start_time": "2024-08-28T23:39:12.329Z"
   },
   {
    "duration": 101,
    "start_time": "2024-08-28T23:41:14.983Z"
   },
   {
    "duration": 91,
    "start_time": "2024-08-28T23:41:59.754Z"
   },
   {
    "duration": 56,
    "start_time": "2024-08-28T23:42:16.549Z"
   },
   {
    "duration": 9,
    "start_time": "2024-08-28T23:43:15.447Z"
   },
   {
    "duration": 15,
    "start_time": "2024-08-28T23:49:29.693Z"
   },
   {
    "duration": 16,
    "start_time": "2024-08-28T23:49:35.754Z"
   },
   {
    "duration": 16,
    "start_time": "2024-08-28T23:53:38.565Z"
   },
   {
    "duration": 20,
    "start_time": "2024-08-28T23:53:45.052Z"
   },
   {
    "duration": 27,
    "start_time": "2024-08-28T23:54:47.187Z"
   },
   {
    "duration": 19,
    "start_time": "2024-08-28T23:55:07.584Z"
   },
   {
    "duration": 4,
    "start_time": "2024-08-28T23:56:36.977Z"
   },
   {
    "duration": 21,
    "start_time": "2024-08-28T23:56:45.120Z"
   },
   {
    "duration": 26,
    "start_time": "2024-08-29T00:01:26.659Z"
   },
   {
    "duration": 26,
    "start_time": "2024-08-29T00:03:54.847Z"
   },
   {
    "duration": 31,
    "start_time": "2024-08-29T00:04:27.702Z"
   },
   {
    "duration": 7,
    "start_time": "2024-08-29T00:05:06.926Z"
   },
   {
    "duration": 9,
    "start_time": "2024-08-29T00:05:22.190Z"
   },
   {
    "duration": 19,
    "start_time": "2024-08-29T00:06:52.098Z"
   },
   {
    "duration": 9,
    "start_time": "2024-08-29T00:07:20.022Z"
   },
   {
    "duration": 3,
    "start_time": "2024-08-29T00:07:26.465Z"
   },
   {
    "duration": 9,
    "start_time": "2024-08-29T00:07:31.353Z"
   },
   {
    "duration": 32,
    "start_time": "2024-08-29T00:09:15.076Z"
   },
   {
    "duration": 43,
    "start_time": "2024-08-29T00:09:35.167Z"
   },
   {
    "duration": 22,
    "start_time": "2024-08-29T00:09:52.690Z"
   },
   {
    "duration": 44,
    "start_time": "2024-08-29T00:10:04.475Z"
   },
   {
    "duration": 19,
    "start_time": "2024-08-29T00:10:36.755Z"
   },
   {
    "duration": 13,
    "start_time": "2024-08-29T00:11:32.610Z"
   },
   {
    "duration": 14,
    "start_time": "2024-08-29T00:11:55.228Z"
   },
   {
    "duration": 16,
    "start_time": "2024-08-29T00:12:00.831Z"
   },
   {
    "duration": 13,
    "start_time": "2024-08-29T00:12:40.880Z"
   },
   {
    "duration": 14,
    "start_time": "2024-08-29T00:12:49.372Z"
   },
   {
    "duration": 2,
    "start_time": "2024-08-29T00:13:35.879Z"
   },
   {
    "duration": 163,
    "start_time": "2024-08-29T00:13:35.884Z"
   },
   {
    "duration": 16,
    "start_time": "2024-08-29T00:13:36.049Z"
   },
   {
    "duration": 7,
    "start_time": "2024-08-29T00:13:36.067Z"
   },
   {
    "duration": 13,
    "start_time": "2024-08-29T00:13:36.076Z"
   },
   {
    "duration": 9,
    "start_time": "2024-08-29T00:13:36.091Z"
   },
   {
    "duration": 12,
    "start_time": "2024-08-29T00:13:36.102Z"
   },
   {
    "duration": 32,
    "start_time": "2024-08-29T00:13:36.116Z"
   },
   {
    "duration": 11,
    "start_time": "2024-08-29T00:13:36.150Z"
   },
   {
    "duration": 7,
    "start_time": "2024-08-29T00:13:36.164Z"
   },
   {
    "duration": 8,
    "start_time": "2024-08-29T00:13:36.174Z"
   },
   {
    "duration": 8,
    "start_time": "2024-08-29T00:13:36.183Z"
   },
   {
    "duration": 8,
    "start_time": "2024-08-29T00:13:36.192Z"
   },
   {
    "duration": 47,
    "start_time": "2024-08-29T00:13:36.203Z"
   },
   {
    "duration": 5,
    "start_time": "2024-08-29T00:13:36.252Z"
   },
   {
    "duration": 11,
    "start_time": "2024-08-29T00:13:36.261Z"
   },
   {
    "duration": 13,
    "start_time": "2024-08-29T00:13:36.274Z"
   },
   {
    "duration": 9,
    "start_time": "2024-08-29T00:13:36.289Z"
   },
   {
    "duration": 8,
    "start_time": "2024-08-29T00:13:36.300Z"
   },
   {
    "duration": 11,
    "start_time": "2024-08-29T00:13:36.343Z"
   },
   {
    "duration": 8,
    "start_time": "2024-08-29T00:13:36.356Z"
   },
   {
    "duration": 10,
    "start_time": "2024-08-29T00:13:36.366Z"
   },
   {
    "duration": 17,
    "start_time": "2024-08-29T00:13:36.377Z"
   },
   {
    "duration": 15,
    "start_time": "2024-08-29T00:13:36.395Z"
   },
   {
    "duration": 9,
    "start_time": "2024-08-29T00:13:36.442Z"
   },
   {
    "duration": 18,
    "start_time": "2024-08-29T00:13:36.452Z"
   },
   {
    "duration": 25,
    "start_time": "2024-08-29T00:13:36.471Z"
   },
   {
    "duration": 16,
    "start_time": "2024-08-29T00:13:36.498Z"
   },
   {
    "duration": 34,
    "start_time": "2024-08-29T00:13:36.515Z"
   },
   {
    "duration": 11,
    "start_time": "2024-08-29T00:13:36.551Z"
   },
   {
    "duration": 10,
    "start_time": "2024-08-29T00:13:36.564Z"
   },
   {
    "duration": 9,
    "start_time": "2024-08-29T00:13:36.576Z"
   },
   {
    "duration": 16,
    "start_time": "2024-08-29T00:13:36.587Z"
   },
   {
    "duration": 38,
    "start_time": "2024-08-29T00:13:36.605Z"
   },
   {
    "duration": 15,
    "start_time": "2024-08-29T00:13:36.644Z"
   },
   {
    "duration": 9,
    "start_time": "2024-08-29T00:13:36.661Z"
   },
   {
    "duration": 16,
    "start_time": "2024-08-29T00:13:36.672Z"
   },
   {
    "duration": 25,
    "start_time": "2024-08-29T00:13:36.689Z"
   },
   {
    "duration": 32,
    "start_time": "2024-08-29T00:13:36.715Z"
   },
   {
    "duration": 7,
    "start_time": "2024-08-29T00:13:36.749Z"
   },
   {
    "duration": 12,
    "start_time": "2024-08-29T00:13:36.761Z"
   },
   {
    "duration": 81,
    "start_time": "2024-08-29T00:13:36.774Z"
   },
   {
    "duration": 57,
    "start_time": "2024-08-29T00:13:36.857Z"
   },
   {
    "duration": 54,
    "start_time": "2024-08-29T00:13:36.915Z"
   },
   {
    "duration": 47,
    "start_time": "2024-08-29T00:13:36.971Z"
   },
   {
    "duration": 39,
    "start_time": "2024-08-29T00:13:37.020Z"
   },
   {
    "duration": 14,
    "start_time": "2024-08-29T00:13:37.061Z"
   },
   {
    "duration": 2,
    "start_time": "2024-08-29T00:13:37.077Z"
   },
   {
    "duration": 2,
    "start_time": "2024-08-29T00:13:37.081Z"
   },
   {
    "duration": 2,
    "start_time": "2024-08-29T00:13:37.085Z"
   },
   {
    "duration": 2,
    "start_time": "2024-08-29T00:13:37.089Z"
   },
   {
    "duration": 2,
    "start_time": "2024-08-29T00:13:37.093Z"
   },
   {
    "duration": 2,
    "start_time": "2024-08-29T00:13:37.096Z"
   },
   {
    "duration": 2,
    "start_time": "2024-08-29T00:13:37.100Z"
   },
   {
    "duration": 2,
    "start_time": "2024-08-29T00:13:37.143Z"
   },
   {
    "duration": 2,
    "start_time": "2024-08-29T00:13:37.147Z"
   },
   {
    "duration": 8,
    "start_time": "2024-08-29T00:14:20.786Z"
   },
   {
    "duration": 11,
    "start_time": "2024-08-29T00:19:49.959Z"
   },
   {
    "duration": 8,
    "start_time": "2024-08-29T00:20:11.124Z"
   },
   {
    "duration": 7,
    "start_time": "2024-08-29T00:20:15.481Z"
   },
   {
    "duration": 4,
    "start_time": "2024-08-29T00:22:23.275Z"
   },
   {
    "duration": 18,
    "start_time": "2024-08-29T00:22:35.220Z"
   },
   {
    "duration": 20,
    "start_time": "2024-08-29T00:23:12.194Z"
   },
   {
    "duration": 18,
    "start_time": "2024-08-29T00:23:21.598Z"
   },
   {
    "duration": 3,
    "start_time": "2024-08-29T00:34:43.223Z"
   },
   {
    "duration": 230,
    "start_time": "2024-08-29T00:35:25.464Z"
   },
   {
    "duration": 267,
    "start_time": "2024-08-29T00:37:32.343Z"
   },
   {
    "duration": 64,
    "start_time": "2024-08-29T00:38:20.486Z"
   },
   {
    "duration": 139,
    "start_time": "2024-08-29T00:38:44.389Z"
   },
   {
    "duration": 5,
    "start_time": "2024-08-29T00:39:20.355Z"
   },
   {
    "duration": 11,
    "start_time": "2024-08-29T00:39:32.224Z"
   },
   {
    "duration": 7,
    "start_time": "2024-08-29T00:39:49.800Z"
   },
   {
    "duration": 6,
    "start_time": "2024-08-29T00:40:14.625Z"
   },
   {
    "duration": 62,
    "start_time": "2024-08-29T00:40:47.450Z"
   },
   {
    "duration": 113,
    "start_time": "2024-08-29T00:44:31.708Z"
   },
   {
    "duration": 94,
    "start_time": "2024-08-29T00:44:54.914Z"
   },
   {
    "duration": 102,
    "start_time": "2024-08-29T00:45:11.094Z"
   },
   {
    "duration": 19,
    "start_time": "2024-08-29T00:45:50.686Z"
   },
   {
    "duration": 16,
    "start_time": "2024-08-29T00:46:16.230Z"
   },
   {
    "duration": 23,
    "start_time": "2024-08-29T00:46:30.586Z"
   },
   {
    "duration": 17,
    "start_time": "2024-08-29T00:51:47.293Z"
   },
   {
    "duration": 20,
    "start_time": "2024-08-29T00:52:10.563Z"
   },
   {
    "duration": 19,
    "start_time": "2024-08-29T00:54:35.227Z"
   },
   {
    "duration": 21,
    "start_time": "2024-08-29T00:55:38.518Z"
   },
   {
    "duration": 1348,
    "start_time": "2024-08-29T00:58:51.697Z"
   },
   {
    "duration": 1325,
    "start_time": "2024-08-29T00:59:04.819Z"
   },
   {
    "duration": 19,
    "start_time": "2024-08-29T23:01:32.622Z"
   },
   {
    "duration": 16,
    "start_time": "2024-08-29T23:03:04.305Z"
   },
   {
    "duration": 15,
    "start_time": "2024-08-29T23:03:32.607Z"
   },
   {
    "duration": 16,
    "start_time": "2024-08-29T23:03:42.443Z"
   },
   {
    "duration": 16,
    "start_time": "2024-08-29T23:04:44.104Z"
   },
   {
    "duration": 91,
    "start_time": "2024-08-29T23:09:32.544Z"
   },
   {
    "duration": 157,
    "start_time": "2024-08-29T23:09:48.637Z"
   },
   {
    "duration": 179,
    "start_time": "2024-08-29T23:10:29.247Z"
   },
   {
    "duration": 151,
    "start_time": "2024-08-29T23:13:51.819Z"
   },
   {
    "duration": 23,
    "start_time": "2024-08-29T23:15:50.146Z"
   },
   {
    "duration": 145,
    "start_time": "2024-08-29T23:16:07.810Z"
   },
   {
    "duration": 152,
    "start_time": "2024-08-29T23:16:20.302Z"
   },
   {
    "duration": 419,
    "start_time": "2024-08-29T23:18:14.297Z"
   },
   {
    "duration": 386,
    "start_time": "2024-08-29T23:18:42.697Z"
   },
   {
    "duration": 567,
    "start_time": "2024-08-29T23:18:52.517Z"
   },
   {
    "duration": 267,
    "start_time": "2024-08-29T23:19:14.346Z"
   },
   {
    "duration": 266,
    "start_time": "2024-08-29T23:19:30.035Z"
   },
   {
    "duration": 29,
    "start_time": "2024-08-29T23:22:49.335Z"
   },
   {
    "duration": 74,
    "start_time": "2024-08-29T23:23:00.939Z"
   },
   {
    "duration": 76,
    "start_time": "2024-08-29T23:23:13.642Z"
   },
   {
    "duration": 46,
    "start_time": "2024-08-29T23:24:44.495Z"
   },
   {
    "duration": 205,
    "start_time": "2024-08-29T23:25:04.120Z"
   },
   {
    "duration": 98,
    "start_time": "2024-08-29T23:26:43.625Z"
   },
   {
    "duration": 175,
    "start_time": "2024-08-29T23:26:56.016Z"
   },
   {
    "duration": 180,
    "start_time": "2024-08-29T23:27:32.546Z"
   },
   {
    "duration": 172,
    "start_time": "2024-08-29T23:28:31.942Z"
   },
   {
    "duration": 15,
    "start_time": "2024-08-29T23:30:04.817Z"
   },
   {
    "duration": 162,
    "start_time": "2024-08-29T23:32:38.682Z"
   },
   {
    "duration": 176,
    "start_time": "2024-08-29T23:32:46.425Z"
   },
   {
    "duration": 206,
    "start_time": "2024-08-29T23:33:24.653Z"
   },
   {
    "duration": 48,
    "start_time": "2024-08-29T23:35:30.115Z"
   },
   {
    "duration": 49,
    "start_time": "2024-08-29T23:36:33.743Z"
   },
   {
    "duration": 49,
    "start_time": "2024-08-29T23:37:03.737Z"
   },
   {
    "duration": 10,
    "start_time": "2024-08-29T23:37:19.289Z"
   },
   {
    "duration": 12,
    "start_time": "2024-08-29T23:37:26.194Z"
   },
   {
    "duration": 16,
    "start_time": "2024-08-29T23:37:34.466Z"
   },
   {
    "duration": 17,
    "start_time": "2024-08-29T23:38:00.111Z"
   },
   {
    "duration": 15,
    "start_time": "2024-08-29T23:38:36.017Z"
   },
   {
    "duration": 5,
    "start_time": "2024-08-29T23:39:08.358Z"
   },
   {
    "duration": 12,
    "start_time": "2024-08-29T23:39:15.336Z"
   },
   {
    "duration": 7,
    "start_time": "2024-08-29T23:39:38.099Z"
   },
   {
    "duration": 11,
    "start_time": "2024-08-29T23:39:45.932Z"
   },
   {
    "duration": 10,
    "start_time": "2024-08-29T23:40:54.758Z"
   },
   {
    "duration": 12,
    "start_time": "2024-08-29T23:41:47.549Z"
   },
   {
    "duration": 8,
    "start_time": "2024-08-29T23:42:49.087Z"
   },
   {
    "duration": 23,
    "start_time": "2024-08-29T23:43:06.301Z"
   },
   {
    "duration": 10,
    "start_time": "2024-08-29T23:43:23.254Z"
   },
   {
    "duration": 13,
    "start_time": "2024-08-29T23:43:28.775Z"
   },
   {
    "duration": 22,
    "start_time": "2024-08-29T23:49:15.335Z"
   },
   {
    "duration": 45,
    "start_time": "2024-08-29T23:49:21.759Z"
   },
   {
    "duration": 37,
    "start_time": "2024-08-29T23:49:38.166Z"
   },
   {
    "duration": 15,
    "start_time": "2024-08-29T23:50:12.578Z"
   },
   {
    "duration": 30,
    "start_time": "2024-08-29T23:50:19.768Z"
   },
   {
    "duration": 3,
    "start_time": "2024-08-29T23:50:59.932Z"
   },
   {
    "duration": 172,
    "start_time": "2024-08-29T23:50:59.937Z"
   },
   {
    "duration": 16,
    "start_time": "2024-08-29T23:51:00.111Z"
   },
   {
    "duration": 14,
    "start_time": "2024-08-29T23:51:00.129Z"
   },
   {
    "duration": 14,
    "start_time": "2024-08-29T23:51:00.146Z"
   },
   {
    "duration": 8,
    "start_time": "2024-08-29T23:51:00.162Z"
   },
   {
    "duration": 11,
    "start_time": "2024-08-29T23:51:00.172Z"
   },
   {
    "duration": 5,
    "start_time": "2024-08-29T23:51:00.185Z"
   },
   {
    "duration": 9,
    "start_time": "2024-08-29T23:51:00.192Z"
   },
   {
    "duration": 41,
    "start_time": "2024-08-29T23:51:00.202Z"
   },
   {
    "duration": 8,
    "start_time": "2024-08-29T23:51:00.245Z"
   },
   {
    "duration": 9,
    "start_time": "2024-08-29T23:51:00.255Z"
   },
   {
    "duration": 7,
    "start_time": "2024-08-29T23:51:00.266Z"
   },
   {
    "duration": 8,
    "start_time": "2024-08-29T23:51:00.277Z"
   },
   {
    "duration": 5,
    "start_time": "2024-08-29T23:51:00.286Z"
   },
   {
    "duration": 9,
    "start_time": "2024-08-29T23:51:00.292Z"
   },
   {
    "duration": 46,
    "start_time": "2024-08-29T23:51:00.302Z"
   },
   {
    "duration": 9,
    "start_time": "2024-08-29T23:51:00.350Z"
   },
   {
    "duration": 19,
    "start_time": "2024-08-29T23:51:00.360Z"
   },
   {
    "duration": 9,
    "start_time": "2024-08-29T23:51:00.381Z"
   },
   {
    "duration": 6,
    "start_time": "2024-08-29T23:51:00.392Z"
   },
   {
    "duration": 9,
    "start_time": "2024-08-29T23:51:00.401Z"
   },
   {
    "duration": 44,
    "start_time": "2024-08-29T23:51:00.412Z"
   },
   {
    "duration": 15,
    "start_time": "2024-08-29T23:51:00.458Z"
   },
   {
    "duration": 11,
    "start_time": "2024-08-29T23:51:00.475Z"
   },
   {
    "duration": 24,
    "start_time": "2024-08-29T23:51:00.488Z"
   },
   {
    "duration": 49,
    "start_time": "2024-08-29T23:51:00.518Z"
   },
   {
    "duration": 18,
    "start_time": "2024-08-29T23:51:00.568Z"
   },
   {
    "duration": 9,
    "start_time": "2024-08-29T23:51:00.588Z"
   },
   {
    "duration": 11,
    "start_time": "2024-08-29T23:51:00.599Z"
   },
   {
    "duration": 38,
    "start_time": "2024-08-29T23:51:00.611Z"
   },
   {
    "duration": 11,
    "start_time": "2024-08-29T23:51:00.651Z"
   },
   {
    "duration": 17,
    "start_time": "2024-08-29T23:51:00.664Z"
   },
   {
    "duration": 6,
    "start_time": "2024-08-29T23:51:00.682Z"
   },
   {
    "duration": 19,
    "start_time": "2024-08-29T23:51:00.690Z"
   },
   {
    "duration": 33,
    "start_time": "2024-08-29T23:51:00.710Z"
   },
   {
    "duration": 18,
    "start_time": "2024-08-29T23:51:00.746Z"
   },
   {
    "duration": 24,
    "start_time": "2024-08-29T23:51:00.765Z"
   },
   {
    "duration": 7,
    "start_time": "2024-08-29T23:51:00.790Z"
   },
   {
    "duration": 7,
    "start_time": "2024-08-29T23:51:00.799Z"
   },
   {
    "duration": 42,
    "start_time": "2024-08-29T23:51:00.811Z"
   },
   {
    "duration": 61,
    "start_time": "2024-08-29T23:51:00.855Z"
   },
   {
    "duration": 74,
    "start_time": "2024-08-29T23:51:00.918Z"
   },
   {
    "duration": 35,
    "start_time": "2024-08-29T23:51:00.993Z"
   },
   {
    "duration": 57,
    "start_time": "2024-08-29T23:51:01.030Z"
   },
   {
    "duration": 25,
    "start_time": "2024-08-29T23:51:01.089Z"
   },
   {
    "duration": 35,
    "start_time": "2024-08-29T23:51:01.115Z"
   },
   {
    "duration": 1376,
    "start_time": "2024-08-29T23:51:01.152Z"
   },
   {
    "duration": 184,
    "start_time": "2024-08-29T23:51:02.531Z"
   },
   {
    "duration": 36,
    "start_time": "2024-08-29T23:51:02.717Z"
   },
   {
    "duration": 4,
    "start_time": "2024-08-29T23:51:02.755Z"
   },
   {
    "duration": 20,
    "start_time": "2024-08-29T23:51:02.761Z"
   },
   {
    "duration": 23,
    "start_time": "2024-08-29T23:51:02.782Z"
   },
   {
    "duration": 25,
    "start_time": "2024-08-29T23:51:02.806Z"
   },
   {
    "duration": 32,
    "start_time": "2024-08-29T23:51:02.832Z"
   },
   {
    "duration": 26,
    "start_time": "2024-08-29T23:51:02.866Z"
   },
   {
    "duration": 1382,
    "start_time": "2024-08-29T23:51:57.762Z"
   },
   {
    "duration": 16,
    "start_time": "2024-08-29T23:52:05.279Z"
   },
   {
    "duration": 759,
    "start_time": "2024-08-29T23:52:20.300Z"
   },
   {
    "duration": 167,
    "start_time": "2024-08-29T23:52:21.062Z"
   },
   {
    "duration": 18,
    "start_time": "2024-08-29T23:52:21.230Z"
   },
   {
    "duration": 10,
    "start_time": "2024-08-29T23:52:21.250Z"
   },
   {
    "duration": 14,
    "start_time": "2024-08-29T23:52:21.261Z"
   },
   {
    "duration": 9,
    "start_time": "2024-08-29T23:52:21.276Z"
   },
   {
    "duration": 12,
    "start_time": "2024-08-29T23:52:21.287Z"
   },
   {
    "duration": 6,
    "start_time": "2024-08-29T23:52:21.300Z"
   },
   {
    "duration": 42,
    "start_time": "2024-08-29T23:52:21.308Z"
   },
   {
    "duration": 7,
    "start_time": "2024-08-29T23:52:21.354Z"
   },
   {
    "duration": 7,
    "start_time": "2024-08-29T23:52:21.364Z"
   },
   {
    "duration": 8,
    "start_time": "2024-08-29T23:52:21.373Z"
   },
   {
    "duration": 7,
    "start_time": "2024-08-29T23:52:21.383Z"
   },
   {
    "duration": 8,
    "start_time": "2024-08-29T23:52:21.392Z"
   },
   {
    "duration": 42,
    "start_time": "2024-08-29T23:52:21.401Z"
   },
   {
    "duration": 10,
    "start_time": "2024-08-29T23:52:21.444Z"
   },
   {
    "duration": 11,
    "start_time": "2024-08-29T23:52:21.456Z"
   },
   {
    "duration": 10,
    "start_time": "2024-08-29T23:52:21.469Z"
   },
   {
    "duration": 8,
    "start_time": "2024-08-29T23:52:21.480Z"
   },
   {
    "duration": 10,
    "start_time": "2024-08-29T23:52:21.490Z"
   },
   {
    "duration": 45,
    "start_time": "2024-08-29T23:52:21.502Z"
   },
   {
    "duration": 11,
    "start_time": "2024-08-29T23:52:21.550Z"
   },
   {
    "duration": 15,
    "start_time": "2024-08-29T23:52:21.563Z"
   },
   {
    "duration": 21,
    "start_time": "2024-08-29T23:52:21.581Z"
   },
   {
    "duration": 9,
    "start_time": "2024-08-29T23:52:21.604Z"
   },
   {
    "duration": 18,
    "start_time": "2024-08-29T23:52:21.642Z"
   },
   {
    "duration": 25,
    "start_time": "2024-08-29T23:52:21.662Z"
   },
   {
    "duration": 15,
    "start_time": "2024-08-29T23:52:21.692Z"
   },
   {
    "duration": 34,
    "start_time": "2024-08-29T23:52:21.709Z"
   },
   {
    "duration": 12,
    "start_time": "2024-08-29T23:52:21.745Z"
   },
   {
    "duration": 7,
    "start_time": "2024-08-29T23:52:21.758Z"
   },
   {
    "duration": 10,
    "start_time": "2024-08-29T23:52:21.767Z"
   },
   {
    "duration": 17,
    "start_time": "2024-08-29T23:52:21.779Z"
   },
   {
    "duration": 7,
    "start_time": "2024-08-29T23:52:21.798Z"
   },
   {
    "duration": 49,
    "start_time": "2024-08-29T23:52:21.806Z"
   },
   {
    "duration": 10,
    "start_time": "2024-08-29T23:52:21.856Z"
   },
   {
    "duration": 16,
    "start_time": "2024-08-29T23:52:21.868Z"
   },
   {
    "duration": 24,
    "start_time": "2024-08-29T23:52:21.885Z"
   },
   {
    "duration": 35,
    "start_time": "2024-08-29T23:52:21.911Z"
   },
   {
    "duration": 7,
    "start_time": "2024-08-29T23:52:21.948Z"
   },
   {
    "duration": 12,
    "start_time": "2024-08-29T23:52:21.957Z"
   },
   {
    "duration": 79,
    "start_time": "2024-08-29T23:52:21.971Z"
   },
   {
    "duration": 56,
    "start_time": "2024-08-29T23:52:22.051Z"
   },
   {
    "duration": 48,
    "start_time": "2024-08-29T23:52:22.108Z"
   },
   {
    "duration": 45,
    "start_time": "2024-08-29T23:52:22.158Z"
   },
   {
    "duration": 39,
    "start_time": "2024-08-29T23:52:22.205Z"
   },
   {
    "duration": 19,
    "start_time": "2024-08-29T23:52:22.246Z"
   },
   {
    "duration": 1536,
    "start_time": "2024-08-29T23:52:22.267Z"
   },
   {
    "duration": 0,
    "start_time": "2024-08-29T23:52:23.805Z"
   },
   {
    "duration": 0,
    "start_time": "2024-08-29T23:52:23.806Z"
   },
   {
    "duration": 0,
    "start_time": "2024-08-29T23:52:23.807Z"
   },
   {
    "duration": 0,
    "start_time": "2024-08-29T23:52:23.808Z"
   },
   {
    "duration": 0,
    "start_time": "2024-08-29T23:52:23.809Z"
   },
   {
    "duration": 0,
    "start_time": "2024-08-29T23:52:23.810Z"
   },
   {
    "duration": 0,
    "start_time": "2024-08-29T23:52:23.813Z"
   },
   {
    "duration": 0,
    "start_time": "2024-08-29T23:52:23.814Z"
   },
   {
    "duration": 778,
    "start_time": "2024-08-29T23:53:06.664Z"
   },
   {
    "duration": 156,
    "start_time": "2024-08-29T23:53:07.445Z"
   },
   {
    "duration": 17,
    "start_time": "2024-08-29T23:53:07.603Z"
   },
   {
    "duration": 8,
    "start_time": "2024-08-29T23:53:07.623Z"
   },
   {
    "duration": 14,
    "start_time": "2024-08-29T23:53:07.643Z"
   },
   {
    "duration": 11,
    "start_time": "2024-08-29T23:53:07.659Z"
   },
   {
    "duration": 12,
    "start_time": "2024-08-29T23:53:07.672Z"
   },
   {
    "duration": 6,
    "start_time": "2024-08-29T23:53:07.686Z"
   },
   {
    "duration": 8,
    "start_time": "2024-08-29T23:53:07.694Z"
   },
   {
    "duration": 40,
    "start_time": "2024-08-29T23:53:07.706Z"
   },
   {
    "duration": 9,
    "start_time": "2024-08-29T23:53:07.748Z"
   },
   {
    "duration": 9,
    "start_time": "2024-08-29T23:53:07.759Z"
   },
   {
    "duration": 7,
    "start_time": "2024-08-29T23:53:07.770Z"
   },
   {
    "duration": 8,
    "start_time": "2024-08-29T23:53:07.779Z"
   },
   {
    "duration": 4,
    "start_time": "2024-08-29T23:53:07.788Z"
   },
   {
    "duration": 50,
    "start_time": "2024-08-29T23:53:07.794Z"
   },
   {
    "duration": 10,
    "start_time": "2024-08-29T23:53:07.845Z"
   },
   {
    "duration": 10,
    "start_time": "2024-08-29T23:53:07.857Z"
   },
   {
    "duration": 8,
    "start_time": "2024-08-29T23:53:07.868Z"
   },
   {
    "duration": 8,
    "start_time": "2024-08-29T23:53:07.877Z"
   },
   {
    "duration": 7,
    "start_time": "2024-08-29T23:53:07.887Z"
   },
   {
    "duration": 9,
    "start_time": "2024-08-29T23:53:07.896Z"
   },
   {
    "duration": 18,
    "start_time": "2024-08-29T23:53:07.944Z"
   },
   {
    "duration": 15,
    "start_time": "2024-08-29T23:53:07.964Z"
   },
   {
    "duration": 8,
    "start_time": "2024-08-29T23:53:07.981Z"
   },
   {
    "duration": 17,
    "start_time": "2024-08-29T23:53:07.991Z"
   },
   {
    "duration": 53,
    "start_time": "2024-08-29T23:53:08.010Z"
   },
   {
    "duration": 16,
    "start_time": "2024-08-29T23:53:08.068Z"
   },
   {
    "duration": 9,
    "start_time": "2024-08-29T23:53:08.085Z"
   },
   {
    "duration": 12,
    "start_time": "2024-08-29T23:53:08.095Z"
   },
   {
    "duration": 40,
    "start_time": "2024-08-29T23:53:08.109Z"
   },
   {
    "duration": 10,
    "start_time": "2024-08-29T23:53:08.151Z"
   },
   {
    "duration": 17,
    "start_time": "2024-08-29T23:53:08.162Z"
   },
   {
    "duration": 7,
    "start_time": "2024-08-29T23:53:08.180Z"
   },
   {
    "duration": 14,
    "start_time": "2024-08-29T23:53:08.188Z"
   },
   {
    "duration": 41,
    "start_time": "2024-08-29T23:53:08.203Z"
   },
   {
    "duration": 15,
    "start_time": "2024-08-29T23:53:08.246Z"
   },
   {
    "duration": 24,
    "start_time": "2024-08-29T23:53:08.263Z"
   },
   {
    "duration": 7,
    "start_time": "2024-08-29T23:53:08.289Z"
   },
   {
    "duration": 7,
    "start_time": "2024-08-29T23:53:08.298Z"
   },
   {
    "duration": 43,
    "start_time": "2024-08-29T23:53:08.308Z"
   },
   {
    "duration": 62,
    "start_time": "2024-08-29T23:53:08.353Z"
   },
   {
    "duration": 72,
    "start_time": "2024-08-29T23:53:08.416Z"
   },
   {
    "duration": 37,
    "start_time": "2024-08-29T23:53:08.489Z"
   },
   {
    "duration": 61,
    "start_time": "2024-08-29T23:53:08.528Z"
   },
   {
    "duration": 28,
    "start_time": "2024-08-29T23:53:08.591Z"
   },
   {
    "duration": 29,
    "start_time": "2024-08-29T23:53:08.621Z"
   },
   {
    "duration": 1333,
    "start_time": "2024-08-29T23:53:08.652Z"
   },
   {
    "duration": 195,
    "start_time": "2024-08-29T23:53:09.986Z"
   },
   {
    "duration": 28,
    "start_time": "2024-08-29T23:53:10.183Z"
   },
   {
    "duration": 2,
    "start_time": "2024-08-29T23:53:10.213Z"
   },
   {
    "duration": 2,
    "start_time": "2024-08-29T23:53:10.217Z"
   },
   {
    "duration": 22,
    "start_time": "2024-08-29T23:53:10.221Z"
   },
   {
    "duration": 2,
    "start_time": "2024-08-29T23:53:10.245Z"
   },
   {
    "duration": 2,
    "start_time": "2024-08-29T23:53:10.249Z"
   },
   {
    "duration": 2,
    "start_time": "2024-08-29T23:53:10.253Z"
   },
   {
    "duration": 27,
    "start_time": "2024-08-29T23:56:39.946Z"
   },
   {
    "duration": 30,
    "start_time": "2024-08-29T23:56:57.297Z"
   },
   {
    "duration": 768,
    "start_time": "2024-08-29T23:57:07.366Z"
   },
   {
    "duration": 157,
    "start_time": "2024-08-29T23:57:08.137Z"
   },
   {
    "duration": 17,
    "start_time": "2024-08-29T23:57:08.295Z"
   },
   {
    "duration": 9,
    "start_time": "2024-08-29T23:57:08.314Z"
   },
   {
    "duration": 28,
    "start_time": "2024-08-29T23:57:08.326Z"
   },
   {
    "duration": 10,
    "start_time": "2024-08-29T23:57:08.356Z"
   },
   {
    "duration": 12,
    "start_time": "2024-08-29T23:57:08.367Z"
   },
   {
    "duration": 6,
    "start_time": "2024-08-29T23:57:08.380Z"
   },
   {
    "duration": 8,
    "start_time": "2024-08-29T23:57:08.388Z"
   },
   {
    "duration": 7,
    "start_time": "2024-08-29T23:57:08.398Z"
   },
   {
    "duration": 41,
    "start_time": "2024-08-29T23:57:08.407Z"
   },
   {
    "duration": 14,
    "start_time": "2024-08-29T23:57:08.450Z"
   },
   {
    "duration": 9,
    "start_time": "2024-08-29T23:57:08.466Z"
   },
   {
    "duration": 8,
    "start_time": "2024-08-29T23:57:08.479Z"
   },
   {
    "duration": 4,
    "start_time": "2024-08-29T23:57:08.489Z"
   },
   {
    "duration": 10,
    "start_time": "2024-08-29T23:57:08.494Z"
   },
   {
    "duration": 48,
    "start_time": "2024-08-29T23:57:08.505Z"
   },
   {
    "duration": 10,
    "start_time": "2024-08-29T23:57:08.554Z"
   },
   {
    "duration": 9,
    "start_time": "2024-08-29T23:57:08.565Z"
   },
   {
    "duration": 9,
    "start_time": "2024-08-29T23:57:08.576Z"
   },
   {
    "duration": 7,
    "start_time": "2024-08-29T23:57:08.587Z"
   },
   {
    "duration": 10,
    "start_time": "2024-08-29T23:57:08.596Z"
   },
   {
    "duration": 17,
    "start_time": "2024-08-29T23:57:08.642Z"
   },
   {
    "duration": 14,
    "start_time": "2024-08-29T23:57:08.661Z"
   },
   {
    "duration": 10,
    "start_time": "2024-08-29T23:57:08.677Z"
   },
   {
    "duration": 17,
    "start_time": "2024-08-29T23:57:08.688Z"
   },
   {
    "duration": 58,
    "start_time": "2024-08-29T23:57:08.707Z"
   },
   {
    "duration": 16,
    "start_time": "2024-08-29T23:57:08.767Z"
   },
   {
    "duration": 8,
    "start_time": "2024-08-29T23:57:08.785Z"
   },
   {
    "duration": 12,
    "start_time": "2024-08-29T23:57:08.795Z"
   },
   {
    "duration": 35,
    "start_time": "2024-08-29T23:57:08.809Z"
   },
   {
    "duration": 10,
    "start_time": "2024-08-29T23:57:08.846Z"
   },
   {
    "duration": 17,
    "start_time": "2024-08-29T23:57:08.857Z"
   },
   {
    "duration": 6,
    "start_time": "2024-08-29T23:57:08.876Z"
   },
   {
    "duration": 12,
    "start_time": "2024-08-29T23:57:08.884Z"
   },
   {
    "duration": 9,
    "start_time": "2024-08-29T23:57:08.898Z"
   },
   {
    "duration": 48,
    "start_time": "2024-08-29T23:57:08.908Z"
   },
   {
    "duration": 25,
    "start_time": "2024-08-29T23:57:08.957Z"
   },
   {
    "duration": 7,
    "start_time": "2024-08-29T23:57:08.983Z"
   },
   {
    "duration": 8,
    "start_time": "2024-08-29T23:57:08.992Z"
   },
   {
    "duration": 45,
    "start_time": "2024-08-29T23:57:09.005Z"
   },
   {
    "duration": 62,
    "start_time": "2024-08-29T23:57:09.051Z"
   },
   {
    "duration": 68,
    "start_time": "2024-08-29T23:57:09.115Z"
   },
   {
    "duration": 36,
    "start_time": "2024-08-29T23:57:09.185Z"
   },
   {
    "duration": 59,
    "start_time": "2024-08-29T23:57:09.222Z"
   },
   {
    "duration": 24,
    "start_time": "2024-08-29T23:57:09.283Z"
   },
   {
    "duration": 13,
    "start_time": "2024-08-29T23:57:09.309Z"
   },
   {
    "duration": 1348,
    "start_time": "2024-08-29T23:57:09.342Z"
   },
   {
    "duration": 209,
    "start_time": "2024-08-29T23:57:10.692Z"
   },
   {
    "duration": 27,
    "start_time": "2024-08-29T23:57:10.902Z"
   },
   {
    "duration": 12,
    "start_time": "2024-08-29T23:57:10.931Z"
   },
   {
    "duration": 2,
    "start_time": "2024-08-29T23:57:10.945Z"
   },
   {
    "duration": 3,
    "start_time": "2024-08-29T23:57:10.949Z"
   },
   {
    "duration": 4,
    "start_time": "2024-08-29T23:57:10.953Z"
   },
   {
    "duration": 2,
    "start_time": "2024-08-29T23:57:10.959Z"
   },
   {
    "duration": 2,
    "start_time": "2024-08-29T23:57:10.963Z"
   },
   {
    "duration": 2,
    "start_time": "2024-08-29T23:57:35.787Z"
   },
   {
    "duration": 171,
    "start_time": "2024-08-29T23:57:35.794Z"
   },
   {
    "duration": 16,
    "start_time": "2024-08-29T23:57:35.967Z"
   },
   {
    "duration": 7,
    "start_time": "2024-08-29T23:57:35.984Z"
   },
   {
    "duration": 14,
    "start_time": "2024-08-29T23:57:35.993Z"
   },
   {
    "duration": 9,
    "start_time": "2024-08-29T23:57:36.009Z"
   },
   {
    "duration": 34,
    "start_time": "2024-08-29T23:57:36.019Z"
   },
   {
    "duration": 7,
    "start_time": "2024-08-29T23:57:36.055Z"
   },
   {
    "duration": 8,
    "start_time": "2024-08-29T23:57:36.064Z"
   },
   {
    "duration": 6,
    "start_time": "2024-08-29T23:57:36.074Z"
   },
   {
    "duration": 8,
    "start_time": "2024-08-29T23:57:36.082Z"
   },
   {
    "duration": 8,
    "start_time": "2024-08-29T23:57:36.091Z"
   },
   {
    "duration": 47,
    "start_time": "2024-08-29T23:57:36.100Z"
   },
   {
    "duration": 7,
    "start_time": "2024-08-29T23:57:36.148Z"
   },
   {
    "duration": 4,
    "start_time": "2024-08-29T23:57:36.160Z"
   },
   {
    "duration": 9,
    "start_time": "2024-08-29T23:57:36.166Z"
   },
   {
    "duration": 10,
    "start_time": "2024-08-29T23:57:36.177Z"
   },
   {
    "duration": 9,
    "start_time": "2024-08-29T23:57:36.188Z"
   },
   {
    "duration": 46,
    "start_time": "2024-08-29T23:57:36.199Z"
   },
   {
    "duration": 9,
    "start_time": "2024-08-29T23:57:36.247Z"
   },
   {
    "duration": 8,
    "start_time": "2024-08-29T23:57:36.258Z"
   },
   {
    "duration": 11,
    "start_time": "2024-08-29T23:57:36.267Z"
   },
   {
    "duration": 16,
    "start_time": "2024-08-29T23:57:36.279Z"
   },
   {
    "duration": 46,
    "start_time": "2024-08-29T23:57:36.297Z"
   },
   {
    "duration": 10,
    "start_time": "2024-08-29T23:57:36.345Z"
   },
   {
    "duration": 18,
    "start_time": "2024-08-29T23:57:36.356Z"
   },
   {
    "duration": 24,
    "start_time": "2024-08-29T23:57:36.375Z"
   },
   {
    "duration": 45,
    "start_time": "2024-08-29T23:57:36.400Z"
   },
   {
    "duration": 9,
    "start_time": "2024-08-29T23:57:36.446Z"
   },
   {
    "duration": 12,
    "start_time": "2024-08-29T23:57:36.457Z"
   },
   {
    "duration": 8,
    "start_time": "2024-08-29T23:57:36.471Z"
   },
   {
    "duration": 9,
    "start_time": "2024-08-29T23:57:36.481Z"
   },
   {
    "duration": 50,
    "start_time": "2024-08-29T23:57:36.492Z"
   },
   {
    "duration": 7,
    "start_time": "2024-08-29T23:57:36.544Z"
   },
   {
    "duration": 13,
    "start_time": "2024-08-29T23:57:36.553Z"
   },
   {
    "duration": 9,
    "start_time": "2024-08-29T23:57:36.568Z"
   },
   {
    "duration": 14,
    "start_time": "2024-08-29T23:57:36.579Z"
   },
   {
    "duration": 56,
    "start_time": "2024-08-29T23:57:36.595Z"
   },
   {
    "duration": 8,
    "start_time": "2024-08-29T23:57:36.653Z"
   },
   {
    "duration": 9,
    "start_time": "2024-08-29T23:57:36.663Z"
   },
   {
    "duration": 12,
    "start_time": "2024-08-29T23:57:36.673Z"
   },
   {
    "duration": 85,
    "start_time": "2024-08-29T23:57:36.689Z"
   },
   {
    "duration": 55,
    "start_time": "2024-08-29T23:57:36.776Z"
   },
   {
    "duration": 37,
    "start_time": "2024-08-29T23:57:36.842Z"
   },
   {
    "duration": 46,
    "start_time": "2024-08-29T23:57:36.881Z"
   },
   {
    "duration": 46,
    "start_time": "2024-08-29T23:57:36.929Z"
   },
   {
    "duration": 16,
    "start_time": "2024-08-29T23:57:36.976Z"
   },
   {
    "duration": 1351,
    "start_time": "2024-08-29T23:57:36.993Z"
   },
   {
    "duration": 184,
    "start_time": "2024-08-29T23:57:38.345Z"
   },
   {
    "duration": 649,
    "start_time": "2024-08-29T23:57:38.531Z"
   },
   {
    "duration": 0,
    "start_time": "2024-08-29T23:57:39.182Z"
   },
   {
    "duration": 0,
    "start_time": "2024-08-29T23:57:39.183Z"
   },
   {
    "duration": 0,
    "start_time": "2024-08-29T23:57:39.185Z"
   },
   {
    "duration": 0,
    "start_time": "2024-08-29T23:57:39.186Z"
   },
   {
    "duration": 0,
    "start_time": "2024-08-29T23:57:39.188Z"
   },
   {
    "duration": 0,
    "start_time": "2024-08-29T23:57:39.190Z"
   },
   {
    "duration": 773,
    "start_time": "2024-08-29T23:57:53.467Z"
   },
   {
    "duration": 153,
    "start_time": "2024-08-29T23:57:54.243Z"
   },
   {
    "duration": 17,
    "start_time": "2024-08-29T23:57:54.398Z"
   },
   {
    "duration": 11,
    "start_time": "2024-08-29T23:57:54.416Z"
   },
   {
    "duration": 22,
    "start_time": "2024-08-29T23:57:54.429Z"
   },
   {
    "duration": 9,
    "start_time": "2024-08-29T23:57:54.453Z"
   },
   {
    "duration": 11,
    "start_time": "2024-08-29T23:57:54.464Z"
   },
   {
    "duration": 6,
    "start_time": "2024-08-29T23:57:54.477Z"
   },
   {
    "duration": 8,
    "start_time": "2024-08-29T23:57:54.486Z"
   },
   {
    "duration": 7,
    "start_time": "2024-08-29T23:57:54.496Z"
   },
   {
    "duration": 45,
    "start_time": "2024-08-29T23:57:54.504Z"
   },
   {
    "duration": 9,
    "start_time": "2024-08-29T23:57:54.551Z"
   },
   {
    "duration": 7,
    "start_time": "2024-08-29T23:57:54.562Z"
   },
   {
    "duration": 7,
    "start_time": "2024-08-29T23:57:54.573Z"
   },
   {
    "duration": 5,
    "start_time": "2024-08-29T23:57:54.582Z"
   },
   {
    "duration": 9,
    "start_time": "2024-08-29T23:57:54.589Z"
   },
   {
    "duration": 49,
    "start_time": "2024-08-29T23:57:54.600Z"
   },
   {
    "duration": 11,
    "start_time": "2024-08-29T23:57:54.651Z"
   },
   {
    "duration": 8,
    "start_time": "2024-08-29T23:57:54.663Z"
   },
   {
    "duration": 9,
    "start_time": "2024-08-29T23:57:54.672Z"
   },
   {
    "duration": 7,
    "start_time": "2024-08-29T23:57:54.683Z"
   },
   {
    "duration": 11,
    "start_time": "2024-08-29T23:57:54.691Z"
   },
   {
    "duration": 52,
    "start_time": "2024-08-29T23:57:54.704Z"
   },
   {
    "duration": 17,
    "start_time": "2024-08-29T23:57:54.758Z"
   },
   {
    "duration": 10,
    "start_time": "2024-08-29T23:57:54.777Z"
   },
   {
    "duration": 17,
    "start_time": "2024-08-29T23:57:54.788Z"
   },
   {
    "duration": 54,
    "start_time": "2024-08-29T23:57:54.807Z"
   },
   {
    "duration": 17,
    "start_time": "2024-08-29T23:57:54.862Z"
   },
   {
    "duration": 8,
    "start_time": "2024-08-29T23:57:54.881Z"
   },
   {
    "duration": 12,
    "start_time": "2024-08-29T23:57:54.890Z"
   },
   {
    "duration": 39,
    "start_time": "2024-08-29T23:57:54.904Z"
   },
   {
    "duration": 12,
    "start_time": "2024-08-29T23:57:54.946Z"
   },
   {
    "duration": 16,
    "start_time": "2024-08-29T23:57:54.960Z"
   },
   {
    "duration": 7,
    "start_time": "2024-08-29T23:57:54.978Z"
   },
   {
    "duration": 13,
    "start_time": "2024-08-29T23:57:54.987Z"
   },
   {
    "duration": 10,
    "start_time": "2024-08-29T23:57:55.002Z"
   },
   {
    "duration": 44,
    "start_time": "2024-08-29T23:57:55.013Z"
   },
   {
    "duration": 23,
    "start_time": "2024-08-29T23:57:55.059Z"
   },
   {
    "duration": 7,
    "start_time": "2024-08-29T23:57:55.084Z"
   },
   {
    "duration": 8,
    "start_time": "2024-08-29T23:57:55.092Z"
   },
   {
    "duration": 43,
    "start_time": "2024-08-29T23:57:55.105Z"
   },
   {
    "duration": 68,
    "start_time": "2024-08-29T23:57:55.150Z"
   },
   {
    "duration": 68,
    "start_time": "2024-08-29T23:57:55.220Z"
   },
   {
    "duration": 37,
    "start_time": "2024-08-29T23:57:55.289Z"
   },
   {
    "duration": 59,
    "start_time": "2024-08-29T23:57:55.327Z"
   },
   {
    "duration": 23,
    "start_time": "2024-08-29T23:57:55.388Z"
   },
   {
    "duration": 30,
    "start_time": "2024-08-29T23:57:55.412Z"
   },
   {
    "duration": 1292,
    "start_time": "2024-08-29T23:57:55.444Z"
   },
   {
    "duration": 190,
    "start_time": "2024-08-29T23:57:56.742Z"
   },
   {
    "duration": 569,
    "start_time": "2024-08-29T23:57:56.934Z"
   },
   {
    "duration": 0,
    "start_time": "2024-08-29T23:57:57.505Z"
   },
   {
    "duration": 0,
    "start_time": "2024-08-29T23:57:57.506Z"
   },
   {
    "duration": 0,
    "start_time": "2024-08-29T23:57:57.507Z"
   },
   {
    "duration": 0,
    "start_time": "2024-08-29T23:57:57.508Z"
   },
   {
    "duration": 0,
    "start_time": "2024-08-29T23:57:57.509Z"
   },
   {
    "duration": 0,
    "start_time": "2024-08-29T23:57:57.510Z"
   },
   {
    "duration": 738,
    "start_time": "2024-08-30T00:00:05.204Z"
   },
   {
    "duration": 157,
    "start_time": "2024-08-30T00:00:05.945Z"
   },
   {
    "duration": 17,
    "start_time": "2024-08-30T00:00:06.104Z"
   },
   {
    "duration": 20,
    "start_time": "2024-08-30T00:00:06.123Z"
   },
   {
    "duration": 13,
    "start_time": "2024-08-30T00:00:06.146Z"
   },
   {
    "duration": 9,
    "start_time": "2024-08-30T00:00:06.161Z"
   },
   {
    "duration": 11,
    "start_time": "2024-08-30T00:00:06.172Z"
   },
   {
    "duration": 6,
    "start_time": "2024-08-30T00:00:06.185Z"
   },
   {
    "duration": 8,
    "start_time": "2024-08-30T00:00:06.193Z"
   },
   {
    "duration": 40,
    "start_time": "2024-08-30T00:00:06.203Z"
   },
   {
    "duration": 8,
    "start_time": "2024-08-30T00:00:06.245Z"
   },
   {
    "duration": 8,
    "start_time": "2024-08-30T00:00:06.255Z"
   },
   {
    "duration": 8,
    "start_time": "2024-08-30T00:00:06.265Z"
   },
   {
    "duration": 6,
    "start_time": "2024-08-30T00:00:06.277Z"
   },
   {
    "duration": 4,
    "start_time": "2024-08-30T00:00:06.285Z"
   },
   {
    "duration": 9,
    "start_time": "2024-08-30T00:00:06.291Z"
   },
   {
    "duration": 48,
    "start_time": "2024-08-30T00:00:06.301Z"
   },
   {
    "duration": 9,
    "start_time": "2024-08-30T00:00:06.351Z"
   },
   {
    "duration": 8,
    "start_time": "2024-08-30T00:00:06.362Z"
   },
   {
    "duration": 9,
    "start_time": "2024-08-30T00:00:06.372Z"
   },
   {
    "duration": 7,
    "start_time": "2024-08-30T00:00:06.383Z"
   },
   {
    "duration": 10,
    "start_time": "2024-08-30T00:00:06.391Z"
   },
   {
    "duration": 21,
    "start_time": "2024-08-30T00:00:06.442Z"
   },
   {
    "duration": 15,
    "start_time": "2024-08-30T00:00:06.465Z"
   },
   {
    "duration": 10,
    "start_time": "2024-08-30T00:00:06.482Z"
   },
   {
    "duration": 16,
    "start_time": "2024-08-30T00:00:06.494Z"
   },
   {
    "duration": 54,
    "start_time": "2024-08-30T00:00:06.512Z"
   },
   {
    "duration": 17,
    "start_time": "2024-08-30T00:00:06.568Z"
   },
   {
    "duration": 9,
    "start_time": "2024-08-30T00:00:06.586Z"
   },
   {
    "duration": 11,
    "start_time": "2024-08-30T00:00:06.598Z"
   },
   {
    "duration": 34,
    "start_time": "2024-08-30T00:00:06.610Z"
   },
   {
    "duration": 11,
    "start_time": "2024-08-30T00:00:06.647Z"
   },
   {
    "duration": 18,
    "start_time": "2024-08-30T00:00:06.660Z"
   },
   {
    "duration": 7,
    "start_time": "2024-08-30T00:00:06.680Z"
   },
   {
    "duration": 13,
    "start_time": "2024-08-30T00:00:06.689Z"
   },
   {
    "duration": 42,
    "start_time": "2024-08-30T00:00:06.703Z"
   },
   {
    "duration": 15,
    "start_time": "2024-08-30T00:00:06.747Z"
   },
   {
    "duration": 24,
    "start_time": "2024-08-30T00:00:06.764Z"
   },
   {
    "duration": 7,
    "start_time": "2024-08-30T00:00:06.790Z"
   },
   {
    "duration": 8,
    "start_time": "2024-08-30T00:00:06.798Z"
   },
   {
    "duration": 41,
    "start_time": "2024-08-30T00:00:06.810Z"
   },
   {
    "duration": 64,
    "start_time": "2024-08-30T00:00:06.852Z"
   },
   {
    "duration": 72,
    "start_time": "2024-08-30T00:00:06.917Z"
   },
   {
    "duration": 37,
    "start_time": "2024-08-30T00:00:06.991Z"
   },
   {
    "duration": 56,
    "start_time": "2024-08-30T00:00:07.030Z"
   },
   {
    "duration": 23,
    "start_time": "2024-08-30T00:00:07.088Z"
   },
   {
    "duration": 31,
    "start_time": "2024-08-30T00:00:07.112Z"
   },
   {
    "duration": 1339,
    "start_time": "2024-08-30T00:00:07.145Z"
   },
   {
    "duration": 198,
    "start_time": "2024-08-30T00:00:08.486Z"
   },
   {
    "duration": 569,
    "start_time": "2024-08-30T00:00:08.686Z"
   },
   {
    "duration": 0,
    "start_time": "2024-08-30T00:00:09.256Z"
   },
   {
    "duration": 0,
    "start_time": "2024-08-30T00:00:09.258Z"
   },
   {
    "duration": 0,
    "start_time": "2024-08-30T00:00:09.259Z"
   },
   {
    "duration": 0,
    "start_time": "2024-08-30T00:00:09.261Z"
   },
   {
    "duration": 0,
    "start_time": "2024-08-30T00:00:09.262Z"
   },
   {
    "duration": 0,
    "start_time": "2024-08-30T00:00:09.264Z"
   },
   {
    "duration": 63,
    "start_time": "2024-08-30T00:00:32.634Z"
   },
   {
    "duration": 263,
    "start_time": "2024-08-30T00:01:12.197Z"
   },
   {
    "duration": 181,
    "start_time": "2024-08-30T00:05:20.774Z"
   },
   {
    "duration": 21,
    "start_time": "2024-08-30T00:45:56.864Z"
   },
   {
    "duration": 15,
    "start_time": "2024-08-30T00:51:06.992Z"
   },
   {
    "duration": 18,
    "start_time": "2024-08-30T00:51:18.016Z"
   },
   {
    "duration": 18,
    "start_time": "2024-08-30T00:51:22.846Z"
   },
   {
    "duration": 18,
    "start_time": "2024-08-30T00:52:41.418Z"
   },
   {
    "duration": 18,
    "start_time": "2024-08-30T00:52:48.001Z"
   },
   {
    "duration": 7,
    "start_time": "2024-08-30T00:52:58.938Z"
   },
   {
    "duration": 133,
    "start_time": "2024-08-30T00:54:26.836Z"
   },
   {
    "duration": 125,
    "start_time": "2024-08-30T00:55:02.641Z"
   },
   {
    "duration": 99,
    "start_time": "2024-08-30T00:56:37.569Z"
   },
   {
    "duration": 27,
    "start_time": "2024-08-30T00:57:37.599Z"
   },
   {
    "duration": 24,
    "start_time": "2024-08-30T00:57:44.274Z"
   },
   {
    "duration": 120,
    "start_time": "2024-08-30T00:59:51.324Z"
   },
   {
    "duration": 325,
    "start_time": "2024-08-30T01:00:20.270Z"
   },
   {
    "duration": 282,
    "start_time": "2024-08-30T01:02:16.515Z"
   },
   {
    "duration": 369,
    "start_time": "2024-08-30T01:02:23.633Z"
   },
   {
    "duration": 243,
    "start_time": "2024-08-30T01:02:36.814Z"
   },
   {
    "duration": 263,
    "start_time": "2024-08-30T01:02:46.988Z"
   },
   {
    "duration": 205,
    "start_time": "2024-08-30T01:05:29.512Z"
   },
   {
    "duration": 103,
    "start_time": "2024-08-30T01:06:09.991Z"
   },
   {
    "duration": 100,
    "start_time": "2024-08-30T01:07:28.907Z"
   },
   {
    "duration": 14,
    "start_time": "2024-08-30T13:30:01.519Z"
   },
   {
    "duration": 176,
    "start_time": "2024-08-30T13:31:30.494Z"
   },
   {
    "duration": 180,
    "start_time": "2024-08-30T13:33:18.611Z"
   },
   {
    "duration": 275,
    "start_time": "2024-08-30T13:37:25.291Z"
   },
   {
    "duration": 175,
    "start_time": "2024-08-30T13:37:52.633Z"
   },
   {
    "duration": 166,
    "start_time": "2024-08-30T13:48:27.858Z"
   },
   {
    "duration": 196,
    "start_time": "2024-08-30T13:49:21.821Z"
   },
   {
    "duration": 11,
    "start_time": "2024-08-30T13:49:48.538Z"
   },
   {
    "duration": 230,
    "start_time": "2024-08-30T13:50:20.873Z"
   },
   {
    "duration": 16,
    "start_time": "2024-08-30T13:53:33.824Z"
   },
   {
    "duration": 5,
    "start_time": "2024-08-30T13:57:58.181Z"
   },
   {
    "duration": 9,
    "start_time": "2024-08-30T13:58:04.239Z"
   },
   {
    "duration": 6,
    "start_time": "2024-08-30T13:59:53.560Z"
   },
   {
    "duration": 8,
    "start_time": "2024-08-30T14:00:31.662Z"
   },
   {
    "duration": 14,
    "start_time": "2024-08-30T14:02:24.925Z"
   },
   {
    "duration": 77,
    "start_time": "2024-08-30T14:02:31.064Z"
   },
   {
    "duration": 79,
    "start_time": "2024-08-30T14:05:10.618Z"
   },
   {
    "duration": 83,
    "start_time": "2024-08-30T14:06:00.101Z"
   },
   {
    "duration": 674,
    "start_time": "2024-08-30T14:08:32.653Z"
   },
   {
    "duration": 9,
    "start_time": "2024-08-30T14:10:40.023Z"
   },
   {
    "duration": 6,
    "start_time": "2024-08-30T14:11:38.943Z"
   },
   {
    "duration": 9,
    "start_time": "2024-08-30T14:11:46.100Z"
   },
   {
    "duration": 102,
    "start_time": "2024-08-30T14:12:07.558Z"
   },
   {
    "duration": 96,
    "start_time": "2024-08-30T14:12:14.189Z"
   },
   {
    "duration": 104,
    "start_time": "2024-08-30T14:12:31.135Z"
   },
   {
    "duration": 106,
    "start_time": "2024-08-30T14:12:58.357Z"
   },
   {
    "duration": 3,
    "start_time": "2024-08-30T14:24:17.217Z"
   },
   {
    "duration": 4,
    "start_time": "2024-08-30T14:24:21.043Z"
   },
   {
    "duration": 93,
    "start_time": "2024-08-30T14:24:31.057Z"
   },
   {
    "duration": 99,
    "start_time": "2024-08-30T14:24:38.252Z"
   },
   {
    "duration": 100,
    "start_time": "2024-08-30T14:24:45.092Z"
   },
   {
    "duration": 14,
    "start_time": "2024-08-30T14:33:33.428Z"
   },
   {
    "duration": 15,
    "start_time": "2024-08-30T14:37:19.333Z"
   },
   {
    "duration": 18,
    "start_time": "2024-08-30T14:37:23.057Z"
   },
   {
    "duration": 157,
    "start_time": "2024-08-30T14:55:08.177Z"
   },
   {
    "duration": 121,
    "start_time": "2024-08-30T14:55:31.713Z"
   },
   {
    "duration": 124,
    "start_time": "2024-08-30T14:56:28.697Z"
   },
   {
    "duration": 118,
    "start_time": "2024-08-30T14:57:43.677Z"
   },
   {
    "duration": 116,
    "start_time": "2024-08-30T14:57:53.179Z"
   },
   {
    "duration": 1133,
    "start_time": "2024-08-30T14:58:05.036Z"
   },
   {
    "duration": 2206,
    "start_time": "2024-08-30T14:58:12.003Z"
   },
   {
    "duration": 1224,
    "start_time": "2024-08-30T14:58:24.464Z"
   },
   {
    "duration": 1159,
    "start_time": "2024-08-30T14:58:37.666Z"
   },
   {
    "duration": 946,
    "start_time": "2024-08-30T14:59:10.547Z"
   },
   {
    "duration": 1205,
    "start_time": "2024-08-30T15:00:21.308Z"
   },
   {
    "duration": 1250,
    "start_time": "2024-08-30T15:00:44.800Z"
   },
   {
    "duration": 944,
    "start_time": "2024-08-30T15:01:01.529Z"
   },
   {
    "duration": 1452,
    "start_time": "2024-08-30T15:01:10.052Z"
   },
   {
    "duration": 4,
    "start_time": "2024-08-30T15:03:04.684Z"
   },
   {
    "duration": 11,
    "start_time": "2024-08-30T15:03:12.894Z"
   },
   {
    "duration": 5,
    "start_time": "2024-08-30T15:03:20.891Z"
   },
   {
    "duration": 5,
    "start_time": "2024-08-30T15:04:18.593Z"
   },
   {
    "duration": 5,
    "start_time": "2024-08-30T15:04:53.329Z"
   },
   {
    "duration": 17,
    "start_time": "2024-08-30T15:05:08.101Z"
   },
   {
    "duration": 6,
    "start_time": "2024-08-30T15:05:21.278Z"
   },
   {
    "duration": 760,
    "start_time": "2024-08-30T15:11:46.879Z"
   },
   {
    "duration": 163,
    "start_time": "2024-08-30T15:11:47.643Z"
   },
   {
    "duration": 16,
    "start_time": "2024-08-30T15:11:47.808Z"
   },
   {
    "duration": 10,
    "start_time": "2024-08-30T15:11:47.826Z"
   },
   {
    "duration": 14,
    "start_time": "2024-08-30T15:11:47.842Z"
   },
   {
    "duration": 10,
    "start_time": "2024-08-30T15:11:47.857Z"
   },
   {
    "duration": 11,
    "start_time": "2024-08-30T15:11:47.868Z"
   },
   {
    "duration": 5,
    "start_time": "2024-08-30T15:11:47.881Z"
   },
   {
    "duration": 8,
    "start_time": "2024-08-30T15:11:47.888Z"
   },
   {
    "duration": 44,
    "start_time": "2024-08-30T15:11:47.898Z"
   },
   {
    "duration": 9,
    "start_time": "2024-08-30T15:11:47.944Z"
   },
   {
    "duration": 8,
    "start_time": "2024-08-30T15:11:47.954Z"
   },
   {
    "duration": 8,
    "start_time": "2024-08-30T15:11:47.964Z"
   },
   {
    "duration": 7,
    "start_time": "2024-08-30T15:11:47.976Z"
   },
   {
    "duration": 4,
    "start_time": "2024-08-30T15:11:47.984Z"
   },
   {
    "duration": 8,
    "start_time": "2024-08-30T15:11:47.990Z"
   },
   {
    "duration": 49,
    "start_time": "2024-08-30T15:11:48.000Z"
   },
   {
    "duration": 11,
    "start_time": "2024-08-30T15:11:48.051Z"
   },
   {
    "duration": 7,
    "start_time": "2024-08-30T15:11:48.063Z"
   },
   {
    "duration": 9,
    "start_time": "2024-08-30T15:11:48.072Z"
   },
   {
    "duration": 7,
    "start_time": "2024-08-30T15:11:48.083Z"
   },
   {
    "duration": 10,
    "start_time": "2024-08-30T15:11:48.092Z"
   },
   {
    "duration": 53,
    "start_time": "2024-08-30T15:11:48.104Z"
   },
   {
    "duration": 14,
    "start_time": "2024-08-30T15:11:48.159Z"
   },
   {
    "duration": 10,
    "start_time": "2024-08-30T15:11:48.175Z"
   },
   {
    "duration": 18,
    "start_time": "2024-08-30T15:11:48.186Z"
   },
   {
    "duration": 53,
    "start_time": "2024-08-30T15:11:48.206Z"
   },
   {
    "duration": 16,
    "start_time": "2024-08-30T15:11:48.261Z"
   },
   {
    "duration": 9,
    "start_time": "2024-08-30T15:11:48.279Z"
   },
   {
    "duration": 12,
    "start_time": "2024-08-30T15:11:48.289Z"
   },
   {
    "duration": 8,
    "start_time": "2024-08-30T15:11:48.303Z"
   },
   {
    "duration": 9,
    "start_time": "2024-08-30T15:11:48.345Z"
   },
   {
    "duration": 17,
    "start_time": "2024-08-30T15:11:48.355Z"
   },
   {
    "duration": 6,
    "start_time": "2024-08-30T15:11:48.374Z"
   },
   {
    "duration": 13,
    "start_time": "2024-08-30T15:11:48.381Z"
   },
   {
    "duration": 9,
    "start_time": "2024-08-30T15:11:48.396Z"
   },
   {
    "duration": 48,
    "start_time": "2024-08-30T15:11:48.406Z"
   },
   {
    "duration": 25,
    "start_time": "2024-08-30T15:11:48.456Z"
   },
   {
    "duration": 7,
    "start_time": "2024-08-30T15:11:48.483Z"
   },
   {
    "duration": 7,
    "start_time": "2024-08-30T15:11:48.492Z"
   },
   {
    "duration": 41,
    "start_time": "2024-08-30T15:11:48.505Z"
   },
   {
    "duration": 63,
    "start_time": "2024-08-30T15:11:48.548Z"
   },
   {
    "duration": 70,
    "start_time": "2024-08-30T15:11:48.613Z"
   },
   {
    "duration": 36,
    "start_time": "2024-08-30T15:11:48.684Z"
   },
   {
    "duration": 62,
    "start_time": "2024-08-30T15:11:48.722Z"
   },
   {
    "duration": 27,
    "start_time": "2024-08-30T15:11:48.786Z"
   },
   {
    "duration": 29,
    "start_time": "2024-08-30T15:11:48.816Z"
   },
   {
    "duration": 1329,
    "start_time": "2024-08-30T15:11:48.847Z"
   },
   {
    "duration": 196,
    "start_time": "2024-08-30T15:11:50.177Z"
   },
   {
    "duration": 297,
    "start_time": "2024-08-30T15:11:50.375Z"
   },
   {
    "duration": 0,
    "start_time": "2024-08-30T15:11:50.673Z"
   },
   {
    "duration": 0,
    "start_time": "2024-08-30T15:11:50.674Z"
   },
   {
    "duration": 0,
    "start_time": "2024-08-30T15:11:50.676Z"
   },
   {
    "duration": 0,
    "start_time": "2024-08-30T15:11:50.677Z"
   },
   {
    "duration": 0,
    "start_time": "2024-08-30T15:11:50.678Z"
   },
   {
    "duration": 0,
    "start_time": "2024-08-30T15:11:50.679Z"
   },
   {
    "duration": 0,
    "start_time": "2024-08-30T15:11:50.680Z"
   },
   {
    "duration": 0,
    "start_time": "2024-08-30T15:11:50.681Z"
   },
   {
    "duration": 0,
    "start_time": "2024-08-30T15:11:50.682Z"
   },
   {
    "duration": 0,
    "start_time": "2024-08-30T15:11:50.683Z"
   },
   {
    "duration": 781,
    "start_time": "2024-08-30T15:12:13.972Z"
   },
   {
    "duration": 168,
    "start_time": "2024-08-30T15:12:14.755Z"
   },
   {
    "duration": 16,
    "start_time": "2024-08-30T15:12:14.925Z"
   },
   {
    "duration": 10,
    "start_time": "2024-08-30T15:12:14.943Z"
   },
   {
    "duration": 14,
    "start_time": "2024-08-30T15:12:14.955Z"
   },
   {
    "duration": 10,
    "start_time": "2024-08-30T15:12:14.970Z"
   },
   {
    "duration": 11,
    "start_time": "2024-08-30T15:12:14.982Z"
   },
   {
    "duration": 6,
    "start_time": "2024-08-30T15:12:14.996Z"
   },
   {
    "duration": 42,
    "start_time": "2024-08-30T15:12:15.003Z"
   },
   {
    "duration": 7,
    "start_time": "2024-08-30T15:12:15.047Z"
   },
   {
    "duration": 10,
    "start_time": "2024-08-30T15:12:15.056Z"
   },
   {
    "duration": 9,
    "start_time": "2024-08-30T15:12:15.067Z"
   },
   {
    "duration": 9,
    "start_time": "2024-08-30T15:12:15.078Z"
   },
   {
    "duration": 9,
    "start_time": "2024-08-30T15:12:15.091Z"
   },
   {
    "duration": 45,
    "start_time": "2024-08-30T15:12:15.102Z"
   },
   {
    "duration": 10,
    "start_time": "2024-08-30T15:12:15.149Z"
   },
   {
    "duration": 10,
    "start_time": "2024-08-30T15:12:15.161Z"
   },
   {
    "duration": 12,
    "start_time": "2024-08-30T15:12:15.175Z"
   },
   {
    "duration": 12,
    "start_time": "2024-08-30T15:12:15.189Z"
   },
   {
    "duration": 42,
    "start_time": "2024-08-30T15:12:15.203Z"
   },
   {
    "duration": 9,
    "start_time": "2024-08-30T15:12:15.247Z"
   },
   {
    "duration": 12,
    "start_time": "2024-08-30T15:12:15.259Z"
   },
   {
    "duration": 17,
    "start_time": "2024-08-30T15:12:15.273Z"
   },
   {
    "duration": 54,
    "start_time": "2024-08-30T15:12:15.292Z"
   },
   {
    "duration": 12,
    "start_time": "2024-08-30T15:12:15.349Z"
   },
   {
    "duration": 19,
    "start_time": "2024-08-30T15:12:15.363Z"
   },
   {
    "duration": 27,
    "start_time": "2024-08-30T15:12:15.383Z"
   },
   {
    "duration": 47,
    "start_time": "2024-08-30T15:12:15.412Z"
   },
   {
    "duration": 9,
    "start_time": "2024-08-30T15:12:15.462Z"
   },
   {
    "duration": 12,
    "start_time": "2024-08-30T15:12:15.473Z"
   },
   {
    "duration": 9,
    "start_time": "2024-08-30T15:12:15.487Z"
   },
   {
    "duration": 11,
    "start_time": "2024-08-30T15:12:15.497Z"
   },
   {
    "duration": 48,
    "start_time": "2024-08-30T15:12:15.510Z"
   },
   {
    "duration": 6,
    "start_time": "2024-08-30T15:12:15.561Z"
   },
   {
    "duration": 15,
    "start_time": "2024-08-30T15:12:15.570Z"
   },
   {
    "duration": 10,
    "start_time": "2024-08-30T15:12:15.587Z"
   },
   {
    "duration": 58,
    "start_time": "2024-08-30T15:12:15.599Z"
   },
   {
    "duration": 24,
    "start_time": "2024-08-30T15:12:15.659Z"
   },
   {
    "duration": 7,
    "start_time": "2024-08-30T15:12:15.686Z"
   },
   {
    "duration": 9,
    "start_time": "2024-08-30T15:12:15.694Z"
   },
   {
    "duration": 38,
    "start_time": "2024-08-30T15:12:15.708Z"
   },
   {
    "duration": 69,
    "start_time": "2024-08-30T15:12:15.748Z"
   },
   {
    "duration": 126,
    "start_time": "2024-08-30T15:12:15.818Z"
   },
   {
    "duration": 39,
    "start_time": "2024-08-30T15:12:15.946Z"
   },
   {
    "duration": 70,
    "start_time": "2024-08-30T15:12:15.987Z"
   },
   {
    "duration": 25,
    "start_time": "2024-08-30T15:12:16.059Z"
   },
   {
    "duration": 13,
    "start_time": "2024-08-30T15:12:16.086Z"
   },
   {
    "duration": 1382,
    "start_time": "2024-08-30T15:12:16.101Z"
   },
   {
    "duration": 195,
    "start_time": "2024-08-30T15:12:17.485Z"
   },
   {
    "duration": 238,
    "start_time": "2024-08-30T15:12:17.682Z"
   },
   {
    "duration": 79,
    "start_time": "2024-08-30T15:12:17.922Z"
   },
   {
    "duration": 103,
    "start_time": "2024-08-30T15:12:18.003Z"
   },
   {
    "duration": 109,
    "start_time": "2024-08-30T15:12:18.108Z"
   },
   {
    "duration": 5,
    "start_time": "2024-08-30T15:12:18.219Z"
   },
   {
    "duration": 627,
    "start_time": "2024-08-30T15:12:18.226Z"
   },
   {
    "duration": 0,
    "start_time": "2024-08-30T15:12:18.855Z"
   },
   {
    "duration": 0,
    "start_time": "2024-08-30T15:12:18.856Z"
   },
   {
    "duration": 0,
    "start_time": "2024-08-30T15:12:18.857Z"
   },
   {
    "duration": 0,
    "start_time": "2024-08-30T15:12:18.858Z"
   },
   {
    "duration": 0,
    "start_time": "2024-08-30T15:12:18.859Z"
   },
   {
    "duration": 14,
    "start_time": "2024-08-30T15:14:30.682Z"
   },
   {
    "duration": 13,
    "start_time": "2024-08-30T15:15:46.785Z"
   },
   {
    "duration": 10,
    "start_time": "2024-08-30T15:16:51.191Z"
   },
   {
    "duration": 4,
    "start_time": "2024-08-30T15:18:24.031Z"
   },
   {
    "duration": 3,
    "start_time": "2024-08-30T15:18:27.866Z"
   },
   {
    "duration": 4,
    "start_time": "2024-08-30T15:18:51.987Z"
   },
   {
    "duration": 6,
    "start_time": "2024-08-30T15:19:59.312Z"
   },
   {
    "duration": 11,
    "start_time": "2024-08-30T15:20:08.733Z"
   },
   {
    "duration": 9,
    "start_time": "2024-08-30T15:21:39.225Z"
   },
   {
    "duration": 27,
    "start_time": "2024-08-30T15:22:37.065Z"
   },
   {
    "duration": 24,
    "start_time": "2024-08-30T15:24:17.253Z"
   },
   {
    "duration": 25,
    "start_time": "2024-08-30T15:29:15.408Z"
   },
   {
    "duration": 12,
    "start_time": "2024-08-30T15:29:23.237Z"
   },
   {
    "duration": 18,
    "start_time": "2024-08-30T15:29:30.728Z"
   },
   {
    "duration": 18,
    "start_time": "2024-08-30T15:30:01.702Z"
   },
   {
    "duration": 20,
    "start_time": "2024-08-30T15:30:22.990Z"
   },
   {
    "duration": 17,
    "start_time": "2024-08-30T15:30:33.178Z"
   },
   {
    "duration": 24,
    "start_time": "2024-08-30T15:30:47.581Z"
   },
   {
    "duration": 18,
    "start_time": "2024-08-30T15:31:18.332Z"
   },
   {
    "duration": 25,
    "start_time": "2024-08-30T15:31:28.919Z"
   },
   {
    "duration": 18,
    "start_time": "2024-08-30T15:31:38.777Z"
   },
   {
    "duration": 17,
    "start_time": "2024-08-30T15:31:49.907Z"
   },
   {
    "duration": 13,
    "start_time": "2024-08-30T15:32:39.604Z"
   },
   {
    "duration": 19,
    "start_time": "2024-08-30T15:32:47.068Z"
   },
   {
    "duration": 14,
    "start_time": "2024-08-30T15:33:22.925Z"
   },
   {
    "duration": 22,
    "start_time": "2024-08-30T15:34:39.452Z"
   },
   {
    "duration": 17,
    "start_time": "2024-08-30T15:38:45.583Z"
   },
   {
    "duration": 13,
    "start_time": "2024-08-30T15:40:19.719Z"
   },
   {
    "duration": 15,
    "start_time": "2024-08-30T15:41:04.114Z"
   },
   {
    "duration": 17,
    "start_time": "2024-08-30T15:41:14.549Z"
   },
   {
    "duration": 19,
    "start_time": "2024-08-30T15:42:13.054Z"
   },
   {
    "duration": 25,
    "start_time": "2024-08-30T15:43:23.490Z"
   },
   {
    "duration": 17,
    "start_time": "2024-08-30T15:43:29.537Z"
   },
   {
    "duration": 21,
    "start_time": "2024-08-30T15:44:44.703Z"
   },
   {
    "duration": 102,
    "start_time": "2024-08-30T15:45:24.962Z"
   },
   {
    "duration": 100,
    "start_time": "2024-08-30T15:45:34.425Z"
   },
   {
    "duration": 189,
    "start_time": "2024-08-30T15:46:51.882Z"
   },
   {
    "duration": 183,
    "start_time": "2024-08-30T15:47:04.126Z"
   },
   {
    "duration": 325,
    "start_time": "2024-08-30T15:51:10.727Z"
   },
   {
    "duration": 164,
    "start_time": "2024-08-30T15:51:59.200Z"
   },
   {
    "duration": 165,
    "start_time": "2024-08-30T15:52:05.430Z"
   },
   {
    "duration": 191,
    "start_time": "2024-08-30T15:52:15.953Z"
   },
   {
    "duration": 162,
    "start_time": "2024-08-30T15:55:32.270Z"
   },
   {
    "duration": 167,
    "start_time": "2024-08-30T15:55:57.638Z"
   },
   {
    "duration": 205,
    "start_time": "2024-08-30T15:56:54.399Z"
   },
   {
    "duration": 204,
    "start_time": "2024-08-30T15:59:29.833Z"
   },
   {
    "duration": 299,
    "start_time": "2024-08-30T16:00:01.146Z"
   },
   {
    "duration": 14,
    "start_time": "2024-08-30T16:01:45.836Z"
   },
   {
    "duration": 8,
    "start_time": "2024-08-30T16:01:49.268Z"
   },
   {
    "duration": 4,
    "start_time": "2024-08-30T16:09:42.662Z"
   },
   {
    "duration": 9,
    "start_time": "2024-08-30T16:10:30.688Z"
   },
   {
    "duration": 16,
    "start_time": "2024-08-30T16:10:47.062Z"
   },
   {
    "duration": 14,
    "start_time": "2024-08-30T16:10:54.642Z"
   },
   {
    "duration": 10,
    "start_time": "2024-08-30T16:11:30.140Z"
   },
   {
    "duration": 19,
    "start_time": "2024-08-30T16:12:37.997Z"
   },
   {
    "duration": 18,
    "start_time": "2024-08-30T16:12:48.166Z"
   },
   {
    "duration": 13,
    "start_time": "2024-08-30T16:13:02.802Z"
   },
   {
    "duration": 11,
    "start_time": "2024-08-30T16:13:58.321Z"
   },
   {
    "duration": 11,
    "start_time": "2024-08-30T16:14:06.880Z"
   },
   {
    "duration": 14,
    "start_time": "2024-08-30T16:15:15.436Z"
   },
   {
    "duration": 82,
    "start_time": "2024-08-30T16:16:16.081Z"
   },
   {
    "duration": 60,
    "start_time": "2024-08-30T16:16:26.781Z"
   },
   {
    "duration": 162,
    "start_time": "2024-08-30T16:16:44.903Z"
   },
   {
    "duration": 14,
    "start_time": "2024-08-30T16:16:55.205Z"
   },
   {
    "duration": 16,
    "start_time": "2024-08-30T16:17:10.739Z"
   },
   {
    "duration": 16,
    "start_time": "2024-08-30T16:17:16.240Z"
   },
   {
    "duration": 17,
    "start_time": "2024-08-30T16:18:20.157Z"
   },
   {
    "duration": 61,
    "start_time": "2024-08-30T16:18:32.958Z"
   },
   {
    "duration": 181,
    "start_time": "2024-08-30T16:18:41.623Z"
   },
   {
    "duration": 181,
    "start_time": "2024-08-30T16:18:57.885Z"
   },
   {
    "duration": 53,
    "start_time": "2024-08-30T16:24:01.628Z"
   },
   {
    "duration": 183,
    "start_time": "2024-08-30T16:24:33.131Z"
   },
   {
    "duration": 51,
    "start_time": "2024-08-30T16:24:58.932Z"
   },
   {
    "duration": 178,
    "start_time": "2024-08-30T16:25:25.037Z"
   },
   {
    "duration": 170,
    "start_time": "2024-08-30T16:25:32.474Z"
   },
   {
    "duration": 192,
    "start_time": "2024-08-30T16:25:59.246Z"
   },
   {
    "duration": 170,
    "start_time": "2024-08-30T16:26:57.396Z"
   },
   {
    "duration": 169,
    "start_time": "2024-08-30T16:27:09.463Z"
   },
   {
    "duration": 289,
    "start_time": "2024-08-30T16:27:19.441Z"
   },
   {
    "duration": 167,
    "start_time": "2024-08-30T16:27:38.328Z"
   },
   {
    "duration": 170,
    "start_time": "2024-08-30T16:27:57.904Z"
   },
   {
    "duration": 166,
    "start_time": "2024-08-30T16:28:07.848Z"
   },
   {
    "duration": 167,
    "start_time": "2024-08-30T16:28:39.554Z"
   },
   {
    "duration": 188,
    "start_time": "2024-08-30T16:28:55.277Z"
   },
   {
    "duration": 169,
    "start_time": "2024-08-30T16:29:51.344Z"
   },
   {
    "duration": 26,
    "start_time": "2024-08-30T16:30:10.572Z"
   },
   {
    "duration": 170,
    "start_time": "2024-08-30T16:30:19.242Z"
   },
   {
    "duration": 171,
    "start_time": "2024-08-30T16:31:03.131Z"
   },
   {
    "duration": 168,
    "start_time": "2024-08-30T16:31:18.906Z"
   },
   {
    "duration": 166,
    "start_time": "2024-08-30T16:31:36.896Z"
   },
   {
    "duration": 184,
    "start_time": "2024-08-30T16:34:28.098Z"
   },
   {
    "duration": 159,
    "start_time": "2024-08-30T16:34:40.594Z"
   },
   {
    "duration": 310,
    "start_time": "2024-08-30T16:34:49.294Z"
   },
   {
    "duration": 214,
    "start_time": "2024-08-30T16:35:24.026Z"
   },
   {
    "duration": 216,
    "start_time": "2024-08-30T16:38:54.742Z"
   },
   {
    "duration": 236,
    "start_time": "2024-08-30T16:39:02.978Z"
   },
   {
    "duration": 209,
    "start_time": "2024-08-30T16:39:31.924Z"
   },
   {
    "duration": 211,
    "start_time": "2024-08-30T16:40:07.546Z"
   },
   {
    "duration": 11,
    "start_time": "2024-08-30T16:45:33.151Z"
   },
   {
    "duration": 9,
    "start_time": "2024-08-30T16:45:45.692Z"
   },
   {
    "duration": 12,
    "start_time": "2024-08-30T16:48:00.866Z"
   },
   {
    "duration": 13,
    "start_time": "2024-08-30T16:48:13.093Z"
   },
   {
    "duration": 169,
    "start_time": "2024-08-30T16:49:38.941Z"
   },
   {
    "duration": 341,
    "start_time": "2024-08-30T17:05:05.920Z"
   },
   {
    "duration": 232,
    "start_time": "2024-08-30T17:05:19.454Z"
   },
   {
    "duration": 10,
    "start_time": "2024-08-30T17:08:11.490Z"
   },
   {
    "duration": 4,
    "start_time": "2024-08-30T17:10:26.182Z"
   },
   {
    "duration": 8,
    "start_time": "2024-08-30T17:10:29.556Z"
   },
   {
    "duration": 9,
    "start_time": "2024-08-30T17:11:21.333Z"
   },
   {
    "duration": 20,
    "start_time": "2024-08-30T17:13:06.093Z"
   },
   {
    "duration": 21,
    "start_time": "2024-08-30T17:13:09.273Z"
   },
   {
    "duration": 100,
    "start_time": "2024-08-30T17:13:13.544Z"
   },
   {
    "duration": 21,
    "start_time": "2024-08-30T17:14:02.262Z"
   },
   {
    "duration": 21,
    "start_time": "2024-08-30T17:14:45.100Z"
   },
   {
    "duration": 109,
    "start_time": "2024-08-30T17:14:50.262Z"
   },
   {
    "duration": 94,
    "start_time": "2024-08-30T17:15:02.906Z"
   },
   {
    "duration": 97,
    "start_time": "2024-08-30T17:15:24.617Z"
   },
   {
    "duration": 95,
    "start_time": "2024-08-30T17:15:49.720Z"
   },
   {
    "duration": 116,
    "start_time": "2024-08-30T17:15:54.172Z"
   },
   {
    "duration": 20,
    "start_time": "2024-08-30T17:16:57.887Z"
   },
   {
    "duration": 75,
    "start_time": "2024-08-30T17:17:27.965Z"
   },
   {
    "duration": 75,
    "start_time": "2024-08-30T17:17:49.646Z"
   },
   {
    "duration": 81,
    "start_time": "2024-08-30T17:18:42.237Z"
   },
   {
    "duration": 612,
    "start_time": "2024-08-30T17:19:04.969Z"
   },
   {
    "duration": 77,
    "start_time": "2024-08-30T17:19:42.874Z"
   },
   {
    "duration": 77,
    "start_time": "2024-08-30T17:19:46.912Z"
   },
   {
    "duration": 84,
    "start_time": "2024-08-30T17:19:53.568Z"
   },
   {
    "duration": 77,
    "start_time": "2024-08-30T17:20:06.219Z"
   },
   {
    "duration": 75,
    "start_time": "2024-08-30T17:20:08.964Z"
   },
   {
    "duration": 89,
    "start_time": "2024-08-30T17:20:15.606Z"
   },
   {
    "duration": 77,
    "start_time": "2024-08-30T17:20:20.015Z"
   },
   {
    "duration": 78,
    "start_time": "2024-08-30T17:20:23.225Z"
   },
   {
    "duration": 75,
    "start_time": "2024-08-30T17:20:25.817Z"
   },
   {
    "duration": 149,
    "start_time": "2024-08-30T17:21:32.298Z"
   },
   {
    "duration": 136,
    "start_time": "2024-08-30T17:21:37.960Z"
   },
   {
    "duration": 74,
    "start_time": "2024-08-30T17:22:00.349Z"
   },
   {
    "duration": 69,
    "start_time": "2024-08-30T17:22:04.472Z"
   },
   {
    "duration": 71,
    "start_time": "2024-08-30T17:22:08.882Z"
   },
   {
    "duration": 83,
    "start_time": "2024-08-30T17:22:12.927Z"
   },
   {
    "duration": 14,
    "start_time": "2024-08-30T17:23:04.125Z"
   },
   {
    "duration": 46,
    "start_time": "2024-08-30T17:25:37.989Z"
   },
   {
    "duration": 48,
    "start_time": "2024-08-30T17:25:54.662Z"
   },
   {
    "duration": 52,
    "start_time": "2024-08-30T17:26:14.954Z"
   },
   {
    "duration": 53,
    "start_time": "2024-08-30T17:26:39.313Z"
   },
   {
    "duration": 78,
    "start_time": "2024-08-30T17:27:23.231Z"
   },
   {
    "duration": 72,
    "start_time": "2024-08-30T17:28:46.760Z"
   },
   {
    "duration": 56,
    "start_time": "2024-08-30T17:29:06.512Z"
   },
   {
    "duration": 75,
    "start_time": "2024-08-30T17:29:23.263Z"
   },
   {
    "duration": 53,
    "start_time": "2024-08-30T17:29:40.074Z"
   },
   {
    "duration": 205,
    "start_time": "2024-08-30T17:30:20.497Z"
   },
   {
    "duration": 16,
    "start_time": "2024-08-30T17:32:29.329Z"
   },
   {
    "duration": 4,
    "start_time": "2024-08-30T17:36:17.082Z"
   },
   {
    "duration": 14,
    "start_time": "2024-08-30T17:36:19.893Z"
   },
   {
    "duration": 20,
    "start_time": "2024-08-30T17:38:14.206Z"
   },
   {
    "duration": 7,
    "start_time": "2024-08-30T17:40:07.269Z"
   },
   {
    "duration": 11,
    "start_time": "2024-08-30T17:40:14.447Z"
   },
   {
    "duration": 4,
    "start_time": "2024-08-30T17:42:44.617Z"
   },
   {
    "duration": 427,
    "start_time": "2024-08-30T17:42:49.914Z"
   },
   {
    "duration": 174,
    "start_time": "2024-08-30T17:42:57.237Z"
   },
   {
    "duration": 199,
    "start_time": "2024-08-30T17:44:45.294Z"
   },
   {
    "duration": 170,
    "start_time": "2024-08-30T17:46:03.238Z"
   },
   {
    "duration": 169,
    "start_time": "2024-08-30T17:52:28.605Z"
   },
   {
    "duration": 179,
    "start_time": "2024-08-30T17:52:42.826Z"
   },
   {
    "duration": 177,
    "start_time": "2024-08-30T17:52:49.130Z"
   },
   {
    "duration": 182,
    "start_time": "2024-08-30T17:53:21.789Z"
   },
   {
    "duration": 176,
    "start_time": "2024-08-30T17:53:38.885Z"
   },
   {
    "duration": 233,
    "start_time": "2024-08-30T17:54:47.180Z"
   },
   {
    "duration": 10,
    "start_time": "2024-08-30T18:07:00.542Z"
   },
   {
    "duration": 9,
    "start_time": "2024-08-30T18:14:27.788Z"
   },
   {
    "duration": 14,
    "start_time": "2024-08-30T18:15:24.878Z"
   },
   {
    "duration": 10,
    "start_time": "2024-08-30T18:15:49.570Z"
   },
   {
    "duration": 11,
    "start_time": "2024-08-30T18:16:15.265Z"
   },
   {
    "duration": 13,
    "start_time": "2024-08-30T18:18:03.800Z"
   },
   {
    "duration": 12,
    "start_time": "2024-08-30T18:19:08.750Z"
   },
   {
    "duration": 12,
    "start_time": "2024-08-30T18:19:12.684Z"
   },
   {
    "duration": 14,
    "start_time": "2024-08-30T18:19:15.866Z"
   },
   {
    "duration": 776,
    "start_time": "2024-08-30T18:19:32.758Z"
   },
   {
    "duration": 164,
    "start_time": "2024-08-30T18:19:33.536Z"
   },
   {
    "duration": 17,
    "start_time": "2024-08-30T18:19:33.702Z"
   },
   {
    "duration": 11,
    "start_time": "2024-08-30T18:19:33.722Z"
   },
   {
    "duration": 18,
    "start_time": "2024-08-30T18:19:33.734Z"
   },
   {
    "duration": 9,
    "start_time": "2024-08-30T18:19:33.754Z"
   },
   {
    "duration": 11,
    "start_time": "2024-08-30T18:19:33.764Z"
   },
   {
    "duration": 5,
    "start_time": "2024-08-30T18:19:33.777Z"
   },
   {
    "duration": 8,
    "start_time": "2024-08-30T18:19:33.784Z"
   },
   {
    "duration": 7,
    "start_time": "2024-08-30T18:19:33.795Z"
   },
   {
    "duration": 8,
    "start_time": "2024-08-30T18:19:33.843Z"
   },
   {
    "duration": 8,
    "start_time": "2024-08-30T18:19:33.853Z"
   },
   {
    "duration": 7,
    "start_time": "2024-08-30T18:19:33.864Z"
   },
   {
    "duration": 8,
    "start_time": "2024-08-30T18:19:33.873Z"
   },
   {
    "duration": 5,
    "start_time": "2024-08-30T18:19:33.882Z"
   },
   {
    "duration": 8,
    "start_time": "2024-08-30T18:19:33.889Z"
   },
   {
    "duration": 50,
    "start_time": "2024-08-30T18:19:33.899Z"
   },
   {
    "duration": 10,
    "start_time": "2024-08-30T18:19:33.951Z"
   },
   {
    "duration": 8,
    "start_time": "2024-08-30T18:19:33.964Z"
   },
   {
    "duration": 10,
    "start_time": "2024-08-30T18:19:33.973Z"
   },
   {
    "duration": 7,
    "start_time": "2024-08-30T18:19:33.985Z"
   },
   {
    "duration": 11,
    "start_time": "2024-08-30T18:19:33.993Z"
   },
   {
    "duration": 49,
    "start_time": "2024-08-30T18:19:34.006Z"
   },
   {
    "duration": 15,
    "start_time": "2024-08-30T18:19:34.056Z"
   },
   {
    "duration": 10,
    "start_time": "2024-08-30T18:19:34.072Z"
   },
   {
    "duration": 18,
    "start_time": "2024-08-30T18:19:34.083Z"
   },
   {
    "duration": 53,
    "start_time": "2024-08-30T18:19:34.103Z"
   },
   {
    "duration": 16,
    "start_time": "2024-08-30T18:19:34.161Z"
   },
   {
    "duration": 10,
    "start_time": "2024-08-30T18:19:34.179Z"
   },
   {
    "duration": 11,
    "start_time": "2024-08-30T18:19:34.191Z"
   },
   {
    "duration": 7,
    "start_time": "2024-08-30T18:19:34.204Z"
   },
   {
    "duration": 39,
    "start_time": "2024-08-30T18:19:34.213Z"
   },
   {
    "duration": 23,
    "start_time": "2024-08-30T18:19:34.254Z"
   },
   {
    "duration": 7,
    "start_time": "2024-08-30T18:19:34.280Z"
   },
   {
    "duration": 13,
    "start_time": "2024-08-30T18:19:34.289Z"
   },
   {
    "duration": 40,
    "start_time": "2024-08-30T18:19:34.304Z"
   },
   {
    "duration": 15,
    "start_time": "2024-08-30T18:19:34.345Z"
   },
   {
    "duration": 25,
    "start_time": "2024-08-30T18:19:34.362Z"
   },
   {
    "duration": 7,
    "start_time": "2024-08-30T18:19:34.388Z"
   },
   {
    "duration": 10,
    "start_time": "2024-08-30T18:19:34.397Z"
   },
   {
    "duration": 37,
    "start_time": "2024-08-30T18:19:34.409Z"
   },
   {
    "duration": 64,
    "start_time": "2024-08-30T18:19:34.447Z"
   },
   {
    "duration": 75,
    "start_time": "2024-08-30T18:19:34.512Z"
   },
   {
    "duration": 37,
    "start_time": "2024-08-30T18:19:34.588Z"
   },
   {
    "duration": 47,
    "start_time": "2024-08-30T18:19:34.642Z"
   },
   {
    "duration": 24,
    "start_time": "2024-08-30T18:19:34.690Z"
   },
   {
    "duration": 228,
    "start_time": "2024-08-30T18:19:34.716Z"
   },
   {
    "duration": 0,
    "start_time": "2024-08-30T18:19:34.946Z"
   },
   {
    "duration": 0,
    "start_time": "2024-08-30T18:19:34.947Z"
   },
   {
    "duration": 0,
    "start_time": "2024-08-30T18:19:34.948Z"
   },
   {
    "duration": 0,
    "start_time": "2024-08-30T18:19:34.949Z"
   },
   {
    "duration": 0,
    "start_time": "2024-08-30T18:19:34.950Z"
   },
   {
    "duration": 0,
    "start_time": "2024-08-30T18:19:34.952Z"
   },
   {
    "duration": 0,
    "start_time": "2024-08-30T18:19:34.953Z"
   },
   {
    "duration": 0,
    "start_time": "2024-08-30T18:19:34.955Z"
   },
   {
    "duration": 0,
    "start_time": "2024-08-30T18:19:34.956Z"
   },
   {
    "duration": 0,
    "start_time": "2024-08-30T18:19:34.958Z"
   },
   {
    "duration": 0,
    "start_time": "2024-08-30T18:19:34.960Z"
   },
   {
    "duration": 0,
    "start_time": "2024-08-30T18:19:34.961Z"
   },
   {
    "duration": 0,
    "start_time": "2024-08-30T18:19:34.962Z"
   },
   {
    "duration": 0,
    "start_time": "2024-08-30T18:19:34.964Z"
   },
   {
    "duration": 0,
    "start_time": "2024-08-30T18:19:34.965Z"
   },
   {
    "duration": 0,
    "start_time": "2024-08-30T18:19:34.966Z"
   },
   {
    "duration": 0,
    "start_time": "2024-08-30T18:19:34.967Z"
   },
   {
    "duration": 0,
    "start_time": "2024-08-30T18:19:34.968Z"
   },
   {
    "duration": 0,
    "start_time": "2024-08-30T18:19:34.969Z"
   },
   {
    "duration": 0,
    "start_time": "2024-08-30T18:19:34.970Z"
   },
   {
    "duration": 12,
    "start_time": "2024-08-30T18:19:47.213Z"
   },
   {
    "duration": 729,
    "start_time": "2024-08-30T18:20:09.514Z"
   },
   {
    "duration": 172,
    "start_time": "2024-08-30T18:20:10.244Z"
   },
   {
    "duration": 16,
    "start_time": "2024-08-30T18:20:10.417Z"
   },
   {
    "duration": 12,
    "start_time": "2024-08-30T18:20:10.437Z"
   },
   {
    "duration": 15,
    "start_time": "2024-08-30T18:20:10.451Z"
   },
   {
    "duration": 9,
    "start_time": "2024-08-30T18:20:10.468Z"
   },
   {
    "duration": 11,
    "start_time": "2024-08-30T18:20:10.480Z"
   },
   {
    "duration": 12,
    "start_time": "2024-08-30T18:20:10.493Z"
   },
   {
    "duration": 35,
    "start_time": "2024-08-30T18:20:10.508Z"
   },
   {
    "duration": 8,
    "start_time": "2024-08-30T18:20:10.547Z"
   },
   {
    "duration": 10,
    "start_time": "2024-08-30T18:20:10.556Z"
   },
   {
    "duration": 11,
    "start_time": "2024-08-30T18:20:10.567Z"
   },
   {
    "duration": 8,
    "start_time": "2024-08-30T18:20:10.580Z"
   },
   {
    "duration": 7,
    "start_time": "2024-08-30T18:20:10.590Z"
   },
   {
    "duration": 4,
    "start_time": "2024-08-30T18:20:10.599Z"
   },
   {
    "duration": 10,
    "start_time": "2024-08-30T18:20:10.645Z"
   },
   {
    "duration": 11,
    "start_time": "2024-08-30T18:20:10.657Z"
   },
   {
    "duration": 10,
    "start_time": "2024-08-30T18:20:10.670Z"
   },
   {
    "duration": 7,
    "start_time": "2024-08-30T18:20:10.681Z"
   },
   {
    "duration": 8,
    "start_time": "2024-08-30T18:20:10.690Z"
   },
   {
    "duration": 7,
    "start_time": "2024-08-30T18:20:10.700Z"
   },
   {
    "duration": 11,
    "start_time": "2024-08-30T18:20:10.742Z"
   },
   {
    "duration": 18,
    "start_time": "2024-08-30T18:20:10.755Z"
   },
   {
    "duration": 17,
    "start_time": "2024-08-30T18:20:10.775Z"
   },
   {
    "duration": 14,
    "start_time": "2024-08-30T18:20:10.795Z"
   },
   {
    "duration": 46,
    "start_time": "2024-08-30T18:20:10.811Z"
   },
   {
    "duration": 26,
    "start_time": "2024-08-30T18:20:10.859Z"
   },
   {
    "duration": 15,
    "start_time": "2024-08-30T18:20:10.890Z"
   },
   {
    "duration": 9,
    "start_time": "2024-08-30T18:20:10.907Z"
   },
   {
    "duration": 39,
    "start_time": "2024-08-30T18:20:10.917Z"
   },
   {
    "duration": 7,
    "start_time": "2024-08-30T18:20:10.958Z"
   },
   {
    "duration": 9,
    "start_time": "2024-08-30T18:20:10.967Z"
   },
   {
    "duration": 17,
    "start_time": "2024-08-30T18:20:10.978Z"
   },
   {
    "duration": 6,
    "start_time": "2024-08-30T18:20:10.997Z"
   },
   {
    "duration": 48,
    "start_time": "2024-08-30T18:20:11.005Z"
   },
   {
    "duration": 10,
    "start_time": "2024-08-30T18:20:11.055Z"
   },
   {
    "duration": 16,
    "start_time": "2024-08-30T18:20:11.066Z"
   },
   {
    "duration": 24,
    "start_time": "2024-08-30T18:20:11.083Z"
   },
   {
    "duration": 35,
    "start_time": "2024-08-30T18:20:11.109Z"
   },
   {
    "duration": 9,
    "start_time": "2024-08-30T18:20:11.146Z"
   },
   {
    "duration": 13,
    "start_time": "2024-08-30T18:20:11.157Z"
   },
   {
    "duration": 80,
    "start_time": "2024-08-30T18:20:11.172Z"
   },
   {
    "duration": 58,
    "start_time": "2024-08-30T18:20:11.254Z"
   },
   {
    "duration": 52,
    "start_time": "2024-08-30T18:20:11.314Z"
   },
   {
    "duration": 46,
    "start_time": "2024-08-30T18:20:11.368Z"
   },
   {
    "duration": 37,
    "start_time": "2024-08-30T18:20:11.416Z"
   },
   {
    "duration": 13,
    "start_time": "2024-08-30T18:20:11.456Z"
   },
   {
    "duration": 16,
    "start_time": "2024-08-30T18:20:11.471Z"
   },
   {
    "duration": 1689,
    "start_time": "2024-08-30T18:20:11.489Z"
   },
   {
    "duration": 189,
    "start_time": "2024-08-30T18:20:13.180Z"
   },
   {
    "duration": 382,
    "start_time": "2024-08-30T18:20:13.371Z"
   },
   {
    "duration": 615,
    "start_time": "2024-08-30T18:20:13.756Z"
   },
   {
    "duration": 7,
    "start_time": "2024-08-30T18:20:14.373Z"
   },
   {
    "duration": 101,
    "start_time": "2024-08-30T18:20:14.382Z"
   },
   {
    "duration": 113,
    "start_time": "2024-08-30T18:20:14.486Z"
   },
   {
    "duration": 6,
    "start_time": "2024-08-30T18:20:14.601Z"
   },
   {
    "duration": 185,
    "start_time": "2024-08-30T18:20:14.609Z"
   },
   {
    "duration": 200,
    "start_time": "2024-08-30T18:20:14.796Z"
   },
   {
    "duration": 215,
    "start_time": "2024-08-30T18:20:14.998Z"
   },
   {
    "duration": 196,
    "start_time": "2024-08-30T18:20:15.215Z"
   },
   {
    "duration": 239,
    "start_time": "2024-08-30T18:20:15.413Z"
   },
   {
    "duration": 456,
    "start_time": "2024-08-30T18:20:15.653Z"
   },
   {
    "duration": 87,
    "start_time": "2024-08-30T18:20:16.112Z"
   },
   {
    "duration": 188,
    "start_time": "2024-08-30T18:20:16.201Z"
   },
   {
    "duration": 201,
    "start_time": "2024-08-30T18:20:16.391Z"
   },
   {
    "duration": 2,
    "start_time": "2024-08-30T18:20:16.594Z"
   },
   {
    "duration": 2,
    "start_time": "2024-08-30T18:20:16.598Z"
   },
   {
    "duration": 9,
    "start_time": "2024-08-30T18:21:08.387Z"
   },
   {
    "duration": 15,
    "start_time": "2024-08-30T18:21:20.839Z"
   },
   {
    "duration": 20,
    "start_time": "2024-08-30T18:21:42.952Z"
   },
   {
    "duration": 14,
    "start_time": "2024-08-30T18:21:48.135Z"
   },
   {
    "duration": 10,
    "start_time": "2024-08-30T18:21:51.352Z"
   },
   {
    "duration": 16,
    "start_time": "2024-08-30T18:22:28.510Z"
   },
   {
    "duration": 574,
    "start_time": "2024-08-30T18:22:40.358Z"
   },
   {
    "duration": 16,
    "start_time": "2024-08-30T18:22:56.755Z"
   },
   {
    "duration": 12,
    "start_time": "2024-08-30T18:25:53.539Z"
   },
   {
    "duration": 10,
    "start_time": "2024-08-30T18:40:24.035Z"
   },
   {
    "duration": 765,
    "start_time": "2024-08-30T18:43:31.269Z"
   },
   {
    "duration": 163,
    "start_time": "2024-08-30T18:43:32.036Z"
   },
   {
    "duration": 16,
    "start_time": "2024-08-30T18:43:32.201Z"
   },
   {
    "duration": 9,
    "start_time": "2024-08-30T18:43:32.219Z"
   },
   {
    "duration": 19,
    "start_time": "2024-08-30T18:43:32.229Z"
   },
   {
    "duration": 8,
    "start_time": "2024-08-30T18:43:32.250Z"
   },
   {
    "duration": 12,
    "start_time": "2024-08-30T18:43:32.260Z"
   },
   {
    "duration": 6,
    "start_time": "2024-08-30T18:43:32.273Z"
   },
   {
    "duration": 8,
    "start_time": "2024-08-30T18:43:32.281Z"
   },
   {
    "duration": 7,
    "start_time": "2024-08-30T18:43:32.292Z"
   },
   {
    "duration": 48,
    "start_time": "2024-08-30T18:43:32.300Z"
   },
   {
    "duration": 9,
    "start_time": "2024-08-30T18:43:32.349Z"
   },
   {
    "duration": 8,
    "start_time": "2024-08-30T18:43:32.360Z"
   },
   {
    "duration": 8,
    "start_time": "2024-08-30T18:43:32.370Z"
   },
   {
    "duration": 5,
    "start_time": "2024-08-30T18:43:32.381Z"
   },
   {
    "duration": 10,
    "start_time": "2024-08-30T18:43:32.389Z"
   },
   {
    "duration": 45,
    "start_time": "2024-08-30T18:43:32.400Z"
   },
   {
    "duration": 10,
    "start_time": "2024-08-30T18:43:32.447Z"
   },
   {
    "duration": 9,
    "start_time": "2024-08-30T18:43:32.459Z"
   },
   {
    "duration": 9,
    "start_time": "2024-08-30T18:43:32.469Z"
   },
   {
    "duration": 7,
    "start_time": "2024-08-30T18:43:32.479Z"
   },
   {
    "duration": 10,
    "start_time": "2024-08-30T18:43:32.488Z"
   },
   {
    "duration": 54,
    "start_time": "2024-08-30T18:43:32.500Z"
   },
   {
    "duration": 16,
    "start_time": "2024-08-30T18:43:32.555Z"
   },
   {
    "duration": 10,
    "start_time": "2024-08-30T18:43:32.575Z"
   },
   {
    "duration": 17,
    "start_time": "2024-08-30T18:43:32.586Z"
   },
   {
    "duration": 57,
    "start_time": "2024-08-30T18:43:32.604Z"
   },
   {
    "duration": 17,
    "start_time": "2024-08-30T18:43:32.665Z"
   },
   {
    "duration": 10,
    "start_time": "2024-08-30T18:43:32.684Z"
   },
   {
    "duration": 12,
    "start_time": "2024-08-30T18:43:32.695Z"
   },
   {
    "duration": 7,
    "start_time": "2024-08-30T18:43:32.708Z"
   },
   {
    "duration": 10,
    "start_time": "2024-08-30T18:43:32.743Z"
   },
   {
    "duration": 17,
    "start_time": "2024-08-30T18:43:32.755Z"
   },
   {
    "duration": 6,
    "start_time": "2024-08-30T18:43:32.774Z"
   },
   {
    "duration": 14,
    "start_time": "2024-08-30T18:43:32.781Z"
   },
   {
    "duration": 9,
    "start_time": "2024-08-30T18:43:32.796Z"
   },
   {
    "duration": 47,
    "start_time": "2024-08-30T18:43:32.807Z"
   },
   {
    "duration": 27,
    "start_time": "2024-08-30T18:43:32.856Z"
   },
   {
    "duration": 8,
    "start_time": "2024-08-30T18:43:32.885Z"
   },
   {
    "duration": 8,
    "start_time": "2024-08-30T18:43:32.894Z"
   },
   {
    "duration": 14,
    "start_time": "2024-08-30T18:43:44.373Z"
   },
   {
    "duration": 9,
    "start_time": "2024-08-30T18:43:54.828Z"
   },
   {
    "duration": 369,
    "start_time": "2024-08-30T18:45:54.324Z"
   },
   {
    "duration": 40,
    "start_time": "2024-08-30T18:46:16.112Z"
   },
   {
    "duration": 31,
    "start_time": "2024-08-30T18:46:41.582Z"
   },
   {
    "duration": 4,
    "start_time": "2024-08-30T18:46:54.248Z"
   },
   {
    "duration": 5,
    "start_time": "2024-08-30T18:47:01.675Z"
   },
   {
    "duration": 6,
    "start_time": "2024-08-30T18:47:09.577Z"
   },
   {
    "duration": 7,
    "start_time": "2024-08-30T18:47:13.868Z"
   },
   {
    "duration": 8,
    "start_time": "2024-08-30T18:47:22.081Z"
   },
   {
    "duration": 8,
    "start_time": "2024-08-30T18:47:39.539Z"
   },
   {
    "duration": 31,
    "start_time": "2024-08-30T18:47:52.312Z"
   },
   {
    "duration": 7,
    "start_time": "2024-08-30T18:48:00.396Z"
   },
   {
    "duration": 10,
    "start_time": "2024-08-30T18:53:06.123Z"
   },
   {
    "duration": 2,
    "start_time": "2024-08-30T18:53:20.264Z"
   },
   {
    "duration": 11,
    "start_time": "2024-08-30T19:00:37.829Z"
   },
   {
    "duration": 14,
    "start_time": "2024-08-30T19:09:55.530Z"
   },
   {
    "duration": 232,
    "start_time": "2024-08-30T19:18:23.587Z"
   },
   {
    "duration": 129,
    "start_time": "2024-08-30T19:22:56.896Z"
   },
   {
    "duration": 46,
    "start_time": "2024-08-30T19:23:43.773Z"
   },
   {
    "duration": 45,
    "start_time": "2024-08-30T19:23:51.276Z"
   },
   {
    "duration": 49,
    "start_time": "2024-08-30T19:24:10.783Z"
   },
   {
    "duration": 49,
    "start_time": "2024-08-30T19:24:24.514Z"
   },
   {
    "duration": 47,
    "start_time": "2024-08-30T19:24:32.184Z"
   },
   {
    "duration": 52,
    "start_time": "2024-08-30T19:26:11.674Z"
   },
   {
    "duration": 51,
    "start_time": "2024-08-30T19:27:06.797Z"
   },
   {
    "duration": 49,
    "start_time": "2024-08-30T19:27:56.929Z"
   },
   {
    "duration": 5,
    "start_time": "2024-08-30T19:28:17.102Z"
   },
   {
    "duration": 30,
    "start_time": "2024-08-30T19:28:25.137Z"
   },
   {
    "duration": 28,
    "start_time": "2024-08-30T19:30:40.324Z"
   },
   {
    "duration": 28,
    "start_time": "2024-08-30T19:31:19.144Z"
   },
   {
    "duration": 39,
    "start_time": "2024-08-30T19:32:28.938Z"
   },
   {
    "duration": 27,
    "start_time": "2024-08-30T19:32:34.796Z"
   },
   {
    "duration": 28,
    "start_time": "2024-08-30T19:32:44.493Z"
   },
   {
    "duration": 51,
    "start_time": "2024-08-30T19:33:31.139Z"
   },
   {
    "duration": 750,
    "start_time": "2024-08-30T19:34:17.305Z"
   },
   {
    "duration": 165,
    "start_time": "2024-08-30T19:34:26.215Z"
   },
   {
    "duration": 166,
    "start_time": "2024-08-30T19:34:35.284Z"
   },
   {
    "duration": 642,
    "start_time": "2024-08-30T19:34:41.067Z"
   },
   {
    "duration": 628,
    "start_time": "2024-08-30T19:34:46.315Z"
   },
   {
    "duration": 11,
    "start_time": "2024-08-30T19:38:01.130Z"
   },
   {
    "duration": 10,
    "start_time": "2024-08-30T19:38:18.680Z"
   },
   {
    "duration": 10,
    "start_time": "2024-08-30T19:40:11.907Z"
   },
   {
    "duration": 4,
    "start_time": "2024-08-30T19:43:47.528Z"
   },
   {
    "duration": 3,
    "start_time": "2024-08-30T19:44:00.157Z"
   },
   {
    "duration": 4,
    "start_time": "2024-08-30T19:44:35.823Z"
   },
   {
    "duration": 3,
    "start_time": "2024-08-30T19:45:53.574Z"
   },
   {
    "duration": 4,
    "start_time": "2024-08-30T19:46:37.293Z"
   },
   {
    "duration": 6,
    "start_time": "2024-08-30T19:46:47.058Z"
   },
   {
    "duration": 8,
    "start_time": "2024-08-30T19:46:55.397Z"
   },
   {
    "duration": 3,
    "start_time": "2024-08-30T19:49:20.825Z"
   },
   {
    "duration": 18,
    "start_time": "2024-08-30T19:59:00.710Z"
   },
   {
    "duration": 18,
    "start_time": "2024-08-30T19:59:09.662Z"
   },
   {
    "duration": 17,
    "start_time": "2024-08-30T19:59:21.097Z"
   },
   {
    "duration": 16,
    "start_time": "2024-08-30T19:59:29.176Z"
   },
   {
    "duration": 17,
    "start_time": "2024-08-30T20:00:46.425Z"
   },
   {
    "duration": 21,
    "start_time": "2024-08-30T20:00:57.153Z"
   },
   {
    "duration": 28,
    "start_time": "2024-08-30T20:01:16.572Z"
   },
   {
    "duration": 29,
    "start_time": "2024-08-30T20:03:56.063Z"
   },
   {
    "duration": 32,
    "start_time": "2024-08-30T20:04:01.508Z"
   },
   {
    "duration": 789,
    "start_time": "2024-08-30T20:04:33.045Z"
   },
   {
    "duration": 156,
    "start_time": "2024-08-30T20:04:33.835Z"
   },
   {
    "duration": 16,
    "start_time": "2024-08-30T20:04:33.993Z"
   },
   {
    "duration": 9,
    "start_time": "2024-08-30T20:04:34.012Z"
   },
   {
    "duration": 26,
    "start_time": "2024-08-30T20:04:34.023Z"
   },
   {
    "duration": 9,
    "start_time": "2024-08-30T20:04:34.050Z"
   },
   {
    "duration": 11,
    "start_time": "2024-08-30T20:04:34.061Z"
   },
   {
    "duration": 7,
    "start_time": "2024-08-30T20:04:34.074Z"
   },
   {
    "duration": 7,
    "start_time": "2024-08-30T20:04:34.083Z"
   },
   {
    "duration": 7,
    "start_time": "2024-08-30T20:04:34.094Z"
   },
   {
    "duration": 45,
    "start_time": "2024-08-30T20:04:34.103Z"
   },
   {
    "duration": 8,
    "start_time": "2024-08-30T20:04:34.150Z"
   },
   {
    "duration": 7,
    "start_time": "2024-08-30T20:04:34.160Z"
   },
   {
    "duration": 7,
    "start_time": "2024-08-30T20:04:34.169Z"
   },
   {
    "duration": 4,
    "start_time": "2024-08-30T20:04:34.178Z"
   },
   {
    "duration": 8,
    "start_time": "2024-08-30T20:04:34.184Z"
   },
   {
    "duration": 49,
    "start_time": "2024-08-30T20:04:34.194Z"
   },
   {
    "duration": 9,
    "start_time": "2024-08-30T20:04:34.245Z"
   },
   {
    "duration": 9,
    "start_time": "2024-08-30T20:04:34.255Z"
   },
   {
    "duration": 10,
    "start_time": "2024-08-30T20:04:34.266Z"
   },
   {
    "duration": 7,
    "start_time": "2024-08-30T20:04:34.277Z"
   },
   {
    "duration": 12,
    "start_time": "2024-08-30T20:04:34.285Z"
   },
   {
    "duration": 49,
    "start_time": "2024-08-30T20:04:34.298Z"
   },
   {
    "duration": 15,
    "start_time": "2024-08-30T20:04:34.349Z"
   },
   {
    "duration": 9,
    "start_time": "2024-08-30T20:04:34.366Z"
   },
   {
    "duration": 16,
    "start_time": "2024-08-30T20:04:34.377Z"
   },
   {
    "duration": 53,
    "start_time": "2024-08-30T20:04:34.395Z"
   },
   {
    "duration": 21,
    "start_time": "2024-08-30T20:04:34.452Z"
   },
   {
    "duration": 10,
    "start_time": "2024-08-30T20:04:34.475Z"
   },
   {
    "duration": 11,
    "start_time": "2024-08-30T20:04:34.487Z"
   },
   {
    "duration": 7,
    "start_time": "2024-08-30T20:04:34.501Z"
   },
   {
    "duration": 9,
    "start_time": "2024-08-30T20:04:34.542Z"
   },
   {
    "duration": 17,
    "start_time": "2024-08-30T20:04:34.553Z"
   },
   {
    "duration": 6,
    "start_time": "2024-08-30T20:04:34.573Z"
   },
   {
    "duration": 14,
    "start_time": "2024-08-30T20:04:34.581Z"
   },
   {
    "duration": 8,
    "start_time": "2024-08-30T20:04:34.597Z"
   },
   {
    "duration": 40,
    "start_time": "2024-08-30T20:04:34.607Z"
   },
   {
    "duration": 26,
    "start_time": "2024-08-30T20:04:34.648Z"
   },
   {
    "duration": 7,
    "start_time": "2024-08-30T20:04:34.675Z"
   },
   {
    "duration": 7,
    "start_time": "2024-08-30T20:04:34.685Z"
   },
   {
    "duration": 23,
    "start_time": "2024-08-30T20:04:40.598Z"
   },
   {
    "duration": 62,
    "start_time": "2024-08-30T20:04:42.352Z"
   },
   {
    "duration": 56,
    "start_time": "2024-08-30T20:04:45.619Z"
   },
   {
    "duration": 48,
    "start_time": "2024-08-30T20:04:50.248Z"
   },
   {
    "duration": 48,
    "start_time": "2024-08-30T20:04:52.244Z"
   },
   {
    "duration": 25,
    "start_time": "2024-08-30T20:04:54.548Z"
   },
   {
    "duration": 15,
    "start_time": "2024-08-30T20:05:10.172Z"
   },
   {
    "duration": 24,
    "start_time": "2024-08-30T20:05:29.402Z"
   },
   {
    "duration": 142,
    "start_time": "2024-08-30T20:06:02.606Z"
   },
   {
    "duration": 27,
    "start_time": "2024-08-30T20:06:05.653Z"
   },
   {
    "duration": 66,
    "start_time": "2024-08-30T20:08:15.008Z"
   },
   {
    "duration": 62,
    "start_time": "2024-08-30T20:08:28.942Z"
   },
   {
    "duration": 11,
    "start_time": "2024-08-30T20:09:03.582Z"
   },
   {
    "duration": 7,
    "start_time": "2024-08-30T20:09:09.577Z"
   },
   {
    "duration": 25,
    "start_time": "2024-08-30T20:09:52.155Z"
   },
   {
    "duration": 7,
    "start_time": "2024-08-30T20:10:36.354Z"
   },
   {
    "duration": 8,
    "start_time": "2024-08-30T20:10:57.441Z"
   },
   {
    "duration": 12,
    "start_time": "2024-08-30T20:11:25.997Z"
   },
   {
    "duration": 10,
    "start_time": "2024-08-30T20:12:04.539Z"
   },
   {
    "duration": 10,
    "start_time": "2024-08-30T20:12:25.328Z"
   },
   {
    "duration": 7,
    "start_time": "2024-08-30T20:13:45.953Z"
   },
   {
    "duration": 4,
    "start_time": "2024-08-30T20:14:59.485Z"
   },
   {
    "duration": 8,
    "start_time": "2024-08-30T20:15:04.176Z"
   },
   {
    "duration": 22,
    "start_time": "2024-08-30T20:15:16.735Z"
   },
   {
    "duration": 20,
    "start_time": "2024-08-30T20:15:21.286Z"
   },
   {
    "duration": 19,
    "start_time": "2024-08-30T20:19:00.423Z"
   },
   {
    "duration": 21,
    "start_time": "2024-08-30T20:20:04.604Z"
   },
   {
    "duration": 14,
    "start_time": "2024-08-30T20:20:32.172Z"
   },
   {
    "duration": 12,
    "start_time": "2024-08-30T20:20:48.108Z"
   },
   {
    "duration": 15,
    "start_time": "2024-08-30T20:20:53.588Z"
   },
   {
    "duration": 1802,
    "start_time": "2024-08-30T20:21:08.220Z"
   },
   {
    "duration": 183,
    "start_time": "2024-08-30T20:21:17.960Z"
   },
   {
    "duration": 172,
    "start_time": "2024-08-30T20:22:33.583Z"
   },
   {
    "duration": 228,
    "start_time": "2024-08-30T20:22:33.757Z"
   },
   {
    "duration": 257,
    "start_time": "2024-08-30T20:22:33.987Z"
   },
   {
    "duration": 7,
    "start_time": "2024-08-30T20:22:34.247Z"
   },
   {
    "duration": 100,
    "start_time": "2024-08-30T20:22:34.256Z"
   },
   {
    "duration": 106,
    "start_time": "2024-08-30T20:22:34.357Z"
   },
   {
    "duration": 5,
    "start_time": "2024-08-30T20:22:34.464Z"
   },
   {
    "duration": 184,
    "start_time": "2024-08-30T20:22:34.471Z"
   },
   {
    "duration": 193,
    "start_time": "2024-08-30T20:22:34.657Z"
   },
   {
    "duration": 200,
    "start_time": "2024-08-30T20:22:34.853Z"
   },
   {
    "duration": 194,
    "start_time": "2024-08-30T20:22:35.054Z"
   },
   {
    "duration": 695,
    "start_time": "2024-08-30T20:22:35.250Z"
   },
   {
    "duration": 267,
    "start_time": "2024-08-30T20:22:35.948Z"
   },
   {
    "duration": 82,
    "start_time": "2024-08-30T20:22:36.217Z"
   },
   {
    "duration": 177,
    "start_time": "2024-08-30T20:22:36.302Z"
   },
   {
    "duration": 196,
    "start_time": "2024-08-30T20:22:36.481Z"
   },
   {
    "duration": 2,
    "start_time": "2024-08-30T20:22:36.679Z"
   },
   {
    "duration": 2,
    "start_time": "2024-08-30T20:22:36.683Z"
   },
   {
    "duration": 225,
    "start_time": "2024-08-30T20:25:19.522Z"
   },
   {
    "duration": 7,
    "start_time": "2024-08-30T20:25:49.602Z"
   },
   {
    "duration": 105,
    "start_time": "2024-08-30T20:27:56.359Z"
   },
   {
    "duration": 87,
    "start_time": "2024-08-30T20:29:08.792Z"
   },
   {
    "duration": 177,
    "start_time": "2024-08-30T20:29:14.434Z"
   },
   {
    "duration": 91,
    "start_time": "2024-08-30T20:29:35.312Z"
   },
   {
    "duration": 103,
    "start_time": "2024-08-30T20:29:47.642Z"
   },
   {
    "duration": 111,
    "start_time": "2024-08-30T20:30:08.248Z"
   },
   {
    "duration": 98,
    "start_time": "2024-08-30T20:30:13.649Z"
   },
   {
    "duration": 9,
    "start_time": "2024-08-30T20:30:26.207Z"
   },
   {
    "duration": 11,
    "start_time": "2024-08-30T20:31:31.427Z"
   },
   {
    "duration": 9,
    "start_time": "2024-08-30T20:31:50.305Z"
   },
   {
    "duration": 10,
    "start_time": "2024-08-30T20:31:53.859Z"
   },
   {
    "duration": 417,
    "start_time": "2024-08-30T20:32:33.040Z"
   },
   {
    "duration": 7,
    "start_time": "2024-08-30T20:32:44.679Z"
   },
   {
    "duration": 16,
    "start_time": "2024-08-30T20:33:06.298Z"
   },
   {
    "duration": 48,
    "start_time": "2024-08-30T20:33:11.997Z"
   },
   {
    "duration": 15,
    "start_time": "2024-08-30T20:33:30.200Z"
   },
   {
    "duration": 4,
    "start_time": "2024-08-30T20:35:13.791Z"
   },
   {
    "duration": 104,
    "start_time": "2024-08-30T20:35:17.739Z"
   },
   {
    "duration": 110,
    "start_time": "2024-08-30T20:35:28.367Z"
   },
   {
    "duration": 96,
    "start_time": "2024-08-30T20:35:54.840Z"
   },
   {
    "duration": 6,
    "start_time": "2024-08-30T20:36:15.620Z"
   },
   {
    "duration": 183,
    "start_time": "2024-08-30T20:36:32.145Z"
   },
   {
    "duration": 6,
    "start_time": "2024-08-30T20:36:35.683Z"
   },
   {
    "duration": 98,
    "start_time": "2024-08-30T20:36:37.886Z"
   },
   {
    "duration": 779,
    "start_time": "2024-08-30T20:36:45.554Z"
   },
   {
    "duration": 166,
    "start_time": "2024-08-30T20:36:46.335Z"
   },
   {
    "duration": 16,
    "start_time": "2024-08-30T20:36:46.503Z"
   },
   {
    "duration": 10,
    "start_time": "2024-08-30T20:36:46.522Z"
   },
   {
    "duration": 21,
    "start_time": "2024-08-30T20:36:46.534Z"
   },
   {
    "duration": 10,
    "start_time": "2024-08-30T20:36:46.556Z"
   },
   {
    "duration": 13,
    "start_time": "2024-08-30T20:36:46.567Z"
   },
   {
    "duration": 5,
    "start_time": "2024-08-30T20:36:46.581Z"
   },
   {
    "duration": 9,
    "start_time": "2024-08-30T20:36:46.588Z"
   },
   {
    "duration": 43,
    "start_time": "2024-08-30T20:36:46.600Z"
   },
   {
    "duration": 9,
    "start_time": "2024-08-30T20:36:46.644Z"
   },
   {
    "duration": 9,
    "start_time": "2024-08-30T20:36:46.654Z"
   },
   {
    "duration": 8,
    "start_time": "2024-08-30T20:36:46.666Z"
   },
   {
    "duration": 8,
    "start_time": "2024-08-30T20:36:46.675Z"
   },
   {
    "duration": 5,
    "start_time": "2024-08-30T20:36:46.684Z"
   },
   {
    "duration": 9,
    "start_time": "2024-08-30T20:36:46.690Z"
   },
   {
    "duration": 45,
    "start_time": "2024-08-30T20:36:46.701Z"
   },
   {
    "duration": 10,
    "start_time": "2024-08-30T20:36:46.748Z"
   },
   {
    "duration": 8,
    "start_time": "2024-08-30T20:36:46.760Z"
   },
   {
    "duration": 8,
    "start_time": "2024-08-30T20:36:46.770Z"
   },
   {
    "duration": 7,
    "start_time": "2024-08-30T20:36:46.780Z"
   },
   {
    "duration": 11,
    "start_time": "2024-08-30T20:36:46.789Z"
   },
   {
    "duration": 54,
    "start_time": "2024-08-30T20:36:46.801Z"
   },
   {
    "duration": 15,
    "start_time": "2024-08-30T20:36:46.856Z"
   },
   {
    "duration": 11,
    "start_time": "2024-08-30T20:36:46.872Z"
   },
   {
    "duration": 17,
    "start_time": "2024-08-30T20:36:46.884Z"
   },
   {
    "duration": 54,
    "start_time": "2024-08-30T20:36:46.902Z"
   },
   {
    "duration": 17,
    "start_time": "2024-08-30T20:36:46.960Z"
   },
   {
    "duration": 8,
    "start_time": "2024-08-30T20:36:46.979Z"
   },
   {
    "duration": 12,
    "start_time": "2024-08-30T20:36:46.989Z"
   },
   {
    "duration": 7,
    "start_time": "2024-08-30T20:36:47.003Z"
   },
   {
    "duration": 10,
    "start_time": "2024-08-30T20:36:47.042Z"
   },
   {
    "duration": 16,
    "start_time": "2024-08-30T20:36:47.054Z"
   },
   {
    "duration": 6,
    "start_time": "2024-08-30T20:36:47.072Z"
   },
   {
    "duration": 14,
    "start_time": "2024-08-30T20:36:47.080Z"
   },
   {
    "duration": 8,
    "start_time": "2024-08-30T20:36:47.095Z"
   },
   {
    "duration": 45,
    "start_time": "2024-08-30T20:36:47.105Z"
   },
   {
    "duration": 25,
    "start_time": "2024-08-30T20:36:47.151Z"
   },
   {
    "duration": 9,
    "start_time": "2024-08-30T20:36:47.178Z"
   },
   {
    "duration": 11,
    "start_time": "2024-08-30T20:36:47.188Z"
   },
   {
    "duration": 62,
    "start_time": "2024-08-30T20:36:47.201Z"
   },
   {
    "duration": 83,
    "start_time": "2024-08-30T20:36:47.265Z"
   },
   {
    "duration": 57,
    "start_time": "2024-08-30T20:36:47.350Z"
   },
   {
    "duration": 48,
    "start_time": "2024-08-30T20:36:47.408Z"
   },
   {
    "duration": 46,
    "start_time": "2024-08-30T20:36:47.458Z"
   },
   {
    "duration": 37,
    "start_time": "2024-08-30T20:36:47.506Z"
   },
   {
    "duration": 16,
    "start_time": "2024-08-30T20:36:47.544Z"
   },
   {
    "duration": 1880,
    "start_time": "2024-08-30T20:36:47.562Z"
   },
   {
    "duration": 186,
    "start_time": "2024-08-30T20:36:49.444Z"
   },
   {
    "duration": 186,
    "start_time": "2024-08-30T20:36:49.633Z"
   },
   {
    "duration": 290,
    "start_time": "2024-08-30T20:36:49.821Z"
   },
   {
    "duration": 238,
    "start_time": "2024-08-30T20:36:50.113Z"
   },
   {
    "duration": 7,
    "start_time": "2024-08-30T20:36:50.354Z"
   },
   {
    "duration": 106,
    "start_time": "2024-08-30T20:36:50.363Z"
   },
   {
    "duration": 112,
    "start_time": "2024-08-30T20:36:50.471Z"
   },
   {
    "duration": 107,
    "start_time": "2024-08-30T20:36:50.585Z"
   },
   {
    "duration": 6,
    "start_time": "2024-08-30T20:36:50.694Z"
   },
   {
    "duration": 194,
    "start_time": "2024-08-30T20:36:50.701Z"
   },
   {
    "duration": 197,
    "start_time": "2024-08-30T20:36:50.897Z"
   },
   {
    "duration": 209,
    "start_time": "2024-08-30T20:36:51.096Z"
   },
   {
    "duration": 271,
    "start_time": "2024-08-30T20:36:51.307Z"
   },
   {
    "duration": 233,
    "start_time": "2024-08-30T20:36:51.580Z"
   },
   {
    "duration": 235,
    "start_time": "2024-08-30T20:36:51.815Z"
   },
   {
    "duration": 72,
    "start_time": "2024-08-30T20:36:52.052Z"
   },
   {
    "duration": 184,
    "start_time": "2024-08-30T20:36:52.126Z"
   },
   {
    "duration": 207,
    "start_time": "2024-08-30T20:36:52.311Z"
   },
   {
    "duration": 2,
    "start_time": "2024-08-30T20:36:52.520Z"
   },
   {
    "duration": 3,
    "start_time": "2024-08-30T20:36:52.523Z"
   },
   {
    "duration": 785,
    "start_time": "2024-08-30T20:37:52.358Z"
   },
   {
    "duration": 154,
    "start_time": "2024-08-30T20:37:53.145Z"
   },
   {
    "duration": 17,
    "start_time": "2024-08-30T20:37:53.300Z"
   },
   {
    "duration": 23,
    "start_time": "2024-08-30T20:37:53.320Z"
   },
   {
    "duration": 18,
    "start_time": "2024-08-30T20:37:53.346Z"
   },
   {
    "duration": 11,
    "start_time": "2024-08-30T20:37:53.366Z"
   },
   {
    "duration": 12,
    "start_time": "2024-08-30T20:37:53.379Z"
   },
   {
    "duration": 6,
    "start_time": "2024-08-30T20:37:53.393Z"
   },
   {
    "duration": 8,
    "start_time": "2024-08-30T20:37:53.400Z"
   },
   {
    "duration": 8,
    "start_time": "2024-08-30T20:37:53.443Z"
   },
   {
    "duration": 8,
    "start_time": "2024-08-30T20:37:53.453Z"
   },
   {
    "duration": 8,
    "start_time": "2024-08-30T20:37:53.463Z"
   },
   {
    "duration": 8,
    "start_time": "2024-08-30T20:37:53.473Z"
   },
   {
    "duration": 6,
    "start_time": "2024-08-30T20:37:53.483Z"
   },
   {
    "duration": 5,
    "start_time": "2024-08-30T20:37:53.491Z"
   },
   {
    "duration": 50,
    "start_time": "2024-08-30T20:37:53.498Z"
   },
   {
    "duration": 10,
    "start_time": "2024-08-30T20:37:53.550Z"
   },
   {
    "duration": 10,
    "start_time": "2024-08-30T20:37:53.562Z"
   },
   {
    "duration": 7,
    "start_time": "2024-08-30T20:37:53.573Z"
   },
   {
    "duration": 9,
    "start_time": "2024-08-30T20:37:53.582Z"
   },
   {
    "duration": 7,
    "start_time": "2024-08-30T20:37:53.593Z"
   },
   {
    "duration": 48,
    "start_time": "2024-08-30T20:37:53.602Z"
   },
   {
    "duration": 16,
    "start_time": "2024-08-30T20:37:53.652Z"
   },
   {
    "duration": 15,
    "start_time": "2024-08-30T20:37:53.670Z"
   },
   {
    "duration": 10,
    "start_time": "2024-08-30T20:37:53.686Z"
   },
   {
    "duration": 46,
    "start_time": "2024-08-30T20:37:53.698Z"
   },
   {
    "duration": 24,
    "start_time": "2024-08-30T20:37:53.746Z"
   },
   {
    "duration": 17,
    "start_time": "2024-08-30T20:37:53.774Z"
   },
   {
    "duration": 9,
    "start_time": "2024-08-30T20:37:53.792Z"
   },
   {
    "duration": 10,
    "start_time": "2024-08-30T20:37:53.803Z"
   },
   {
    "duration": 7,
    "start_time": "2024-08-30T20:37:53.842Z"
   },
   {
    "duration": 11,
    "start_time": "2024-08-30T20:37:53.851Z"
   },
   {
    "duration": 17,
    "start_time": "2024-08-30T20:37:53.863Z"
   },
   {
    "duration": 6,
    "start_time": "2024-08-30T20:37:53.881Z"
   },
   {
    "duration": 13,
    "start_time": "2024-08-30T20:37:53.889Z"
   },
   {
    "duration": 41,
    "start_time": "2024-08-30T20:37:53.904Z"
   },
   {
    "duration": 16,
    "start_time": "2024-08-30T20:37:53.947Z"
   },
   {
    "duration": 24,
    "start_time": "2024-08-30T20:37:53.965Z"
   },
   {
    "duration": 6,
    "start_time": "2024-08-30T20:37:53.992Z"
   },
   {
    "duration": 7,
    "start_time": "2024-08-30T20:37:54.000Z"
   },
   {
    "duration": 60,
    "start_time": "2024-08-30T20:37:54.009Z"
   },
   {
    "duration": 75,
    "start_time": "2024-08-30T20:37:54.072Z"
   },
   {
    "duration": 57,
    "start_time": "2024-08-30T20:37:54.149Z"
   },
   {
    "duration": 54,
    "start_time": "2024-08-30T20:37:54.208Z"
   },
   {
    "duration": 47,
    "start_time": "2024-08-30T20:37:54.264Z"
   },
   {
    "duration": 38,
    "start_time": "2024-08-30T20:37:54.313Z"
   },
   {
    "duration": 14,
    "start_time": "2024-08-30T20:37:54.352Z"
   },
   {
    "duration": 1840,
    "start_time": "2024-08-30T20:37:54.368Z"
   },
   {
    "duration": 194,
    "start_time": "2024-08-30T20:37:56.211Z"
   },
   {
    "duration": 204,
    "start_time": "2024-08-30T20:37:56.407Z"
   },
   {
    "duration": 297,
    "start_time": "2024-08-30T20:37:56.613Z"
   },
   {
    "duration": 232,
    "start_time": "2024-08-30T20:37:56.912Z"
   },
   {
    "duration": 7,
    "start_time": "2024-08-30T20:37:57.146Z"
   },
   {
    "duration": 100,
    "start_time": "2024-08-30T20:37:57.155Z"
   },
   {
    "duration": 97,
    "start_time": "2024-08-30T20:38:01.091Z"
   },
   {
    "duration": 94,
    "start_time": "2024-08-30T20:39:00.523Z"
   },
   {
    "duration": 225,
    "start_time": "2024-08-30T20:40:03.879Z"
   },
   {
    "duration": 172,
    "start_time": "2024-08-30T20:40:12.575Z"
   },
   {
    "duration": 241,
    "start_time": "2024-08-30T20:40:12.749Z"
   },
   {
    "duration": 318,
    "start_time": "2024-08-30T20:40:12.992Z"
   },
   {
    "duration": 8,
    "start_time": "2024-08-30T20:40:13.312Z"
   },
   {
    "duration": 101,
    "start_time": "2024-08-30T20:40:13.321Z"
   },
   {
    "duration": 103,
    "start_time": "2024-08-30T20:40:13.424Z"
   },
   {
    "duration": 101,
    "start_time": "2024-08-30T20:40:13.529Z"
   },
   {
    "duration": 14,
    "start_time": "2024-08-30T20:40:13.632Z"
   },
   {
    "duration": 181,
    "start_time": "2024-08-30T20:40:13.648Z"
   },
   {
    "duration": 200,
    "start_time": "2024-08-30T20:40:13.832Z"
   },
   {
    "duration": 205,
    "start_time": "2024-08-30T20:40:14.034Z"
   },
   {
    "duration": 240,
    "start_time": "2024-08-30T20:40:14.243Z"
   },
   {
    "duration": 625,
    "start_time": "2024-08-30T20:40:14.484Z"
   },
   {
    "duration": 266,
    "start_time": "2024-08-30T20:40:15.110Z"
   },
   {
    "duration": 76,
    "start_time": "2024-08-30T20:40:15.381Z"
   },
   {
    "duration": 197,
    "start_time": "2024-08-30T20:40:15.459Z"
   },
   {
    "duration": 269,
    "start_time": "2024-08-30T20:40:15.658Z"
   },
   {
    "duration": 14,
    "start_time": "2024-08-30T20:40:15.930Z"
   },
   {
    "duration": 3,
    "start_time": "2024-08-30T20:40:15.946Z"
   },
   {
    "duration": 97,
    "start_time": "2024-08-30T20:40:49.740Z"
   },
   {
    "duration": 752,
    "start_time": "2024-08-30T20:47:48.286Z"
   },
   {
    "duration": 179,
    "start_time": "2024-08-30T20:47:49.040Z"
   },
   {
    "duration": 17,
    "start_time": "2024-08-30T20:47:49.220Z"
   },
   {
    "duration": 9,
    "start_time": "2024-08-30T20:47:49.242Z"
   },
   {
    "duration": 14,
    "start_time": "2024-08-30T20:47:49.252Z"
   },
   {
    "duration": 9,
    "start_time": "2024-08-30T20:47:49.268Z"
   },
   {
    "duration": 12,
    "start_time": "2024-08-30T20:47:49.278Z"
   },
   {
    "duration": 6,
    "start_time": "2024-08-30T20:47:49.292Z"
   },
   {
    "duration": 43,
    "start_time": "2024-08-30T20:47:49.300Z"
   },
   {
    "duration": 7,
    "start_time": "2024-08-30T20:47:49.345Z"
   },
   {
    "duration": 8,
    "start_time": "2024-08-30T20:47:49.354Z"
   },
   {
    "duration": 7,
    "start_time": "2024-08-30T20:47:49.365Z"
   },
   {
    "duration": 8,
    "start_time": "2024-08-30T20:47:49.373Z"
   },
   {
    "duration": 7,
    "start_time": "2024-08-30T20:47:49.383Z"
   },
   {
    "duration": 5,
    "start_time": "2024-08-30T20:47:49.392Z"
   },
   {
    "duration": 49,
    "start_time": "2024-08-30T20:47:49.399Z"
   },
   {
    "duration": 9,
    "start_time": "2024-08-30T20:47:49.450Z"
   },
   {
    "duration": 9,
    "start_time": "2024-08-30T20:47:49.461Z"
   },
   {
    "duration": 8,
    "start_time": "2024-08-30T20:47:49.472Z"
   },
   {
    "duration": 9,
    "start_time": "2024-08-30T20:47:49.481Z"
   },
   {
    "duration": 8,
    "start_time": "2024-08-30T20:47:49.493Z"
   },
   {
    "duration": 45,
    "start_time": "2024-08-30T20:47:49.504Z"
   },
   {
    "duration": 18,
    "start_time": "2024-08-30T20:47:49.551Z"
   },
   {
    "duration": 15,
    "start_time": "2024-08-30T20:47:49.571Z"
   },
   {
    "duration": 10,
    "start_time": "2024-08-30T20:47:49.587Z"
   },
   {
    "duration": 45,
    "start_time": "2024-08-30T20:47:49.598Z"
   },
   {
    "duration": 25,
    "start_time": "2024-08-30T20:47:49.645Z"
   },
   {
    "duration": 16,
    "start_time": "2024-08-30T20:47:49.674Z"
   },
   {
    "duration": 9,
    "start_time": "2024-08-30T20:47:49.692Z"
   },
   {
    "duration": 11,
    "start_time": "2024-08-30T20:47:49.702Z"
   },
   {
    "duration": 34,
    "start_time": "2024-08-30T20:47:49.715Z"
   },
   {
    "duration": 10,
    "start_time": "2024-08-30T20:47:49.750Z"
   },
   {
    "duration": 17,
    "start_time": "2024-08-30T20:47:49.761Z"
   },
   {
    "duration": 6,
    "start_time": "2024-08-30T20:47:49.780Z"
   },
   {
    "duration": 12,
    "start_time": "2024-08-30T20:47:49.788Z"
   },
   {
    "duration": 41,
    "start_time": "2024-08-30T20:47:49.802Z"
   },
   {
    "duration": 16,
    "start_time": "2024-08-30T20:47:49.845Z"
   },
   {
    "duration": 24,
    "start_time": "2024-08-30T20:47:49.864Z"
   },
   {
    "duration": 7,
    "start_time": "2024-08-30T20:47:49.890Z"
   },
   {
    "duration": 8,
    "start_time": "2024-08-30T20:47:49.898Z"
   },
   {
    "duration": 58,
    "start_time": "2024-08-30T20:47:49.908Z"
   },
   {
    "duration": 74,
    "start_time": "2024-08-30T20:47:49.969Z"
   },
   {
    "duration": 59,
    "start_time": "2024-08-30T20:47:50.045Z"
   },
   {
    "duration": 54,
    "start_time": "2024-08-30T20:47:50.105Z"
   },
   {
    "duration": 46,
    "start_time": "2024-08-30T20:47:50.161Z"
   },
   {
    "duration": 34,
    "start_time": "2024-08-30T20:47:50.209Z"
   },
   {
    "duration": 838,
    "start_time": "2024-08-30T20:48:26.769Z"
   },
   {
    "duration": 2,
    "start_time": "2024-08-30T20:48:36.659Z"
   },
   {
    "duration": 173,
    "start_time": "2024-08-30T20:48:36.663Z"
   },
   {
    "duration": 17,
    "start_time": "2024-08-30T20:48:36.838Z"
   },
   {
    "duration": 8,
    "start_time": "2024-08-30T20:48:36.857Z"
   },
   {
    "duration": 13,
    "start_time": "2024-08-30T20:48:36.866Z"
   },
   {
    "duration": 9,
    "start_time": "2024-08-30T20:48:36.881Z"
   },
   {
    "duration": 12,
    "start_time": "2024-08-30T20:48:36.891Z"
   },
   {
    "duration": 40,
    "start_time": "2024-08-30T20:48:36.904Z"
   },
   {
    "duration": 11,
    "start_time": "2024-08-30T20:48:36.948Z"
   },
   {
    "duration": 7,
    "start_time": "2024-08-30T20:48:36.961Z"
   },
   {
    "duration": 9,
    "start_time": "2024-08-30T20:48:36.970Z"
   },
   {
    "duration": 7,
    "start_time": "2024-08-30T20:48:36.981Z"
   },
   {
    "duration": 8,
    "start_time": "2024-08-30T20:48:36.990Z"
   },
   {
    "duration": 44,
    "start_time": "2024-08-30T20:48:37.000Z"
   },
   {
    "duration": 5,
    "start_time": "2024-08-30T20:48:37.045Z"
   },
   {
    "duration": 9,
    "start_time": "2024-08-30T20:48:37.052Z"
   },
   {
    "duration": 9,
    "start_time": "2024-08-30T20:48:37.063Z"
   },
   {
    "duration": 9,
    "start_time": "2024-08-30T20:48:37.073Z"
   },
   {
    "duration": 8,
    "start_time": "2024-08-30T20:48:37.084Z"
   },
   {
    "duration": 9,
    "start_time": "2024-08-30T20:48:37.093Z"
   },
   {
    "duration": 44,
    "start_time": "2024-08-30T20:48:37.104Z"
   },
   {
    "duration": 11,
    "start_time": "2024-08-30T20:48:37.149Z"
   },
   {
    "duration": 16,
    "start_time": "2024-08-30T20:48:37.162Z"
   },
   {
    "duration": 16,
    "start_time": "2024-08-30T20:48:37.182Z"
   },
   {
    "duration": 43,
    "start_time": "2024-08-30T20:48:37.200Z"
   },
   {
    "duration": 18,
    "start_time": "2024-08-30T20:48:37.244Z"
   },
   {
    "duration": 25,
    "start_time": "2024-08-30T20:48:37.264Z"
   },
   {
    "duration": 17,
    "start_time": "2024-08-30T20:48:37.290Z"
   },
   {
    "duration": 9,
    "start_time": "2024-08-30T20:48:37.308Z"
   },
   {
    "duration": 12,
    "start_time": "2024-08-30T20:48:37.344Z"
   },
   {
    "duration": 7,
    "start_time": "2024-08-30T20:48:37.358Z"
   },
   {
    "duration": 9,
    "start_time": "2024-08-30T20:48:37.367Z"
   },
   {
    "duration": 17,
    "start_time": "2024-08-30T20:48:37.378Z"
   },
   {
    "duration": 7,
    "start_time": "2024-08-30T20:48:37.397Z"
   },
   {
    "duration": 49,
    "start_time": "2024-08-30T20:48:37.406Z"
   },
   {
    "duration": 10,
    "start_time": "2024-08-30T20:48:37.456Z"
   },
   {
    "duration": 15,
    "start_time": "2024-08-30T20:48:37.467Z"
   },
   {
    "duration": 24,
    "start_time": "2024-08-30T20:48:37.483Z"
   },
   {
    "duration": 35,
    "start_time": "2024-08-30T20:48:37.509Z"
   },
   {
    "duration": 8,
    "start_time": "2024-08-30T20:48:37.547Z"
   },
   {
    "duration": 27,
    "start_time": "2024-08-30T20:48:37.557Z"
   },
   {
    "duration": 85,
    "start_time": "2024-08-30T20:48:37.585Z"
   },
   {
    "duration": 57,
    "start_time": "2024-08-30T20:48:37.673Z"
   },
   {
    "duration": 37,
    "start_time": "2024-08-30T20:48:37.743Z"
   },
   {
    "duration": 45,
    "start_time": "2024-08-30T20:48:37.782Z"
   },
   {
    "duration": 34,
    "start_time": "2024-08-30T20:48:37.829Z"
   },
   {
    "duration": 15,
    "start_time": "2024-08-30T20:48:37.864Z"
   },
   {
    "duration": 1931,
    "start_time": "2024-08-30T20:48:41.420Z"
   },
   {
    "duration": 1915,
    "start_time": "2024-08-30T20:49:58.500Z"
   },
   {
    "duration": 2006,
    "start_time": "2024-08-30T20:51:13.226Z"
   },
   {
    "duration": 1910,
    "start_time": "2024-08-30T20:52:45.588Z"
   },
   {
    "duration": 1964,
    "start_time": "2024-08-30T20:54:18.972Z"
   },
   {
    "duration": 1948,
    "start_time": "2024-08-30T20:54:37.805Z"
   },
   {
    "duration": 1892,
    "start_time": "2024-08-30T20:55:04.156Z"
   },
   {
    "duration": 1948,
    "start_time": "2024-08-30T20:55:09.825Z"
   },
   {
    "duration": 1930,
    "start_time": "2024-08-30T20:55:23.855Z"
   },
   {
    "duration": 1938,
    "start_time": "2024-08-30T20:55:37.737Z"
   },
   {
    "duration": 759,
    "start_time": "2024-08-30T20:56:09.470Z"
   },
   {
    "duration": 162,
    "start_time": "2024-08-30T20:56:10.231Z"
   },
   {
    "duration": 17,
    "start_time": "2024-08-30T20:56:10.395Z"
   },
   {
    "duration": 10,
    "start_time": "2024-08-30T20:56:10.414Z"
   },
   {
    "duration": 29,
    "start_time": "2024-08-30T20:56:10.425Z"
   },
   {
    "duration": 9,
    "start_time": "2024-08-30T20:56:10.456Z"
   },
   {
    "duration": 12,
    "start_time": "2024-08-30T20:56:10.467Z"
   },
   {
    "duration": 15,
    "start_time": "2024-08-30T20:56:10.481Z"
   },
   {
    "duration": 15,
    "start_time": "2024-08-30T20:56:10.500Z"
   },
   {
    "duration": 25,
    "start_time": "2024-08-30T20:56:10.519Z"
   },
   {
    "duration": 11,
    "start_time": "2024-08-30T20:56:10.546Z"
   },
   {
    "duration": 9,
    "start_time": "2024-08-30T20:56:10.560Z"
   },
   {
    "duration": 9,
    "start_time": "2024-08-30T20:56:10.571Z"
   },
   {
    "duration": 7,
    "start_time": "2024-08-30T20:56:10.582Z"
   },
   {
    "duration": 5,
    "start_time": "2024-08-30T20:56:10.591Z"
   },
   {
    "duration": 47,
    "start_time": "2024-08-30T20:56:10.597Z"
   },
   {
    "duration": 14,
    "start_time": "2024-08-30T20:56:10.645Z"
   },
   {
    "duration": 10,
    "start_time": "2024-08-30T20:56:10.660Z"
   },
   {
    "duration": 8,
    "start_time": "2024-08-30T20:56:10.672Z"
   },
   {
    "duration": 9,
    "start_time": "2024-08-30T20:56:10.682Z"
   },
   {
    "duration": 8,
    "start_time": "2024-08-30T20:56:10.692Z"
   },
   {
    "duration": 48,
    "start_time": "2024-08-30T20:56:10.701Z"
   },
   {
    "duration": 16,
    "start_time": "2024-08-30T20:56:10.753Z"
   },
   {
    "duration": 14,
    "start_time": "2024-08-30T20:56:10.772Z"
   },
   {
    "duration": 10,
    "start_time": "2024-08-30T20:56:10.788Z"
   },
   {
    "duration": 17,
    "start_time": "2024-08-30T20:56:10.799Z"
   },
   {
    "duration": 49,
    "start_time": "2024-08-30T20:56:10.818Z"
   },
   {
    "duration": 17,
    "start_time": "2024-08-30T20:56:10.872Z"
   },
   {
    "duration": 9,
    "start_time": "2024-08-30T20:56:10.890Z"
   },
   {
    "duration": 12,
    "start_time": "2024-08-30T20:56:10.900Z"
   },
   {
    "duration": 39,
    "start_time": "2024-08-30T20:56:10.913Z"
   },
   {
    "duration": 10,
    "start_time": "2024-08-30T20:56:10.954Z"
   },
   {
    "duration": 16,
    "start_time": "2024-08-30T20:56:10.966Z"
   },
   {
    "duration": 5,
    "start_time": "2024-08-30T20:56:10.984Z"
   },
   {
    "duration": 13,
    "start_time": "2024-08-30T20:56:10.991Z"
   },
   {
    "duration": 38,
    "start_time": "2024-08-30T20:56:11.005Z"
   },
   {
    "duration": 19,
    "start_time": "2024-08-30T20:56:11.045Z"
   },
   {
    "duration": 24,
    "start_time": "2024-08-30T20:56:11.066Z"
   },
   {
    "duration": 7,
    "start_time": "2024-08-30T20:56:11.091Z"
   },
   {
    "duration": 9,
    "start_time": "2024-08-30T20:56:11.100Z"
   },
   {
    "duration": 62,
    "start_time": "2024-08-30T20:56:11.110Z"
   },
   {
    "duration": 78,
    "start_time": "2024-08-30T20:56:11.173Z"
   },
   {
    "duration": 56,
    "start_time": "2024-08-30T20:56:11.252Z"
   },
   {
    "duration": 57,
    "start_time": "2024-08-30T20:56:11.310Z"
   },
   {
    "duration": 45,
    "start_time": "2024-08-30T20:56:11.369Z"
   },
   {
    "duration": 34,
    "start_time": "2024-08-30T20:56:11.416Z"
   },
   {
    "duration": 17,
    "start_time": "2024-08-30T20:56:11.451Z"
   },
   {
    "duration": 1925,
    "start_time": "2024-08-30T20:56:11.469Z"
   },
   {
    "duration": 190,
    "start_time": "2024-08-30T20:56:13.397Z"
   },
   {
    "duration": 185,
    "start_time": "2024-08-30T20:56:13.589Z"
   },
   {
    "duration": 296,
    "start_time": "2024-08-30T20:56:13.776Z"
   },
   {
    "duration": 233,
    "start_time": "2024-08-30T20:56:14.074Z"
   },
   {
    "duration": 7,
    "start_time": "2024-08-30T20:56:14.309Z"
   },
   {
    "duration": 102,
    "start_time": "2024-08-30T20:56:14.318Z"
   },
   {
    "duration": 107,
    "start_time": "2024-08-30T20:56:14.422Z"
   },
   {
    "duration": 114,
    "start_time": "2024-08-30T20:56:14.531Z"
   },
   {
    "duration": 6,
    "start_time": "2024-08-30T20:56:14.646Z"
   },
   {
    "duration": 189,
    "start_time": "2024-08-30T20:56:14.654Z"
   },
   {
    "duration": 196,
    "start_time": "2024-08-30T20:56:14.845Z"
   },
   {
    "duration": 209,
    "start_time": "2024-08-30T20:56:15.043Z"
   },
   {
    "duration": 266,
    "start_time": "2024-08-30T20:56:15.254Z"
   },
   {
    "duration": 350,
    "start_time": "2024-08-30T20:56:15.523Z"
   },
   {
    "duration": 503,
    "start_time": "2024-08-30T20:56:15.874Z"
   },
   {
    "duration": 138,
    "start_time": "2024-08-30T20:56:16.379Z"
   },
   {
    "duration": 194,
    "start_time": "2024-08-30T20:56:16.518Z"
   },
   {
    "duration": 200,
    "start_time": "2024-08-30T20:56:16.714Z"
   },
   {
    "duration": 2,
    "start_time": "2024-08-30T20:56:16.916Z"
   },
   {
    "duration": 2,
    "start_time": "2024-08-30T20:56:16.921Z"
   },
   {
    "duration": 208,
    "start_time": "2024-08-30T20:59:14.581Z"
   },
   {
    "duration": 297,
    "start_time": "2024-08-30T20:59:24.673Z"
   },
   {
    "duration": 188,
    "start_time": "2024-08-30T21:01:55.149Z"
   },
   {
    "duration": 186,
    "start_time": "2024-08-30T21:02:26.280Z"
   },
   {
    "duration": 11,
    "start_time": "2024-08-30T21:02:30.672Z"
   },
   {
    "duration": 2,
    "start_time": "2024-08-30T21:04:20.534Z"
   },
   {
    "duration": 212,
    "start_time": "2024-08-30T21:07:23.732Z"
   },
   {
    "duration": 4,
    "start_time": "2024-08-30T21:08:26.876Z"
   },
   {
    "duration": 128,
    "start_time": "2024-08-30T21:08:35.286Z"
   },
   {
    "duration": 12,
    "start_time": "2024-08-30T21:08:41.185Z"
   },
   {
    "duration": 18,
    "start_time": "2024-08-30T21:09:37.491Z"
   },
   {
    "duration": 181,
    "start_time": "2024-08-30T21:11:03.818Z"
   },
   {
    "duration": 187,
    "start_time": "2024-08-30T21:11:52.037Z"
   },
   {
    "duration": 237,
    "start_time": "2024-08-30T21:12:15.113Z"
   },
   {
    "duration": 279,
    "start_time": "2024-08-30T21:12:23.302Z"
   },
   {
    "duration": 204,
    "start_time": "2024-08-30T21:12:33.566Z"
   },
   {
    "duration": 208,
    "start_time": "2024-08-30T21:13:09.487Z"
   },
   {
    "duration": 189,
    "start_time": "2024-08-30T21:16:27.164Z"
   },
   {
    "duration": 209,
    "start_time": "2024-08-30T21:16:41.346Z"
   },
   {
    "duration": 214,
    "start_time": "2024-08-30T21:16:49.083Z"
   },
   {
    "duration": 267,
    "start_time": "2024-08-30T21:20:38.787Z"
   },
   {
    "duration": 198,
    "start_time": "2024-08-30T21:24:48.857Z"
   },
   {
    "duration": 451,
    "start_time": "2024-08-30T21:25:58.525Z"
   },
   {
    "duration": 195,
    "start_time": "2024-08-30T21:26:20.192Z"
   },
   {
    "duration": 197,
    "start_time": "2024-08-30T21:26:33.499Z"
   },
   {
    "duration": 202,
    "start_time": "2024-08-30T21:27:43.051Z"
   },
   {
    "duration": 4,
    "start_time": "2024-08-30T21:34:13.901Z"
   },
   {
    "duration": 15,
    "start_time": "2024-08-30T21:43:31.054Z"
   },
   {
    "duration": 5,
    "start_time": "2024-08-30T21:43:43.318Z"
   },
   {
    "duration": 4,
    "start_time": "2024-08-30T21:52:37.580Z"
   },
   {
    "duration": 10,
    "start_time": "2024-08-30T21:55:23.164Z"
   },
   {
    "duration": 11,
    "start_time": "2024-08-30T21:56:37.628Z"
   },
   {
    "duration": 10,
    "start_time": "2024-08-30T21:56:47.923Z"
   },
   {
    "duration": 16,
    "start_time": "2024-08-30T21:57:25.021Z"
   },
   {
    "duration": 14,
    "start_time": "2024-08-30T21:57:30.278Z"
   },
   {
    "duration": 10,
    "start_time": "2024-08-30T21:57:41.284Z"
   },
   {
    "duration": 17,
    "start_time": "2024-08-30T21:58:00.009Z"
   },
   {
    "duration": 19,
    "start_time": "2024-08-30T21:58:03.334Z"
   },
   {
    "duration": 11,
    "start_time": "2024-08-30T21:58:12.897Z"
   },
   {
    "duration": 18,
    "start_time": "2024-08-30T21:58:18.495Z"
   },
   {
    "duration": 11,
    "start_time": "2024-08-30T21:58:22.091Z"
   },
   {
    "duration": 8,
    "start_time": "2024-08-30T21:58:58.948Z"
   },
   {
    "duration": 12,
    "start_time": "2024-08-30T21:59:05.125Z"
   },
   {
    "duration": 10,
    "start_time": "2024-08-30T21:59:16.614Z"
   },
   {
    "duration": 9,
    "start_time": "2024-08-30T21:59:47.963Z"
   },
   {
    "duration": 10,
    "start_time": "2024-08-30T22:01:28.189Z"
   },
   {
    "duration": 10,
    "start_time": "2024-08-30T22:01:55.881Z"
   },
   {
    "duration": 4,
    "start_time": "2024-08-30T22:04:47.256Z"
   },
   {
    "duration": 9,
    "start_time": "2024-08-30T22:04:54.058Z"
   },
   {
    "duration": 164,
    "start_time": "2024-08-30T22:06:50.621Z"
   },
   {
    "duration": 34,
    "start_time": "2024-08-30T22:07:03.760Z"
   },
   {
    "duration": 18,
    "start_time": "2024-08-30T22:08:17.372Z"
   },
   {
    "duration": 31,
    "start_time": "2024-08-30T22:08:30.700Z"
   },
   {
    "duration": 20,
    "start_time": "2024-08-30T22:09:31.103Z"
   },
   {
    "duration": 21,
    "start_time": "2024-08-30T22:10:24.863Z"
   },
   {
    "duration": 9,
    "start_time": "2024-08-30T22:11:03.328Z"
   },
   {
    "duration": 19,
    "start_time": "2024-08-30T22:11:37.275Z"
   },
   {
    "duration": 19,
    "start_time": "2024-08-30T22:11:47.719Z"
   },
   {
    "duration": 9,
    "start_time": "2024-08-30T22:12:19.509Z"
   },
   {
    "duration": 8,
    "start_time": "2024-08-30T22:12:36.149Z"
   },
   {
    "duration": 10,
    "start_time": "2024-08-30T22:14:12.257Z"
   },
   {
    "duration": 10,
    "start_time": "2024-08-30T22:14:15.363Z"
   },
   {
    "duration": 20,
    "start_time": "2024-08-30T22:15:25.032Z"
   },
   {
    "duration": 21,
    "start_time": "2024-08-30T22:15:47.488Z"
   },
   {
    "duration": 17,
    "start_time": "2024-08-30T22:15:54.101Z"
   },
   {
    "duration": 19,
    "start_time": "2024-08-30T22:16:09.832Z"
   },
   {
    "duration": 19,
    "start_time": "2024-08-30T22:17:11.032Z"
   },
   {
    "duration": 8,
    "start_time": "2024-08-30T22:17:29.904Z"
   },
   {
    "duration": 8,
    "start_time": "2024-08-30T22:18:29.235Z"
   },
   {
    "duration": 11,
    "start_time": "2024-08-30T22:18:40.609Z"
   },
   {
    "duration": 11,
    "start_time": "2024-08-30T22:19:42.229Z"
   },
   {
    "duration": 11,
    "start_time": "2024-08-30T22:19:49.940Z"
   },
   {
    "duration": 10,
    "start_time": "2024-08-30T22:19:55.100Z"
   },
   {
    "duration": 21,
    "start_time": "2024-08-30T22:21:09.879Z"
   },
   {
    "duration": 20,
    "start_time": "2024-08-30T22:21:29.436Z"
   },
   {
    "duration": 77,
    "start_time": "2024-08-30T22:21:33.089Z"
   },
   {
    "duration": 10,
    "start_time": "2024-08-30T22:23:10.877Z"
   },
   {
    "duration": 19,
    "start_time": "2024-08-30T22:23:18.778Z"
   },
   {
    "duration": 16,
    "start_time": "2024-08-30T22:23:23.934Z"
   },
   {
    "duration": 21,
    "start_time": "2024-08-30T22:24:04.635Z"
   },
   {
    "duration": 12,
    "start_time": "2024-08-30T22:24:08.584Z"
   },
   {
    "duration": 215,
    "start_time": "2024-08-30T22:25:45.227Z"
   },
   {
    "duration": 53,
    "start_time": "2024-08-30T22:25:52.880Z"
   },
   {
    "duration": 15,
    "start_time": "2024-08-30T22:26:02.135Z"
   },
   {
    "duration": 21,
    "start_time": "2024-08-30T22:26:16.161Z"
   },
   {
    "duration": 16,
    "start_time": "2024-08-30T22:26:31.678Z"
   },
   {
    "duration": 20,
    "start_time": "2024-08-30T22:27:49.483Z"
   },
   {
    "duration": 15,
    "start_time": "2024-08-30T22:27:54.985Z"
   },
   {
    "duration": 20,
    "start_time": "2024-08-30T22:31:28.334Z"
   },
   {
    "duration": 25,
    "start_time": "2024-08-30T22:32:32.453Z"
   },
   {
    "duration": 12,
    "start_time": "2024-08-30T22:32:38.693Z"
   },
   {
    "duration": 13,
    "start_time": "2024-08-30T22:32:44.575Z"
   },
   {
    "duration": 21,
    "start_time": "2024-08-30T22:33:22.617Z"
   },
   {
    "duration": 24,
    "start_time": "2024-08-30T22:33:39.658Z"
   },
   {
    "duration": 12,
    "start_time": "2024-08-30T22:33:56.658Z"
   },
   {
    "duration": 5,
    "start_time": "2024-08-30T22:34:03.463Z"
   },
   {
    "duration": 4,
    "start_time": "2024-08-30T22:34:32.588Z"
   },
   {
    "duration": 4,
    "start_time": "2024-08-30T22:34:35.862Z"
   },
   {
    "duration": 4,
    "start_time": "2024-08-30T22:34:40.356Z"
   },
   {
    "duration": 779,
    "start_time": "2024-08-30T22:52:42.464Z"
   },
   {
    "duration": 165,
    "start_time": "2024-08-30T22:52:43.245Z"
   },
   {
    "duration": 16,
    "start_time": "2024-08-30T22:52:43.412Z"
   },
   {
    "duration": 13,
    "start_time": "2024-08-30T22:52:43.430Z"
   },
   {
    "duration": 14,
    "start_time": "2024-08-30T22:52:43.445Z"
   },
   {
    "duration": 10,
    "start_time": "2024-08-30T22:52:43.460Z"
   },
   {
    "duration": 12,
    "start_time": "2024-08-30T22:52:43.472Z"
   },
   {
    "duration": 7,
    "start_time": "2024-08-30T22:52:43.486Z"
   },
   {
    "duration": 9,
    "start_time": "2024-08-30T22:52:43.494Z"
   },
   {
    "duration": 8,
    "start_time": "2024-08-30T22:52:43.542Z"
   },
   {
    "duration": 9,
    "start_time": "2024-08-30T22:52:43.552Z"
   },
   {
    "duration": 9,
    "start_time": "2024-08-30T22:52:43.563Z"
   },
   {
    "duration": 7,
    "start_time": "2024-08-30T22:52:43.574Z"
   },
   {
    "duration": 7,
    "start_time": "2024-08-30T22:52:43.584Z"
   },
   {
    "duration": 5,
    "start_time": "2024-08-30T22:52:43.592Z"
   },
   {
    "duration": 46,
    "start_time": "2024-08-30T22:52:43.598Z"
   },
   {
    "duration": 11,
    "start_time": "2024-08-30T22:52:43.645Z"
   },
   {
    "duration": 11,
    "start_time": "2024-08-30T22:52:43.658Z"
   },
   {
    "duration": 8,
    "start_time": "2024-08-30T22:52:43.670Z"
   },
   {
    "duration": 8,
    "start_time": "2024-08-30T22:52:43.680Z"
   },
   {
    "duration": 7,
    "start_time": "2024-08-30T22:52:43.690Z"
   },
   {
    "duration": 52,
    "start_time": "2024-08-30T22:52:43.699Z"
   },
   {
    "duration": 17,
    "start_time": "2024-08-30T22:52:43.753Z"
   },
   {
    "duration": 16,
    "start_time": "2024-08-30T22:52:43.772Z"
   },
   {
    "duration": 10,
    "start_time": "2024-08-30T22:52:43.790Z"
   },
   {
    "duration": 46,
    "start_time": "2024-08-30T22:52:43.802Z"
   },
   {
    "duration": 25,
    "start_time": "2024-08-30T22:52:43.849Z"
   },
   {
    "duration": 16,
    "start_time": "2024-08-30T22:52:43.879Z"
   },
   {
    "duration": 9,
    "start_time": "2024-08-30T22:52:43.897Z"
   },
   {
    "duration": 36,
    "start_time": "2024-08-30T22:52:43.907Z"
   },
   {
    "duration": 9,
    "start_time": "2024-08-30T22:52:43.945Z"
   },
   {
    "duration": 10,
    "start_time": "2024-08-30T22:52:43.956Z"
   },
   {
    "duration": 20,
    "start_time": "2024-08-30T22:52:43.969Z"
   },
   {
    "duration": 7,
    "start_time": "2024-08-30T22:52:43.991Z"
   },
   {
    "duration": 46,
    "start_time": "2024-08-30T22:52:43.999Z"
   },
   {
    "duration": 8,
    "start_time": "2024-08-30T22:52:44.047Z"
   },
   {
    "duration": 16,
    "start_time": "2024-08-30T22:52:44.057Z"
   },
   {
    "duration": 25,
    "start_time": "2024-08-30T22:52:44.075Z"
   },
   {
    "duration": 8,
    "start_time": "2024-08-30T22:52:44.101Z"
   },
   {
    "duration": 9,
    "start_time": "2024-08-30T22:52:44.142Z"
   },
   {
    "duration": 30,
    "start_time": "2024-08-30T22:52:44.153Z"
   },
   {
    "duration": 84,
    "start_time": "2024-08-30T22:52:44.185Z"
   },
   {
    "duration": 58,
    "start_time": "2024-08-30T22:52:44.271Z"
   },
   {
    "duration": 39,
    "start_time": "2024-08-30T22:52:44.343Z"
   },
   {
    "duration": 59,
    "start_time": "2024-08-30T22:52:44.384Z"
   },
   {
    "duration": 20,
    "start_time": "2024-08-30T22:52:44.445Z"
   },
   {
    "duration": 15,
    "start_time": "2024-08-30T22:52:44.467Z"
   },
   {
    "duration": 1984,
    "start_time": "2024-08-30T22:52:44.484Z"
   },
   {
    "duration": 198,
    "start_time": "2024-08-30T22:52:46.470Z"
   },
   {
    "duration": 183,
    "start_time": "2024-08-30T22:52:46.670Z"
   },
   {
    "duration": 304,
    "start_time": "2024-08-30T22:52:46.855Z"
   },
   {
    "duration": 7,
    "start_time": "2024-08-30T22:52:47.161Z"
   },
   {
    "duration": 101,
    "start_time": "2024-08-30T22:52:47.170Z"
   },
   {
    "duration": 110,
    "start_time": "2024-08-30T22:52:47.273Z"
   },
   {
    "duration": 5,
    "start_time": "2024-08-30T22:52:47.385Z"
   },
   {
    "duration": 187,
    "start_time": "2024-08-30T22:52:47.392Z"
   },
   {
    "duration": 198,
    "start_time": "2024-08-30T22:52:47.581Z"
   },
   {
    "duration": 192,
    "start_time": "2024-08-30T22:52:47.780Z"
   },
   {
    "duration": 219,
    "start_time": "2024-08-30T22:52:47.973Z"
   },
   {
    "duration": 235,
    "start_time": "2024-08-30T22:52:48.195Z"
   },
   {
    "duration": 159,
    "start_time": "2024-08-30T22:52:48.433Z"
   },
   {
    "duration": 179,
    "start_time": "2024-08-30T22:52:48.594Z"
   },
   {
    "duration": 213,
    "start_time": "2024-08-30T22:52:48.776Z"
   },
   {
    "duration": 219,
    "start_time": "2024-08-30T22:52:48.991Z"
   },
   {
    "duration": 4,
    "start_time": "2024-08-30T22:52:49.212Z"
   },
   {
    "duration": 24,
    "start_time": "2024-08-30T22:52:49.219Z"
   },
   {
    "duration": 12,
    "start_time": "2024-08-30T22:52:49.244Z"
   },
   {
    "duration": 4,
    "start_time": "2024-08-30T22:52:49.258Z"
   },
   {
    "duration": 2521,
    "start_time": "2024-08-31T06:06:09.142Z"
   },
   {
    "duration": 235,
    "start_time": "2024-08-31T06:06:11.666Z"
   },
   {
    "duration": 17,
    "start_time": "2024-08-31T06:06:11.902Z"
   },
   {
    "duration": 10,
    "start_time": "2024-08-31T06:06:11.922Z"
   },
   {
    "duration": 14,
    "start_time": "2024-08-31T06:06:11.933Z"
   },
   {
    "duration": 8,
    "start_time": "2024-08-31T06:06:11.948Z"
   },
   {
    "duration": 12,
    "start_time": "2024-08-31T06:06:11.958Z"
   },
   {
    "duration": 6,
    "start_time": "2024-08-31T06:06:11.986Z"
   },
   {
    "duration": 8,
    "start_time": "2024-08-31T06:06:11.994Z"
   },
   {
    "duration": 6,
    "start_time": "2024-08-31T06:06:12.005Z"
   },
   {
    "duration": 8,
    "start_time": "2024-08-31T06:06:12.013Z"
   },
   {
    "duration": 8,
    "start_time": "2024-08-31T06:06:12.023Z"
   },
   {
    "duration": 8,
    "start_time": "2024-08-31T06:06:12.032Z"
   },
   {
    "duration": 51,
    "start_time": "2024-08-31T06:06:12.041Z"
   },
   {
    "duration": 3,
    "start_time": "2024-08-31T06:06:12.094Z"
   },
   {
    "duration": 8,
    "start_time": "2024-08-31T06:06:12.099Z"
   },
   {
    "duration": 8,
    "start_time": "2024-08-31T06:06:12.109Z"
   },
   {
    "duration": 10,
    "start_time": "2024-08-31T06:06:12.119Z"
   },
   {
    "duration": 8,
    "start_time": "2024-08-31T06:06:12.130Z"
   },
   {
    "duration": 8,
    "start_time": "2024-08-31T06:06:12.139Z"
   },
   {
    "duration": 6,
    "start_time": "2024-08-31T06:06:12.187Z"
   },
   {
    "duration": 10,
    "start_time": "2024-08-31T06:06:12.195Z"
   },
   {
    "duration": 16,
    "start_time": "2024-08-31T06:06:12.207Z"
   },
   {
    "duration": 17,
    "start_time": "2024-08-31T06:06:12.224Z"
   },
   {
    "duration": 10,
    "start_time": "2024-08-31T06:06:12.242Z"
   },
   {
    "duration": 16,
    "start_time": "2024-08-31T06:06:12.287Z"
   },
   {
    "duration": 24,
    "start_time": "2024-08-31T06:06:12.305Z"
   },
   {
    "duration": 15,
    "start_time": "2024-08-31T06:06:12.333Z"
   },
   {
    "duration": 9,
    "start_time": "2024-08-31T06:06:12.350Z"
   },
   {
    "duration": 11,
    "start_time": "2024-08-31T06:06:12.386Z"
   },
   {
    "duration": 8,
    "start_time": "2024-08-31T06:06:12.399Z"
   },
   {
    "duration": 10,
    "start_time": "2024-08-31T06:06:12.408Z"
   },
   {
    "duration": 14,
    "start_time": "2024-08-31T06:06:12.421Z"
   },
   {
    "duration": 6,
    "start_time": "2024-08-31T06:06:12.437Z"
   },
   {
    "duration": 46,
    "start_time": "2024-08-31T06:06:12.445Z"
   },
   {
    "duration": 8,
    "start_time": "2024-08-31T06:06:12.492Z"
   },
   {
    "duration": 15,
    "start_time": "2024-08-31T06:06:12.502Z"
   },
   {
    "duration": 22,
    "start_time": "2024-08-31T06:06:12.519Z"
   },
   {
    "duration": 6,
    "start_time": "2024-08-31T06:06:12.543Z"
   },
   {
    "duration": 36,
    "start_time": "2024-08-31T06:06:12.551Z"
   },
   {
    "duration": 30,
    "start_time": "2024-08-31T06:06:12.589Z"
   },
   {
    "duration": 78,
    "start_time": "2024-08-31T06:06:12.621Z"
   },
   {
    "duration": 49,
    "start_time": "2024-08-31T06:06:12.701Z"
   },
   {
    "duration": 52,
    "start_time": "2024-08-31T06:06:12.752Z"
   },
   {
    "duration": 42,
    "start_time": "2024-08-31T06:06:12.806Z"
   },
   {
    "duration": 7,
    "start_time": "2024-08-31T06:06:12.849Z"
   },
   {
    "duration": 213,
    "start_time": "2024-08-31T06:07:31.460Z"
   },
   {
    "duration": 21,
    "start_time": "2024-08-31T06:07:34.554Z"
   },
   {
    "duration": 12,
    "start_time": "2024-08-31T06:07:35.625Z"
   },
   {
    "duration": 336,
    "start_time": "2024-08-31T06:09:59.811Z"
   },
   {
    "duration": 12,
    "start_time": "2024-08-31T06:10:01.934Z"
   },
   {
    "duration": 168,
    "start_time": "2024-08-31T06:18:03.250Z"
   },
   {
    "duration": 43,
    "start_time": "2024-08-31T06:18:12.570Z"
   },
   {
    "duration": 15,
    "start_time": "2024-08-31T06:18:33.100Z"
   },
   {
    "duration": 751,
    "start_time": "2024-08-31T06:18:50.113Z"
   },
   {
    "duration": 158,
    "start_time": "2024-08-31T06:18:50.866Z"
   },
   {
    "duration": 15,
    "start_time": "2024-08-31T06:18:51.026Z"
   },
   {
    "duration": 10,
    "start_time": "2024-08-31T06:18:51.044Z"
   },
   {
    "duration": 12,
    "start_time": "2024-08-31T06:18:51.057Z"
   },
   {
    "duration": 18,
    "start_time": "2024-08-31T06:18:51.070Z"
   },
   {
    "duration": 11,
    "start_time": "2024-08-31T06:18:51.089Z"
   },
   {
    "duration": 6,
    "start_time": "2024-08-31T06:18:51.102Z"
   },
   {
    "duration": 8,
    "start_time": "2024-08-31T06:18:51.109Z"
   },
   {
    "duration": 7,
    "start_time": "2024-08-31T06:18:51.120Z"
   },
   {
    "duration": 7,
    "start_time": "2024-08-31T06:18:51.129Z"
   },
   {
    "duration": 8,
    "start_time": "2024-08-31T06:18:51.137Z"
   },
   {
    "duration": 7,
    "start_time": "2024-08-31T06:18:51.187Z"
   },
   {
    "duration": 6,
    "start_time": "2024-08-31T06:18:51.196Z"
   },
   {
    "duration": 5,
    "start_time": "2024-08-31T06:18:51.204Z"
   },
   {
    "duration": 9,
    "start_time": "2024-08-31T06:18:51.210Z"
   },
   {
    "duration": 9,
    "start_time": "2024-08-31T06:18:51.220Z"
   },
   {
    "duration": 9,
    "start_time": "2024-08-31T06:18:51.231Z"
   },
   {
    "duration": 49,
    "start_time": "2024-08-31T06:18:51.242Z"
   },
   {
    "duration": 9,
    "start_time": "2024-08-31T06:18:51.292Z"
   },
   {
    "duration": 7,
    "start_time": "2024-08-31T06:18:51.303Z"
   },
   {
    "duration": 10,
    "start_time": "2024-08-31T06:18:51.311Z"
   },
   {
    "duration": 15,
    "start_time": "2024-08-31T06:18:51.323Z"
   },
   {
    "duration": 48,
    "start_time": "2024-08-31T06:18:51.340Z"
   },
   {
    "duration": 10,
    "start_time": "2024-08-31T06:18:51.389Z"
   },
   {
    "duration": 17,
    "start_time": "2024-08-31T06:18:51.400Z"
   },
   {
    "duration": 24,
    "start_time": "2024-08-31T06:18:51.418Z"
   },
   {
    "duration": 44,
    "start_time": "2024-08-31T06:18:51.447Z"
   },
   {
    "duration": 8,
    "start_time": "2024-08-31T06:18:51.492Z"
   },
   {
    "duration": 11,
    "start_time": "2024-08-31T06:18:51.502Z"
   },
   {
    "duration": 7,
    "start_time": "2024-08-31T06:18:51.515Z"
   },
   {
    "duration": 9,
    "start_time": "2024-08-31T06:18:51.524Z"
   },
   {
    "duration": 15,
    "start_time": "2024-08-31T06:18:51.535Z"
   },
   {
    "duration": 37,
    "start_time": "2024-08-31T06:18:51.552Z"
   },
   {
    "duration": 14,
    "start_time": "2024-08-31T06:18:51.590Z"
   },
   {
    "duration": 11,
    "start_time": "2024-08-31T06:18:51.606Z"
   },
   {
    "duration": 15,
    "start_time": "2024-08-31T06:18:51.620Z"
   },
   {
    "duration": 25,
    "start_time": "2024-08-31T06:18:51.636Z"
   },
   {
    "duration": 31,
    "start_time": "2024-08-31T06:18:51.662Z"
   },
   {
    "duration": 7,
    "start_time": "2024-08-31T06:18:51.695Z"
   },
   {
    "duration": 27,
    "start_time": "2024-08-31T06:18:51.704Z"
   },
   {
    "duration": 88,
    "start_time": "2024-08-31T06:18:51.732Z"
   },
   {
    "duration": 52,
    "start_time": "2024-08-31T06:18:51.822Z"
   },
   {
    "duration": 43,
    "start_time": "2024-08-31T06:18:51.875Z"
   },
   {
    "duration": 42,
    "start_time": "2024-08-31T06:18:51.920Z"
   },
   {
    "duration": 41,
    "start_time": "2024-08-31T06:18:51.963Z"
   },
   {
    "duration": 11,
    "start_time": "2024-08-31T06:18:52.006Z"
   },
   {
    "duration": 11,
    "start_time": "2024-08-31T06:18:52.019Z"
   },
   {
    "duration": 16,
    "start_time": "2024-08-31T06:18:52.031Z"
   },
   {
    "duration": 2152,
    "start_time": "2024-08-31T06:18:52.049Z"
   },
   {
    "duration": 219,
    "start_time": "2024-08-31T06:18:54.203Z"
   },
   {
    "duration": 176,
    "start_time": "2024-08-31T06:18:54.424Z"
   },
   {
    "duration": 281,
    "start_time": "2024-08-31T06:18:54.602Z"
   },
   {
    "duration": 3,
    "start_time": "2024-08-31T06:18:54.886Z"
   },
   {
    "duration": 8,
    "start_time": "2024-08-31T06:18:54.890Z"
   },
   {
    "duration": 105,
    "start_time": "2024-08-31T06:18:54.899Z"
   },
   {
    "duration": 104,
    "start_time": "2024-08-31T06:18:55.005Z"
   },
   {
    "duration": 5,
    "start_time": "2024-08-31T06:18:55.111Z"
   },
   {
    "duration": 186,
    "start_time": "2024-08-31T06:18:55.118Z"
   },
   {
    "duration": 191,
    "start_time": "2024-08-31T06:18:55.306Z"
   },
   {
    "duration": 182,
    "start_time": "2024-08-31T06:18:55.499Z"
   },
   {
    "duration": 212,
    "start_time": "2024-08-31T06:18:55.686Z"
   },
   {
    "duration": 214,
    "start_time": "2024-08-31T06:18:55.900Z"
   },
   {
    "duration": 140,
    "start_time": "2024-08-31T06:18:56.116Z"
   },
   {
    "duration": 173,
    "start_time": "2024-08-31T06:18:56.259Z"
   },
   {
    "duration": 255,
    "start_time": "2024-08-31T06:18:56.433Z"
   },
   {
    "duration": 497,
    "start_time": "2024-08-31T06:18:56.690Z"
   },
   {
    "duration": 5,
    "start_time": "2024-08-31T06:18:57.188Z"
   },
   {
    "duration": 5,
    "start_time": "2024-08-31T06:18:57.195Z"
   },
   {
    "duration": 13,
    "start_time": "2024-08-31T06:18:57.202Z"
   },
   {
    "duration": 3,
    "start_time": "2024-08-31T06:18:57.217Z"
   },
   {
    "duration": 221,
    "start_time": "2024-08-31T06:19:03.955Z"
   },
   {
    "duration": 8,
    "start_time": "2024-09-02T18:40:57.658Z"
   },
   {
    "duration": 155,
    "start_time": "2024-09-02T18:47:18.139Z"
   },
   {
    "duration": 2464,
    "start_time": "2024-09-02T18:47:23.896Z"
   },
   {
    "duration": 259,
    "start_time": "2024-09-02T18:47:26.362Z"
   },
   {
    "duration": 18,
    "start_time": "2024-09-02T18:47:26.623Z"
   },
   {
    "duration": 9,
    "start_time": "2024-09-02T18:47:26.644Z"
   },
   {
    "duration": 13,
    "start_time": "2024-09-02T18:47:26.654Z"
   },
   {
    "duration": 9,
    "start_time": "2024-09-02T18:47:26.669Z"
   },
   {
    "duration": 32,
    "start_time": "2024-09-02T18:47:26.680Z"
   },
   {
    "duration": 6,
    "start_time": "2024-09-02T18:47:26.714Z"
   },
   {
    "duration": 8,
    "start_time": "2024-09-02T18:47:26.722Z"
   },
   {
    "duration": 6,
    "start_time": "2024-09-02T18:47:26.733Z"
   },
   {
    "duration": 8,
    "start_time": "2024-09-02T18:47:26.740Z"
   },
   {
    "duration": 8,
    "start_time": "2024-09-02T18:47:26.750Z"
   },
   {
    "duration": 46,
    "start_time": "2024-09-02T18:47:26.760Z"
   },
   {
    "duration": 7,
    "start_time": "2024-09-02T18:47:26.808Z"
   },
   {
    "duration": 4,
    "start_time": "2024-09-02T18:47:26.817Z"
   },
   {
    "duration": 9,
    "start_time": "2024-09-02T18:47:26.823Z"
   },
   {
    "duration": 9,
    "start_time": "2024-09-02T18:47:26.833Z"
   },
   {
    "duration": 9,
    "start_time": "2024-09-02T18:47:26.843Z"
   },
   {
    "duration": 7,
    "start_time": "2024-09-02T18:47:26.854Z"
   },
   {
    "duration": 46,
    "start_time": "2024-09-02T18:47:26.862Z"
   },
   {
    "duration": 7,
    "start_time": "2024-09-02T18:47:26.910Z"
   },
   {
    "duration": 10,
    "start_time": "2024-09-02T18:47:26.918Z"
   },
   {
    "duration": 16,
    "start_time": "2024-09-02T18:47:26.930Z"
   },
   {
    "duration": 13,
    "start_time": "2024-09-02T18:47:26.949Z"
   },
   {
    "duration": 46,
    "start_time": "2024-09-02T18:47:26.964Z"
   },
   {
    "duration": 17,
    "start_time": "2024-09-02T18:47:27.012Z"
   },
   {
    "duration": 24,
    "start_time": "2024-09-02T18:47:27.030Z"
   },
   {
    "duration": 15,
    "start_time": "2024-09-02T18:47:27.058Z"
   },
   {
    "duration": 33,
    "start_time": "2024-09-02T18:47:27.075Z"
   },
   {
    "duration": 11,
    "start_time": "2024-09-02T18:47:27.110Z"
   },
   {
    "duration": 7,
    "start_time": "2024-09-02T18:47:27.123Z"
   },
   {
    "duration": 9,
    "start_time": "2024-09-02T18:47:27.132Z"
   },
   {
    "duration": 16,
    "start_time": "2024-09-02T18:47:27.143Z"
   },
   {
    "duration": 5,
    "start_time": "2024-09-02T18:47:27.161Z"
   },
   {
    "duration": 44,
    "start_time": "2024-09-02T18:47:27.168Z"
   },
   {
    "duration": 9,
    "start_time": "2024-09-02T18:47:27.214Z"
   },
   {
    "duration": 15,
    "start_time": "2024-09-02T18:47:27.224Z"
   },
   {
    "duration": 23,
    "start_time": "2024-09-02T18:47:27.240Z"
   },
   {
    "duration": 7,
    "start_time": "2024-09-02T18:47:27.264Z"
   },
   {
    "duration": 34,
    "start_time": "2024-09-02T18:47:27.272Z"
   },
   {
    "duration": 27,
    "start_time": "2024-09-02T18:47:27.308Z"
   },
   {
    "duration": 81,
    "start_time": "2024-09-02T18:47:27.337Z"
   },
   {
    "duration": 51,
    "start_time": "2024-09-02T18:47:27.419Z"
   },
   {
    "duration": 51,
    "start_time": "2024-09-02T18:47:27.472Z"
   },
   {
    "duration": 45,
    "start_time": "2024-09-02T18:47:27.525Z"
   },
   {
    "duration": 35,
    "start_time": "2024-09-02T18:47:27.572Z"
   },
   {
    "duration": 12,
    "start_time": "2024-09-02T18:47:27.609Z"
   },
   {
    "duration": 10,
    "start_time": "2024-09-02T18:47:27.623Z"
   },
   {
    "duration": 14,
    "start_time": "2024-09-02T18:47:27.634Z"
   },
   {
    "duration": 13,
    "start_time": "2024-09-02T18:47:27.649Z"
   },
   {
    "duration": 1961,
    "start_time": "2024-09-02T18:47:27.663Z"
   },
   {
    "duration": 250,
    "start_time": "2024-09-02T18:47:29.626Z"
   },
   {
    "duration": 218,
    "start_time": "2024-09-02T18:47:29.878Z"
   },
   {
    "duration": 450,
    "start_time": "2024-09-02T18:47:30.098Z"
   },
   {
    "duration": 379,
    "start_time": "2024-09-02T18:47:30.550Z"
   },
   {
    "duration": 8,
    "start_time": "2024-09-02T18:47:30.931Z"
   },
   {
    "duration": 109,
    "start_time": "2024-09-02T18:47:30.940Z"
   },
   {
    "duration": 105,
    "start_time": "2024-09-02T18:47:31.051Z"
   },
   {
    "duration": 5,
    "start_time": "2024-09-02T18:47:31.158Z"
   },
   {
    "duration": 205,
    "start_time": "2024-09-02T18:47:31.164Z"
   },
   {
    "duration": 199,
    "start_time": "2024-09-02T18:47:31.370Z"
   },
   {
    "duration": 198,
    "start_time": "2024-09-02T18:47:31.570Z"
   },
   {
    "duration": 217,
    "start_time": "2024-09-02T18:47:31.770Z"
   },
   {
    "duration": 285,
    "start_time": "2024-09-02T18:47:31.989Z"
   },
   {
    "duration": 138,
    "start_time": "2024-09-02T18:47:32.275Z"
   },
   {
    "duration": 417,
    "start_time": "2024-09-02T18:47:32.415Z"
   },
   {
    "duration": 282,
    "start_time": "2024-09-02T18:47:32.834Z"
   },
   {
    "duration": 206,
    "start_time": "2024-09-02T18:47:33.118Z"
   },
   {
    "duration": 4,
    "start_time": "2024-09-02T18:47:33.326Z"
   },
   {
    "duration": 5,
    "start_time": "2024-09-02T18:47:33.331Z"
   },
   {
    "duration": 12,
    "start_time": "2024-09-02T18:47:33.337Z"
   },
   {
    "duration": 5,
    "start_time": "2024-09-02T18:47:33.350Z"
   },
   {
    "duration": 10,
    "start_time": "2024-09-02T18:48:35.782Z"
   },
   {
    "duration": 179,
    "start_time": "2024-09-02T19:25:32.958Z"
   },
   {
    "duration": 189,
    "start_time": "2024-09-02T19:27:02.893Z"
   },
   {
    "duration": 184,
    "start_time": "2024-09-02T19:27:20.747Z"
   },
   {
    "duration": 5,
    "start_time": "2024-09-02T19:30:01.898Z"
   },
   {
    "duration": 286,
    "start_time": "2024-09-02T19:30:07.253Z"
   },
   {
    "duration": 179,
    "start_time": "2024-09-03T14:15:36.459Z"
   },
   {
    "duration": 2523,
    "start_time": "2024-09-03T14:15:40.851Z"
   },
   {
    "duration": 260,
    "start_time": "2024-09-03T14:15:43.376Z"
   },
   {
    "duration": 16,
    "start_time": "2024-09-03T14:15:43.638Z"
   },
   {
    "duration": 10,
    "start_time": "2024-09-03T14:15:43.656Z"
   },
   {
    "duration": 14,
    "start_time": "2024-09-03T14:15:43.667Z"
   },
   {
    "duration": 9,
    "start_time": "2024-09-03T14:15:43.683Z"
   },
   {
    "duration": 11,
    "start_time": "2024-09-03T14:15:43.694Z"
   },
   {
    "duration": 7,
    "start_time": "2024-09-03T14:15:43.707Z"
   },
   {
    "duration": 9,
    "start_time": "2024-09-03T14:15:43.716Z"
   },
   {
    "duration": 7,
    "start_time": "2024-09-03T14:15:43.728Z"
   },
   {
    "duration": 8,
    "start_time": "2024-09-03T14:15:43.770Z"
   },
   {
    "duration": 8,
    "start_time": "2024-09-03T14:15:43.780Z"
   },
   {
    "duration": 8,
    "start_time": "2024-09-03T14:15:43.790Z"
   },
   {
    "duration": 7,
    "start_time": "2024-09-03T14:15:43.799Z"
   },
   {
    "duration": 4,
    "start_time": "2024-09-03T14:15:43.807Z"
   },
   {
    "duration": 9,
    "start_time": "2024-09-03T14:15:43.813Z"
   },
   {
    "duration": 50,
    "start_time": "2024-09-03T14:15:43.823Z"
   },
   {
    "duration": 12,
    "start_time": "2024-09-03T14:15:43.875Z"
   },
   {
    "duration": 9,
    "start_time": "2024-09-03T14:15:43.889Z"
   },
   {
    "duration": 8,
    "start_time": "2024-09-03T14:15:43.900Z"
   },
   {
    "duration": 7,
    "start_time": "2024-09-03T14:15:43.910Z"
   },
   {
    "duration": 10,
    "start_time": "2024-09-03T14:15:43.919Z"
   },
   {
    "duration": 55,
    "start_time": "2024-09-03T14:15:43.930Z"
   },
   {
    "duration": 14,
    "start_time": "2024-09-03T14:15:43.987Z"
   },
   {
    "duration": 9,
    "start_time": "2024-09-03T14:15:44.003Z"
   },
   {
    "duration": 18,
    "start_time": "2024-09-03T14:15:44.013Z"
   },
   {
    "duration": 53,
    "start_time": "2024-09-03T14:15:44.032Z"
   },
   {
    "duration": 16,
    "start_time": "2024-09-03T14:15:44.089Z"
   },
   {
    "duration": 8,
    "start_time": "2024-09-03T14:15:44.106Z"
   },
   {
    "duration": 11,
    "start_time": "2024-09-03T14:15:44.116Z"
   },
   {
    "duration": 7,
    "start_time": "2024-09-03T14:15:44.128Z"
   },
   {
    "duration": 38,
    "start_time": "2024-09-03T14:15:44.137Z"
   },
   {
    "duration": 17,
    "start_time": "2024-09-03T14:15:44.177Z"
   },
   {
    "duration": 7,
    "start_time": "2024-09-03T14:15:44.195Z"
   },
   {
    "duration": 12,
    "start_time": "2024-09-03T14:15:44.204Z"
   },
   {
    "duration": 8,
    "start_time": "2024-09-03T14:15:44.218Z"
   },
   {
    "duration": 52,
    "start_time": "2024-09-03T14:15:44.228Z"
   },
   {
    "duration": 24,
    "start_time": "2024-09-03T14:15:44.281Z"
   },
   {
    "duration": 6,
    "start_time": "2024-09-03T14:15:44.307Z"
   },
   {
    "duration": 8,
    "start_time": "2024-09-03T14:15:44.315Z"
   },
   {
    "duration": 53,
    "start_time": "2024-09-03T14:15:44.325Z"
   },
   {
    "duration": 64,
    "start_time": "2024-09-03T14:15:44.380Z"
   },
   {
    "duration": 75,
    "start_time": "2024-09-03T14:15:44.445Z"
   },
   {
    "duration": 36,
    "start_time": "2024-09-03T14:15:44.521Z"
   },
   {
    "duration": 45,
    "start_time": "2024-09-03T14:15:44.569Z"
   },
   {
    "duration": 19,
    "start_time": "2024-09-03T14:15:44.616Z"
   },
   {
    "duration": 12,
    "start_time": "2024-09-03T14:15:44.637Z"
   },
   {
    "duration": 11,
    "start_time": "2024-09-03T14:15:44.670Z"
   },
   {
    "duration": 10,
    "start_time": "2024-09-03T14:15:44.682Z"
   },
   {
    "duration": 14,
    "start_time": "2024-09-03T14:15:44.693Z"
   },
   {
    "duration": 2050,
    "start_time": "2024-09-03T14:15:44.708Z"
   },
   {
    "duration": 198,
    "start_time": "2024-09-03T14:15:46.760Z"
   },
   {
    "duration": 200,
    "start_time": "2024-09-03T14:15:46.960Z"
   },
   {
    "duration": 243,
    "start_time": "2024-09-03T14:15:47.162Z"
   },
   {
    "duration": 217,
    "start_time": "2024-09-03T14:15:47.407Z"
   },
   {
    "duration": 9,
    "start_time": "2024-09-03T14:15:47.626Z"
   },
   {
    "duration": 88,
    "start_time": "2024-09-03T14:15:47.636Z"
   },
   {
    "duration": 0,
    "start_time": "2024-09-03T14:15:47.725Z"
   },
   {
    "duration": 0,
    "start_time": "2024-09-03T14:15:47.726Z"
   },
   {
    "duration": 0,
    "start_time": "2024-09-03T14:15:47.728Z"
   },
   {
    "duration": 0,
    "start_time": "2024-09-03T14:15:47.729Z"
   },
   {
    "duration": 0,
    "start_time": "2024-09-03T14:15:47.730Z"
   },
   {
    "duration": 0,
    "start_time": "2024-09-03T14:15:47.732Z"
   },
   {
    "duration": 0,
    "start_time": "2024-09-03T14:15:47.733Z"
   },
   {
    "duration": 0,
    "start_time": "2024-09-03T14:15:47.734Z"
   },
   {
    "duration": 0,
    "start_time": "2024-09-03T14:15:47.736Z"
   },
   {
    "duration": 0,
    "start_time": "2024-09-03T14:15:47.738Z"
   },
   {
    "duration": 0,
    "start_time": "2024-09-03T14:15:47.739Z"
   },
   {
    "duration": 0,
    "start_time": "2024-09-03T14:15:47.741Z"
   },
   {
    "duration": 0,
    "start_time": "2024-09-03T14:15:47.742Z"
   },
   {
    "duration": 0,
    "start_time": "2024-09-03T14:15:47.770Z"
   },
   {
    "duration": 0,
    "start_time": "2024-09-03T14:15:47.771Z"
   },
   {
    "duration": 748,
    "start_time": "2024-09-03T14:16:43.809Z"
   },
   {
    "duration": 153,
    "start_time": "2024-09-03T14:16:44.559Z"
   },
   {
    "duration": 17,
    "start_time": "2024-09-03T14:16:44.714Z"
   },
   {
    "duration": 11,
    "start_time": "2024-09-03T14:16:44.734Z"
   },
   {
    "duration": 25,
    "start_time": "2024-09-03T14:16:44.746Z"
   },
   {
    "duration": 9,
    "start_time": "2024-09-03T14:16:44.772Z"
   },
   {
    "duration": 13,
    "start_time": "2024-09-03T14:16:44.782Z"
   },
   {
    "duration": 6,
    "start_time": "2024-09-03T14:16:44.797Z"
   },
   {
    "duration": 8,
    "start_time": "2024-09-03T14:16:44.804Z"
   },
   {
    "duration": 7,
    "start_time": "2024-09-03T14:16:44.815Z"
   },
   {
    "duration": 8,
    "start_time": "2024-09-03T14:16:44.824Z"
   },
   {
    "duration": 11,
    "start_time": "2024-09-03T14:16:44.870Z"
   },
   {
    "duration": 8,
    "start_time": "2024-09-03T14:16:44.883Z"
   },
   {
    "duration": 7,
    "start_time": "2024-09-03T14:16:44.893Z"
   },
   {
    "duration": 5,
    "start_time": "2024-09-03T14:16:44.901Z"
   },
   {
    "duration": 8,
    "start_time": "2024-09-03T14:16:44.908Z"
   },
   {
    "duration": 8,
    "start_time": "2024-09-03T14:16:44.918Z"
   },
   {
    "duration": 48,
    "start_time": "2024-09-03T14:16:44.928Z"
   },
   {
    "duration": 8,
    "start_time": "2024-09-03T14:16:44.977Z"
   },
   {
    "duration": 9,
    "start_time": "2024-09-03T14:16:44.987Z"
   },
   {
    "duration": 6,
    "start_time": "2024-09-03T14:16:44.998Z"
   },
   {
    "duration": 10,
    "start_time": "2024-09-03T14:16:45.006Z"
   },
   {
    "duration": 16,
    "start_time": "2024-09-03T14:16:45.018Z"
   },
   {
    "duration": 15,
    "start_time": "2024-09-03T14:16:45.071Z"
   },
   {
    "duration": 9,
    "start_time": "2024-09-03T14:16:45.088Z"
   },
   {
    "duration": 17,
    "start_time": "2024-09-03T14:16:45.099Z"
   },
   {
    "duration": 24,
    "start_time": "2024-09-03T14:16:45.117Z"
   },
   {
    "duration": 16,
    "start_time": "2024-09-03T14:16:45.174Z"
   },
   {
    "duration": 9,
    "start_time": "2024-09-03T14:16:45.192Z"
   },
   {
    "duration": 11,
    "start_time": "2024-09-03T14:16:45.203Z"
   },
   {
    "duration": 8,
    "start_time": "2024-09-03T14:16:45.216Z"
   },
   {
    "duration": 9,
    "start_time": "2024-09-03T14:16:45.226Z"
   },
   {
    "duration": 48,
    "start_time": "2024-09-03T14:16:45.237Z"
   },
   {
    "duration": 6,
    "start_time": "2024-09-03T14:16:45.287Z"
   },
   {
    "duration": 13,
    "start_time": "2024-09-03T14:16:45.296Z"
   },
   {
    "duration": 8,
    "start_time": "2024-09-03T14:16:45.311Z"
   },
   {
    "duration": 15,
    "start_time": "2024-09-03T14:16:45.321Z"
   },
   {
    "duration": 52,
    "start_time": "2024-09-03T14:16:45.339Z"
   },
   {
    "duration": 7,
    "start_time": "2024-09-03T14:16:45.393Z"
   },
   {
    "duration": 7,
    "start_time": "2024-09-03T14:16:45.402Z"
   },
   {
    "duration": 28,
    "start_time": "2024-09-03T14:16:45.411Z"
   },
   {
    "duration": 88,
    "start_time": "2024-09-03T14:16:45.441Z"
   },
   {
    "duration": 67,
    "start_time": "2024-09-03T14:16:45.531Z"
   },
   {
    "duration": 34,
    "start_time": "2024-09-03T14:16:45.600Z"
   },
   {
    "duration": 58,
    "start_time": "2024-09-03T14:16:45.635Z"
   },
   {
    "duration": 20,
    "start_time": "2024-09-03T14:16:45.695Z"
   },
   {
    "duration": 15,
    "start_time": "2024-09-03T14:16:45.716Z"
   },
   {
    "duration": 11,
    "start_time": "2024-09-03T14:16:45.732Z"
   },
   {
    "duration": 33,
    "start_time": "2024-09-03T14:16:45.745Z"
   },
   {
    "duration": 14,
    "start_time": "2024-09-03T14:16:45.779Z"
   },
   {
    "duration": 1914,
    "start_time": "2024-09-03T14:16:45.795Z"
   },
   {
    "duration": 189,
    "start_time": "2024-09-03T14:16:47.711Z"
   },
   {
    "duration": 193,
    "start_time": "2024-09-03T14:16:47.902Z"
   },
   {
    "duration": 284,
    "start_time": "2024-09-03T14:16:48.097Z"
   },
   {
    "duration": 219,
    "start_time": "2024-09-03T14:16:48.383Z"
   },
   {
    "duration": 8,
    "start_time": "2024-09-03T14:16:48.604Z"
   },
   {
    "duration": 106,
    "start_time": "2024-09-03T14:16:48.614Z"
   },
   {
    "duration": 106,
    "start_time": "2024-09-03T14:16:48.722Z"
   },
   {
    "duration": 5,
    "start_time": "2024-09-03T14:16:48.830Z"
   },
   {
    "duration": 191,
    "start_time": "2024-09-03T14:16:48.837Z"
   },
   {
    "duration": 202,
    "start_time": "2024-09-03T14:16:49.030Z"
   },
   {
    "duration": 190,
    "start_time": "2024-09-03T14:16:49.234Z"
   },
   {
    "duration": 216,
    "start_time": "2024-09-03T14:16:49.427Z"
   },
   {
    "duration": 288,
    "start_time": "2024-09-03T14:16:49.645Z"
   },
   {
    "duration": 82,
    "start_time": "2024-09-03T14:16:49.934Z"
   },
   {
    "duration": 190,
    "start_time": "2024-09-03T14:16:50.018Z"
   },
   {
    "duration": 202,
    "start_time": "2024-09-03T14:16:50.210Z"
   },
   {
    "duration": 213,
    "start_time": "2024-09-03T14:16:50.413Z"
   },
   {
    "duration": 5,
    "start_time": "2024-09-03T14:16:50.627Z"
   },
   {
    "duration": 4,
    "start_time": "2024-09-03T14:16:50.634Z"
   },
   {
    "duration": 32,
    "start_time": "2024-09-03T14:16:50.640Z"
   },
   {
    "duration": 5,
    "start_time": "2024-09-03T14:16:50.673Z"
   },
   {
    "duration": 6,
    "start_time": "2024-09-03T14:22:28.021Z"
   },
   {
    "duration": 131,
    "start_time": "2024-09-03T14:33:23.936Z"
   },
   {
    "duration": 725,
    "start_time": "2024-09-03T14:34:19.839Z"
   },
   {
    "duration": 155,
    "start_time": "2024-09-03T14:34:20.565Z"
   },
   {
    "duration": 17,
    "start_time": "2024-09-03T14:34:20.722Z"
   },
   {
    "duration": 9,
    "start_time": "2024-09-03T14:34:20.741Z"
   },
   {
    "duration": 25,
    "start_time": "2024-09-03T14:34:20.752Z"
   },
   {
    "duration": 9,
    "start_time": "2024-09-03T14:34:20.778Z"
   },
   {
    "duration": 11,
    "start_time": "2024-09-03T14:34:20.788Z"
   },
   {
    "duration": 6,
    "start_time": "2024-09-03T14:34:20.801Z"
   },
   {
    "duration": 8,
    "start_time": "2024-09-03T14:34:20.808Z"
   },
   {
    "duration": 7,
    "start_time": "2024-09-03T14:34:20.820Z"
   },
   {
    "duration": 44,
    "start_time": "2024-09-03T14:34:20.829Z"
   },
   {
    "duration": 8,
    "start_time": "2024-09-03T14:34:20.874Z"
   },
   {
    "duration": 7,
    "start_time": "2024-09-03T14:34:20.884Z"
   },
   {
    "duration": 7,
    "start_time": "2024-09-03T14:34:20.893Z"
   },
   {
    "duration": 4,
    "start_time": "2024-09-03T14:34:20.902Z"
   },
   {
    "duration": 8,
    "start_time": "2024-09-03T14:34:20.908Z"
   },
   {
    "duration": 10,
    "start_time": "2024-09-03T14:34:20.917Z"
   },
   {
    "duration": 45,
    "start_time": "2024-09-03T14:34:20.929Z"
   },
   {
    "duration": 8,
    "start_time": "2024-09-03T14:34:20.976Z"
   },
   {
    "duration": 9,
    "start_time": "2024-09-03T14:34:20.985Z"
   },
   {
    "duration": 7,
    "start_time": "2024-09-03T14:34:20.996Z"
   },
   {
    "duration": 11,
    "start_time": "2024-09-03T14:34:21.004Z"
   },
   {
    "duration": 54,
    "start_time": "2024-09-03T14:34:21.017Z"
   },
   {
    "duration": 14,
    "start_time": "2024-09-03T14:34:21.073Z"
   },
   {
    "duration": 9,
    "start_time": "2024-09-03T14:34:21.089Z"
   },
   {
    "duration": 17,
    "start_time": "2024-09-03T14:34:21.100Z"
   },
   {
    "duration": 24,
    "start_time": "2024-09-03T14:34:21.118Z"
   },
   {
    "duration": 16,
    "start_time": "2024-09-03T14:34:21.173Z"
   },
   {
    "duration": 9,
    "start_time": "2024-09-03T14:34:21.190Z"
   },
   {
    "duration": 12,
    "start_time": "2024-09-03T14:34:21.200Z"
   },
   {
    "duration": 8,
    "start_time": "2024-09-03T14:34:21.214Z"
   },
   {
    "duration": 9,
    "start_time": "2024-09-03T14:34:21.224Z"
   },
   {
    "duration": 50,
    "start_time": "2024-09-03T14:34:21.234Z"
   },
   {
    "duration": 6,
    "start_time": "2024-09-03T14:34:21.286Z"
   },
   {
    "duration": 13,
    "start_time": "2024-09-03T14:34:21.294Z"
   },
   {
    "duration": 8,
    "start_time": "2024-09-03T14:34:21.308Z"
   },
   {
    "duration": 14,
    "start_time": "2024-09-03T14:34:21.318Z"
   },
   {
    "duration": 57,
    "start_time": "2024-09-03T14:34:21.334Z"
   },
   {
    "duration": 8,
    "start_time": "2024-09-03T14:34:21.393Z"
   },
   {
    "duration": 8,
    "start_time": "2024-09-03T14:34:21.404Z"
   },
   {
    "duration": 31,
    "start_time": "2024-09-03T14:34:21.413Z"
   },
   {
    "duration": 86,
    "start_time": "2024-09-03T14:34:21.446Z"
   },
   {
    "duration": 77,
    "start_time": "2024-09-03T14:34:21.533Z"
   },
   {
    "duration": 36,
    "start_time": "2024-09-03T14:34:21.612Z"
   },
   {
    "duration": 52,
    "start_time": "2024-09-03T14:34:21.650Z"
   },
   {
    "duration": 21,
    "start_time": "2024-09-03T14:34:21.704Z"
   },
   {
    "duration": 12,
    "start_time": "2024-09-03T14:34:21.726Z"
   },
   {
    "duration": 31,
    "start_time": "2024-09-03T14:34:21.740Z"
   },
   {
    "duration": 10,
    "start_time": "2024-09-03T14:34:21.772Z"
   },
   {
    "duration": 26,
    "start_time": "2024-09-03T14:34:21.783Z"
   },
   {
    "duration": 13,
    "start_time": "2024-09-03T14:34:21.810Z"
   },
   {
    "duration": 1354,
    "start_time": "2024-09-03T14:34:21.825Z"
   },
   {
    "duration": 189,
    "start_time": "2024-09-03T14:34:23.181Z"
   },
   {
    "duration": 178,
    "start_time": "2024-09-03T14:34:23.371Z"
   },
   {
    "duration": 287,
    "start_time": "2024-09-03T14:34:23.551Z"
   },
   {
    "duration": 217,
    "start_time": "2024-09-03T14:34:23.840Z"
   },
   {
    "duration": 12,
    "start_time": "2024-09-03T14:34:24.059Z"
   },
   {
    "duration": 102,
    "start_time": "2024-09-03T14:34:24.073Z"
   },
   {
    "duration": 112,
    "start_time": "2024-09-03T14:34:24.177Z"
   },
   {
    "duration": 6,
    "start_time": "2024-09-03T14:34:24.290Z"
   },
   {
    "duration": 189,
    "start_time": "2024-09-03T14:34:24.297Z"
   },
   {
    "duration": 207,
    "start_time": "2024-09-03T14:34:24.488Z"
   },
   {
    "duration": 192,
    "start_time": "2024-09-03T14:34:24.696Z"
   },
   {
    "duration": 210,
    "start_time": "2024-09-03T14:34:24.890Z"
   },
   {
    "duration": 291,
    "start_time": "2024-09-03T14:34:25.102Z"
   },
   {
    "duration": 80,
    "start_time": "2024-09-03T14:34:25.395Z"
   },
   {
    "duration": 188,
    "start_time": "2024-09-03T14:34:25.477Z"
   },
   {
    "duration": 204,
    "start_time": "2024-09-03T14:34:25.669Z"
   },
   {
    "duration": 208,
    "start_time": "2024-09-03T14:34:25.876Z"
   },
   {
    "duration": 4,
    "start_time": "2024-09-03T14:34:26.085Z"
   },
   {
    "duration": 4,
    "start_time": "2024-09-03T14:34:26.091Z"
   },
   {
    "duration": 11,
    "start_time": "2024-09-03T14:34:26.096Z"
   },
   {
    "duration": 4,
    "start_time": "2024-09-03T14:34:26.109Z"
   },
   {
    "duration": 738,
    "start_time": "2024-09-03T14:50:01.921Z"
   },
   {
    "duration": 172,
    "start_time": "2024-09-03T14:50:02.662Z"
   },
   {
    "duration": 16,
    "start_time": "2024-09-03T14:50:02.836Z"
   },
   {
    "duration": 9,
    "start_time": "2024-09-03T14:50:02.854Z"
   },
   {
    "duration": 13,
    "start_time": "2024-09-03T14:50:02.870Z"
   },
   {
    "duration": 9,
    "start_time": "2024-09-03T14:50:02.885Z"
   },
   {
    "duration": 11,
    "start_time": "2024-09-03T14:50:02.896Z"
   },
   {
    "duration": 6,
    "start_time": "2024-09-03T14:50:02.908Z"
   },
   {
    "duration": 8,
    "start_time": "2024-09-03T14:50:02.916Z"
   },
   {
    "duration": 6,
    "start_time": "2024-09-03T14:50:02.928Z"
   },
   {
    "duration": 8,
    "start_time": "2024-09-03T14:50:02.970Z"
   },
   {
    "duration": 7,
    "start_time": "2024-09-03T14:50:02.980Z"
   },
   {
    "duration": 8,
    "start_time": "2024-09-03T14:50:02.989Z"
   },
   {
    "duration": 7,
    "start_time": "2024-09-03T14:50:02.998Z"
   },
   {
    "duration": 4,
    "start_time": "2024-09-03T14:50:03.007Z"
   },
   {
    "duration": 8,
    "start_time": "2024-09-03T14:50:03.013Z"
   },
   {
    "duration": 47,
    "start_time": "2024-09-03T14:50:03.023Z"
   },
   {
    "duration": 10,
    "start_time": "2024-09-03T14:50:03.072Z"
   },
   {
    "duration": 8,
    "start_time": "2024-09-03T14:50:03.084Z"
   },
   {
    "duration": 8,
    "start_time": "2024-09-03T14:50:03.094Z"
   },
   {
    "duration": 6,
    "start_time": "2024-09-03T14:50:03.104Z"
   },
   {
    "duration": 10,
    "start_time": "2024-09-03T14:50:03.113Z"
   },
   {
    "duration": 49,
    "start_time": "2024-09-03T14:50:03.125Z"
   },
   {
    "duration": 15,
    "start_time": "2024-09-03T14:50:03.176Z"
   },
   {
    "duration": 10,
    "start_time": "2024-09-03T14:50:03.192Z"
   },
   {
    "duration": 17,
    "start_time": "2024-09-03T14:50:03.204Z"
   },
   {
    "duration": 52,
    "start_time": "2024-09-03T14:50:03.223Z"
   },
   {
    "duration": 17,
    "start_time": "2024-09-03T14:50:03.280Z"
   },
   {
    "duration": 9,
    "start_time": "2024-09-03T14:50:03.298Z"
   },
   {
    "duration": 12,
    "start_time": "2024-09-03T14:50:03.308Z"
   },
   {
    "duration": 7,
    "start_time": "2024-09-03T14:50:03.321Z"
   },
   {
    "duration": 9,
    "start_time": "2024-09-03T14:50:03.330Z"
   },
   {
    "duration": 16,
    "start_time": "2024-09-03T14:50:03.370Z"
   },
   {
    "duration": 6,
    "start_time": "2024-09-03T14:50:03.388Z"
   },
   {
    "duration": 13,
    "start_time": "2024-09-03T14:50:03.395Z"
   },
   {
    "duration": 9,
    "start_time": "2024-09-03T14:50:03.409Z"
   },
   {
    "duration": 16,
    "start_time": "2024-09-03T14:50:03.419Z"
   },
   {
    "duration": 24,
    "start_time": "2024-09-03T14:50:03.469Z"
   },
   {
    "duration": 6,
    "start_time": "2024-09-03T14:50:03.495Z"
   },
   {
    "duration": 9,
    "start_time": "2024-09-03T14:50:03.502Z"
   },
   {
    "duration": 28,
    "start_time": "2024-09-03T14:50:03.512Z"
   },
   {
    "duration": 87,
    "start_time": "2024-09-03T14:50:03.542Z"
   },
   {
    "duration": 61,
    "start_time": "2024-09-03T14:50:03.631Z"
   },
   {
    "duration": 36,
    "start_time": "2024-09-03T14:50:03.694Z"
   },
   {
    "duration": 62,
    "start_time": "2024-09-03T14:50:03.732Z"
   },
   {
    "duration": 20,
    "start_time": "2024-09-03T14:50:03.796Z"
   },
   {
    "duration": 16,
    "start_time": "2024-09-03T14:50:03.817Z"
   },
   {
    "duration": 35,
    "start_time": "2024-09-03T14:50:03.835Z"
   },
   {
    "duration": 10,
    "start_time": "2024-09-03T14:50:03.872Z"
   },
   {
    "duration": 24,
    "start_time": "2024-09-03T14:50:03.883Z"
   },
   {
    "duration": 3,
    "start_time": "2024-09-03T14:50:03.909Z"
   },
   {
    "duration": 13,
    "start_time": "2024-09-03T14:50:03.914Z"
   },
   {
    "duration": 1299,
    "start_time": "2024-09-03T14:50:03.929Z"
   },
   {
    "duration": 190,
    "start_time": "2024-09-03T14:50:05.229Z"
   },
   {
    "duration": 181,
    "start_time": "2024-09-03T14:50:05.420Z"
   },
   {
    "duration": 284,
    "start_time": "2024-09-03T14:50:05.603Z"
   },
   {
    "duration": 227,
    "start_time": "2024-09-03T14:50:05.890Z"
   },
   {
    "duration": 7,
    "start_time": "2024-09-03T14:50:06.120Z"
   },
   {
    "duration": 104,
    "start_time": "2024-09-03T14:50:06.129Z"
   },
   {
    "duration": 111,
    "start_time": "2024-09-03T14:50:06.235Z"
   },
   {
    "duration": 5,
    "start_time": "2024-09-03T14:50:06.349Z"
   },
   {
    "duration": 195,
    "start_time": "2024-09-03T14:50:06.356Z"
   },
   {
    "duration": 199,
    "start_time": "2024-09-03T14:50:06.554Z"
   },
   {
    "duration": 204,
    "start_time": "2024-09-03T14:50:06.754Z"
   },
   {
    "duration": 239,
    "start_time": "2024-09-03T14:50:06.960Z"
   },
   {
    "duration": 294,
    "start_time": "2024-09-03T14:50:07.203Z"
   },
   {
    "duration": 81,
    "start_time": "2024-09-03T14:50:07.499Z"
   },
   {
    "duration": 177,
    "start_time": "2024-09-03T14:50:07.582Z"
   },
   {
    "duration": 211,
    "start_time": "2024-09-03T14:50:07.760Z"
   },
   {
    "duration": 216,
    "start_time": "2024-09-03T14:50:07.974Z"
   },
   {
    "duration": 5,
    "start_time": "2024-09-03T14:50:08.192Z"
   },
   {
    "duration": 4,
    "start_time": "2024-09-03T14:50:08.198Z"
   },
   {
    "duration": 10,
    "start_time": "2024-09-03T14:50:08.204Z"
   },
   {
    "duration": 4,
    "start_time": "2024-09-03T14:50:08.215Z"
   },
   {
    "duration": 159,
    "start_time": "2024-09-03T16:52:34.050Z"
   },
   {
    "duration": 2671,
    "start_time": "2024-09-03T16:52:37.589Z"
   },
   {
    "duration": 245,
    "start_time": "2024-09-03T16:52:40.262Z"
   },
   {
    "duration": 18,
    "start_time": "2024-09-03T16:52:40.509Z"
   },
   {
    "duration": 11,
    "start_time": "2024-09-03T16:52:40.529Z"
   },
   {
    "duration": 14,
    "start_time": "2024-09-03T16:52:40.541Z"
   },
   {
    "duration": 10,
    "start_time": "2024-09-03T16:52:40.557Z"
   },
   {
    "duration": 12,
    "start_time": "2024-09-03T16:52:40.570Z"
   },
   {
    "duration": 7,
    "start_time": "2024-09-03T16:52:40.612Z"
   },
   {
    "duration": 9,
    "start_time": "2024-09-03T16:52:40.621Z"
   },
   {
    "duration": 8,
    "start_time": "2024-09-03T16:52:40.634Z"
   },
   {
    "duration": 9,
    "start_time": "2024-09-03T16:52:40.644Z"
   },
   {
    "duration": 9,
    "start_time": "2024-09-03T16:52:40.655Z"
   },
   {
    "duration": 47,
    "start_time": "2024-09-03T16:52:40.665Z"
   },
   {
    "duration": 9,
    "start_time": "2024-09-03T16:52:40.714Z"
   },
   {
    "duration": 5,
    "start_time": "2024-09-03T16:52:40.724Z"
   },
   {
    "duration": 9,
    "start_time": "2024-09-03T16:52:40.732Z"
   },
   {
    "duration": 10,
    "start_time": "2024-09-03T16:52:40.743Z"
   },
   {
    "duration": 11,
    "start_time": "2024-09-03T16:52:40.754Z"
   },
   {
    "duration": 50,
    "start_time": "2024-09-03T16:52:40.767Z"
   },
   {
    "duration": 10,
    "start_time": "2024-09-03T16:52:40.818Z"
   },
   {
    "duration": 8,
    "start_time": "2024-09-03T16:52:40.830Z"
   },
   {
    "duration": 13,
    "start_time": "2024-09-03T16:52:40.840Z"
   },
   {
    "duration": 18,
    "start_time": "2024-09-03T16:52:40.854Z"
   },
   {
    "duration": 53,
    "start_time": "2024-09-03T16:52:40.874Z"
   },
   {
    "duration": 11,
    "start_time": "2024-09-03T16:52:40.929Z"
   },
   {
    "duration": 19,
    "start_time": "2024-09-03T16:52:40.942Z"
   },
   {
    "duration": 55,
    "start_time": "2024-09-03T16:52:40.963Z"
   },
   {
    "duration": 18,
    "start_time": "2024-09-03T16:52:41.022Z"
   },
   {
    "duration": 9,
    "start_time": "2024-09-03T16:52:41.042Z"
   },
   {
    "duration": 12,
    "start_time": "2024-09-03T16:52:41.053Z"
   },
   {
    "duration": 8,
    "start_time": "2024-09-03T16:52:41.067Z"
   },
   {
    "duration": 44,
    "start_time": "2024-09-03T16:52:41.077Z"
   },
   {
    "duration": 18,
    "start_time": "2024-09-03T16:52:41.122Z"
   },
   {
    "duration": 7,
    "start_time": "2024-09-03T16:52:41.142Z"
   },
   {
    "duration": 15,
    "start_time": "2024-09-03T16:52:41.150Z"
   },
   {
    "duration": 10,
    "start_time": "2024-09-03T16:52:41.167Z"
   },
   {
    "duration": 49,
    "start_time": "2024-09-03T16:52:41.179Z"
   },
   {
    "duration": 25,
    "start_time": "2024-09-03T16:52:41.230Z"
   },
   {
    "duration": 7,
    "start_time": "2024-09-03T16:52:41.257Z"
   },
   {
    "duration": 9,
    "start_time": "2024-09-03T16:52:41.266Z"
   },
   {
    "duration": 65,
    "start_time": "2024-09-03T16:52:41.277Z"
   },
   {
    "duration": 81,
    "start_time": "2024-09-03T16:52:41.344Z"
   },
   {
    "duration": 58,
    "start_time": "2024-09-03T16:52:41.427Z"
   },
   {
    "duration": 60,
    "start_time": "2024-09-03T16:52:41.486Z"
   },
   {
    "duration": 51,
    "start_time": "2024-09-03T16:52:41.548Z"
   },
   {
    "duration": 30,
    "start_time": "2024-09-03T16:52:41.601Z"
   },
   {
    "duration": 13,
    "start_time": "2024-09-03T16:52:41.633Z"
   },
   {
    "duration": 12,
    "start_time": "2024-09-03T16:52:41.648Z"
   },
   {
    "duration": 11,
    "start_time": "2024-09-03T16:52:41.662Z"
   },
   {
    "duration": 63,
    "start_time": "2024-09-03T16:52:41.675Z"
   },
   {
    "duration": 6,
    "start_time": "2024-09-03T16:52:41.740Z"
   },
   {
    "duration": 18,
    "start_time": "2024-09-03T16:52:41.748Z"
   },
   {
    "duration": 1344,
    "start_time": "2024-09-03T16:52:41.768Z"
   },
   {
    "duration": 198,
    "start_time": "2024-09-03T16:52:43.114Z"
   },
   {
    "duration": 196,
    "start_time": "2024-09-03T16:52:43.313Z"
   },
   {
    "duration": 320,
    "start_time": "2024-09-03T16:52:43.511Z"
   },
   {
    "duration": 234,
    "start_time": "2024-09-03T16:52:43.834Z"
   },
   {
    "duration": 11,
    "start_time": "2024-09-03T16:52:44.071Z"
   },
   {
    "duration": 32,
    "start_time": "2024-09-03T16:52:44.087Z"
   },
   {
    "duration": 24,
    "start_time": "2024-09-03T16:53:04.091Z"
   }
  ],
  "kernelspec": {
   "display_name": "Python 3 (ipykernel)",
   "language": "python",
   "name": "python3"
  },
  "language_info": {
   "codemirror_mode": {
    "name": "ipython",
    "version": 3
   },
   "file_extension": ".py",
   "mimetype": "text/x-python",
   "name": "python",
   "nbconvert_exporter": "python",
   "pygments_lexer": "ipython3",
   "version": "3.9.19"
  },
  "toc": {
   "base_numbering": 1,
   "nav_menu": {},
   "number_sections": true,
   "sideBar": true,
   "skip_h1_title": false,
   "title_cell": "Table of Contents",
   "title_sidebar": "Contents",
   "toc_cell": false,
   "toc_position": {
    "height": "calc(100% - 180px)",
    "left": "10px",
    "top": "150px",
    "width": "218.188px"
   },
   "toc_section_display": true,
   "toc_window_display": true
  }
 },
 "nbformat": 4,
 "nbformat_minor": 2
}
